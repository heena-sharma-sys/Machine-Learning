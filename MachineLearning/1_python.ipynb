{
  "nbformat": 4,
  "nbformat_minor": 0,
  "metadata": {
    "colab": {
      "name": "Assignment1",
      "provenance": [],
      "collapsed_sections": []
    },
    "kernelspec": {
      "name": "python3",
      "display_name": "Python 3"
    }
  },
  "cells": [
    {
      "cell_type": "markdown",
      "metadata": {
        "id": "RRutmKFMcfSZ"
      },
      "source": [
        "1. Write a function that inputs a number and prints the multiplication table of that number"
      ]
    },
    {
      "cell_type": "code",
      "metadata": {
        "colab": {
          "base_uri": "https://localhost:8080/"
        },
        "id": "BRSFRgAUd5LT",
        "outputId": "e3f7f81f-4b6a-4b42-d6cf-e07e257a16fe"
      },
      "source": [
        "# function takes num as input and print its table\n",
        "def input_num_print_table(num):\n",
        "    result = 0\n",
        "    for i in range(1, 11):\n",
        "      result = result + num\n",
        "      print (num, \"*\", i, \"=\", result)\n",
        "  \n",
        "input_num_print_table(11)"
      ],
      "execution_count": 12,
      "outputs": [
        {
          "output_type": "stream",
          "text": [
            "11 * 1 = 11\n",
            "11 * 2 = 22\n",
            "11 * 3 = 33\n",
            "11 * 4 = 44\n",
            "11 * 5 = 55\n",
            "11 * 6 = 66\n",
            "11 * 7 = 77\n",
            "11 * 8 = 88\n",
            "11 * 9 = 99\n",
            "11 * 10 = 110\n"
          ],
          "name": "stdout"
        }
      ]
    },
    {
      "cell_type": "markdown",
      "metadata": {
        "id": "hdvqT3IHfm_P"
      },
      "source": [
        "2. Write a program to print twin primes  less than 1000. If two consecutive odd numbers are both prime then they are known as twin primes"
      ]
    },
    {
      "cell_type": "code",
      "metadata": {
        "colab": {
          "base_uri": "https://localhost:8080/"
        },
        "id": "NZ0MD9LFmKFT",
        "outputId": "410dc428-6a48-4fd7-e06f-534294b8c6d4"
      },
      "source": [
        "import math\n",
        "\n",
        "# function takes n an input and return boolean list with prime numbers\n",
        "def seive_of_eratosthenes(n):\n",
        "\n",
        "  prime = [True for x in range(n + 1)]\n",
        "  prime[0], prime[1] = False, False\n",
        "  i = 2\n",
        "  for i in range(2, int(math.sqrt(n))+1):\n",
        "    if prime[i] == True:\n",
        "      for j in range(i * 2, n + 1, i):\n",
        "        prime[j] = False\n",
        "\n",
        "  return prime\n",
        "\n",
        "# function takes end as input and print twin prime numbers less than end \n",
        "def print_twin_primes(end):\n",
        "  prime = seive_of_eratosthenes(end)\n",
        "  n = len(prime)\n",
        "  for i in range(1, n, 2):\n",
        "    if prime[i] == True and i+2 < n and prime[i+2] == True:\n",
        "      print(\"({0}, {1})\".format(i, i+2))\n",
        "\n",
        "print_twin_primes(1000)"
      ],
      "execution_count": 61,
      "outputs": [
        {
          "output_type": "stream",
          "text": [
            "(3, 5)\n",
            "(5, 7)\n",
            "(11, 13)\n",
            "(17, 19)\n",
            "(29, 31)\n",
            "(41, 43)\n",
            "(59, 61)\n",
            "(71, 73)\n",
            "(101, 103)\n",
            "(107, 109)\n",
            "(137, 139)\n",
            "(149, 151)\n",
            "(179, 181)\n",
            "(191, 193)\n",
            "(197, 199)\n",
            "(227, 229)\n",
            "(239, 241)\n",
            "(269, 271)\n",
            "(281, 283)\n",
            "(311, 313)\n",
            "(347, 349)\n",
            "(419, 421)\n",
            "(431, 433)\n",
            "(461, 463)\n",
            "(521, 523)\n",
            "(569, 571)\n",
            "(599, 601)\n",
            "(617, 619)\n",
            "(641, 643)\n",
            "(659, 661)\n",
            "(809, 811)\n",
            "(821, 823)\n",
            "(827, 829)\n",
            "(857, 859)\n",
            "(881, 883)\n"
          ],
          "name": "stdout"
        }
      ]
    },
    {
      "cell_type": "markdown",
      "metadata": {
        "id": "mlca5_OsP2xK"
      },
      "source": [
        "3. Write a program to find out the prime factors of a number. Example: prime factors of 56 - 2, 2, 2, 7"
      ]
    },
    {
      "cell_type": "code",
      "metadata": {
        "id": "b4e74GmTP6C-",
        "colab": {
          "base_uri": "https://localhost:8080/"
        },
        "outputId": "9f6d9edb-c219-40b5-db85-5d5a92d02179"
      },
      "source": [
        "# function takes number as input and print its prime factors\n",
        "def print_prime_factors(number):\n",
        "  i = 2\n",
        "  print (\"Prime factors of {0} are:\".format(number))\n",
        "  while i <= number:\n",
        "    if number % i == 0:\n",
        "      print (i)\n",
        "      number = number/i\n",
        "      i = 2\n",
        "    else:\n",
        "      i += 1\n",
        "      \n",
        "number = int(input(\"Enter a number \"))\n",
        "print_prime_factors(number)"
      ],
      "execution_count": 1,
      "outputs": [
        {
          "output_type": "stream",
          "text": [
            "Enter a number 21\n",
            "Prime factors of 21 are:\n",
            "3\n",
            "7\n"
          ],
          "name": "stdout"
        }
      ]
    },
    {
      "cell_type": "markdown",
      "metadata": {
        "id": "Z749av5swhku"
      },
      "source": [
        "\n",
        "4. Write a program to implement these formulae of permutations and combinations. Number of permutations of n objects taken r at a time: p(n, r) = n! / (n-r)!.  Number of combinations of n objects taken r at a time is: c(n, r) = n! / (r!*(n-r)!) = p(n,r) / r!"
      ]
    },
    {
      "cell_type": "code",
      "metadata": {
        "colab": {
          "base_uri": "https://localhost:8080/"
        },
        "id": "FcXpBUT6wnMU",
        "outputId": "48d22bcf-94ab-4bab-b1a6-c0f795ef2f1b"
      },
      "source": [
        "# function takes num as input and return its factorial \n",
        "def factorial(num):\n",
        "  if num < 0:\n",
        "    return None \n",
        "  res = 1\n",
        "  for i in range(1, num+1):\n",
        "    res *= i\n",
        "  return res\n",
        "\n",
        "# function returns number od permutation of n objects taken r at a time\n",
        "def permutation(n, r):\n",
        "  if n < r or n < 0 or r < 0 or n < r:\n",
        "    return None\n",
        "  return int(factorial(n) / factorial(n-r))\n",
        "\n",
        "# function returns number of combinations of n objects taken r at a time\n",
        "def combination(n, r):\n",
        "  permute = permutation(n, r)\n",
        "  return int(permute / factorial(r))\n",
        "\n",
        "n, r = 6, 3\n",
        "print (\"Permutation of {0} objects taking {1} at a time:\".format(n, r), permutation(n, r))\n",
        "print (\"Combination of {0} objects choosing {1} at a time:\".format(n, r), combination(n, r))"
      ],
      "execution_count": 27,
      "outputs": [
        {
          "output_type": "stream",
          "text": [
            "Permutation of 6 objects taking 3 at a time: 120\n",
            "Combination of 6 objects choosing 3 at a time: 20\n"
          ],
          "name": "stdout"
        }
      ]
    },
    {
      "cell_type": "markdown",
      "metadata": {
        "id": "XsvIZoty1GKM"
      },
      "source": [
        "5. Write a function that converts a decimal number to binary number"
      ]
    },
    {
      "cell_type": "code",
      "metadata": {
        "colab": {
          "base_uri": "https://localhost:8080/"
        },
        "id": "qf1Q--b41Lc8",
        "outputId": "952c33cb-0bd5-48ea-8860-17a512b439ee"
      },
      "source": [
        "# function takes decimal number dec and return its binary\n",
        "def decimal_to_binary(dec):\n",
        "  result = ''\n",
        "  while dec >= 1:\n",
        "    r = dec % 2\n",
        "    dec = dec // 2\n",
        "    result = str(r)+result\n",
        "\n",
        "  return result\n",
        "\n",
        "print (decimal_to_binary(32))"
      ],
      "execution_count": null,
      "outputs": [
        {
          "output_type": "stream",
          "text": [
            "100000\n"
          ],
          "name": "stdout"
        }
      ]
    },
    {
      "cell_type": "markdown",
      "metadata": {
        "id": "nrXEOHW340x2"
      },
      "source": [
        "6. Write a function cubesum() that accepts an integer and returns the sum of the cubes of individual digits of that number. Use this function to make functions PrintArmstrong() and isArmstrong() to print Armstrong numbers and to find whether is an Armstrong number."
      ]
    },
    {
      "cell_type": "code",
      "metadata": {
        "id": "wrySW3cn43GW",
        "colab": {
          "base_uri": "https://localhost:8080/"
        },
        "outputId": "cdd3cb7f-8b28-4380-e932-8cedd0f6a43c"
      },
      "source": [
        "# function cubesome will take num and return sum of cube of each digit of num\n",
        "def cubesum(num):\n",
        "  res = 0\n",
        "  while num > 0:\n",
        "    res += (int(num % 10) ** 3)\n",
        "    num = int(num / 10)\n",
        "  return res\n",
        "\n",
        "# function printAmstrong will print Amstrong number from 1 to given range n\n",
        "def print_amstrong(n):\n",
        "  for i in range(1, n+1):\n",
        "    if i == cubesum(i):\n",
        "      print (i)\n",
        "\n",
        "# function isAmstrong will return True if given num is Amstrong\n",
        "def is_amstrong(num):\n",
        "  return num == cubesum(num)\n",
        "\n",
        "check_ams = 15\n",
        "range_ams = 10000\n",
        "print (\"If given number {0} is Amstrong?\".format(check_ams), is_amstrong(check_ams))\n",
        "print (\"Amstrong number from 1 to {0} are:\".format(range_ams))\n",
        "print_amstrong(range_ams)\n"
      ],
      "execution_count": 2,
      "outputs": [
        {
          "output_type": "stream",
          "text": [
            "If given number 15 is Amstrong? False\n",
            "Amstrong number from 1 to 10000 are:\n",
            "1\n",
            "153\n",
            "370\n",
            "371\n",
            "407\n"
          ],
          "name": "stdout"
        }
      ]
    },
    {
      "cell_type": "markdown",
      "metadata": {
        "id": "tCswO2Mbx-R_"
      },
      "source": [
        "7. Write a function prodDigits() that inputs a number and returns the product of digits of that number"
      ]
    },
    {
      "cell_type": "code",
      "metadata": {
        "colab": {
          "base_uri": "https://localhost:8080/"
        },
        "id": "GqUP2CU8zt2O",
        "outputId": "2e7047d5-eea0-4cbe-ba15-f5b3a564f3a9"
      },
      "source": [
        "# function takes num as input and return product of its digits\n",
        "def prod_digits(num):\n",
        "  res = 1\n",
        "  while num > 0:\n",
        "    dig = int(num % 10)\n",
        "    num = int(num / 10)\n",
        "    if dig == 0:\n",
        "      return 0\n",
        "    res = res * dig\n",
        "  return res\n",
        "\n",
        "print (prod_digits(4134))\n",
        "print (prod_digits(1240))"
      ],
      "execution_count": 3,
      "outputs": [
        {
          "output_type": "stream",
          "text": [
            "48\n",
            "0\n"
          ],
          "name": "stdout"
        }
      ]
    },
    {
      "cell_type": "markdown",
      "metadata": {
        "id": "RXyssK2l6aBW"
      },
      "source": [
        "8. If all digits of a number n are multiplied by each other repeating with the product, the one digit number obtained at last is called the multiplicative digital root of n. The number of times digits need to be multiplied to reach one digit is called the multiplicative persistance of n. Example: 86 -> 48 -> 32 -> 6 (MDR 6, MPersistence 3)               341 -> 12->2           (MDR 2, MPersistence 2)Using the function prodDigits() of previous exercise write functions MDR() and MPersistence() that input a number and return its multiplicative digital root and multiplicative persistence respectively"
      ]
    },
    {
      "cell_type": "code",
      "metadata": {
        "colab": {
          "base_uri": "https://localhost:8080/"
        },
        "id": "3tyhaw9h6evi",
        "outputId": "79433cd4-5b75-4640-d30f-33c3f0062e13"
      },
      "source": [
        "# function returns MDR (multiplicative digital root) of n. \n",
        "# all digits of a number n are multiplied by each other repeating with the product, \n",
        "# the one digit number obtained at last is called the multiplicative digital root of n\n",
        "def MDR(num):\n",
        "  num = abs(num)\n",
        "  while num >= 10:\n",
        "    num = prodDigits(num)\n",
        "  return num\n",
        "\n",
        "# function returns multiplicative persistance of n\n",
        "# The number of times digits need to be multiplied to reach one digit\n",
        "def MPersistence(num):\n",
        "  count = 0\n",
        "  num = abs(num)\n",
        "  while num >= 10:\n",
        "    num = prodDigits(num)\n",
        "    count += 1\n",
        "  return count\n",
        "\n",
        "num = 1234\n",
        "print (\"Multiplicative Digital Root (MDR) of {0} is \".format(num), MDR(num))\n",
        "print (\"Multiplicative Persistance of {0} is \".format(num), MPersistence(num))"
      ],
      "execution_count": 36,
      "outputs": [
        {
          "output_type": "stream",
          "text": [
            "Multiplicative Digital Root (MDR) of 1234 is  8\n",
            "Multiplicative Persistance of 1234 is  2\n"
          ],
          "name": "stdout"
        }
      ]
    },
    {
      "cell_type": "markdown",
      "metadata": {
        "id": "8_UEaBD_O_Au"
      },
      "source": [
        "9. Write a function sumPdivisors() that finds the sum of proper divisors of a number. Proper divisors of a number are those numbers by which the number is divisible, except the number itself.  For example proper divisors of 36 are 1, 2, 3, 4, 6, 9, 12, 18"
      ]
    },
    {
      "cell_type": "code",
      "metadata": {
        "colab": {
          "base_uri": "https://localhost:8080/"
        },
        "id": "GacJcynFPCDO",
        "outputId": "264bc596-43ee-4d94-9b8a-56f0aa2d5863"
      },
      "source": [
        "# function returns the sum of the proper divisor of given number num\n",
        "def sumPdivisor(num):\n",
        "  sum = 0\n",
        "  for i in range(1, num//2 + 1):\n",
        "    if num % i == 0:\n",
        "      sum += i\n",
        "  return sum\n",
        "\n",
        "num = 36\n",
        "print (\"sum of the proper divisor of number {0} is\".format(num), sumPdivisor(num))\n"
      ],
      "execution_count": 39,
      "outputs": [
        {
          "output_type": "stream",
          "text": [
            "sum of the proper divisor of number 36 is 55\n"
          ],
          "name": "stdout"
        }
      ]
    },
    {
      "cell_type": "markdown",
      "metadata": {
        "id": "QkZfnOOAQJvY"
      },
      "source": [
        "10. A number is called perfect if the sum of proper divisors of that number is equal to the number. For example 28 is perfect number, since 1+2+4+7+14=28. Write a program to print all the perfect numbers in a given range"
      ]
    },
    {
      "cell_type": "code",
      "metadata": {
        "id": "I_hZJaJdQPKP",
        "colab": {
          "base_uri": "https://localhost:8080/"
        },
        "outputId": "c1044cd3-1719-49aa-8a01-be43f2777358"
      },
      "source": [
        "# function tells if num == sum of its proper divisors \n",
        "def is_perfect(num):  \n",
        "  sum = 0\n",
        "  for i in range(1, num // 2 + 1):\n",
        "    if num % i == 0:\n",
        "      sum += i\n",
        "  return sum == num\n",
        "\n",
        "# function prints perfect numbers in a range \n",
        "def print_perfect(low, high):\n",
        "  for i in range(low, high + 1): \n",
        "    if is_perfect(i):\n",
        "      print (i)\n",
        "\n",
        "print_perfect(1, 27)"
      ],
      "execution_count": 5,
      "outputs": [
        {
          "output_type": "stream",
          "text": [
            "6\n"
          ],
          "name": "stdout"
        }
      ]
    },
    {
      "cell_type": "markdown",
      "metadata": {
        "id": "DHH5xBe81-gQ"
      },
      "source": [
        "11. Two different numbers are called amicable numbers if the sum of the proper divisors of each is equal to the other number. For example 220 and 284 are amicable numbers.\n",
        "Sum of proper divisors of 220 = 1+2+4+5+10+11+20+22+44+55+110 = 284. Sum of proper divisors of 284 = 1+2+4+71+142 = 220. \n",
        "Write a function to print pairs of amicable numbers in a range"
      ]
    },
    {
      "cell_type": "code",
      "metadata": {
        "colab": {
          "base_uri": "https://localhost:8080/"
        },
        "id": "xawwiM9g2E5G",
        "outputId": "4875a51b-be8d-47f4-9d8e-ad14b6d91f00"
      },
      "source": [
        "divisors_sum = {}\n",
        "\n",
        "# function returns the sum of the proper divisor of given number num\n",
        "def sumPdivisor(num):\n",
        "  if num in divisors_sum: \n",
        "    return divisors_sum[num]\n",
        "\n",
        "  sum = 0\n",
        "  for i in range(1, num // 2 + 1):\n",
        "    if num % i == 0:\n",
        "      sum += i\n",
        "  divisors_sum[num] = sum\n",
        "\n",
        "  return sum\n",
        "\n",
        "# function print all Amicable numbers in a range \n",
        "def print_amicable(low, high):\n",
        "  for i in range(low, high + 1):\n",
        "    num1 = i\n",
        "    num2 = sumPdivisor(i)\n",
        "    if num2 < low or num2 > high or num1 >= num2:\n",
        "      continue\n",
        "    num3 = sumPdivisor(num2)\n",
        "\n",
        "    if num1 == num3:\n",
        "      print (\"({0}, {1})\".format(num1, num2))\n",
        "\n",
        "print_amicable(1, 1590) "
      ],
      "execution_count": 6,
      "outputs": [
        {
          "output_type": "stream",
          "text": [
            "(220, 284)\n",
            "(1184, 1210)\n"
          ],
          "name": "stdout"
        }
      ]
    },
    {
      "cell_type": "markdown",
      "metadata": {
        "id": "cwf2i8ukAKt8"
      },
      "source": [
        "12. Write a program which can filter odd numbers in a list by using filter function"
      ]
    },
    {
      "cell_type": "code",
      "metadata": {
        "colab": {
          "base_uri": "https://localhost:8080/"
        },
        "id": "NcQABbuzAPcv",
        "outputId": "ec897240-822a-4217-bbaa-47c45be97fab"
      },
      "source": [
        "# function to filter only odd numbers in a list\n",
        "def filter_odd(lst):\n",
        "  lst1 = list(filter(lambda x: (x % 2 != 0), lst)) \n",
        "  return lst1  \n",
        "\n",
        "filter_odd([1, 2, 3, 4, 5, 6, 7, 8 ,9, 10, 2121])"
      ],
      "execution_count": 7,
      "outputs": [
        {
          "output_type": "execute_result",
          "data": {
            "text/plain": [
              "[1, 3, 5, 7, 9, 2121]"
            ]
          },
          "metadata": {
            "tags": []
          },
          "execution_count": 7
        }
      ]
    },
    {
      "cell_type": "markdown",
      "metadata": {
        "id": "HIvnhY9XBUGu"
      },
      "source": [
        "13. Write a program which can map() to make a list whose elements are cube of elements in a given list"
      ]
    },
    {
      "cell_type": "code",
      "metadata": {
        "colab": {
          "base_uri": "https://localhost:8080/"
        },
        "id": "2qPj7B3IBcGb",
        "outputId": "578e4e8a-7bec-4959-cd3c-9e6b7a033584"
      },
      "source": [
        "# function to map the given list to the cube of its elements\n",
        "def map_cube(lst):\n",
        "  cub = list(map(lambda x : x**3, lst))\n",
        "  return cub\n",
        "\n",
        "lst = [1, 2, 3, 4, 5, 6, 7]\n",
        "map_cube(lst)"
      ],
      "execution_count": 48,
      "outputs": [
        {
          "output_type": "execute_result",
          "data": {
            "text/plain": [
              "[1, 8, 27, 64, 125, 216, 343]"
            ]
          },
          "metadata": {
            "tags": []
          },
          "execution_count": 48
        }
      ]
    },
    {
      "cell_type": "markdown",
      "metadata": {
        "id": "KIuE712CDlG4"
      },
      "source": [
        "14. Write a program which can map() and filter() to make a list whose elements are cube of even number in a given list"
      ]
    },
    {
      "cell_type": "code",
      "metadata": {
        "colab": {
          "base_uri": "https://localhost:8080/"
        },
        "id": "PIpi54bJDqZZ",
        "outputId": "b4e4323c-8e1a-4688-c0e9-eb6e476fb849"
      },
      "source": [
        "# function return cube of even numbers filtered from the list\n",
        "def filter_odd_mapCube(lst):\n",
        "  cube_even_lst = list(map(lambda x: x**3, filter(lambda x : x % 2 == 0, lst)))\n",
        "  return cube_even_lst\n",
        "\n",
        "lst = [1, 2, 3, 4, 5, 6, 7, 8, 9]\n",
        "filter_odd_mapCube(lst)"
      ],
      "execution_count": 8,
      "outputs": [
        {
          "output_type": "execute_result",
          "data": {
            "text/plain": [
              "[8, 64, 216, 512]"
            ]
          },
          "metadata": {
            "tags": []
          },
          "execution_count": 8
        }
      ]
    }
  ]
}