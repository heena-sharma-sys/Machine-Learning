{
  "nbformat": 4,
  "nbformat_minor": 0,
  "metadata": {
    "kernelspec": {
      "display_name": "Python 3",
      "language": "python",
      "name": "python3"
    },
    "language_info": {
      "codemirror_mode": {
        "name": "ipython",
        "version": 3
      },
      "file_extension": ".py",
      "mimetype": "text/x-python",
      "name": "python",
      "nbconvert_exporter": "python",
      "pygments_lexer": "ipython3",
      "version": "3.6.8"
    },
    "colab": {
      "name": "Copy of 8D_LR_SVM.ipynb",
      "provenance": [],
      "collapsed_sections": []
    }
  },
  "cells": [
    {
      "cell_type": "markdown",
      "metadata": {
        "id": "86Tvnj5UblTy"
      },
      "source": [
        "## Task-D: Collinear features and their effect on linear models"
      ]
    },
    {
      "cell_type": "code",
      "metadata": {
        "id": "qn_eOn2EblT3"
      },
      "source": [
        "%matplotlib inline\n",
        "import warnings\n",
        "warnings.filterwarnings(\"ignore\")\n",
        "import pandas as pd\n",
        "import numpy as np\n",
        "from sklearn.linear_model import SGDClassifier\n",
        "from sklearn.model_selection import GridSearchCV\n",
        "from sklearn import model_selection\n",
        "import seaborn as sns\n",
        "import matplotlib.pyplot as plt"
      ],
      "execution_count": null,
      "outputs": []
    },
    {
      "cell_type": "code",
      "metadata": {
        "colab": {
          "base_uri": "https://localhost:8080/"
        },
        "id": "2w2RchntSHZA",
        "outputId": "56c6aadb-6c2f-4330-9a8f-6eb256bf1f12"
      },
      "source": [
        "from google.colab import drive\n",
        "drive.mount('/content/drive')"
      ],
      "execution_count": null,
      "outputs": [
        {
          "output_type": "stream",
          "text": [
            "Drive already mounted at /content/drive; to attempt to forcibly remount, call drive.mount(\"/content/drive\", force_remount=True).\n"
          ],
          "name": "stdout"
        }
      ]
    },
    {
      "cell_type": "code",
      "metadata": {
        "id": "VMoYWIayblUB"
      },
      "source": [
        "data = pd.read_csv('/content/drive/MyDrive/task_d.csv')"
      ],
      "execution_count": null,
      "outputs": []
    },
    {
      "cell_type": "code",
      "metadata": {
        "id": "RfStXG4tblUI",
        "colab": {
          "base_uri": "https://localhost:8080/",
          "height": 206
        },
        "outputId": "e4f6d22f-5e74-4027-ea8b-7e71fda781c9"
      },
      "source": [
        "data.head()"
      ],
      "execution_count": null,
      "outputs": [
        {
          "output_type": "execute_result",
          "data": {
            "text/html": [
              "<div>\n",
              "<style scoped>\n",
              "    .dataframe tbody tr th:only-of-type {\n",
              "        vertical-align: middle;\n",
              "    }\n",
              "\n",
              "    .dataframe tbody tr th {\n",
              "        vertical-align: top;\n",
              "    }\n",
              "\n",
              "    .dataframe thead th {\n",
              "        text-align: right;\n",
              "    }\n",
              "</style>\n",
              "<table border=\"1\" class=\"dataframe\">\n",
              "  <thead>\n",
              "    <tr style=\"text-align: right;\">\n",
              "      <th></th>\n",
              "      <th>x</th>\n",
              "      <th>y</th>\n",
              "      <th>z</th>\n",
              "      <th>x*x</th>\n",
              "      <th>2*y</th>\n",
              "      <th>2*z+3*x*x</th>\n",
              "      <th>w</th>\n",
              "      <th>target</th>\n",
              "    </tr>\n",
              "  </thead>\n",
              "  <tbody>\n",
              "    <tr>\n",
              "      <th>0</th>\n",
              "      <td>-0.581066</td>\n",
              "      <td>0.841837</td>\n",
              "      <td>-1.012978</td>\n",
              "      <td>-0.604025</td>\n",
              "      <td>0.841837</td>\n",
              "      <td>-0.665927</td>\n",
              "      <td>-0.536277</td>\n",
              "      <td>0</td>\n",
              "    </tr>\n",
              "    <tr>\n",
              "      <th>1</th>\n",
              "      <td>-0.894309</td>\n",
              "      <td>-0.207835</td>\n",
              "      <td>-1.012978</td>\n",
              "      <td>-0.883052</td>\n",
              "      <td>-0.207835</td>\n",
              "      <td>-0.917054</td>\n",
              "      <td>-0.522364</td>\n",
              "      <td>0</td>\n",
              "    </tr>\n",
              "    <tr>\n",
              "      <th>2</th>\n",
              "      <td>-1.207552</td>\n",
              "      <td>0.212034</td>\n",
              "      <td>-1.082312</td>\n",
              "      <td>-1.150918</td>\n",
              "      <td>0.212034</td>\n",
              "      <td>-1.166507</td>\n",
              "      <td>0.205738</td>\n",
              "      <td>0</td>\n",
              "    </tr>\n",
              "    <tr>\n",
              "      <th>3</th>\n",
              "      <td>-1.364174</td>\n",
              "      <td>0.002099</td>\n",
              "      <td>-0.943643</td>\n",
              "      <td>-1.280666</td>\n",
              "      <td>0.002099</td>\n",
              "      <td>-1.266540</td>\n",
              "      <td>-0.665720</td>\n",
              "      <td>0</td>\n",
              "    </tr>\n",
              "    <tr>\n",
              "      <th>4</th>\n",
              "      <td>-0.737687</td>\n",
              "      <td>1.051772</td>\n",
              "      <td>-1.012978</td>\n",
              "      <td>-0.744934</td>\n",
              "      <td>1.051772</td>\n",
              "      <td>-0.792746</td>\n",
              "      <td>-0.735054</td>\n",
              "      <td>0</td>\n",
              "    </tr>\n",
              "  </tbody>\n",
              "</table>\n",
              "</div>"
            ],
            "text/plain": [
              "          x         y         z  ...  2*z+3*x*x         w  target\n",
              "0 -0.581066  0.841837 -1.012978  ...  -0.665927 -0.536277       0\n",
              "1 -0.894309 -0.207835 -1.012978  ...  -0.917054 -0.522364       0\n",
              "2 -1.207552  0.212034 -1.082312  ...  -1.166507  0.205738       0\n",
              "3 -1.364174  0.002099 -0.943643  ...  -1.266540 -0.665720       0\n",
              "4 -0.737687  1.051772 -1.012978  ...  -0.792746 -0.735054       0\n",
              "\n",
              "[5 rows x 8 columns]"
            ]
          },
          "metadata": {
            "tags": []
          },
          "execution_count": 283
        }
      ]
    },
    {
      "cell_type": "code",
      "metadata": {
        "id": "JIIuomCkblUP"
      },
      "source": [
        "X = data.drop(['target'], axis=1).values\n",
        "Y = data['target'].values"
      ],
      "execution_count": null,
      "outputs": []
    },
    {
      "cell_type": "code",
      "metadata": {
        "colab": {
          "base_uri": "https://localhost:8080/"
        },
        "id": "TdOGBDmJuBV9",
        "outputId": "69ccb3f5-85ce-407a-9e92-b1aaeb502e31"
      },
      "source": [
        "data.shape"
      ],
      "execution_count": null,
      "outputs": [
        {
          "output_type": "execute_result",
          "data": {
            "text/plain": [
              "(100, 8)"
            ]
          },
          "metadata": {
            "tags": []
          },
          "execution_count": 285
        }
      ]
    },
    {
      "cell_type": "markdown",
      "metadata": {
        "id": "Ydm98u3EblUU"
      },
      "source": [
        "### Doing perturbation test to check the presence of collinearity  \n",
        "\n",
        "#### Task: 1 Logistic Regression\n",
        "<pre>\n",
        "\n",
        "\n",
        "1. <b>Finding the Correlation between the features</b>\n",
        "    a. check the correlation between the features\n",
        "    b. plot heat map of correlation matrix using seaborn heatmap\n",
        "2. <b>Finding the best model for the given data</b>\n",
        "    a. Train Logistic regression on data(X,Y) that we have created in the above cell\n",
        "    b. Find the best hyper prameter alpha with hyper parameter tuning using k-fold cross validation (grid search CV or         \n",
        "    random search CV make sure you choose the alpha in log space)\n",
        "    c. Creat a new Logistic regression with the best alpha\n",
        "    (search for how to get the best hyper parameter value), name the best model as 'best_model'\n",
        "    \n",
        "3. <b>Getting the weights with the original data</b>\n",
        "    a. train the 'best_model' with X, Y\n",
        "    b. Check the accuracy of the model 'best_model_accuracy'\n",
        "    c. Get the weights W using best_model.coef_\n",
        "\n",
        "4. <b>Modifying original data</b>\n",
        "    a. Add a noise(order of 10^-2) to each element of X \n",
        "    and get the new data set X' (X' = X + e)\n",
        "    b. Train the same 'best_model' with data (X', Y)\n",
        "    c. Check the accuracy of the model 'best_model_accuracy_edited'\n",
        "    d. Get the weights W' using best_model.coef_\n",
        "    \n",
        "5. <b> Checking deviations in metric and weights </b>\n",
        "    a. find the difference between 'best_model_accuracy_edited' and 'best_model_accuracy'\n",
        "    b. find the absolute change between each value of W and W' ==> |(W-W')|\n",
        "    c. print the top 4 features which have higher % change in weights \n",
        "    compare to the other feature\n",
        "\n",
        "</pre>\n",
        "\n",
        "#### Task: 2 Linear SVM\n",
        "\n",
        "<pre>\n",
        "1. Do the same steps (2, 3, 4, 5) we have done in the above task 1.\n",
        "</pre>\n",
        "\n",
        "<strong><font color='red'>Do write the observations based on the results you get from the deviations of weights in both Logistic Regression and linear SVM</font></strong>"
      ]
    },
    {
      "cell_type": "code",
      "metadata": {
        "id": "Lai8wXU1pmSb",
        "colab": {
          "base_uri": "https://localhost:8080/",
          "height": 300
        },
        "outputId": "1c2c382a-1be9-4e48-ce2d-21ff6ca4395d"
      },
      "source": [
        "# correlation between features \n",
        "data.corr()"
      ],
      "execution_count": null,
      "outputs": [
        {
          "output_type": "execute_result",
          "data": {
            "text/html": [
              "<div>\n",
              "<style scoped>\n",
              "    .dataframe tbody tr th:only-of-type {\n",
              "        vertical-align: middle;\n",
              "    }\n",
              "\n",
              "    .dataframe tbody tr th {\n",
              "        vertical-align: top;\n",
              "    }\n",
              "\n",
              "    .dataframe thead th {\n",
              "        text-align: right;\n",
              "    }\n",
              "</style>\n",
              "<table border=\"1\" class=\"dataframe\">\n",
              "  <thead>\n",
              "    <tr style=\"text-align: right;\">\n",
              "      <th></th>\n",
              "      <th>x</th>\n",
              "      <th>y</th>\n",
              "      <th>z</th>\n",
              "      <th>x*x</th>\n",
              "      <th>2*y</th>\n",
              "      <th>2*z+3*x*x</th>\n",
              "      <th>w</th>\n",
              "      <th>target</th>\n",
              "    </tr>\n",
              "  </thead>\n",
              "  <tbody>\n",
              "    <tr>\n",
              "      <th>x</th>\n",
              "      <td>1.000000</td>\n",
              "      <td>-0.205926</td>\n",
              "      <td>0.812458</td>\n",
              "      <td>0.997947</td>\n",
              "      <td>-0.205926</td>\n",
              "      <td>0.996252</td>\n",
              "      <td>0.583277</td>\n",
              "      <td>0.728290</td>\n",
              "    </tr>\n",
              "    <tr>\n",
              "      <th>y</th>\n",
              "      <td>-0.205926</td>\n",
              "      <td>1.000000</td>\n",
              "      <td>-0.602663</td>\n",
              "      <td>-0.209289</td>\n",
              "      <td>1.000000</td>\n",
              "      <td>-0.261123</td>\n",
              "      <td>-0.401790</td>\n",
              "      <td>-0.690684</td>\n",
              "    </tr>\n",
              "    <tr>\n",
              "      <th>z</th>\n",
              "      <td>0.812458</td>\n",
              "      <td>-0.602663</td>\n",
              "      <td>1.000000</td>\n",
              "      <td>0.807137</td>\n",
              "      <td>-0.602663</td>\n",
              "      <td>0.847163</td>\n",
              "      <td>0.674486</td>\n",
              "      <td>0.969990</td>\n",
              "    </tr>\n",
              "    <tr>\n",
              "      <th>x*x</th>\n",
              "      <td>0.997947</td>\n",
              "      <td>-0.209289</td>\n",
              "      <td>0.807137</td>\n",
              "      <td>1.000000</td>\n",
              "      <td>-0.209289</td>\n",
              "      <td>0.997457</td>\n",
              "      <td>0.583803</td>\n",
              "      <td>0.719570</td>\n",
              "    </tr>\n",
              "    <tr>\n",
              "      <th>2*y</th>\n",
              "      <td>-0.205926</td>\n",
              "      <td>1.000000</td>\n",
              "      <td>-0.602663</td>\n",
              "      <td>-0.209289</td>\n",
              "      <td>1.000000</td>\n",
              "      <td>-0.261123</td>\n",
              "      <td>-0.401790</td>\n",
              "      <td>-0.690684</td>\n",
              "    </tr>\n",
              "    <tr>\n",
              "      <th>2*z+3*x*x</th>\n",
              "      <td>0.996252</td>\n",
              "      <td>-0.261123</td>\n",
              "      <td>0.847163</td>\n",
              "      <td>0.997457</td>\n",
              "      <td>-0.261123</td>\n",
              "      <td>1.000000</td>\n",
              "      <td>0.606860</td>\n",
              "      <td>0.764729</td>\n",
              "    </tr>\n",
              "    <tr>\n",
              "      <th>w</th>\n",
              "      <td>0.583277</td>\n",
              "      <td>-0.401790</td>\n",
              "      <td>0.674486</td>\n",
              "      <td>0.583803</td>\n",
              "      <td>-0.401790</td>\n",
              "      <td>0.606860</td>\n",
              "      <td>1.000000</td>\n",
              "      <td>0.641750</td>\n",
              "    </tr>\n",
              "    <tr>\n",
              "      <th>target</th>\n",
              "      <td>0.728290</td>\n",
              "      <td>-0.690684</td>\n",
              "      <td>0.969990</td>\n",
              "      <td>0.719570</td>\n",
              "      <td>-0.690684</td>\n",
              "      <td>0.764729</td>\n",
              "      <td>0.641750</td>\n",
              "      <td>1.000000</td>\n",
              "    </tr>\n",
              "  </tbody>\n",
              "</table>\n",
              "</div>"
            ],
            "text/plain": [
              "                  x         y         z  ...  2*z+3*x*x         w    target\n",
              "x          1.000000 -0.205926  0.812458  ...   0.996252  0.583277  0.728290\n",
              "y         -0.205926  1.000000 -0.602663  ...  -0.261123 -0.401790 -0.690684\n",
              "z          0.812458 -0.602663  1.000000  ...   0.847163  0.674486  0.969990\n",
              "x*x        0.997947 -0.209289  0.807137  ...   0.997457  0.583803  0.719570\n",
              "2*y       -0.205926  1.000000 -0.602663  ...  -0.261123 -0.401790 -0.690684\n",
              "2*z+3*x*x  0.996252 -0.261123  0.847163  ...   1.000000  0.606860  0.764729\n",
              "w          0.583277 -0.401790  0.674486  ...   0.606860  1.000000  0.641750\n",
              "target     0.728290 -0.690684  0.969990  ...   0.764729  0.641750  1.000000\n",
              "\n",
              "[8 rows x 8 columns]"
            ]
          },
          "metadata": {
            "tags": []
          },
          "execution_count": 286
        }
      ]
    },
    {
      "cell_type": "code",
      "metadata": {
        "colab": {
          "base_uri": "https://localhost:8080/",
          "height": 312
        },
        "id": "VJdQQOsrT8CS",
        "outputId": "993b22cc-49cd-446d-946d-98d744889b21"
      },
      "source": [
        "sns.heatmap(data.corr(), annot=True)\n",
        "plt.show()"
      ],
      "execution_count": null,
      "outputs": [
        {
          "output_type": "display_data",
          "data": {
            "image/png": "[encoded data removed]",
            "text/plain": [
              "<Figure size 432x288 with 2 Axes>"
            ]
          },
          "metadata": {
            "tags": [],
            "needs_background": "light"
          }
        }
      ]
    },
    {
      "cell_type": "code",
      "metadata": {
        "id": "oHUIuMOUV9aR"
      },
      "source": [
        "# Create regularization penalty space\n",
        "penalty = ['l1', 'l2']\n",
        "\n",
        "# Create regularization hyperparameter space\n",
        "alpha = np.logspace(0, 4, 10)\n",
        "\n",
        "# Create hyperparameter options\n",
        "hyperparameters = dict(alpha=alpha, penalty=penalty)"
      ],
      "execution_count": null,
      "outputs": []
    },
    {
      "cell_type": "code",
      "metadata": {
        "id": "Gg-dwKJ7w000"
      },
      "source": [
        "logistic = SGDClassifier(loss='log')"
      ],
      "execution_count": null,
      "outputs": []
    },
    {
      "cell_type": "code",
      "metadata": {
        "id": "EM2taYJoYEqZ"
      },
      "source": [
        "clf = GridSearchCV(logistic, hyperparameters, cv=5, verbose=0)"
      ],
      "execution_count": null,
      "outputs": []
    },
    {
      "cell_type": "code",
      "metadata": {
        "id": "a8Xb6byfYd_6"
      },
      "source": [
        "model = clf.fit(X,Y)"
      ],
      "execution_count": null,
      "outputs": []
    },
    {
      "cell_type": "code",
      "metadata": {
        "id": "vc-WknFDZM8A"
      },
      "source": [
        "best_alpha = model.best_estimator_.get_params()['alpha']\n",
        "best_penalty = model.best_estimator_.get_params()['penalty']"
      ],
      "execution_count": null,
      "outputs": []
    },
    {
      "cell_type": "code",
      "metadata": {
        "colab": {
          "base_uri": "https://localhost:8080/"
        },
        "id": "kjGzAJ_6erth",
        "outputId": "cb1a2e8f-4329-47c4-90dd-ea9f636bcbc1"
      },
      "source": [
        "best_alpha, best_penalty"
      ],
      "execution_count": null,
      "outputs": [
        {
          "output_type": "execute_result",
          "data": {
            "text/plain": [
              "(1.0, 'l2')"
            ]
          },
          "metadata": {
            "tags": []
          },
          "execution_count": 293
        }
      ]
    },
    {
      "cell_type": "code",
      "metadata": {
        "id": "6TfSqj7Tq34-"
      },
      "source": [
        "best_model_logistic = SGDClassifier(loss='log', alpha=best_alpha, penalty=best_penalty)"
      ],
      "execution_count": null,
      "outputs": []
    },
    {
      "cell_type": "code",
      "metadata": {
        "id": "dvk8fmTOrkuK"
      },
      "source": [
        "best_model_logistic.fit(X, Y)\n",
        "best_model_logistic_coeff = best_model_logistic.coef_"
      ],
      "execution_count": null,
      "outputs": []
    },
    {
      "cell_type": "code",
      "metadata": {
        "colab": {
          "base_uri": "https://localhost:8080/"
        },
        "id": "N1RdixAYeHaK",
        "outputId": "f4fcdbbb-fc14-47c0-ca13-90472e05233a"
      },
      "source": [
        "best_model_logistic_coeff"
      ],
      "execution_count": null,
      "outputs": [
        {
          "output_type": "execute_result",
          "data": {
            "text/plain": [
              "array([[ 0.17103812, -0.18616907,  0.25967448,  0.16714711, -0.18616907,\n",
              "         0.18178501,  0.15083884]])"
            ]
          },
          "metadata": {
            "tags": []
          },
          "execution_count": 297
        }
      ]
    },
    {
      "cell_type": "code",
      "metadata": {
        "colab": {
          "base_uri": "https://localhost:8080/"
        },
        "id": "EuxOxzgjtgk3",
        "outputId": "53057348-d1aa-4824-99ee-90a5b2bfbe68"
      },
      "source": [
        "scoring = 'accuracy'\n",
        "kfold = model_selection.KFold(n_splits=10, random_state=7, shuffle=True)\n",
        "results = model_selection.cross_val_score(best_model_logistic, X, Y, cv=kfold, scoring=scoring)\n",
        "print(\"Accuracy: %.3f (%.3f)\" % (results.mean(), results.std()))\n"
      ],
      "execution_count": null,
      "outputs": [
        {
          "output_type": "stream",
          "text": [
            "Accuracy: 1.000 (0.000)\n"
          ],
          "name": "stdout"
        }
      ]
    },
    {
      "cell_type": "markdown",
      "metadata": {
        "id": "HHIFqRxAypWF"
      },
      "source": [
        "4. Modifying original data\n",
        "\n",
        "    a. Add a noise(order of 10^-2) to each element of X \n",
        "    and get the new data set X' (X' = X + e)\n",
        "\n",
        "    b. Train the same 'best_model' with data (X', Y)\n",
        "\n",
        "    c. Check the accuracy of the model 'best_model_accuracy_edited'\n",
        "    \n",
        "    d. Get the weights W' using best_model.coef_\n"
      ]
    },
    {
      "cell_type": "code",
      "metadata": {
        "id": "-UJKE0tXyVCm"
      },
      "source": [
        "new_x = X\n",
        "new_y = Y"
      ],
      "execution_count": null,
      "outputs": []
    },
    {
      "cell_type": "code",
      "metadata": {
        "id": "2LYIygBMaX4D"
      },
      "source": [
        "# adding 10^-2 to all elements of X\n",
        "row = len(new_x)\n",
        "col = len(new_x[0])\n",
        "\n",
        "for r in range(row):\n",
        "  for c in range(col):\n",
        "    new_x[r][c] = new_x[r][c] +  (1/100)\n",
        "  "
      ],
      "execution_count": null,
      "outputs": []
    },
    {
      "cell_type": "code",
      "metadata": {
        "colab": {
          "base_uri": "https://localhost:8080/"
        },
        "id": "_B44tI0vcWxK",
        "outputId": "0c51b2a8-d067-4d48-9e1c-fdff3d57ca63"
      },
      "source": [
        "# Train the same 'best_model' with data (X', Y)\n",
        "best_model_logistic.fit(new_x, Y)"
      ],
      "execution_count": null,
      "outputs": [
        {
          "output_type": "execute_result",
          "data": {
            "text/plain": [
              "SGDClassifier(alpha=1.0, average=False, class_weight=None, early_stopping=False,\n",
              "              epsilon=0.1, eta0=0.0, fit_intercept=True, l1_ratio=0.15,\n",
              "              learning_rate='optimal', loss='log', max_iter=1000,\n",
              "              n_iter_no_change=5, n_jobs=None, penalty='l2', power_t=0.5,\n",
              "              random_state=None, shuffle=True, tol=0.001,\n",
              "              validation_fraction=0.1, verbose=0, warm_start=False)"
            ]
          },
          "metadata": {
            "tags": []
          },
          "execution_count": 302
        }
      ]
    },
    {
      "cell_type": "code",
      "metadata": {
        "colab": {
          "base_uri": "https://localhost:8080/"
        },
        "id": "u6yQFyo7cvs6",
        "outputId": "c486a6f0-725f-4538-aa8d-ea29c74060d5"
      },
      "source": [
        "# Check the accuracy of the model 'best_model_accuracy_edited'\n",
        "scoring = 'accuracy'\n",
        "kfold = model_selection.KFold(n_splits=10, random_state=7, shuffle=True)\n",
        "results_edited = model_selection.cross_val_score(best_model_logistic, new_x, Y, cv=kfold, scoring=scoring)\n",
        "print(\"Accuracy: %.3f (%.3f)\" % (results_edited.mean(), results_edited.std()))\n"
      ],
      "execution_count": null,
      "outputs": [
        {
          "output_type": "stream",
          "text": [
            "Accuracy: 1.000 (0.000)\n"
          ],
          "name": "stdout"
        }
      ]
    },
    {
      "cell_type": "code",
      "metadata": {
        "id": "PfJWvDt5ncQ4"
      },
      "source": [
        "best_model_coef_edited = best_model_logistic.coef_"
      ],
      "execution_count": null,
      "outputs": []
    },
    {
      "cell_type": "code",
      "metadata": {
        "colab": {
          "base_uri": "https://localhost:8080/"
        },
        "id": "SC6iom_ndAc8",
        "outputId": "8b1fb535-de3e-424f-8a84-047b5eb00713"
      },
      "source": [
        "#find the absolute change between each value of W and W' ==> |(W-W')|\n",
        "feature_diff = abs(best_model_logistic_coeff - best_model_logistic.coef_)\n",
        "feature_diff"
      ],
      "execution_count": null,
      "outputs": [
        {
          "output_type": "execute_result",
          "data": {
            "text/plain": [
              "array([[0.00236173, 0.00170221, 0.001378  , 0.00267454, 0.00170221,\n",
              "        0.00258543, 0.00128529]])"
            ]
          },
          "metadata": {
            "tags": []
          },
          "execution_count": 314
        }
      ]
    },
    {
      "cell_type": "code",
      "metadata": {
        "colab": {
          "base_uri": "https://localhost:8080/"
        },
        "id": "Ke5w03MhdH1s",
        "outputId": "6922c749-486c-4065-cb7b-0da7798a0583"
      },
      "source": [
        "# find the difference between 'best_model_accuracy_edited' and 'best_model_accuracy'\n",
        "results - results_edited"
      ],
      "execution_count": null,
      "outputs": [
        {
          "output_type": "execute_result",
          "data": {
            "text/plain": [
              "array([0., 0., 0., 0., 0., 0., 0., 0., 0., 0.])"
            ]
          },
          "metadata": {
            "tags": []
          },
          "execution_count": 315
        }
      ]
    },
    {
      "cell_type": "code",
      "metadata": {
        "id": "Bd92Z0t0fMex"
      },
      "source": [
        "# print the top 4 features which have higher % change in weights compare to the other feature\n",
        "feature_diff\n",
        "sorted_feature_index= np.argsort(feature_diff)"
      ],
      "execution_count": null,
      "outputs": []
    },
    {
      "cell_type": "code",
      "metadata": {
        "colab": {
          "base_uri": "https://localhost:8080/"
        },
        "id": "5_I3wNQtgB6a",
        "outputId": "4bec381a-0d54-43a0-f10d-9d54b0195915"
      },
      "source": [
        "\n",
        "count = 0\n",
        "print (\"top 4 features which have higher % change in weights compare to the other feature: \\n\")\n",
        "for i in sorted_feature_index[0]:\n",
        "  count += 1\n",
        "  print (data.columns[i])\n",
        "  if count ==4 :\n",
        "    break"
      ],
      "execution_count": null,
      "outputs": [
        {
          "output_type": "stream",
          "text": [
            "top 4 features which have higher % change in weights compare to the other feature: \n",
            "\n",
            "w\n",
            "z\n",
            "y\n",
            "2*y\n"
          ],
          "name": "stdout"
        }
      ]
    },
    {
      "cell_type": "markdown",
      "metadata": {
        "id": "GaKS8Fx_hyoc"
      },
      "source": [
        "Task 2 Linear SVM\n",
        "\n",
        "2. Finding the best model for the given data\n",
        "    a. Train Logistic regression on data(X,Y) that we have created in the above cell\n",
        "    b. Find the best hyper prameter alpha with hyper parameter tuning using k-fold cross validation (grid search CV or         \n",
        "    random search CV make sure you choose the alpha in log space)\n",
        "    c. Creat a new Logistic regression with the best alpha\n",
        "    (search for how to get the best hyper parameter value), name the best model as 'best_model'\n",
        "\n",
        "3. Getting the weights with the original data\n",
        "    a. train the 'best_model' with X, Y\n",
        "    b. Check the accuracy of the model 'best_model_accuracy'\n",
        "    c. Get the weights W using best_model.coef_\n",
        "\n",
        "4. Modifying original data\n",
        "    a. Add a noise(order of 10^-2) to each element of X \n",
        "    and get the new data set X' (X' = X + e)\n",
        "    b. Train the same 'best_model' with data (X', Y)\n",
        "    c. Check the accuracy of the model 'best_model_accuracy_edited'\n",
        "    d. Get the weights W' using best_model.coef_\n",
        "\n",
        "5.  Checking deviations in metric and weights \n",
        "    a. find the difference between 'best_model_accuracy_edited' and 'best_model_accuracy'\n",
        "    b. find the absolute change between each value of W and W' ==> |(W-W')|\n",
        "    c. print the top 4 features which have higher % change in weights \n",
        "    compare to the other feature\n"
      ]
    },
    {
      "cell_type": "code",
      "metadata": {
        "id": "0AgLArtEh0sB"
      },
      "source": [
        "# Create regularization penalty space\n",
        "penalty = ['l1', 'l2']\n",
        "\n",
        "# Create regularization hyperparameter space\n",
        "alpha = np.logspace(0, 4, 10)\n",
        "\n",
        "# Create hyperparameter options\n",
        "hyperparameters = dict(alpha=alpha, penalty=penalty)\n",
        "\n",
        "svm = SGDClassifier(loss='hinge')\n",
        "\n",
        "clf = GridSearchCV(svm, hyperparameters, cv=5, verbose=0)\n",
        "model = clf.fit(X,Y)\n",
        "\n",
        "best_alpha = model.best_estimator_.get_params()['alpha']\n",
        "best_penalty = model.best_estimator_.get_params()['penalty']\n",
        "\n",
        "\n"
      ],
      "execution_count": null,
      "outputs": []
    },
    {
      "cell_type": "code",
      "metadata": {
        "colab": {
          "base_uri": "https://localhost:8080/"
        },
        "id": "o-4eSqXojG-w",
        "outputId": "85df0ba1-9965-40d7-8b94-819ed01f9374"
      },
      "source": [
        "best_alpha, best_penalty"
      ],
      "execution_count": null,
      "outputs": [
        {
          "output_type": "execute_result",
          "data": {
            "text/plain": [
              "(1.0, 'l2')"
            ]
          },
          "metadata": {
            "tags": []
          },
          "execution_count": 319
        }
      ]
    },
    {
      "cell_type": "code",
      "metadata": {
        "colab": {
          "base_uri": "https://localhost:8080/"
        },
        "id": "OznrTJ9KjJrj",
        "outputId": "d0d0d5ae-cb85-426a-8096-ffb074c3f10a"
      },
      "source": [
        "best_model_svm = SGDClassifier(loss='hinge', alpha=best_alpha, penalty=best_penalty)\n",
        "\n",
        "best_model_svm.fit(X, Y)"
      ],
      "execution_count": null,
      "outputs": [
        {
          "output_type": "execute_result",
          "data": {
            "text/plain": [
              "SGDClassifier(alpha=1.0, average=False, class_weight=None, early_stopping=False,\n",
              "              epsilon=0.1, eta0=0.0, fit_intercept=True, l1_ratio=0.15,\n",
              "              learning_rate='optimal', loss='hinge', max_iter=1000,\n",
              "              n_iter_no_change=5, n_jobs=None, penalty='l2', power_t=0.5,\n",
              "              random_state=None, shuffle=True, tol=0.001,\n",
              "              validation_fraction=0.1, verbose=0, warm_start=False)"
            ]
          },
          "metadata": {
            "tags": []
          },
          "execution_count": 321
        }
      ]
    },
    {
      "cell_type": "code",
      "metadata": {
        "colab": {
          "base_uri": "https://localhost:8080/"
        },
        "id": "0Y_5jTVIjjWQ",
        "outputId": "a3be67eb-51c7-49c6-c221-6aa5ee74e02d"
      },
      "source": [
        "best_model_svm_coeff = best_model_svm.coef_\n",
        "best_model_svm_coeff"
      ],
      "execution_count": null,
      "outputs": [
        {
          "output_type": "execute_result",
          "data": {
            "text/plain": [
              "array([[ 0.16735403, -0.22421524,  0.35738663,  0.15886585, -0.22421524,\n",
              "         0.1861288 ,  0.13003009]])"
            ]
          },
          "metadata": {
            "tags": []
          },
          "execution_count": 322
        }
      ]
    },
    {
      "cell_type": "code",
      "metadata": {
        "colab": {
          "base_uri": "https://localhost:8080/"
        },
        "id": "7xfNzNRZjrpY",
        "outputId": "83762191-e78f-4f99-952e-3498247862cb"
      },
      "source": [
        "scoring = 'accuracy'\n",
        "kfold = model_selection.KFold(n_splits=10, random_state=7, shuffle=True)\n",
        "results = model_selection.cross_val_score(best_model_svm, X, Y, cv=kfold, scoring=scoring)\n",
        "print(\"Accuracy: %.3f (%.3f)\" % (results.mean(), results.std()))\n"
      ],
      "execution_count": null,
      "outputs": [
        {
          "output_type": "stream",
          "text": [
            "Accuracy: 1.000 (0.000)\n"
          ],
          "name": "stdout"
        }
      ]
    },
    {
      "cell_type": "code",
      "metadata": {
        "id": "jV010b9Xj04u"
      },
      "source": [
        "new_x = X\n",
        "new_y = Y\n",
        "\n",
        "# adding 10^-2 to all elements of X\n",
        "row = len(new_x)\n",
        "col = len(new_x[0])\n",
        "\n",
        "for r in range(row):\n",
        "  for c in range(col):\n",
        "    new_x[r][c] = new_x[r][c] +  (1/100)\n",
        "  \n"
      ],
      "execution_count": null,
      "outputs": []
    },
    {
      "cell_type": "code",
      "metadata": {
        "colab": {
          "base_uri": "https://localhost:8080/"
        },
        "id": "50c8R3m0j87q",
        "outputId": "e8262d80-95bf-42e7-86f0-e49ae1443df7"
      },
      "source": [
        "# Train the same 'best_model' with data (X', Y)\n",
        "best_model_svm.fit(new_x, Y)\n"
      ],
      "execution_count": null,
      "outputs": [
        {
          "output_type": "execute_result",
          "data": {
            "text/plain": [
              "SGDClassifier(alpha=1.0, average=False, class_weight=None, early_stopping=False,\n",
              "              epsilon=0.1, eta0=0.0, fit_intercept=True, l1_ratio=0.15,\n",
              "              learning_rate='optimal', loss='hinge', max_iter=1000,\n",
              "              n_iter_no_change=5, n_jobs=None, penalty='l2', power_t=0.5,\n",
              "              random_state=None, shuffle=True, tol=0.001,\n",
              "              validation_fraction=0.1, verbose=0, warm_start=False)"
            ]
          },
          "metadata": {
            "tags": []
          },
          "execution_count": 325
        }
      ]
    },
    {
      "cell_type": "code",
      "metadata": {
        "colab": {
          "base_uri": "https://localhost:8080/"
        },
        "id": "BW5oGGZ1kE-x",
        "outputId": "df95f02d-39f1-4ace-876b-1728fbcbaf78"
      },
      "source": [
        "# Check the accuracy of the model 'best_model_accuracy_edited'\n",
        "scoring = 'accuracy'\n",
        "kfold = model_selection.KFold(n_splits=10, random_state=7, shuffle=True)\n",
        "results_edited = model_selection.cross_val_score(best_model_svm, new_x, Y, cv=kfold, scoring=scoring)\n",
        "print(\"Accuracy: %.3f (%.3f)\" % (results_edited.mean(), results_edited.std()))\n",
        "\n"
      ],
      "execution_count": null,
      "outputs": [
        {
          "output_type": "stream",
          "text": [
            "Accuracy: 1.000 (0.000)\n"
          ],
          "name": "stdout"
        }
      ]
    },
    {
      "cell_type": "code",
      "metadata": {
        "colab": {
          "base_uri": "https://localhost:8080/"
        },
        "id": "xI9vqlOkk1Wp",
        "outputId": "13b85b44-12e9-4c38-dd2a-f37342aa414b"
      },
      "source": [
        "best_model_svm_coef_edited = best_model_svm.coef_\n",
        "best_model_svm_coef_edited"
      ],
      "execution_count": null,
      "outputs": [
        {
          "output_type": "execute_result",
          "data": {
            "text/plain": [
              "array([[ 0.16043829, -0.22168292,  0.35836363,  0.15000505, -0.22168292,\n",
              "         0.17826821,  0.13986965]])"
            ]
          },
          "metadata": {
            "tags": []
          },
          "execution_count": 327
        }
      ]
    },
    {
      "cell_type": "code",
      "metadata": {
        "colab": {
          "base_uri": "https://localhost:8080/"
        },
        "id": "lLDng7RmkNDd",
        "outputId": "df6071e4-2e2a-4a1d-ab26-f3aed9030bc3"
      },
      "source": [
        "#find the absolute change between each value of W and W' ==> |(W-W')|\n",
        "feature_diff = abs(best_model_svm_coeff - best_model_svm.coef_)\n",
        "feature_diff\n"
      ],
      "execution_count": null,
      "outputs": [
        {
          "output_type": "execute_result",
          "data": {
            "text/plain": [
              "array([[0.00691574, 0.00253232, 0.000977  , 0.0088608 , 0.00253232,\n",
              "        0.00786058, 0.00983956]])"
            ]
          },
          "metadata": {
            "tags": []
          },
          "execution_count": 329
        }
      ]
    },
    {
      "cell_type": "code",
      "metadata": {
        "colab": {
          "base_uri": "https://localhost:8080/"
        },
        "id": "1Aayf5ZLlBqv",
        "outputId": "efdfd908-07b9-4626-977a-e33268b218bc"
      },
      "source": [
        "# find the difference between 'best_model_accuracy_edited' and 'best_model_accuracy'\n",
        "results - results_edited"
      ],
      "execution_count": null,
      "outputs": [
        {
          "output_type": "execute_result",
          "data": {
            "text/plain": [
              "array([0., 0., 0., 0., 0., 0., 0., 0., 0., 0.])"
            ]
          },
          "metadata": {
            "tags": []
          },
          "execution_count": 330
        }
      ]
    },
    {
      "cell_type": "code",
      "metadata": {
        "colab": {
          "base_uri": "https://localhost:8080/"
        },
        "id": "TeBPgJldkr-B",
        "outputId": "b2d40387-4ae5-459b-ed1f-e4f6888fc5de"
      },
      "source": [
        "# print the top 4 features which have higher % change in weights compare to the other feature\n",
        "feature_diff\n",
        "sorted_feature_index= np.argsort(feature_diff)\n",
        "\n",
        "\n",
        "\n",
        "count = 0\n",
        "print (\"top 4 features which have higher % change in weights compare to the other feature: \\n\")\n",
        "for i in sorted_feature_index[0]:\n",
        "  count += 1\n",
        "  print (data.columns[i])\n",
        "  if count ==4 :\n",
        "    break\n"
      ],
      "execution_count": null,
      "outputs": [
        {
          "output_type": "stream",
          "text": [
            "top 4 features which have higher % change in weights compare to the other feature: \n",
            "\n",
            "z\n",
            "y\n",
            "2*y\n",
            "x\n"
          ],
          "name": "stdout"
        }
      ]
    },
    {
      "cell_type": "markdown",
      "metadata": {
        "id": "5cOBBaHmtOcx"
      },
      "source": [
        "Before and after adding noise to data, accuracy is same. \n",
        "\n",
        "top 4 features which have higher % change is weight compare to other features, almost same. "
      ]
    }
  ]
}