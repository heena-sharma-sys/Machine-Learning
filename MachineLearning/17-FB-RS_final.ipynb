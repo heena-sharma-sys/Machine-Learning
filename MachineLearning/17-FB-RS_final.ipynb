{
  "nbformat": 4,
  "nbformat_minor": 0,
  "metadata": {
    "colab": {
      "name": "Copy of FB_featurization.ipynb",
      "provenance": [],
      "collapsed_sections": [
        "GkkfYYZ6VFGy"
      ]
    },
    "kernelspec": {
      "display_name": "Python 3",
      "language": "python",
      "name": "python3"
    }
  },
  "cells": [
    {
      "cell_type": "markdown",
      "metadata": {
        "id": "168QPRizVFFg"
      },
      "source": [
        "<p style=\"font-size:32px;text-align:center\"> <b>Social network Graph Link Prediction - Facebook Challenge</b> </p>"
      ]
    },
    {
      "cell_type": "code",
      "metadata": {
        "colab": {
          "base_uri": "https://localhost:8080/"
        },
        "id": "ngQaMoB7DukU",
        "outputId": "987bead2-450e-4c70-d353-50d65a2e73ab"
      },
      "source": [
        "from google.colab import drive\n",
        "drive.mount('/content/drive')"
      ],
      "execution_count": 1,
      "outputs": [
        {
          "output_type": "stream",
          "name": "stdout",
          "text": [
            "Mounted at /content/drive\n"
          ]
        }
      ]
    },
    {
      "cell_type": "code",
      "metadata": {
        "id": "Q8lS7fVyVFFl"
      },
      "source": [
        "#Importing Libraries\n",
        "# please do go through this python notebook: \n",
        "import warnings\n",
        "warnings.filterwarnings(\"ignore\")\n",
        "\n",
        "import csv\n",
        "import pandas as pd#pandas to create small dataframes \n",
        "import datetime #Convert to unix time\n",
        "import time #Convert to unix time\n",
        "# if numpy is not installed already : pip3 install numpy\n",
        "import numpy as np#Do aritmetic operations on arrays\n",
        "# matplotlib: used to plot graphs\n",
        "import matplotlib\n",
        "import matplotlib.pylab as plt\n",
        "import seaborn as sns#Plots\n",
        "from matplotlib import rcParams#Size of plots  \n",
        "from sklearn.cluster import MiniBatchKMeans, KMeans#Clustering\n",
        "import math\n",
        "import pickle\n",
        "import os\n",
        "# to install xgboost: pip3 install xgboost\n",
        "import xgboost as xgb\n",
        "\n",
        "import warnings\n",
        "import networkx as nx\n",
        "\n",
        "import pdb\n",
        "import pickle\n",
        "from pandas import HDFStore,DataFrame\n",
        "from pandas import read_hdf\n",
        "from scipy.sparse.linalg import svds, eigs\n",
        "import gc\n",
        "from tqdm import tqdm"
      ],
      "execution_count": 2,
      "outputs": []
    },
    {
      "cell_type": "markdown",
      "metadata": {
        "id": "1znHayNeVFFt"
      },
      "source": [
        "# 1. Reading Data"
      ]
    },
    {
      "cell_type": "code",
      "metadata": {
        "id": "Uq9HbHwEVFFv",
        "colab": {
          "base_uri": "https://localhost:8080/"
        },
        "outputId": "0939a6c6-d780-4bd5-bd13-43d97909a2ab"
      },
      "source": [
        "if os.path.isfile('/content/drive/MyDrive/Facebook/data/after_eda/train_pos_after_eda.csv'):\n",
        "    train_graph=nx.read_edgelist('/content/drive/MyDrive/Facebook/data/after_eda/train_pos_after_eda.csv',delimiter=',',create_using=nx.DiGraph(),nodetype=int)\n",
        "    print(nx.info(train_graph))\n",
        "else:\n",
        "    print(\"please run the FB_EDA.ipynb or download the files from drive\")"
      ],
      "execution_count": 3,
      "outputs": [
        {
          "output_type": "stream",
          "name": "stdout",
          "text": [
            "DiGraph with 1780722 nodes and 7550015 edges\n"
          ]
        }
      ]
    },
    {
      "cell_type": "markdown",
      "metadata": {
        "id": "HmlUa64tVFF7"
      },
      "source": [
        "# 2. Similarity measures"
      ]
    },
    {
      "cell_type": "markdown",
      "metadata": {
        "id": "ivVMUMiWVFF9"
      },
      "source": [
        "## 2.1 Jaccard Distance:\n",
        "http://www.statisticshowto.com/jaccard-index/"
      ]
    },
    {
      "cell_type": "markdown",
      "metadata": {
        "id": "NoWCYuRBVFF_"
      },
      "source": [
        "\\begin{equation}\n",
        "j = \\frac{|X\\cap Y|}{|X \\cup Y|} \n",
        "\\end{equation}"
      ]
    },
    {
      "cell_type": "code",
      "metadata": {
        "id": "Seo4z5SnVFGB"
      },
      "source": [
        "#for followees\n",
        "def jaccard_for_followees(a,b):\n",
        "    try:\n",
        "        if len(set(train_graph.successors(a))) == 0  | len(set(train_graph.successors(b))) == 0:\n",
        "            return 0\n",
        "        sim = (len(set(train_graph.successors(a)).intersection(set(train_graph.successors(b)))))/\\\n",
        "                                    (len(set(train_graph.successors(a)).union(set(train_graph.successors(b)))))\n",
        "    except:\n",
        "        return 0\n",
        "    return sim"
      ],
      "execution_count": 4,
      "outputs": []
    },
    {
      "cell_type": "code",
      "metadata": {
        "id": "Oa9FMlS8VFGF",
        "colab": {
          "base_uri": "https://localhost:8080/"
        },
        "outputId": "23a1f19f-4c30-4e83-f963-47f45bbcceed"
      },
      "source": [
        "#one test case\n",
        "print(jaccard_for_followees(273084,1505602))"
      ],
      "execution_count": 5,
      "outputs": [
        {
          "output_type": "stream",
          "name": "stdout",
          "text": [
            "0.0\n"
          ]
        }
      ]
    },
    {
      "cell_type": "code",
      "metadata": {
        "id": "Gf8njOv6VFGK",
        "colab": {
          "base_uri": "https://localhost:8080/"
        },
        "outputId": "32d1ab53-b7a1-43cb-c630-ee41ca77d98e"
      },
      "source": [
        "#node 1635354 not in graph \n",
        "print(jaccard_for_followees(273084,1505602))"
      ],
      "execution_count": 6,
      "outputs": [
        {
          "output_type": "stream",
          "name": "stdout",
          "text": [
            "0.0\n"
          ]
        }
      ]
    },
    {
      "cell_type": "code",
      "metadata": {
        "id": "LO-a5ZkKVFGO"
      },
      "source": [
        "#for followers\n",
        "def jaccard_for_followers(a,b):\n",
        "    try:\n",
        "        if len(set(train_graph.predecessors(a))) == 0  | len(set(g.predecessors(b))) == 0:\n",
        "            return 0\n",
        "        sim = (len(set(train_graph.predecessors(a)).intersection(set(train_graph.predecessors(b)))))/\\\n",
        "                                 (len(set(train_graph.predecessors(a)).union(set(train_graph.predecessors(b)))))\n",
        "        return sim\n",
        "    except:\n",
        "        return 0"
      ],
      "execution_count": 7,
      "outputs": []
    },
    {
      "cell_type": "code",
      "metadata": {
        "id": "DlbX2t0jVFGQ",
        "colab": {
          "base_uri": "https://localhost:8080/"
        },
        "outputId": "4769e0d5-a85d-4fbd-eb01-e432e46a5d80"
      },
      "source": [
        "print(jaccard_for_followers(273084,470294))"
      ],
      "execution_count": 8,
      "outputs": [
        {
          "output_type": "stream",
          "name": "stdout",
          "text": [
            "0\n"
          ]
        }
      ]
    },
    {
      "cell_type": "code",
      "metadata": {
        "id": "OgeBW2LMVFGU",
        "colab": {
          "base_uri": "https://localhost:8080/"
        },
        "outputId": "4646a698-4674-425f-a2a1-ff9322ead97c"
      },
      "source": [
        "#node 1635354 not in graph \n",
        "print(jaccard_for_followees(669354,1635354))"
      ],
      "execution_count": 9,
      "outputs": [
        {
          "output_type": "stream",
          "name": "stdout",
          "text": [
            "0\n"
          ]
        }
      ]
    },
    {
      "cell_type": "markdown",
      "metadata": {
        "id": "MnH2my2UVFGX"
      },
      "source": [
        "## 2.2 Cosine distance"
      ]
    },
    {
      "cell_type": "markdown",
      "metadata": {
        "id": "XNvdBGS2VFGY"
      },
      "source": [
        "\\begin{equation}\n",
        "CosineDistance = \\frac{|X\\cap Y|}{|X|\\cdot|Y|} \n",
        "\\end{equation}"
      ]
    },
    {
      "cell_type": "code",
      "metadata": {
        "id": "Iznz67EdVFGZ"
      },
      "source": [
        "#for followees\n",
        "def cosine_for_followees(a,b):\n",
        "    try:\n",
        "        if len(set(train_graph.successors(a))) == 0  | len(set(train_graph.successors(b))) == 0:\n",
        "            return 0\n",
        "        sim = (len(set(train_graph.successors(a)).intersection(set(train_graph.successors(b)))))/\\\n",
        "                                    (math.sqrt(len(set(train_graph.successors(a)))*len((set(train_graph.successors(b))))))\n",
        "        return sim\n",
        "    except:\n",
        "        return 0"
      ],
      "execution_count": 10,
      "outputs": []
    },
    {
      "cell_type": "code",
      "metadata": {
        "id": "H55ALjkMVFGc",
        "colab": {
          "base_uri": "https://localhost:8080/"
        },
        "outputId": "18354c1a-197c-4a6d-b7f4-4db77113bd7f"
      },
      "source": [
        "print(cosine_for_followees(273084,1505602))"
      ],
      "execution_count": 11,
      "outputs": [
        {
          "output_type": "stream",
          "name": "stdout",
          "text": [
            "0.0\n"
          ]
        }
      ]
    },
    {
      "cell_type": "code",
      "metadata": {
        "id": "q0RGKgJFVFGf",
        "colab": {
          "base_uri": "https://localhost:8080/"
        },
        "outputId": "2d37b0da-58fc-4a66-8e52-1fbc84ddcff3"
      },
      "source": [
        "print(cosine_for_followees(273084,1635354))"
      ],
      "execution_count": 12,
      "outputs": [
        {
          "output_type": "stream",
          "name": "stdout",
          "text": [
            "0\n"
          ]
        }
      ]
    },
    {
      "cell_type": "code",
      "metadata": {
        "id": "KJ_yGxA0VFGj"
      },
      "source": [
        "def cosine_for_followers(a,b):\n",
        "    try:\n",
        "        \n",
        "        if len(set(train_graph.predecessors(a))) == 0  | len(set(train_graph.predecessors(b))) == 0:\n",
        "            return 0\n",
        "        sim = (len(set(train_graph.predecessors(a)).intersection(set(train_graph.predecessors(b)))))/\\\n",
        "                                     (math.sqrt(len(set(train_graph.predecessors(a))))*(len(set(train_graph.predecessors(b)))))\n",
        "        return sim\n",
        "    except:\n",
        "        return 0"
      ],
      "execution_count": 13,
      "outputs": []
    },
    {
      "cell_type": "code",
      "metadata": {
        "id": "75QrFJb6VFGm",
        "colab": {
          "base_uri": "https://localhost:8080/"
        },
        "outputId": "9fe14d2b-15ba-451b-fa0e-5ca8da03edcd"
      },
      "source": [
        "print(cosine_for_followers(2,470294))"
      ],
      "execution_count": 14,
      "outputs": [
        {
          "output_type": "stream",
          "name": "stdout",
          "text": [
            "0.02886751345948129\n"
          ]
        }
      ]
    },
    {
      "cell_type": "code",
      "metadata": {
        "id": "-ut4k_F0VFGq",
        "colab": {
          "base_uri": "https://localhost:8080/"
        },
        "outputId": "0b512327-75e6-40a9-f364-c06ccc27c7aa"
      },
      "source": [
        "print(cosine_for_followers(669354,1635354))"
      ],
      "execution_count": 15,
      "outputs": [
        {
          "output_type": "stream",
          "name": "stdout",
          "text": [
            "0\n"
          ]
        }
      ]
    },
    {
      "cell_type": "markdown",
      "metadata": {
        "id": "DaIHhWh6VFGv"
      },
      "source": [
        "## 3. Ranking Measures"
      ]
    },
    {
      "cell_type": "markdown",
      "metadata": {
        "id": "6nfV1SprVFGx"
      },
      "source": [
        "https://networkx.github.io/documentation/networkx-1.10/reference/generated/networkx.algorithms.link_analysis.pagerank_alg.pagerank.html\n",
        "\n",
        "PageRank computes a ranking of the nodes in the graph G based on the structure of the incoming links.\n",
        "\n",
        "<img src='PageRanks-Example.jpg'/>\n",
        "\n",
        "Mathematical PageRanks for a simple network, expressed as percentages. (Google uses a logarithmic scale.) Page C has a higher PageRank than Page E, even though there are fewer links to C; the one link to C comes from an important page and hence is of high value. If web surfers who start on a random page have an 85% likelihood of choosing a random link from the page they are currently visiting, and a 15% likelihood of jumping to a page chosen at random from the entire web, they will reach Page E 8.1% of the time. <b>(The 15% likelihood of jumping to an arbitrary page corresponds to a damping factor of 85%.) Without damping, all web surfers would eventually end up on Pages A, B, or C, and all other pages would have PageRank zero. In the presence of damping, Page A effectively links to all pages in the web, even though it has no outgoing links of its own.</b>"
      ]
    },
    {
      "cell_type": "markdown",
      "metadata": {
        "id": "GkkfYYZ6VFGy"
      },
      "source": [
        "## 3.1 Page Ranking\n",
        "\n",
        "https://en.wikipedia.org/wiki/PageRank\n"
      ]
    },
    {
      "cell_type": "markdown",
      "metadata": {
        "id": "HhPbSL1tVFG7"
      },
      "source": [
        "# 4. Other Graph Features"
      ]
    },
    {
      "cell_type": "markdown",
      "metadata": {
        "id": "AgsorCl7VFG8"
      },
      "source": [
        "## 4.1 Shortest path:"
      ]
    },
    {
      "cell_type": "markdown",
      "metadata": {
        "id": "E7teH2LCVFG9"
      },
      "source": [
        "Getting Shortest path between twoo nodes, if nodes have direct path i.e directly connected then we are removing that edge and calculating path. "
      ]
    },
    {
      "cell_type": "code",
      "metadata": {
        "id": "RA076ovzVFG9"
      },
      "source": [
        "#if has direct edge then deleting that edge and calculating shortest path\n",
        "def compute_shortest_path_length(a,b):\n",
        "    p=-1\n",
        "    try:\n",
        "        if train_graph.has_edge(a,b):\n",
        "            train_graph.remove_edge(a,b)\n",
        "            p= nx.shortest_path_length(train_graph,source=a,target=b)\n",
        "            train_graph.add_edge(a,b)\n",
        "        else:\n",
        "            p= nx.shortest_path_length(train_graph,source=a,target=b)\n",
        "        return p\n",
        "    except:\n",
        "        return -1"
      ],
      "execution_count": 14,
      "outputs": []
    },
    {
      "cell_type": "code",
      "metadata": {
        "id": "AxnKId11VFG_",
        "colab": {
          "base_uri": "https://localhost:8080/"
        },
        "outputId": "04548b3c-8a5e-4e30-88eb-b060b05a77e4"
      },
      "source": [
        "#testing\n",
        "compute_shortest_path_length(77697, 826021)"
      ],
      "execution_count": 19,
      "outputs": [
        {
          "output_type": "execute_result",
          "data": {
            "text/plain": [
              "10"
            ]
          },
          "metadata": {},
          "execution_count": 19
        }
      ]
    },
    {
      "cell_type": "code",
      "metadata": {
        "id": "0huWCNtRVFHC",
        "colab": {
          "base_uri": "https://localhost:8080/"
        },
        "outputId": "e02a0fa1-85ec-4203-d1f1-361e2c9d157c"
      },
      "source": [
        "#testing\n",
        "compute_shortest_path_length(669354,1635354)"
      ],
      "execution_count": 18,
      "outputs": [
        {
          "output_type": "execute_result",
          "data": {
            "text/plain": [
              "-1"
            ]
          },
          "metadata": {},
          "execution_count": 18
        }
      ]
    },
    {
      "cell_type": "markdown",
      "metadata": {
        "id": "baE_95bzVFHF"
      },
      "source": [
        "## 4.2 Checking for same community"
      ]
    },
    {
      "cell_type": "code",
      "metadata": {
        "id": "15CIQqAbVFHG"
      },
      "source": [
        "#getting weekly connected edges from graph \n",
        "wcc=list(nx.weakly_connected_components(train_graph))\n",
        "def belongs_to_same_wcc(a,b):\n",
        "    index = []\n",
        "    if train_graph.has_edge(b,a):\n",
        "        return 1\n",
        "    if train_graph.has_edge(a,b):\n",
        "            for i in wcc:\n",
        "                if a in i:\n",
        "                    index= i\n",
        "                    break\n",
        "            if (b in index):\n",
        "                train_graph.remove_edge(a,b)\n",
        "                if compute_shortest_path_length(a,b)==-1:\n",
        "                    train_graph.add_edge(a,b)\n",
        "                    return 0\n",
        "                else:\n",
        "                    train_graph.add_edge(a,b)\n",
        "                    return 1\n",
        "            else:\n",
        "                return 0\n",
        "    else:\n",
        "            for i in wcc:\n",
        "                if a in i:\n",
        "                    index= i\n",
        "                    break\n",
        "            if(b in index):\n",
        "                return 1\n",
        "            else:\n",
        "                return 0"
      ],
      "execution_count": 15,
      "outputs": []
    },
    {
      "cell_type": "code",
      "metadata": {
        "id": "fAzOHtCFVFHI",
        "colab": {
          "base_uri": "https://localhost:8080/"
        },
        "outputId": "d0efe7e4-d90a-4df9-926b-ec33d3f59dfb"
      },
      "source": [
        "belongs_to_same_wcc(861, 1659750)"
      ],
      "execution_count": 21,
      "outputs": [
        {
          "output_type": "execute_result",
          "data": {
            "text/plain": [
              "0"
            ]
          },
          "metadata": {},
          "execution_count": 21
        }
      ]
    },
    {
      "cell_type": "code",
      "metadata": {
        "id": "HMdYpPuGVFHK",
        "colab": {
          "base_uri": "https://localhost:8080/"
        },
        "outputId": "010a77fb-200e-45b2-917c-1d7cf4216a9d"
      },
      "source": [
        "belongs_to_same_wcc(669354,1635354)"
      ],
      "execution_count": 22,
      "outputs": [
        {
          "output_type": "execute_result",
          "data": {
            "text/plain": [
              "0"
            ]
          },
          "metadata": {},
          "execution_count": 22
        }
      ]
    },
    {
      "cell_type": "markdown",
      "metadata": {
        "id": "q74nth0OVFHN"
      },
      "source": [
        "## 4.3 Adamic/Adar Index:\n",
        "Adamic/Adar measures is defined as inverted sum of degrees of common neighbours for given two vertices.\n",
        "$$A(x,y)=\\sum_{u \\in N(x) \\cap N(y)}\\frac{1}{log(|N(u)|)}$$"
      ]
    },
    {
      "cell_type": "code",
      "metadata": {
        "id": "CeS98LI5VFHO"
      },
      "source": [
        "#adar index\n",
        "def calc_adar_in(a,b):\n",
        "    sum=0\n",
        "    try:\n",
        "        n=list(set(train_graph.successors(a)).intersection(set(train_graph.successors(b))))\n",
        "        if len(n)!=0:\n",
        "            for i in n:\n",
        "                sum=sum+(1/np.log10(len(list(train_graph.predecessors(i)))))\n",
        "            return sum\n",
        "        else:\n",
        "            return 0\n",
        "    except:\n",
        "        return 0"
      ],
      "execution_count": 16,
      "outputs": []
    },
    {
      "cell_type": "code",
      "metadata": {
        "id": "KezFeRmyVFHQ",
        "colab": {
          "base_uri": "https://localhost:8080/"
        },
        "outputId": "ec22c892-0465-43d2-9219-7e8d5bfa1419"
      },
      "source": [
        "calc_adar_in(1,189226)"
      ],
      "execution_count": 24,
      "outputs": [
        {
          "output_type": "execute_result",
          "data": {
            "text/plain": [
              "0"
            ]
          },
          "metadata": {},
          "execution_count": 24
        }
      ]
    },
    {
      "cell_type": "code",
      "metadata": {
        "id": "vj_m89bBVFHV",
        "colab": {
          "base_uri": "https://localhost:8080/"
        },
        "outputId": "d4d3da4b-0efe-498d-ad89-6717a2a61195"
      },
      "source": [
        "calc_adar_in(669354,1635354)"
      ],
      "execution_count": 25,
      "outputs": [
        {
          "output_type": "execute_result",
          "data": {
            "text/plain": [
              "0"
            ]
          },
          "metadata": {},
          "execution_count": 25
        }
      ]
    },
    {
      "cell_type": "markdown",
      "metadata": {
        "id": "pBUudhFAVFHY"
      },
      "source": [
        "## 4.4 Is persion was following back:"
      ]
    },
    {
      "cell_type": "code",
      "metadata": {
        "id": "j_mwmopLVFHZ"
      },
      "source": [
        "def follows_back(a,b):\n",
        "    if train_graph.has_edge(b,a):\n",
        "        return 1\n",
        "    else:\n",
        "        return 0"
      ],
      "execution_count": 17,
      "outputs": []
    },
    {
      "cell_type": "code",
      "metadata": {
        "id": "LdjUXIfbVFHb",
        "colab": {
          "base_uri": "https://localhost:8080/"
        },
        "outputId": "d30a7166-8b67-4787-acff-6a6c70ee6df7"
      },
      "source": [
        "follows_back(1,189226)"
      ],
      "execution_count": 27,
      "outputs": [
        {
          "output_type": "execute_result",
          "data": {
            "text/plain": [
              "1"
            ]
          },
          "metadata": {},
          "execution_count": 27
        }
      ]
    },
    {
      "cell_type": "code",
      "metadata": {
        "id": "PmZtL65YVFHf",
        "colab": {
          "base_uri": "https://localhost:8080/"
        },
        "outputId": "97e2a686-4c98-4676-a1ec-4e4e8cb9dab8"
      },
      "source": [
        "follows_back(669354,1635354)"
      ],
      "execution_count": 28,
      "outputs": [
        {
          "output_type": "execute_result",
          "data": {
            "text/plain": [
              "0"
            ]
          },
          "metadata": {},
          "execution_count": 28
        }
      ]
    },
    {
      "cell_type": "markdown",
      "metadata": {
        "id": "29Vrq2EXVFHi"
      },
      "source": [
        "## 4.5 Katz Centrality:\n",
        "https://en.wikipedia.org/wiki/Katz_centrality\n",
        "\n",
        "https://www.geeksforgeeks.org/katz-centrality-centrality-measure/\n",
        " Katz centrality computes the centrality for a node \n",
        "    based on the centrality of its neighbors. It is a \n",
        "    generalization of the eigenvector centrality. The\n",
        "    Katz centrality for node `i` is\n",
        " \n",
        "$$x_i = \\alpha \\sum_{j} A_{ij} x_j + \\beta,$$\n",
        "where `A` is the adjacency matrix of the graph G \n",
        "with eigenvalues $$\\lambda$$.\n",
        "\n",
        "The parameter $$\\beta$$ controls the initial centrality and \n",
        "\n",
        "$$\\alpha < \\frac{1}{\\lambda_{max}}.$$"
      ]
    },
    {
      "cell_type": "code",
      "metadata": {
        "id": "CN5OSqrkVFHj"
      },
      "source": [
        "if not os.path.isfile('/content/drive/MyDrive/Facebook/data/fea_sample/katz.p'):\n",
        "    katz = nx.katz.katz_centrality(train_graph,alpha=0.005,beta=1)\n",
        "    pickle.dump(katz,open('/content/drive/MyDrive/Facebook/data/fea_sample/katz.p','wb'))\n",
        "else:\n",
        "    katz = pickle.load(open('/content/drive/MyDrive/Facebook/data/fea_sample/katz.p','rb'))"
      ],
      "execution_count": null,
      "outputs": []
    },
    {
      "cell_type": "code",
      "metadata": {
        "id": "gcU83vw7VFHm",
        "colab": {
          "base_uri": "https://localhost:8080/"
        },
        "outputId": "fad7ed5c-9f84-41d3-c9e1-8c4bcad3a2d1"
      },
      "source": [
        "print('min',katz[min(katz, key=katz.get)])\n",
        "print('max',katz[max(katz, key=katz.get)])\n",
        "print('mean',float(sum(katz.values())) / len(katz))"
      ],
      "execution_count": 27,
      "outputs": [
        {
          "output_type": "stream",
          "name": "stdout",
          "text": [
            "min 0.0007313532484065916\n",
            "max 0.003394554981699122\n",
            "mean 0.0007483800935562018\n"
          ]
        }
      ]
    },
    {
      "cell_type": "code",
      "metadata": {
        "id": "qcboIksiVFHt",
        "colab": {
          "base_uri": "https://localhost:8080/"
        },
        "outputId": "74473ace-b10c-4938-9e25-e19e666e8756"
      },
      "source": [
        "mean_katz = float(sum(katz.values())) / len(katz)\n",
        "print(mean_katz)"
      ],
      "execution_count": 28,
      "outputs": [
        {
          "output_type": "stream",
          "name": "stdout",
          "text": [
            "0.0007483800935562018\n"
          ]
        }
      ]
    },
    {
      "cell_type": "markdown",
      "metadata": {
        "id": "SRZqGFgYVFHx"
      },
      "source": [
        "## 4.6 Hits Score\n",
        "The HITS algorithm computes two numbers for a node. Authorities estimates the node value based on the incoming links. Hubs estimates the node value based on outgoing links.\n",
        "\n",
        "https://en.wikipedia.org/wiki/HITS_algorithm"
      ]
    },
    {
      "cell_type": "code",
      "metadata": {
        "id": "WXNHRdzUVFHz"
      },
      "source": [
        "if not os.path.isfile('/content/drive/MyDrive/Facebook/data/fea_sample/hits.p'):\n",
        "    hits = nx.hits(train_graph, max_iter=100, tol=1e-08, nstart=None, normalized=True)\n",
        "    pickle.dump(hits,open('/content/drive/MyDrive/Facebook/data/fea_sample/hits.p','wb'))\n",
        "else:\n",
        "    hits = pickle.load(open('/content/drive/MyDrive/Facebook/data/fea_sample/hits.p','rb'))"
      ],
      "execution_count": 24,
      "outputs": []
    },
    {
      "cell_type": "code",
      "metadata": {
        "id": "PSUwSZBVVFH3",
        "colab": {
          "base_uri": "https://localhost:8080/"
        },
        "outputId": "61e78597-8507-4174-9a80-c0692ca66170"
      },
      "source": [
        "print('min',hits[0][min(hits[0], key=hits[0].get)])\n",
        "print('max',hits[0][max(hits[0], key=hits[0].get)])\n",
        "print('mean',float(sum(hits[0].values())) / len(hits[0]))"
      ],
      "execution_count": 25,
      "outputs": [
        {
          "output_type": "stream",
          "name": "stdout",
          "text": [
            "min 0.0\n",
            "max 0.004868653378780953\n",
            "mean 5.615699699344123e-07\n"
          ]
        }
      ]
    },
    {
      "cell_type": "markdown",
      "metadata": {
        "id": "ZZtowOLZVFH6"
      },
      "source": [
        "# 5. Featurization"
      ]
    },
    {
      "cell_type": "markdown",
      "metadata": {
        "id": "o6NnRWmLVFH6"
      },
      "source": [
        "## 5. 1 Reading a sample of Data from both train and test"
      ]
    },
    {
      "cell_type": "code",
      "metadata": {
        "colab": {
          "base_uri": "https://localhost:8080/"
        },
        "id": "Mo3zTyJEq4zt",
        "outputId": "eb348527-1da6-42d0-fe4e-041447c4361f"
      },
      "source": [
        "! gdown --id 1lcxzVZ0-MkPmoH3lS35Q8rRfrecKSXb1\n",
        "! gdown --id 1_KN7S8zfHdrkRjRYOEtBxBVq8JrGxPXD"
      ],
      "execution_count": 29,
      "outputs": [
        {
          "output_type": "stream",
          "name": "stdout",
          "text": [
            "Downloading...\n",
            "From: https://drive.google.com/uc?id=1lcxzVZ0-MkPmoH3lS35Q8rRfrecKSXb1\n",
            "To: /content/train_after_eda.csv\n",
            "239MB [00:01, 149MB/s]\n",
            "Downloading...\n",
            "From: https://drive.google.com/uc?id=1_KN7S8zfHdrkRjRYOEtBxBVq8JrGxPXD\n",
            "To: /content/test_after_eda.csv\n",
            "59.7MB [00:00, 115MB/s] \n"
          ]
        }
      ]
    },
    {
      "cell_type": "code",
      "metadata": {
        "id": "wgHje1UVVFH8"
      },
      "source": [
        "import random\n",
        "if os.path.isfile('train_after_eda.csv'):\n",
        "    filename = \"train_after_eda.csv\"\n",
        "    # you uncomment this line, if you dont know the lentgh of the file name\n",
        "    # here we have hardcoded the number of lines as 15100030\n",
        "    # n_train = sum(1 for line in open(filename)) #number of records in file (excludes header)\n",
        "    n_train =  15100028\n",
        "    s = 100000 #desired sample size\n",
        "    skip_train = sorted(random.sample(range(1,n_train+1),n_train-s))\n",
        "    #https://stackoverflow.com/a/22259008/4084039"
      ],
      "execution_count": 30,
      "outputs": []
    },
    {
      "cell_type": "code",
      "metadata": {
        "id": "zOzuRFFlVFH-"
      },
      "source": [
        "if os.path.isfile('train_after_eda.csv'):\n",
        "    filename = \"test_after_eda.csv\"\n",
        "    # you uncomment this line, if you dont know the lentgh of the file name\n",
        "    # here we have hardcoded the number of lines as 3775008\n",
        "    # n_test = sum(1 for line in open(filename)) #number of records in file (excludes header)\n",
        "    n_test = 3775006\n",
        "    s = 50000 #desired sample size\n",
        "    skip_test = sorted(random.sample(range(1,n_test+1),n_test-s))\n",
        "    #https://stackoverflow.com/a/22259008/4084039"
      ],
      "execution_count": 31,
      "outputs": []
    },
    {
      "cell_type": "code",
      "metadata": {
        "id": "3D_SeUCOVFH_",
        "colab": {
          "base_uri": "https://localhost:8080/"
        },
        "outputId": "3238c9ff-3e6b-40be-9210-c6dcddab83a7"
      },
      "source": [
        "print(\"Number of rows in the train data file:\", n_train)\n",
        "print(\"Number of rows we are going to elimiate in train data are\",len(skip_train))\n",
        "print(\"Number of rows in the test data file:\", n_test)\n",
        "print(\"Number of rows we are going to elimiate in test data are\",len(skip_test))"
      ],
      "execution_count": 32,
      "outputs": [
        {
          "output_type": "stream",
          "name": "stdout",
          "text": [
            "Number of rows in the train data file: 15100028\n",
            "Number of rows we are going to elimiate in train data are 15000028\n",
            "Number of rows in the test data file: 3775006\n",
            "Number of rows we are going to elimiate in test data are 3725006\n"
          ]
        }
      ]
    },
    {
      "cell_type": "code",
      "metadata": {
        "colab": {
          "base_uri": "https://localhost:8080/"
        },
        "id": "jNDlBAzxr-2I",
        "outputId": "9b73bead-8086-41b5-8a69-974027132a84"
      },
      "source": [
        "#https://drive.google.com/file/d/19mviN_yeJIfakb4kU5NfKdQlOQtaQ-kH/view?usp=sharing\n",
        "!gdown --id 19mviN_yeJIfakb4kU5NfKdQlOQtaQ-kH"
      ],
      "execution_count": 33,
      "outputs": [
        {
          "output_type": "stream",
          "name": "stdout",
          "text": [
            "Downloading...\n",
            "From: https://drive.google.com/uc?id=19mviN_yeJIfakb4kU5NfKdQlOQtaQ-kH\n",
            "To: /content/train_y.csv\n",
            "45.3MB [00:00, 124MB/s]\n"
          ]
        }
      ]
    },
    {
      "cell_type": "code",
      "metadata": {
        "colab": {
          "base_uri": "https://localhost:8080/"
        },
        "id": "HEpR_FLu2VWM",
        "outputId": "88f85596-b082-4712-9a33-75a3423fc10f"
      },
      "source": [
        "#https://drive.google.com/file/d/1H6qybuXr8i_USWu3k3ulXEOurc-SElUh/view?usp=sharing\n",
        "!gdown --id 1H6qybuXr8i_USWu3k3ulXEOurc-SElUh"
      ],
      "execution_count": 34,
      "outputs": [
        {
          "output_type": "stream",
          "name": "stdout",
          "text": [
            "Downloading...\n",
            "From: https://drive.google.com/uc?id=1H6qybuXr8i_USWu3k3ulXEOurc-SElUh\n",
            "To: /content/test_y.csv\n",
            "\r0.00B [00:00, ?B/s]\r11.3MB [00:00, 99.1MB/s]\n"
          ]
        }
      ]
    },
    {
      "cell_type": "code",
      "metadata": {
        "id": "pCisf6PpVFID",
        "colab": {
          "base_uri": "https://localhost:8080/",
          "height": 127
        },
        "outputId": "a479af13-8e68-4e78-cb33-dcafe653edb9"
      },
      "source": [
        "df_final_train = pd.read_csv('train_after_eda.csv', skiprows=skip_train, names=['source_node', 'destination_node'])\n",
        "df_final_train['indicator_link'] = pd.read_csv('train_y.csv', skiprows=skip_train, names=['indicator_link'])\n",
        "print(\"Our train matrix size \",df_final_train.shape)\n",
        "df_final_train.head(2)"
      ],
      "execution_count": 35,
      "outputs": [
        {
          "output_type": "stream",
          "name": "stdout",
          "text": [
            "Our train matrix size  (100002, 3)\n"
          ]
        },
        {
          "output_type": "execute_result",
          "data": {
            "text/html": [
              "<div>\n",
              "<style scoped>\n",
              "    .dataframe tbody tr th:only-of-type {\n",
              "        vertical-align: middle;\n",
              "    }\n",
              "\n",
              "    .dataframe tbody tr th {\n",
              "        vertical-align: top;\n",
              "    }\n",
              "\n",
              "    .dataframe thead th {\n",
              "        text-align: right;\n",
              "    }\n",
              "</style>\n",
              "<table border=\"1\" class=\"dataframe\">\n",
              "  <thead>\n",
              "    <tr style=\"text-align: right;\">\n",
              "      <th></th>\n",
              "      <th>source_node</th>\n",
              "      <th>destination_node</th>\n",
              "      <th>indicator_link</th>\n",
              "    </tr>\n",
              "  </thead>\n",
              "  <tbody>\n",
              "    <tr>\n",
              "      <th>0</th>\n",
              "      <td>273084</td>\n",
              "      <td>1505602</td>\n",
              "      <td>1</td>\n",
              "    </tr>\n",
              "    <tr>\n",
              "      <th>1</th>\n",
              "      <td>1452769</td>\n",
              "      <td>154251</td>\n",
              "      <td>1</td>\n",
              "    </tr>\n",
              "  </tbody>\n",
              "</table>\n",
              "</div>"
            ],
            "text/plain": [
              "   source_node  destination_node  indicator_link\n",
              "0       273084           1505602               1\n",
              "1      1452769            154251               1"
            ]
          },
          "metadata": {},
          "execution_count": 35
        }
      ]
    },
    {
      "cell_type": "code",
      "metadata": {
        "colab": {
          "base_uri": "https://localhost:8080/",
          "height": 127
        },
        "id": "FHmdATpp3B9L",
        "outputId": "4db74fd0-e401-4a31-9577-f50ad68a1eba"
      },
      "source": [
        "df_final_test = pd.read_csv('test_after_eda.csv', skiprows=skip_train, names=['source_node', 'destination_node'])\n",
        "df_final_test['indicator_link'] = pd.read_csv('test_y.csv', skiprows=skip_train, names=['indicator_link'])\n",
        "print(\"Our train matrix size \",df_final_test.shape)\n",
        "df_final_test.head(2)"
      ],
      "execution_count": 36,
      "outputs": [
        {
          "output_type": "stream",
          "name": "stdout",
          "text": [
            "Our train matrix size  (25073, 3)\n"
          ]
        },
        {
          "output_type": "execute_result",
          "data": {
            "text/html": [
              "<div>\n",
              "<style scoped>\n",
              "    .dataframe tbody tr th:only-of-type {\n",
              "        vertical-align: middle;\n",
              "    }\n",
              "\n",
              "    .dataframe tbody tr th {\n",
              "        vertical-align: top;\n",
              "    }\n",
              "\n",
              "    .dataframe thead th {\n",
              "        text-align: right;\n",
              "    }\n",
              "</style>\n",
              "<table border=\"1\" class=\"dataframe\">\n",
              "  <thead>\n",
              "    <tr style=\"text-align: right;\">\n",
              "      <th></th>\n",
              "      <th>source_node</th>\n",
              "      <th>destination_node</th>\n",
              "      <th>indicator_link</th>\n",
              "    </tr>\n",
              "  </thead>\n",
              "  <tbody>\n",
              "    <tr>\n",
              "      <th>0</th>\n",
              "      <td>848424</td>\n",
              "      <td>784690</td>\n",
              "      <td>1</td>\n",
              "    </tr>\n",
              "    <tr>\n",
              "      <th>1</th>\n",
              "      <td>1441135</td>\n",
              "      <td>977791</td>\n",
              "      <td>1</td>\n",
              "    </tr>\n",
              "  </tbody>\n",
              "</table>\n",
              "</div>"
            ],
            "text/plain": [
              "   source_node  destination_node  indicator_link\n",
              "0       848424            784690               1\n",
              "1      1441135            977791               1"
            ]
          },
          "metadata": {},
          "execution_count": 36
        }
      ]
    },
    {
      "cell_type": "markdown",
      "metadata": {
        "id": "gIaOWDaDVFIJ"
      },
      "source": [
        "## 5.2 Adding a set of features\n",
        "\n",
        "__we will create these each of these features for both train and test data points__\n",
        "<ol>\n",
        "<li>jaccard_followers</li>\n",
        "<li>jaccard_followees</li>\n",
        "<li>cosine_followers</li>\n",
        "<li>cosine_followees</li>\n",
        "<li>num_followers_s</li>\n",
        "<li>num_followees_s</li>\n",
        "<li>num_followers_d</li>\n",
        "<li>num_followees_d</li>\n",
        "<li>inter_followers</li>\n",
        "<li>inter_followees</li>\n",
        "</ol>"
      ]
    },
    {
      "cell_type": "code",
      "metadata": {
        "id": "fz2eZpSnVFIL"
      },
      "source": [
        "def compute_features_stage1(df_final):\n",
        "    #calculating no of followers followees for source and destination\n",
        "    #calculating intersection of followers and followees for source and destination\n",
        "    num_followers_s=[]\n",
        "    num_followees_s=[]\n",
        "    num_followers_d=[]\n",
        "    num_followees_d=[]\n",
        "    inter_followers=[]\n",
        "    inter_followees=[]\n",
        "    for i,row in df_final.iterrows():\n",
        "        try:\n",
        "            s1=set(train_graph.predecessors(row['source_node']))\n",
        "            s2=set(train_graph.successors(row['source_node']))\n",
        "        except:\n",
        "            s1 = set()\n",
        "            s2 = set()\n",
        "        try:\n",
        "            d1=set(train_graph.predecessors(row['destination_node']))\n",
        "            d2=set(train_graph.successors(row['destination_node']))\n",
        "        except:\n",
        "            d1 = set()\n",
        "            d2 = set()\n",
        "        num_followers_s.append(len(s1))\n",
        "        num_followees_s.append(len(s2))\n",
        "\n",
        "        num_followers_d.append(len(d1))\n",
        "        num_followees_d.append(len(d2))\n",
        "\n",
        "        inter_followers.append(len(s1.intersection(d1)))\n",
        "        inter_followees.append(len(s2.intersection(d2)))\n",
        "    \n",
        "    return  num_followers_s,num_followees_s,num_followers_d,num_followees_d,inter_followers,inter_followees"
      ],
      "execution_count": 37,
      "outputs": []
    },
    {
      "cell_type": "code",
      "metadata": {
        "id": "VFc60kcRVFIN"
      },
      "source": [
        "if not os.path.isfile('/content/drive/MyDrive/Facebook/data/fea_sample/storage_sample_stage1.h5'):\n",
        "    df_final_train['num_followers_s'], df_final_train['num_followers_d'], \\\n",
        "    df_final_train['num_followees_s'], df_final_train['num_followees_d'], \\\n",
        "    df_final_train['inter_followers'], df_final_train['inter_followees']= compute_features_stage1(df_final_train)\n",
        "    \n",
        "    df_final_test['num_followers_s'], df_final_test['num_followers_d'], \\\n",
        "    df_final_test['num_followees_s'], df_final_test['num_followees_d'], \\\n",
        "    df_final_test['inter_followers'], df_final_test['inter_followees']= compute_features_stage1(df_final_test)\n",
        "    \n",
        "    hdf = HDFStore('storage_sample_stage1.h5')\n",
        "    hdf.put('train_df',df_final_train, format='table', data_columns=True)\n",
        "    hdf.put('test_df',df_final_test, format='table', data_columns=True)\n",
        "    hdf.close()\n",
        "else:\n",
        "    df_final_train = read_hdf('/content/drive/MyDrive/Facebook/data/fea_sample/storage_sample_stage1.h5', 'train_df',mode='r')\n",
        "    df_final_test = read_hdf('/content/drive/MyDrive/Facebook/data/fea_sample/storage_sample_stage1.h5', 'test_df',mode='r')"
      ],
      "execution_count": null,
      "outputs": []
    },
    {
      "cell_type": "code",
      "metadata": {
        "id": "qqp2AvDRtEBN",
        "colab": {
          "base_uri": "https://localhost:8080/",
          "height": 223
        },
        "outputId": "2719389f-5597-4dd2-9a5f-d6469ea80be2"
      },
      "source": [
        "df_final_train = read_hdf('/content/drive/MyDrive/Facebook/data/fea_sample/storage_sample_stage1.h5', 'train_df',mode='r')\n",
        "df_final_test = read_hdf('/content/drive/MyDrive/Facebook/data/fea_sample/storage_sample_stage1.h5', 'test_df',mode='r')\n",
        "df_final_train.head()\n"
      ],
      "execution_count": 41,
      "outputs": [
        {
          "output_type": "execute_result",
          "data": {
            "text/html": [
              "<div>\n",
              "<style scoped>\n",
              "    .dataframe tbody tr th:only-of-type {\n",
              "        vertical-align: middle;\n",
              "    }\n",
              "\n",
              "    .dataframe tbody tr th {\n",
              "        vertical-align: top;\n",
              "    }\n",
              "\n",
              "    .dataframe thead th {\n",
              "        text-align: right;\n",
              "    }\n",
              "</style>\n",
              "<table border=\"1\" class=\"dataframe\">\n",
              "  <thead>\n",
              "    <tr style=\"text-align: right;\">\n",
              "      <th></th>\n",
              "      <th>source_node</th>\n",
              "      <th>destination_node</th>\n",
              "      <th>indicator_link</th>\n",
              "      <th>jaccard_followers</th>\n",
              "      <th>jaccard_followees</th>\n",
              "      <th>cosine_followers</th>\n",
              "      <th>cosine_followees</th>\n",
              "      <th>num_followers_s</th>\n",
              "      <th>num_followees_s</th>\n",
              "      <th>num_followees_d</th>\n",
              "      <th>inter_followers</th>\n",
              "      <th>inter_followees</th>\n",
              "    </tr>\n",
              "  </thead>\n",
              "  <tbody>\n",
              "    <tr>\n",
              "      <th>0</th>\n",
              "      <td>273084</td>\n",
              "      <td>1505602</td>\n",
              "      <td>1</td>\n",
              "      <td>0</td>\n",
              "      <td>0.000000</td>\n",
              "      <td>0.000000</td>\n",
              "      <td>0.000000</td>\n",
              "      <td>6</td>\n",
              "      <td>15</td>\n",
              "      <td>8</td>\n",
              "      <td>0</td>\n",
              "      <td>0</td>\n",
              "    </tr>\n",
              "    <tr>\n",
              "      <th>1</th>\n",
              "      <td>832016</td>\n",
              "      <td>1543415</td>\n",
              "      <td>1</td>\n",
              "      <td>0</td>\n",
              "      <td>0.187135</td>\n",
              "      <td>0.028382</td>\n",
              "      <td>0.343828</td>\n",
              "      <td>94</td>\n",
              "      <td>61</td>\n",
              "      <td>142</td>\n",
              "      <td>11</td>\n",
              "      <td>32</td>\n",
              "    </tr>\n",
              "    <tr>\n",
              "      <th>2</th>\n",
              "      <td>1325247</td>\n",
              "      <td>760242</td>\n",
              "      <td>1</td>\n",
              "      <td>0</td>\n",
              "      <td>0.369565</td>\n",
              "      <td>0.156957</td>\n",
              "      <td>0.566038</td>\n",
              "      <td>28</td>\n",
              "      <td>41</td>\n",
              "      <td>22</td>\n",
              "      <td>26</td>\n",
              "      <td>17</td>\n",
              "    </tr>\n",
              "    <tr>\n",
              "      <th>3</th>\n",
              "      <td>1368400</td>\n",
              "      <td>1006992</td>\n",
              "      <td>1</td>\n",
              "      <td>0</td>\n",
              "      <td>0.000000</td>\n",
              "      <td>0.000000</td>\n",
              "      <td>0.000000</td>\n",
              "      <td>11</td>\n",
              "      <td>5</td>\n",
              "      <td>7</td>\n",
              "      <td>0</td>\n",
              "      <td>0</td>\n",
              "    </tr>\n",
              "    <tr>\n",
              "      <th>4</th>\n",
              "      <td>140165</td>\n",
              "      <td>1708748</td>\n",
              "      <td>1</td>\n",
              "      <td>0</td>\n",
              "      <td>0.000000</td>\n",
              "      <td>0.000000</td>\n",
              "      <td>0.000000</td>\n",
              "      <td>1</td>\n",
              "      <td>11</td>\n",
              "      <td>3</td>\n",
              "      <td>0</td>\n",
              "      <td>0</td>\n",
              "    </tr>\n",
              "  </tbody>\n",
              "</table>\n",
              "</div>"
            ],
            "text/plain": [
              "   source_node  destination_node  ...  inter_followers  inter_followees\n",
              "0       273084           1505602  ...                0                0\n",
              "1       832016           1543415  ...               11               32\n",
              "2      1325247            760242  ...               26               17\n",
              "3      1368400           1006992  ...                0                0\n",
              "4       140165           1708748  ...                0                0\n",
              "\n",
              "[5 rows x 12 columns]"
            ]
          },
          "metadata": {},
          "execution_count": 41
        }
      ]
    },
    {
      "cell_type": "code",
      "metadata": {
        "id": "nmlHS_b1s9U0"
      },
      "source": [
        "a=df_final_train['num_followers_s'].values\n",
        "b=df_final_train['num_followers_d'].values\n",
        "for x,y in (zip(a,b)):\n",
        "  if x==0:\n",
        "    if y!=0:\n",
        "      print('i')\n"
      ],
      "execution_count": null,
      "outputs": []
    },
    {
      "cell_type": "code",
      "metadata": {
        "colab": {
          "base_uri": "https://localhost:8080/"
        },
        "id": "gQ2K9CKg3ie9",
        "outputId": "1bb101b9-a4a2-4d22-da18-be7f9df87e7e"
      },
      "source": [
        "np.count_nonzero(a)"
      ],
      "execution_count": null,
      "outputs": [
        {
          "output_type": "execute_result",
          "data": {
            "text/plain": [
              "0"
            ]
          },
          "metadata": {
            "tags": []
          },
          "execution_count": 17
        }
      ]
    },
    {
      "cell_type": "code",
      "metadata": {
        "colab": {
          "base_uri": "https://localhost:8080/"
        },
        "id": "9ijFg1Au3v8y",
        "outputId": "e6dd441e-ef61-4b87-f1e2-2fcf1e83357c"
      },
      "source": [
        "np.count_nonzero(b)"
      ],
      "execution_count": null,
      "outputs": [
        {
          "output_type": "execute_result",
          "data": {
            "text/plain": [
              "0"
            ]
          },
          "metadata": {
            "tags": []
          },
          "execution_count": 19
        }
      ]
    },
    {
      "cell_type": "code",
      "metadata": {
        "id": "BTXM6tQDuJNX"
      },
      "source": [
        "# ! gdown --id 1fDJptlCFEWNV5UNGPc4geTykgFI3PDCV"
      ],
      "execution_count": 43,
      "outputs": []
    },
    {
      "cell_type": "code",
      "metadata": {
        "id": "ieta0SZ2uYIB"
      },
      "source": [
        "# df_final_train = read_hdf('storage_sample_stage4.h5', 'train_df',mode='r')\n",
        "# df_final_test = read_hdf('storage_sample_stage4.h5', 'test_df',mode='r')"
      ],
      "execution_count": null,
      "outputs": []
    },
    {
      "cell_type": "code",
      "metadata": {
        "colab": {
          "base_uri": "https://localhost:8080/",
          "height": 313
        },
        "id": "w3lzSMPnuYLO",
        "outputId": "2d190c65-0569-4cf7-a175-65ebd3b00fff"
      },
      "source": [
        "# df_final_train.tail()"
      ],
      "execution_count": null,
      "outputs": [
        {
          "output_type": "execute_result",
          "data": {
            "text/html": [
              "<div>\n",
              "<style scoped>\n",
              "    .dataframe tbody tr th:only-of-type {\n",
              "        vertical-align: middle;\n",
              "    }\n",
              "\n",
              "    .dataframe tbody tr th {\n",
              "        vertical-align: top;\n",
              "    }\n",
              "\n",
              "    .dataframe thead th {\n",
              "        text-align: right;\n",
              "    }\n",
              "</style>\n",
              "<table border=\"1\" class=\"dataframe\">\n",
              "  <thead>\n",
              "    <tr style=\"text-align: right;\">\n",
              "      <th></th>\n",
              "      <th>source_node</th>\n",
              "      <th>destination_node</th>\n",
              "      <th>indicator_link</th>\n",
              "      <th>jaccard_followers</th>\n",
              "      <th>jaccard_followees</th>\n",
              "      <th>cosine_followers</th>\n",
              "      <th>cosine_followees</th>\n",
              "      <th>num_followers_s</th>\n",
              "      <th>num_followees_s</th>\n",
              "      <th>num_followees_d</th>\n",
              "      <th>inter_followers</th>\n",
              "      <th>inter_followees</th>\n",
              "      <th>adar_index</th>\n",
              "      <th>follows_back</th>\n",
              "      <th>same_comp</th>\n",
              "      <th>shortest_path</th>\n",
              "      <th>weight_in</th>\n",
              "      <th>weight_out</th>\n",
              "      <th>weight_f1</th>\n",
              "      <th>weight_f2</th>\n",
              "      <th>weight_f3</th>\n",
              "      <th>weight_f4</th>\n",
              "      <th>page_rank_s</th>\n",
              "      <th>page_rank_d</th>\n",
              "      <th>katz_s</th>\n",
              "      <th>katz_d</th>\n",
              "      <th>hubs_s</th>\n",
              "      <th>hubs_d</th>\n",
              "      <th>authorities_s</th>\n",
              "      <th>authorities_d</th>\n",
              "      <th>svd_u_s_1</th>\n",
              "      <th>svd_u_s_2</th>\n",
              "      <th>svd_u_s_3</th>\n",
              "      <th>svd_u_s_4</th>\n",
              "      <th>svd_u_s_5</th>\n",
              "      <th>svd_u_s_6</th>\n",
              "      <th>svd_u_d_1</th>\n",
              "      <th>svd_u_d_2</th>\n",
              "      <th>svd_u_d_3</th>\n",
              "      <th>svd_u_d_4</th>\n",
              "      <th>svd_u_d_5</th>\n",
              "      <th>svd_u_d_6</th>\n",
              "      <th>svd_v_s_1</th>\n",
              "      <th>svd_v_s_2</th>\n",
              "      <th>svd_v_s_3</th>\n",
              "      <th>svd_v_s_4</th>\n",
              "      <th>svd_v_s_5</th>\n",
              "      <th>svd_v_s_6</th>\n",
              "      <th>svd_v_d_1</th>\n",
              "      <th>svd_v_d_2</th>\n",
              "      <th>svd_v_d_3</th>\n",
              "      <th>svd_v_d_4</th>\n",
              "      <th>svd_v_d_5</th>\n",
              "      <th>svd_v_d_6</th>\n",
              "      <th>num_followers_d</th>\n",
              "    </tr>\n",
              "  </thead>\n",
              "  <tbody>\n",
              "    <tr>\n",
              "      <th>99997</th>\n",
              "      <td>139353</td>\n",
              "      <td>893843</td>\n",
              "      <td>0</td>\n",
              "      <td>0</td>\n",
              "      <td>0.0</td>\n",
              "      <td>0.0</td>\n",
              "      <td>0.0</td>\n",
              "      <td>7</td>\n",
              "      <td>1</td>\n",
              "      <td>10</td>\n",
              "      <td>0</td>\n",
              "      <td>0</td>\n",
              "      <td>0.0</td>\n",
              "      <td>0</td>\n",
              "      <td>0</td>\n",
              "      <td>-1</td>\n",
              "      <td>0.353553</td>\n",
              "      <td>0.707107</td>\n",
              "      <td>1.060660</td>\n",
              "      <td>0.250000</td>\n",
              "      <td>1.414214</td>\n",
              "      <td>1.767767</td>\n",
              "      <td>1.655650e-07</td>\n",
              "      <td>7.746044e-07</td>\n",
              "      <td>0.000731</td>\n",
              "      <td>0.000763</td>\n",
              "      <td>0.000000e+00</td>\n",
              "      <td>2.622256e-15</td>\n",
              "      <td>0.000000e+00</td>\n",
              "      <td>3.937186e-15</td>\n",
              "      <td>-8.054752e-21</td>\n",
              "      <td>1.421835e-20</td>\n",
              "      <td>-1.478472e-20</td>\n",
              "      <td>-1.297495e-20</td>\n",
              "      <td>-1.017512e-20</td>\n",
              "      <td>-3.176253e-21</td>\n",
              "      <td>-2.192930e-11</td>\n",
              "      <td>4.968431e-13</td>\n",
              "      <td>5.969920e-06</td>\n",
              "      <td>1.545111e-12</td>\n",
              "      <td>8.401409e-12</td>\n",
              "      <td>4.837882e-14</td>\n",
              "      <td>0.000000e+00</td>\n",
              "      <td>0.000000e+00</td>\n",
              "      <td>0.000000e+00</td>\n",
              "      <td>0.000000e+00</td>\n",
              "      <td>0.000000e+00</td>\n",
              "      <td>0.000000e+00</td>\n",
              "      <td>-3.303718e-12</td>\n",
              "      <td>1.538318e-13</td>\n",
              "      <td>1.296745e-06</td>\n",
              "      <td>2.990887e-13</td>\n",
              "      <td>1.589668e-12</td>\n",
              "      <td>7.338551e-14</td>\n",
              "      <td>0</td>\n",
              "    </tr>\n",
              "    <tr>\n",
              "      <th>99998</th>\n",
              "      <td>910842</td>\n",
              "      <td>704068</td>\n",
              "      <td>0</td>\n",
              "      <td>0</td>\n",
              "      <td>0.0</td>\n",
              "      <td>0.0</td>\n",
              "      <td>0.0</td>\n",
              "      <td>0</td>\n",
              "      <td>4</td>\n",
              "      <td>1</td>\n",
              "      <td>0</td>\n",
              "      <td>0</td>\n",
              "      <td>0.0</td>\n",
              "      <td>0</td>\n",
              "      <td>1</td>\n",
              "      <td>-1</td>\n",
              "      <td>1.000000</td>\n",
              "      <td>0.447214</td>\n",
              "      <td>1.447214</td>\n",
              "      <td>0.447214</td>\n",
              "      <td>2.447214</td>\n",
              "      <td>1.894427</td>\n",
              "      <td>2.619498e-07</td>\n",
              "      <td>1.655650e-07</td>\n",
              "      <td>0.000739</td>\n",
              "      <td>0.000731</td>\n",
              "      <td>2.985245e-19</td>\n",
              "      <td>4.209193e-25</td>\n",
              "      <td>2.937528e-19</td>\n",
              "      <td>0.000000e+00</td>\n",
              "      <td>-1.896211e-14</td>\n",
              "      <td>7.978555e-14</td>\n",
              "      <td>4.544702e-13</td>\n",
              "      <td>2.878219e-13</td>\n",
              "      <td>4.151745e-12</td>\n",
              "      <td>5.545048e-18</td>\n",
              "      <td>9.285854e-20</td>\n",
              "      <td>7.876028e-20</td>\n",
              "      <td>2.108260e-19</td>\n",
              "      <td>3.535153e-20</td>\n",
              "      <td>7.796579e-21</td>\n",
              "      <td>-2.898171e-20</td>\n",
              "      <td>-9.013745e-14</td>\n",
              "      <td>3.090967e-15</td>\n",
              "      <td>1.336987e-12</td>\n",
              "      <td>4.493330e-15</td>\n",
              "      <td>4.528679e-14</td>\n",
              "      <td>5.475207e-18</td>\n",
              "      <td>0.000000e+00</td>\n",
              "      <td>0.000000e+00</td>\n",
              "      <td>0.000000e+00</td>\n",
              "      <td>0.000000e+00</td>\n",
              "      <td>0.000000e+00</td>\n",
              "      <td>0.000000e+00</td>\n",
              "      <td>0</td>\n",
              "    </tr>\n",
              "    <tr>\n",
              "      <th>99999</th>\n",
              "      <td>794228</td>\n",
              "      <td>1172755</td>\n",
              "      <td>0</td>\n",
              "      <td>0</td>\n",
              "      <td>0.0</td>\n",
              "      <td>0.0</td>\n",
              "      <td>0.0</td>\n",
              "      <td>0</td>\n",
              "      <td>5</td>\n",
              "      <td>1</td>\n",
              "      <td>0</td>\n",
              "      <td>0</td>\n",
              "      <td>0.0</td>\n",
              "      <td>0</td>\n",
              "      <td>1</td>\n",
              "      <td>-1</td>\n",
              "      <td>1.000000</td>\n",
              "      <td>0.408248</td>\n",
              "      <td>1.408248</td>\n",
              "      <td>0.408248</td>\n",
              "      <td>2.408248</td>\n",
              "      <td>1.816497</td>\n",
              "      <td>3.360416e-07</td>\n",
              "      <td>1.655650e-07</td>\n",
              "      <td>0.000743</td>\n",
              "      <td>0.000731</td>\n",
              "      <td>1.300126e-15</td>\n",
              "      <td>1.067222e-18</td>\n",
              "      <td>1.874225e-15</td>\n",
              "      <td>0.000000e+00</td>\n",
              "      <td>-1.996064e-11</td>\n",
              "      <td>4.440515e-14</td>\n",
              "      <td>9.932421e-09</td>\n",
              "      <td>6.889877e-13</td>\n",
              "      <td>3.037478e-13</td>\n",
              "      <td>2.398630e-14</td>\n",
              "      <td>-3.132587e-15</td>\n",
              "      <td>1.371651e-14</td>\n",
              "      <td>4.186120e-14</td>\n",
              "      <td>1.625085e-15</td>\n",
              "      <td>5.879546e-15</td>\n",
              "      <td>1.976197e-17</td>\n",
              "      <td>-9.792788e-10</td>\n",
              "      <td>1.600031e-13</td>\n",
              "      <td>2.154438e-11</td>\n",
              "      <td>1.566738e-12</td>\n",
              "      <td>2.294564e-13</td>\n",
              "      <td>3.493379e-14</td>\n",
              "      <td>0.000000e+00</td>\n",
              "      <td>0.000000e+00</td>\n",
              "      <td>0.000000e+00</td>\n",
              "      <td>0.000000e+00</td>\n",
              "      <td>0.000000e+00</td>\n",
              "      <td>0.000000e+00</td>\n",
              "      <td>0</td>\n",
              "    </tr>\n",
              "    <tr>\n",
              "      <th>100000</th>\n",
              "      <td>949992</td>\n",
              "      <td>1854931</td>\n",
              "      <td>0</td>\n",
              "      <td>0</td>\n",
              "      <td>0.0</td>\n",
              "      <td>0.0</td>\n",
              "      <td>0.0</td>\n",
              "      <td>1</td>\n",
              "      <td>2</td>\n",
              "      <td>0</td>\n",
              "      <td>0</td>\n",
              "      <td>0</td>\n",
              "      <td>0.0</td>\n",
              "      <td>0</td>\n",
              "      <td>1</td>\n",
              "      <td>10</td>\n",
              "      <td>0.707107</td>\n",
              "      <td>0.577350</td>\n",
              "      <td>1.284457</td>\n",
              "      <td>0.408248</td>\n",
              "      <td>1.991564</td>\n",
              "      <td>1.861807</td>\n",
              "      <td>2.848986e-07</td>\n",
              "      <td>3.246765e-07</td>\n",
              "      <td>0.000735</td>\n",
              "      <td>0.000735</td>\n",
              "      <td>1.003286e-17</td>\n",
              "      <td>0.000000e+00</td>\n",
              "      <td>1.428238e-17</td>\n",
              "      <td>1.871381e-21</td>\n",
              "      <td>-5.265417e-15</td>\n",
              "      <td>1.026814e-13</td>\n",
              "      <td>1.960640e-11</td>\n",
              "      <td>9.255098e-16</td>\n",
              "      <td>2.723477e-15</td>\n",
              "      <td>1.851237e-16</td>\n",
              "      <td>1.944182e-19</td>\n",
              "      <td>-2.015144e-19</td>\n",
              "      <td>2.204463e-19</td>\n",
              "      <td>1.680689e-19</td>\n",
              "      <td>1.344908e-19</td>\n",
              "      <td>1.727458e-20</td>\n",
              "      <td>-2.903545e-15</td>\n",
              "      <td>3.809135e-15</td>\n",
              "      <td>1.620187e-11</td>\n",
              "      <td>1.325874e-15</td>\n",
              "      <td>2.066643e-14</td>\n",
              "      <td>2.662102e-16</td>\n",
              "      <td>-1.142753e-17</td>\n",
              "      <td>5.200344e-17</td>\n",
              "      <td>3.858875e-15</td>\n",
              "      <td>2.173437e-17</td>\n",
              "      <td>2.241477e-16</td>\n",
              "      <td>3.528355e-20</td>\n",
              "      <td>0</td>\n",
              "    </tr>\n",
              "    <tr>\n",
              "      <th>100001</th>\n",
              "      <td>1642037</td>\n",
              "      <td>1090977</td>\n",
              "      <td>0</td>\n",
              "      <td>0</td>\n",
              "      <td>0.0</td>\n",
              "      <td>0.0</td>\n",
              "      <td>0.0</td>\n",
              "      <td>1</td>\n",
              "      <td>14</td>\n",
              "      <td>0</td>\n",
              "      <td>0</td>\n",
              "      <td>0</td>\n",
              "      <td>0.0</td>\n",
              "      <td>0</td>\n",
              "      <td>1</td>\n",
              "      <td>8</td>\n",
              "      <td>0.707107</td>\n",
              "      <td>0.258199</td>\n",
              "      <td>0.965306</td>\n",
              "      <td>0.182574</td>\n",
              "      <td>1.672412</td>\n",
              "      <td>1.223505</td>\n",
              "      <td>3.317631e-06</td>\n",
              "      <td>1.697892e-07</td>\n",
              "      <td>0.000792</td>\n",
              "      <td>0.000735</td>\n",
              "      <td>2.654093e-16</td>\n",
              "      <td>0.000000e+00</td>\n",
              "      <td>3.962767e-15</td>\n",
              "      <td>1.504913e-15</td>\n",
              "      <td>-9.675415e-08</td>\n",
              "      <td>5.380918e-12</td>\n",
              "      <td>1.058150e-09</td>\n",
              "      <td>4.493298e-13</td>\n",
              "      <td>2.880749e-11</td>\n",
              "      <td>4.896858e-15</td>\n",
              "      <td>-1.074557e-19</td>\n",
              "      <td>1.235671e-19</td>\n",
              "      <td>-1.240591e-19</td>\n",
              "      <td>-1.099916e-19</td>\n",
              "      <td>-7.405038e-20</td>\n",
              "      <td>-1.247210e-20</td>\n",
              "      <td>-3.070695e-12</td>\n",
              "      <td>9.899146e-11</td>\n",
              "      <td>7.778089e-09</td>\n",
              "      <td>8.005625e-13</td>\n",
              "      <td>9.429577e-11</td>\n",
              "      <td>7.386157e-14</td>\n",
              "      <td>-1.657134e-14</td>\n",
              "      <td>2.085059e-14</td>\n",
              "      <td>2.107704e-07</td>\n",
              "      <td>2.652994e-12</td>\n",
              "      <td>2.004727e-14</td>\n",
              "      <td>2.805020e-14</td>\n",
              "      <td>0</td>\n",
              "    </tr>\n",
              "  </tbody>\n",
              "</table>\n",
              "</div>"
            ],
            "text/plain": [
              "        source_node  destination_node  ...     svd_v_d_6  num_followers_d\n",
              "99997        139353            893843  ...  7.338551e-14                0\n",
              "99998        910842            704068  ...  0.000000e+00                0\n",
              "99999        794228           1172755  ...  0.000000e+00                0\n",
              "100000       949992           1854931  ...  3.528355e-20                0\n",
              "100001      1642037           1090977  ...  2.805020e-14                0\n",
              "\n",
              "[5 rows x 55 columns]"
            ]
          },
          "metadata": {
            "tags": []
          },
          "execution_count": 47
        }
      ]
    },
    {
      "cell_type": "code",
      "metadata": {
        "id": "wfGilwI4uYNY"
      },
      "source": [
        "# df_final_train_new=df_final_train.drop(['num_followers_s',\t'num_followees_s',\t'num_followees_d'\t,'inter_followers',\t'inter_followees'],axis=1)"
      ],
      "execution_count": null,
      "outputs": []
    },
    {
      "cell_type": "code",
      "metadata": {
        "id": "EM_b7uEhvdN1"
      },
      "source": [
        "# df_final_train['num_followers_d']= compute_features_stage1(df_final_train)"
      ],
      "execution_count": null,
      "outputs": []
    },
    {
      "cell_type": "code",
      "metadata": {
        "colab": {
          "base_uri": "https://localhost:8080/",
          "height": 313
        },
        "id": "_O8N_J5JuYPf",
        "outputId": "a08d6b41-134b-4e26-e533-9f405b351a49"
      },
      "source": [
        "# df_final_train.tail()"
      ],
      "execution_count": null,
      "outputs": [
        {
          "output_type": "execute_result",
          "data": {
            "text/html": [
              "<div>\n",
              "<style scoped>\n",
              "    .dataframe tbody tr th:only-of-type {\n",
              "        vertical-align: middle;\n",
              "    }\n",
              "\n",
              "    .dataframe tbody tr th {\n",
              "        vertical-align: top;\n",
              "    }\n",
              "\n",
              "    .dataframe thead th {\n",
              "        text-align: right;\n",
              "    }\n",
              "</style>\n",
              "<table border=\"1\" class=\"dataframe\">\n",
              "  <thead>\n",
              "    <tr style=\"text-align: right;\">\n",
              "      <th></th>\n",
              "      <th>source_node</th>\n",
              "      <th>destination_node</th>\n",
              "      <th>indicator_link</th>\n",
              "      <th>jaccard_followers</th>\n",
              "      <th>jaccard_followees</th>\n",
              "      <th>cosine_followers</th>\n",
              "      <th>cosine_followees</th>\n",
              "      <th>num_followers_s</th>\n",
              "      <th>num_followees_s</th>\n",
              "      <th>num_followees_d</th>\n",
              "      <th>inter_followers</th>\n",
              "      <th>inter_followees</th>\n",
              "      <th>adar_index</th>\n",
              "      <th>follows_back</th>\n",
              "      <th>same_comp</th>\n",
              "      <th>shortest_path</th>\n",
              "      <th>weight_in</th>\n",
              "      <th>weight_out</th>\n",
              "      <th>weight_f1</th>\n",
              "      <th>weight_f2</th>\n",
              "      <th>weight_f3</th>\n",
              "      <th>weight_f4</th>\n",
              "      <th>page_rank_s</th>\n",
              "      <th>page_rank_d</th>\n",
              "      <th>katz_s</th>\n",
              "      <th>katz_d</th>\n",
              "      <th>hubs_s</th>\n",
              "      <th>hubs_d</th>\n",
              "      <th>authorities_s</th>\n",
              "      <th>authorities_d</th>\n",
              "      <th>svd_u_s_1</th>\n",
              "      <th>svd_u_s_2</th>\n",
              "      <th>svd_u_s_3</th>\n",
              "      <th>svd_u_s_4</th>\n",
              "      <th>svd_u_s_5</th>\n",
              "      <th>svd_u_s_6</th>\n",
              "      <th>svd_u_d_1</th>\n",
              "      <th>svd_u_d_2</th>\n",
              "      <th>svd_u_d_3</th>\n",
              "      <th>svd_u_d_4</th>\n",
              "      <th>svd_u_d_5</th>\n",
              "      <th>svd_u_d_6</th>\n",
              "      <th>svd_v_s_1</th>\n",
              "      <th>svd_v_s_2</th>\n",
              "      <th>svd_v_s_3</th>\n",
              "      <th>svd_v_s_4</th>\n",
              "      <th>svd_v_s_5</th>\n",
              "      <th>svd_v_s_6</th>\n",
              "      <th>svd_v_d_1</th>\n",
              "      <th>svd_v_d_2</th>\n",
              "      <th>svd_v_d_3</th>\n",
              "      <th>svd_v_d_4</th>\n",
              "      <th>svd_v_d_5</th>\n",
              "      <th>svd_v_d_6</th>\n",
              "      <th>num_followers_d</th>\n",
              "    </tr>\n",
              "  </thead>\n",
              "  <tbody>\n",
              "    <tr>\n",
              "      <th>99997</th>\n",
              "      <td>139353</td>\n",
              "      <td>893843</td>\n",
              "      <td>0</td>\n",
              "      <td>0</td>\n",
              "      <td>0.0</td>\n",
              "      <td>0.0</td>\n",
              "      <td>0.0</td>\n",
              "      <td>7</td>\n",
              "      <td>1</td>\n",
              "      <td>10</td>\n",
              "      <td>0</td>\n",
              "      <td>0</td>\n",
              "      <td>0.0</td>\n",
              "      <td>0</td>\n",
              "      <td>0</td>\n",
              "      <td>-1</td>\n",
              "      <td>0.353553</td>\n",
              "      <td>0.707107</td>\n",
              "      <td>1.060660</td>\n",
              "      <td>0.250000</td>\n",
              "      <td>1.414214</td>\n",
              "      <td>1.767767</td>\n",
              "      <td>1.655650e-07</td>\n",
              "      <td>7.746044e-07</td>\n",
              "      <td>0.000731</td>\n",
              "      <td>0.000763</td>\n",
              "      <td>0.000000e+00</td>\n",
              "      <td>2.622256e-15</td>\n",
              "      <td>0.000000e+00</td>\n",
              "      <td>3.937186e-15</td>\n",
              "      <td>-8.054752e-21</td>\n",
              "      <td>1.421835e-20</td>\n",
              "      <td>-1.478472e-20</td>\n",
              "      <td>-1.297495e-20</td>\n",
              "      <td>-1.017512e-20</td>\n",
              "      <td>-3.176253e-21</td>\n",
              "      <td>-2.192930e-11</td>\n",
              "      <td>4.968431e-13</td>\n",
              "      <td>5.969920e-06</td>\n",
              "      <td>1.545111e-12</td>\n",
              "      <td>8.401409e-12</td>\n",
              "      <td>4.837882e-14</td>\n",
              "      <td>0.000000e+00</td>\n",
              "      <td>0.000000e+00</td>\n",
              "      <td>0.000000e+00</td>\n",
              "      <td>0.000000e+00</td>\n",
              "      <td>0.000000e+00</td>\n",
              "      <td>0.000000e+00</td>\n",
              "      <td>-3.303718e-12</td>\n",
              "      <td>1.538318e-13</td>\n",
              "      <td>1.296745e-06</td>\n",
              "      <td>2.990887e-13</td>\n",
              "      <td>1.589668e-12</td>\n",
              "      <td>7.338551e-14</td>\n",
              "      <td>0</td>\n",
              "    </tr>\n",
              "    <tr>\n",
              "      <th>99998</th>\n",
              "      <td>910842</td>\n",
              "      <td>704068</td>\n",
              "      <td>0</td>\n",
              "      <td>0</td>\n",
              "      <td>0.0</td>\n",
              "      <td>0.0</td>\n",
              "      <td>0.0</td>\n",
              "      <td>0</td>\n",
              "      <td>4</td>\n",
              "      <td>1</td>\n",
              "      <td>0</td>\n",
              "      <td>0</td>\n",
              "      <td>0.0</td>\n",
              "      <td>0</td>\n",
              "      <td>1</td>\n",
              "      <td>-1</td>\n",
              "      <td>1.000000</td>\n",
              "      <td>0.447214</td>\n",
              "      <td>1.447214</td>\n",
              "      <td>0.447214</td>\n",
              "      <td>2.447214</td>\n",
              "      <td>1.894427</td>\n",
              "      <td>2.619498e-07</td>\n",
              "      <td>1.655650e-07</td>\n",
              "      <td>0.000739</td>\n",
              "      <td>0.000731</td>\n",
              "      <td>2.985245e-19</td>\n",
              "      <td>4.209193e-25</td>\n",
              "      <td>2.937528e-19</td>\n",
              "      <td>0.000000e+00</td>\n",
              "      <td>-1.896211e-14</td>\n",
              "      <td>7.978555e-14</td>\n",
              "      <td>4.544702e-13</td>\n",
              "      <td>2.878219e-13</td>\n",
              "      <td>4.151745e-12</td>\n",
              "      <td>5.545048e-18</td>\n",
              "      <td>9.285854e-20</td>\n",
              "      <td>7.876028e-20</td>\n",
              "      <td>2.108260e-19</td>\n",
              "      <td>3.535153e-20</td>\n",
              "      <td>7.796579e-21</td>\n",
              "      <td>-2.898171e-20</td>\n",
              "      <td>-9.013745e-14</td>\n",
              "      <td>3.090967e-15</td>\n",
              "      <td>1.336987e-12</td>\n",
              "      <td>4.493330e-15</td>\n",
              "      <td>4.528679e-14</td>\n",
              "      <td>5.475207e-18</td>\n",
              "      <td>0.000000e+00</td>\n",
              "      <td>0.000000e+00</td>\n",
              "      <td>0.000000e+00</td>\n",
              "      <td>0.000000e+00</td>\n",
              "      <td>0.000000e+00</td>\n",
              "      <td>0.000000e+00</td>\n",
              "      <td>0</td>\n",
              "    </tr>\n",
              "    <tr>\n",
              "      <th>99999</th>\n",
              "      <td>794228</td>\n",
              "      <td>1172755</td>\n",
              "      <td>0</td>\n",
              "      <td>0</td>\n",
              "      <td>0.0</td>\n",
              "      <td>0.0</td>\n",
              "      <td>0.0</td>\n",
              "      <td>0</td>\n",
              "      <td>5</td>\n",
              "      <td>1</td>\n",
              "      <td>0</td>\n",
              "      <td>0</td>\n",
              "      <td>0.0</td>\n",
              "      <td>0</td>\n",
              "      <td>1</td>\n",
              "      <td>-1</td>\n",
              "      <td>1.000000</td>\n",
              "      <td>0.408248</td>\n",
              "      <td>1.408248</td>\n",
              "      <td>0.408248</td>\n",
              "      <td>2.408248</td>\n",
              "      <td>1.816497</td>\n",
              "      <td>3.360416e-07</td>\n",
              "      <td>1.655650e-07</td>\n",
              "      <td>0.000743</td>\n",
              "      <td>0.000731</td>\n",
              "      <td>1.300126e-15</td>\n",
              "      <td>1.067222e-18</td>\n",
              "      <td>1.874225e-15</td>\n",
              "      <td>0.000000e+00</td>\n",
              "      <td>-1.996064e-11</td>\n",
              "      <td>4.440515e-14</td>\n",
              "      <td>9.932421e-09</td>\n",
              "      <td>6.889877e-13</td>\n",
              "      <td>3.037478e-13</td>\n",
              "      <td>2.398630e-14</td>\n",
              "      <td>-3.132587e-15</td>\n",
              "      <td>1.371651e-14</td>\n",
              "      <td>4.186120e-14</td>\n",
              "      <td>1.625085e-15</td>\n",
              "      <td>5.879546e-15</td>\n",
              "      <td>1.976197e-17</td>\n",
              "      <td>-9.792788e-10</td>\n",
              "      <td>1.600031e-13</td>\n",
              "      <td>2.154438e-11</td>\n",
              "      <td>1.566738e-12</td>\n",
              "      <td>2.294564e-13</td>\n",
              "      <td>3.493379e-14</td>\n",
              "      <td>0.000000e+00</td>\n",
              "      <td>0.000000e+00</td>\n",
              "      <td>0.000000e+00</td>\n",
              "      <td>0.000000e+00</td>\n",
              "      <td>0.000000e+00</td>\n",
              "      <td>0.000000e+00</td>\n",
              "      <td>0</td>\n",
              "    </tr>\n",
              "    <tr>\n",
              "      <th>100000</th>\n",
              "      <td>949992</td>\n",
              "      <td>1854931</td>\n",
              "      <td>0</td>\n",
              "      <td>0</td>\n",
              "      <td>0.0</td>\n",
              "      <td>0.0</td>\n",
              "      <td>0.0</td>\n",
              "      <td>1</td>\n",
              "      <td>2</td>\n",
              "      <td>0</td>\n",
              "      <td>0</td>\n",
              "      <td>0</td>\n",
              "      <td>0.0</td>\n",
              "      <td>0</td>\n",
              "      <td>1</td>\n",
              "      <td>10</td>\n",
              "      <td>0.707107</td>\n",
              "      <td>0.577350</td>\n",
              "      <td>1.284457</td>\n",
              "      <td>0.408248</td>\n",
              "      <td>1.991564</td>\n",
              "      <td>1.861807</td>\n",
              "      <td>2.848986e-07</td>\n",
              "      <td>3.246765e-07</td>\n",
              "      <td>0.000735</td>\n",
              "      <td>0.000735</td>\n",
              "      <td>1.003286e-17</td>\n",
              "      <td>0.000000e+00</td>\n",
              "      <td>1.428238e-17</td>\n",
              "      <td>1.871381e-21</td>\n",
              "      <td>-5.265417e-15</td>\n",
              "      <td>1.026814e-13</td>\n",
              "      <td>1.960640e-11</td>\n",
              "      <td>9.255098e-16</td>\n",
              "      <td>2.723477e-15</td>\n",
              "      <td>1.851237e-16</td>\n",
              "      <td>1.944182e-19</td>\n",
              "      <td>-2.015144e-19</td>\n",
              "      <td>2.204463e-19</td>\n",
              "      <td>1.680689e-19</td>\n",
              "      <td>1.344908e-19</td>\n",
              "      <td>1.727458e-20</td>\n",
              "      <td>-2.903545e-15</td>\n",
              "      <td>3.809135e-15</td>\n",
              "      <td>1.620187e-11</td>\n",
              "      <td>1.325874e-15</td>\n",
              "      <td>2.066643e-14</td>\n",
              "      <td>2.662102e-16</td>\n",
              "      <td>-1.142753e-17</td>\n",
              "      <td>5.200344e-17</td>\n",
              "      <td>3.858875e-15</td>\n",
              "      <td>2.173437e-17</td>\n",
              "      <td>2.241477e-16</td>\n",
              "      <td>3.528355e-20</td>\n",
              "      <td>0</td>\n",
              "    </tr>\n",
              "    <tr>\n",
              "      <th>100001</th>\n",
              "      <td>1642037</td>\n",
              "      <td>1090977</td>\n",
              "      <td>0</td>\n",
              "      <td>0</td>\n",
              "      <td>0.0</td>\n",
              "      <td>0.0</td>\n",
              "      <td>0.0</td>\n",
              "      <td>1</td>\n",
              "      <td>14</td>\n",
              "      <td>0</td>\n",
              "      <td>0</td>\n",
              "      <td>0</td>\n",
              "      <td>0.0</td>\n",
              "      <td>0</td>\n",
              "      <td>1</td>\n",
              "      <td>8</td>\n",
              "      <td>0.707107</td>\n",
              "      <td>0.258199</td>\n",
              "      <td>0.965306</td>\n",
              "      <td>0.182574</td>\n",
              "      <td>1.672412</td>\n",
              "      <td>1.223505</td>\n",
              "      <td>3.317631e-06</td>\n",
              "      <td>1.697892e-07</td>\n",
              "      <td>0.000792</td>\n",
              "      <td>0.000735</td>\n",
              "      <td>2.654093e-16</td>\n",
              "      <td>0.000000e+00</td>\n",
              "      <td>3.962767e-15</td>\n",
              "      <td>1.504913e-15</td>\n",
              "      <td>-9.675415e-08</td>\n",
              "      <td>5.380918e-12</td>\n",
              "      <td>1.058150e-09</td>\n",
              "      <td>4.493298e-13</td>\n",
              "      <td>2.880749e-11</td>\n",
              "      <td>4.896858e-15</td>\n",
              "      <td>-1.074557e-19</td>\n",
              "      <td>1.235671e-19</td>\n",
              "      <td>-1.240591e-19</td>\n",
              "      <td>-1.099916e-19</td>\n",
              "      <td>-7.405038e-20</td>\n",
              "      <td>-1.247210e-20</td>\n",
              "      <td>-3.070695e-12</td>\n",
              "      <td>9.899146e-11</td>\n",
              "      <td>7.778089e-09</td>\n",
              "      <td>8.005625e-13</td>\n",
              "      <td>9.429577e-11</td>\n",
              "      <td>7.386157e-14</td>\n",
              "      <td>-1.657134e-14</td>\n",
              "      <td>2.085059e-14</td>\n",
              "      <td>2.107704e-07</td>\n",
              "      <td>2.652994e-12</td>\n",
              "      <td>2.004727e-14</td>\n",
              "      <td>2.805020e-14</td>\n",
              "      <td>0</td>\n",
              "    </tr>\n",
              "  </tbody>\n",
              "</table>\n",
              "</div>"
            ],
            "text/plain": [
              "        source_node  destination_node  ...     svd_v_d_6  num_followers_d\n",
              "99997        139353            893843  ...  7.338551e-14                0\n",
              "99998        910842            704068  ...  0.000000e+00                0\n",
              "99999        794228           1172755  ...  0.000000e+00                0\n",
              "100000       949992           1854931  ...  3.528355e-20                0\n",
              "100001      1642037           1090977  ...  2.805020e-14                0\n",
              "\n",
              "[5 rows x 55 columns]"
            ]
          },
          "metadata": {
            "tags": []
          },
          "execution_count": 46
        }
      ]
    },
    {
      "cell_type": "code",
      "metadata": {
        "id": "1hAPaxMyv9LK"
      },
      "source": [
        "# for val in df_final_train_new['num_followers_s'].values:\n",
        "#   if(val>0):\n",
        "#     print(val)"
      ],
      "execution_count": null,
      "outputs": []
    },
    {
      "cell_type": "code",
      "metadata": {
        "colab": {
          "base_uri": "https://localhost:8080/"
        },
        "id": "3GrHa3a-4tAU",
        "outputId": "bf75a89c-ef18-4169-f1c2-c368d5afa859"
      },
      "source": [
        "# https://drive.google.com/file/d/10qJ04GRcaDxc16gmJXb8rpGPmlyys7E2/view?usp=sharing\n",
        "! gdown --id 10qJ04GRcaDxc16gmJXb8rpGPmlyys7E2"
      ],
      "execution_count": 44,
      "outputs": [
        {
          "output_type": "stream",
          "name": "stdout",
          "text": [
            "Downloading...\n",
            "From: https://drive.google.com/uc?id=10qJ04GRcaDxc16gmJXb8rpGPmlyys7E2\n",
            "To: /content/storage_sample_stage2.h5\n",
            "22.9MB [00:00, 105MB/s]\n"
          ]
        }
      ]
    },
    {
      "cell_type": "markdown",
      "metadata": {
        "id": "go_e8hxxVFIO"
      },
      "source": [
        "\n",
        "## 5.3 Adding new set of features\n",
        "\n",
        "__we will create these each of these features for both train and test data points__\n",
        "<ol>\n",
        "<li>adar index</li>\n",
        "<li>is following back</li>\n",
        "<li>belongs to same weakly connect components</li>\n",
        "<li>shortest path between source and destination</li>\n",
        "</ol>"
      ]
    },
    {
      "cell_type": "code",
      "metadata": {
        "id": "LqB0Peg0VFIP"
      },
      "source": [
        "if not os.path.isfile('storage_sample_stage2.h5'):\n",
        "    #mapping adar index on train\n",
        "    df_final_train['adar_index'] = df_final_train.apply(lambda row: calc_adar_in(row['source_node'],row['destination_node']),axis=1)\n",
        "    #mapping adar index on test\n",
        "    df_final_test['adar_index'] = df_final_test.apply(lambda row: calc_adar_in(row['source_node'],row['destination_node']),axis=1)\n",
        "\n",
        "    #--------------------------------------------------------------------------------------------------------\n",
        "    #mapping followback or not on train\n",
        "    df_final_train['follows_back'] = df_final_train.apply(lambda row: follows_back(row['source_node'],row['destination_node']),axis=1)\n",
        "\n",
        "    #mapping followback or not on test\n",
        "    df_final_test['follows_back'] = df_final_test.apply(lambda row: follows_back(row['source_node'],row['destination_node']),axis=1)\n",
        "\n",
        "    #--------------------------------------------------------------------------------------------------------\n",
        "    #mapping same component of wcc or not on train\n",
        "    df_final_train['same_comp'] = df_final_train.apply(lambda row: belongs_to_same_wcc(row['source_node'],row['destination_node']),axis=1)\n",
        "\n",
        "    ##mapping same component of wcc or not on train\n",
        "    df_final_test['same_comp'] = df_final_test.apply(lambda row: belongs_to_same_wcc(row['source_node'],row['destination_node']),axis=1)\n",
        "    \n",
        "    #--------------------------------------------------------------------------------------------------------\n",
        "    #mapping shortest path on train \n",
        "    df_final_train['shortest_path'] = df_final_train.apply(lambda row: compute_shortest_path_length(row['source_node'],row['destination_node']),axis=1)\n",
        "    #mapping shortest path on test\n",
        "    df_final_test['shortest_path'] = df_final_test.apply(lambda row: compute_shortest_path_length(row['source_node'],row['destination_node']),axis=1)\n",
        "\n",
        "    hdf = HDFStore('data/fea_sample/storage_sample_stage2.h5')\n",
        "    hdf.put('train_df',df_final_train, format='table', data_columns=True)\n",
        "    hdf.put('test_df',df_final_test, format='table', data_columns=True)\n",
        "    hdf.close()\n",
        "else:\n",
        "    df_final_train = read_hdf('storage_sample_stage2.h5', 'train_df',mode='r')\n",
        "    df_final_test = read_hdf('storage_sample_stage2.h5', 'test_df',mode='r')"
      ],
      "execution_count": null,
      "outputs": []
    },
    {
      "cell_type": "code",
      "metadata": {
        "id": "WK4I7w8I49YO",
        "colab": {
          "base_uri": "https://localhost:8080/",
          "height": 223
        },
        "outputId": "380fd2fb-f9f2-4370-9192-f9fcb9958832"
      },
      "source": [
        "df_final_train = read_hdf('/content/drive/MyDrive/Facebook/data/fea_sample/storage_sample_stage2.h5', 'train_df',mode='r')\n",
        "df_final_test = read_hdf('/content/drive/MyDrive/Facebook/data/fea_sample/storage_sample_stage2.h5', 'test_df',mode='r')\n",
        "df_final_train.head()"
      ],
      "execution_count": 45,
      "outputs": [
        {
          "output_type": "execute_result",
          "data": {
            "text/html": [
              "<div>\n",
              "<style scoped>\n",
              "    .dataframe tbody tr th:only-of-type {\n",
              "        vertical-align: middle;\n",
              "    }\n",
              "\n",
              "    .dataframe tbody tr th {\n",
              "        vertical-align: top;\n",
              "    }\n",
              "\n",
              "    .dataframe thead th {\n",
              "        text-align: right;\n",
              "    }\n",
              "</style>\n",
              "<table border=\"1\" class=\"dataframe\">\n",
              "  <thead>\n",
              "    <tr style=\"text-align: right;\">\n",
              "      <th></th>\n",
              "      <th>source_node</th>\n",
              "      <th>destination_node</th>\n",
              "      <th>indicator_link</th>\n",
              "      <th>jaccard_followers</th>\n",
              "      <th>jaccard_followees</th>\n",
              "      <th>cosine_followers</th>\n",
              "      <th>cosine_followees</th>\n",
              "      <th>num_followers_s</th>\n",
              "      <th>num_followees_s</th>\n",
              "      <th>num_followees_d</th>\n",
              "      <th>inter_followers</th>\n",
              "      <th>inter_followees</th>\n",
              "      <th>adar_index</th>\n",
              "      <th>follows_back</th>\n",
              "      <th>same_comp</th>\n",
              "      <th>shortest_path</th>\n",
              "    </tr>\n",
              "  </thead>\n",
              "  <tbody>\n",
              "    <tr>\n",
              "      <th>0</th>\n",
              "      <td>273084</td>\n",
              "      <td>1505602</td>\n",
              "      <td>1</td>\n",
              "      <td>0</td>\n",
              "      <td>0.000000</td>\n",
              "      <td>0.000000</td>\n",
              "      <td>0.000000</td>\n",
              "      <td>6</td>\n",
              "      <td>15</td>\n",
              "      <td>8</td>\n",
              "      <td>0</td>\n",
              "      <td>0</td>\n",
              "      <td>0.000000</td>\n",
              "      <td>0</td>\n",
              "      <td>1</td>\n",
              "      <td>4</td>\n",
              "    </tr>\n",
              "    <tr>\n",
              "      <th>1</th>\n",
              "      <td>832016</td>\n",
              "      <td>1543415</td>\n",
              "      <td>1</td>\n",
              "      <td>0</td>\n",
              "      <td>0.187135</td>\n",
              "      <td>0.028382</td>\n",
              "      <td>0.343828</td>\n",
              "      <td>94</td>\n",
              "      <td>61</td>\n",
              "      <td>142</td>\n",
              "      <td>11</td>\n",
              "      <td>32</td>\n",
              "      <td>16.362912</td>\n",
              "      <td>0</td>\n",
              "      <td>1</td>\n",
              "      <td>2</td>\n",
              "    </tr>\n",
              "    <tr>\n",
              "      <th>2</th>\n",
              "      <td>1325247</td>\n",
              "      <td>760242</td>\n",
              "      <td>1</td>\n",
              "      <td>0</td>\n",
              "      <td>0.369565</td>\n",
              "      <td>0.156957</td>\n",
              "      <td>0.566038</td>\n",
              "      <td>28</td>\n",
              "      <td>41</td>\n",
              "      <td>22</td>\n",
              "      <td>26</td>\n",
              "      <td>17</td>\n",
              "      <td>10.991826</td>\n",
              "      <td>0</td>\n",
              "      <td>1</td>\n",
              "      <td>2</td>\n",
              "    </tr>\n",
              "    <tr>\n",
              "      <th>3</th>\n",
              "      <td>1368400</td>\n",
              "      <td>1006992</td>\n",
              "      <td>1</td>\n",
              "      <td>0</td>\n",
              "      <td>0.000000</td>\n",
              "      <td>0.000000</td>\n",
              "      <td>0.000000</td>\n",
              "      <td>11</td>\n",
              "      <td>5</td>\n",
              "      <td>7</td>\n",
              "      <td>0</td>\n",
              "      <td>0</td>\n",
              "      <td>0.000000</td>\n",
              "      <td>0</td>\n",
              "      <td>1</td>\n",
              "      <td>6</td>\n",
              "    </tr>\n",
              "    <tr>\n",
              "      <th>4</th>\n",
              "      <td>140165</td>\n",
              "      <td>1708748</td>\n",
              "      <td>1</td>\n",
              "      <td>0</td>\n",
              "      <td>0.000000</td>\n",
              "      <td>0.000000</td>\n",
              "      <td>0.000000</td>\n",
              "      <td>1</td>\n",
              "      <td>11</td>\n",
              "      <td>3</td>\n",
              "      <td>0</td>\n",
              "      <td>0</td>\n",
              "      <td>0.000000</td>\n",
              "      <td>0</td>\n",
              "      <td>0</td>\n",
              "      <td>-1</td>\n",
              "    </tr>\n",
              "  </tbody>\n",
              "</table>\n",
              "</div>"
            ],
            "text/plain": [
              "   source_node  destination_node  ...  same_comp  shortest_path\n",
              "0       273084           1505602  ...          1              4\n",
              "1       832016           1543415  ...          1              2\n",
              "2      1325247            760242  ...          1              2\n",
              "3      1368400           1006992  ...          1              6\n",
              "4       140165           1708748  ...          0             -1\n",
              "\n",
              "[5 rows x 16 columns]"
            ]
          },
          "metadata": {},
          "execution_count": 45
        }
      ]
    },
    {
      "cell_type": "markdown",
      "metadata": {
        "id": "HJ8Dbma_VFIR"
      },
      "source": [
        "## 5.4 Adding new set of features\n",
        "\n",
        "__we will create these each of these features for both train and test data points__\n",
        "<ol>\n",
        "<li>Weight Features\n",
        "    <ul>\n",
        "        <li>weight of incoming edges</li>\n",
        "        <li>weight of outgoing edges</li>\n",
        "        <li>weight of incoming edges + weight of outgoing edges</li>\n",
        "        <li>weight of incoming edges * weight of outgoing edges</li>\n",
        "        <li>2*weight of incoming edges + weight of outgoing edges</li>\n",
        "        <li>weight of incoming edges + 2*weight of outgoing edges</li>\n",
        "    </ul>\n",
        "</li>\n",
        "<li>Page Ranking of source</li>\n",
        "<li>Page Ranking of dest</li>\n",
        "<li>katz of source</li>\n",
        "<li>katz of dest</li>\n",
        "<li>hubs of source</li>\n",
        "<li>hubs of dest</li>\n",
        "<li>authorities_s of source</li>\n",
        "<li>authorities_s of dest</li>\n",
        "</ol>"
      ]
    },
    {
      "cell_type": "markdown",
      "metadata": {
        "id": "iVHI2jtNVFIS"
      },
      "source": [
        "#### Weight Features"
      ]
    },
    {
      "cell_type": "markdown",
      "metadata": {
        "id": "rXmUYF9FVFIT"
      },
      "source": [
        "In order to determine the similarity of nodes, an edge weight value was calculated between nodes. Edge weight decreases as the neighbor count goes up. Intuitively, consider one million people following a celebrity on a social network then chances are most of them never met each other or the celebrity. On the other hand, if a user has 30 contacts in his/her social network, the chances are higher that many of them know each other. \n",
        "`credit` - Graph-based Features for Supervised Link Prediction\n",
        "William Cukierski, Benjamin Hamner, Bo Yang"
      ]
    },
    {
      "cell_type": "markdown",
      "metadata": {
        "id": "Qzbs2no7VFIV"
      },
      "source": [
        "\\begin{equation}\n",
        "W = \\frac{1}{\\sqrt{1+|X|}}\n",
        "\\end{equation}"
      ]
    },
    {
      "cell_type": "markdown",
      "metadata": {
        "id": "kkzUPrWaVFIV"
      },
      "source": [
        "it is directed graph so calculated Weighted in and Weighted out differently"
      ]
    },
    {
      "cell_type": "code",
      "metadata": {
        "id": "FgNMzzTbVFIW",
        "colab": {
          "base_uri": "https://localhost:8080/"
        },
        "outputId": "e1115a24-0b9e-490b-965b-383b0734cc0f"
      },
      "source": [
        "#weight for source and destination of each link\n",
        "Weight_in = {}\n",
        "Weight_out = {}\n",
        "for i in  tqdm(train_graph.nodes()):\n",
        "    s1=set(train_graph.predecessors(i))\n",
        "    w_in = 1.0/(np.sqrt(1+len(s1)))\n",
        "    Weight_in[i]=w_in\n",
        "    \n",
        "    s2=set(train_graph.successors(i))\n",
        "    w_out = 1.0/(np.sqrt(1+len(s2)))\n",
        "    Weight_out[i]=w_out\n",
        "    \n",
        "#for imputing with mean\n",
        "mean_weight_in = np.mean(list(Weight_in.values()))\n",
        "mean_weight_out = np.mean(list(Weight_out.values()))"
      ],
      "execution_count": 46,
      "outputs": [
        {
          "output_type": "stream",
          "name": "stderr",
          "text": [
            "100%|██████████| 1780722/1780722 [00:21<00:00, 84207.15it/s] \n"
          ]
        }
      ]
    },
    {
      "cell_type": "code",
      "metadata": {
        "id": "AF4yPhIOVFIY"
      },
      "source": [
        "if not os.path.isfile('data/fea_sample/storage_sample_stage3.h5'):\n",
        "    #mapping to pandas train\n",
        "    df_final_train['weight_in'] = df_final_train.destination_node.apply(lambda x: Weight_in.get(x,mean_weight_in))\n",
        "    df_final_train['weight_out'] = df_final_train.source_node.apply(lambda x: Weight_out.get(x,mean_weight_out))\n",
        "\n",
        "    #mapping to pandas test\n",
        "    df_final_test['weight_in'] = df_final_test.destination_node.apply(lambda x: Weight_in.get(x,mean_weight_in))\n",
        "    df_final_test['weight_out'] = df_final_test.source_node.apply(lambda x: Weight_out.get(x,mean_weight_out))\n",
        "\n",
        "\n",
        "    #some features engineerings on the in and out weights\n",
        "    df_final_train['weight_f1'] = df_final_train.weight_in + df_final_train.weight_out\n",
        "    df_final_train['weight_f2'] = df_final_train.weight_in * df_final_train.weight_out\n",
        "    df_final_train['weight_f3'] = (2*df_final_train.weight_in + 1*df_final_train.weight_out)\n",
        "    df_final_train['weight_f4'] = (1*df_final_train.weight_in + 2*df_final_train.weight_out)\n",
        "\n",
        "    #some features engineerings on the in and out weights\n",
        "    df_final_test['weight_f1'] = df_final_test.weight_in + df_final_test.weight_out\n",
        "    df_final_test['weight_f2'] = df_final_test.weight_in * df_final_test.weight_out\n",
        "    df_final_test['weight_f3'] = (2*df_final_test.weight_in + 1*df_final_test.weight_out)\n",
        "    df_final_test['weight_f4'] = (1*df_final_test.weight_in + 2*df_final_test.weight_out)"
      ],
      "execution_count": null,
      "outputs": []
    },
    {
      "cell_type": "code",
      "metadata": {
        "id": "uhxzhQ9aVFIa"
      },
      "source": [
        "if not os.path.isfile('data/fea_sample/storage_sample_stage3.h5'):\n",
        "    \n",
        "    #page rank for source and destination in Train and Test\n",
        "    #if anything not there in train graph then adding mean page rank \n",
        "    df_final_train['page_rank_s'] = df_final_train.source_node.apply(lambda x:pr.get(x,mean_pr))\n",
        "    df_final_train['page_rank_d'] = df_final_train.destination_node.apply(lambda x:pr.get(x,mean_pr))\n",
        "\n",
        "    df_final_test['page_rank_s'] = df_final_test.source_node.apply(lambda x:pr.get(x,mean_pr))\n",
        "    df_final_test['page_rank_d'] = df_final_test.destination_node.apply(lambda x:pr.get(x,mean_pr))\n",
        "    #================================================================================\n",
        "\n",
        "    #Katz centrality score for source and destination in Train and test\n",
        "    #if anything not there in train graph then adding mean katz score\n",
        "    df_final_train['katz_s'] = df_final_train.source_node.apply(lambda x: katz.get(x,mean_katz))\n",
        "    df_final_train['katz_d'] = df_final_train.destination_node.apply(lambda x: katz.get(x,mean_katz))\n",
        "\n",
        "    df_final_test['katz_s'] = df_final_test.source_node.apply(lambda x: katz.get(x,mean_katz))\n",
        "    df_final_test['katz_d'] = df_final_test.destination_node.apply(lambda x: katz.get(x,mean_katz))\n",
        "    #================================================================================\n",
        "\n",
        "    #Hits algorithm score for source and destination in Train and test\n",
        "    #if anything not there in train graph then adding 0\n",
        "    df_final_train['hubs_s'] = df_final_train.source_node.apply(lambda x: hits[0].get(x,0))\n",
        "    df_final_train['hubs_d'] = df_final_train.destination_node.apply(lambda x: hits[0].get(x,0))\n",
        "\n",
        "    df_final_test['hubs_s'] = df_final_test.source_node.apply(lambda x: hits[0].get(x,0))\n",
        "    df_final_test['hubs_d'] = df_final_test.destination_node.apply(lambda x: hits[0].get(x,0))\n",
        "    #================================================================================\n",
        "\n",
        "    #Hits algorithm score for source and destination in Train and Test\n",
        "    #if anything not there in train graph then adding 0\n",
        "    df_final_train['authorities_s'] = df_final_train.source_node.apply(lambda x: hits[1].get(x,0))\n",
        "    df_final_train['authorities_d'] = df_final_train.destination_node.apply(lambda x: hits[1].get(x,0))\n",
        "\n",
        "    df_final_test['authorities_s'] = df_final_test.source_node.apply(lambda x: hits[1].get(x,0))\n",
        "    df_final_test['authorities_d'] = df_final_test.destination_node.apply(lambda x: hits[1].get(x,0))\n",
        "    #================================================================================\n",
        "\n",
        "    hdf = HDFStore('data/fea_sample/storage_sample_stage3.h5')\n",
        "    hdf.put('train_df',df_final_train, format='table', data_columns=True)\n",
        "    hdf.put('test_df',df_final_test, format='table', data_columns=True)\n",
        "    hdf.close()\n",
        "else:\n",
        "    df_final_train = read_hdf('data/fea_sample/storage_sample_stage3.h5', 'train_df',mode='r')\n",
        "    df_final_test = read_hdf('data/fea_sample/storage_sample_stage3.h5', 'test_df',mode='r')"
      ],
      "execution_count": null,
      "outputs": []
    },
    {
      "cell_type": "code",
      "metadata": {
        "id": "fN-JfY5TmgCW"
      },
      "source": [
        "df_final_train = read_hdf('/content/drive/MyDrive/Facebook/data/fea_sample/storage_sample_stage3.h5', 'train_df',mode='r')\n",
        "df_final_test = read_hdf('/content/drive/MyDrive/Facebook/data/fea_sample/storage_sample_stage3.h5', 'test_df',mode='r')"
      ],
      "execution_count": 48,
      "outputs": []
    },
    {
      "cell_type": "markdown",
      "metadata": {
        "id": "p6xkDfD-VFIb"
      },
      "source": [
        "## 5.5 Adding new set of features\n",
        "\n",
        "__we will create these each of these features for both train and test data points__\n",
        "<ol>\n",
        "<li>SVD features for both source and destination</li>\n",
        "</ol>"
      ]
    },
    {
      "cell_type": "code",
      "metadata": {
        "id": "WQO6E65eVFIc"
      },
      "source": [
        "def svd(x, S):\n",
        "    try:\n",
        "        z = sadj_dict[x]\n",
        "        return S[z]\n",
        "    except:\n",
        "        return [0,0,0,0,0,0]"
      ],
      "execution_count": 49,
      "outputs": []
    },
    {
      "cell_type": "code",
      "metadata": {
        "id": "9sOyLwvNVFId"
      },
      "source": [
        "#for svd features to get feature vector creating a dict node val and inedx in svd vector\n",
        "sadj_col = sorted(train_graph.nodes())\n",
        "sadj_dict = { val:idx for idx,val in enumerate(sadj_col)}"
      ],
      "execution_count": 50,
      "outputs": []
    },
    {
      "cell_type": "code",
      "metadata": {
        "id": "zLSt8fGVVFIg"
      },
      "source": [
        "Adj = nx.adjacency_matrix(train_graph,nodelist=sorted(train_graph.nodes())).asfptype()"
      ],
      "execution_count": 51,
      "outputs": []
    },
    {
      "cell_type": "code",
      "metadata": {
        "id": "soq-VAHlVFIh",
        "colab": {
          "base_uri": "https://localhost:8080/"
        },
        "outputId": "3a65ca25-b6dc-40f4-8637-5688687789af"
      },
      "source": [
        "U, s, V = svds(Adj, k = 6)\n",
        "print('Adjacency matrix Shape',Adj.shape)\n",
        "print('U Shape',U.shape)\n",
        "print('V Shape',V.shape)\n",
        "print('s Shape',s.shape)"
      ],
      "execution_count": 52,
      "outputs": [
        {
          "output_type": "stream",
          "name": "stdout",
          "text": [
            "Adjacency matrix Shape (1780722, 1780722)\n",
            "U Shape (1780722, 6)\n",
            "V Shape (6, 1780722)\n",
            "s Shape (6,)\n"
          ]
        }
      ]
    },
    {
      "cell_type": "code",
      "metadata": {
        "id": "ls5fqLFhVFIm"
      },
      "source": [
        "if not os.path.isfile('/content/drive/MyDrive/Facebook/data/fea_sample/storage_sample_stage4.h5'):\n",
        "    #===================================================================================================\n",
        "    \n",
        "    df_final_train[['svd_u_s_1', 'svd_u_s_2','svd_u_s_3', 'svd_u_s_4', 'svd_u_s_5', 'svd_u_s_6']] = \\\n",
        "    df_final_train.source_node.apply(lambda x: svd(x, U)).apply(pd.Series)\n",
        "    \n",
        "    df_final_train[['svd_u_d_1', 'svd_u_d_2', 'svd_u_d_3', 'svd_u_d_4', 'svd_u_d_5','svd_u_d_6']] = \\\n",
        "    df_final_train.destination_node.apply(lambda x: svd(x, U)).apply(pd.Series)\n",
        "    #===================================================================================================\n",
        "    \n",
        "    df_final_train[['svd_v_s_1','svd_v_s_2', 'svd_v_s_3', 'svd_v_s_4', 'svd_v_s_5', 'svd_v_s_6',]] = \\\n",
        "    df_final_train.source_node.apply(lambda x: svd(x, V.T)).apply(pd.Series)\n",
        "\n",
        "    df_final_train[['svd_v_d_1', 'svd_v_d_2', 'svd_v_d_3', 'svd_v_d_4', 'svd_v_d_5','svd_v_d_6']] = \\\n",
        "    df_final_train.destination_node.apply(lambda x: svd(x, V.T)).apply(pd.Series)\n",
        "    #===================================================================================================\n",
        "    \n",
        "    df_final_test[['svd_u_s_1', 'svd_u_s_2','svd_u_s_3', 'svd_u_s_4', 'svd_u_s_5', 'svd_u_s_6']] = \\\n",
        "    df_final_test.source_node.apply(lambda x: svd(x, U)).apply(pd.Series)\n",
        "    \n",
        "    df_final_test[['svd_u_d_1', 'svd_u_d_2', 'svd_u_d_3', 'svd_u_d_4', 'svd_u_d_5','svd_u_d_6']] = \\\n",
        "    df_final_test.destination_node.apply(lambda x: svd(x, U)).apply(pd.Series)\n",
        "\n",
        "    #===================================================================================================\n",
        "    \n",
        "    df_final_test[['svd_v_s_1','svd_v_s_2', 'svd_v_s_3', 'svd_v_s_4', 'svd_v_s_5', 'svd_v_s_6',]] = \\\n",
        "    df_final_test.source_node.apply(lambda x: svd(x, V.T)).apply(pd.Series)\n",
        "\n",
        "    df_final_test[['svd_v_d_1', 'svd_v_d_2', 'svd_v_d_3', 'svd_v_d_4', 'svd_v_d_5','svd_v_d_6']] = \\\n",
        "    df_final_test.destination_node.apply(lambda x: svd(x, V.T)).apply(pd.Series)\n",
        "    #===================================================================================================\n",
        "\n",
        "    hdf = HDFStore('/content/drive/MyDrive/Facebook/data/fea_sample/storage_sample_stage4.h5')\n",
        "    hdf.put('train_df',df_final_train, format='table', data_columns=True)\n",
        "    hdf.put('test_df',df_final_test, format='table', data_columns=True)\n",
        "    hdf.close()"
      ],
      "execution_count": null,
      "outputs": []
    },
    {
      "cell_type": "code",
      "metadata": {
        "id": "0-hBtlkzVFIn"
      },
      "source": [
        "# prepared and stored the data from machine learning models\n",
        "# pelase check the FB_Models.ipynb"
      ],
      "execution_count": null,
      "outputs": []
    },
    {
      "cell_type": "code",
      "metadata": {
        "colab": {
          "base_uri": "https://localhost:8080/"
        },
        "id": "9cU623nsnGT5",
        "outputId": "ab0b7a30-495a-4c11-8bcb-17dec511e1ca"
      },
      "source": [
        "df_final_train.shape"
      ],
      "execution_count": 59,
      "outputs": [
        {
          "output_type": "execute_result",
          "data": {
            "text/plain": [
              "(100002, 54)"
            ]
          },
          "metadata": {},
          "execution_count": 59
        }
      ]
    },
    {
      "cell_type": "code",
      "metadata": {
        "id": "FR27gkEOnm6L"
      },
      "source": [
        "df_final_train = read_hdf('/content/drive/MyDrive/Facebook/data/fea_sample/storage_sample_stage4.h5', 'train_df',mode='r')\n",
        "df_final_test = read_hdf('/content/drive/MyDrive/Facebook/data/fea_sample/storage_sample_stage4.h5', 'test_df',mode='r')"
      ],
      "execution_count": 58,
      "outputs": []
    },
    {
      "cell_type": "markdown",
      "metadata": {
        "id": "eHmvRmhon6__"
      },
      "source": [
        "Preferential Attachment"
      ]
    },
    {
      "cell_type": "code",
      "metadata": {
        "id": "8PsbO8VRn6nL"
      },
      "source": [
        "def followee_preferential_attachment(user1,user2):\n",
        "    try:\n",
        "        user_1 = len(set(train_graph.successors(user1)))\n",
        "        user_2 = len(set(train_graph.successors(user2)))\n",
        "        return(user_1*user_2)\n",
        "    except:\n",
        "        return(0)\n",
        "    \n",
        "def follower_preferential_attachment(user1,user2):\n",
        "    try:\n",
        "        user_1 = len(set(train_graph.predecessors(user1)))\n",
        "        user_2 = len(set(train_graph.predecessors(user2)))\n",
        "        return(user_1*user_2)\n",
        "    except:\n",
        "        return(0)"
      ],
      "execution_count": 60,
      "outputs": []
    },
    {
      "cell_type": "code",
      "metadata": {
        "colab": {
          "base_uri": "https://localhost:8080/"
        },
        "id": "t6OMS2QWn-ln",
        "outputId": "0b3b7628-44bd-4ef6-80ab-82ca25d6cbea"
      },
      "source": [
        "startTime = datetime.datetime.now()\n",
        "print(\"Current Time = \",startTime)\n",
        "\n",
        "if not os.path.isfile('/content/drive/MyDrive/Facebook/data/fea_sample/storage_sample_stage5.h5'):\n",
        "    #===================================================================================================\n",
        "    \n",
        "    df_final_train[['svd_u_s_1', 'svd_u_s_2','svd_u_s_3', 'svd_u_s_4', 'svd_u_s_5', 'svd_u_s_6']] = \\\n",
        "    df_final_train.source_node.apply(lambda x: svd(x, U)).apply(pd.Series)\n",
        "    \n",
        "    df_final_train[['svd_u_d_1', 'svd_u_d_2', 'svd_u_d_3', 'svd_u_d_4', 'svd_u_d_5','svd_u_d_6']] = \\\n",
        "    df_final_train.destination_node.apply(lambda x: svd(x, U)).apply(pd.Series)\n",
        "    #===================================================================================================\n",
        "    \n",
        "    df_final_train[['svd_v_s_1','svd_v_s_2', 'svd_v_s_3', 'svd_v_s_4', 'svd_v_s_5', 'svd_v_s_6',]] = \\\n",
        "    df_final_train.source_node.apply(lambda x: svd(x, V.T)).apply(pd.Series)\n",
        "\n",
        "    df_final_train[['svd_v_d_1', 'svd_v_d_2', 'svd_v_d_3', 'svd_v_d_4', 'svd_v_d_5','svd_v_d_6']] = \\\n",
        "    df_final_train.destination_node.apply(lambda x: svd(x, V.T)).apply(pd.Series)\n",
        "    #===================================================================================================\n",
        "    \n",
        "    df_final_test[['svd_u_s_1', 'svd_u_s_2','svd_u_s_3', 'svd_u_s_4', 'svd_u_s_5', 'svd_u_s_6']] = \\\n",
        "    df_final_test.source_node.apply(lambda x: svd(x, U)).apply(pd.Series)\n",
        "    \n",
        "    df_final_test[['svd_u_d_1', 'svd_u_d_2', 'svd_u_d_3', 'svd_u_d_4', 'svd_u_d_5','svd_u_d_6']] = \\\n",
        "    df_final_test.destination_node.apply(lambda x: svd(x, U)).apply(pd.Series)\n",
        "\n",
        "    #===================================================================================================\n",
        "    \n",
        "    df_final_test[['svd_v_s_1','svd_v_s_2', 'svd_v_s_3', 'svd_v_s_4', 'svd_v_s_5', 'svd_v_s_6',]] = \\\n",
        "    df_final_test.source_node.apply(lambda x: svd(x, V.T)).apply(pd.Series)\n",
        "\n",
        "    df_final_test[['svd_v_d_1', 'svd_v_d_2', 'svd_v_d_3', 'svd_v_d_4', 'svd_v_d_5','svd_v_d_6']] = \\\n",
        "    df_final_test.destination_node.apply(lambda x: svd(x, V.T)).apply(pd.Series)\n",
        "    #===================================================================================================\n",
        "\n",
        "    df_final_train['followee_preferential_attachment'] = df_final_train.apply(lambda row: followee_preferential_attachment(row['source_node'],row['destination_node']),axis=1)\n",
        "    df_final_test['followee_preferential_attachment'] = df_final_test.apply(lambda row: followee_preferential_attachment(row['source_node'],row['destination_node']),axis=1)\n",
        "    \n",
        "    df_final_train['follower_preferential_attachment'] = df_final_train.apply(lambda row: follower_preferential_attachment(row['source_node'],row['destination_node']),axis=1)\n",
        "    df_final_test['follower_preferential_attachment'] = df_final_test.apply(lambda row: follower_preferential_attachment(row['source_node'],row['destination_node']),axis=1)\n",
        "    \n",
        "    #===================================================================================================\n",
        "    \n",
        "    hdf = HDFStore('/content/drive/MyDrive/Facebook/data/fea_sample/storage_sample_stage5.h5')\n",
        "    hdf.put('train_df',df_final_train, format='table', data_columns=True)\n",
        "    hdf.put('test_df',df_final_test, format='table', data_columns=True)\n",
        "    hdf.close()\n",
        "else:\n",
        "    df_final_train = read_hdf('/content/drive/MyDrive/Facebook/data/fea_sample/storage_sample_stage5.h5', 'train_df',mode='r')\n",
        "    df_final_test = read_hdf('/content/drive/MyDrive/Facebook/data/fea_sample/storage_sample_stage5.h5', 'test_df',mode='r')\n",
        "    \n",
        "print(\"Time taken for creation of dataframe is {}\".format(datetime.datetime.now() - startTime))"
      ],
      "execution_count": 61,
      "outputs": [
        {
          "output_type": "stream",
          "name": "stdout",
          "text": [
            "Current Time =  2021-09-19 10:36:08.749403\n",
            "Time taken for creation of dataframe is 0:03:11.476205\n"
          ]
        }
      ]
    },
    {
      "cell_type": "code",
      "metadata": {
        "colab": {
          "base_uri": "https://localhost:8080/"
        },
        "id": "V5zeAcmKo9jM",
        "outputId": "4097513e-509b-4a24-d9ec-921e7bd6ba89"
      },
      "source": [
        "# for Train data\n",
        "\n",
        "x1 = list(df_final_train['svd_u_s_1'])\n",
        "x2 = list(df_final_train['svd_u_s_2'])\n",
        "x3 = list(df_final_train['svd_u_s_3'])\n",
        "x4 = list(df_final_train['svd_u_s_4'])\n",
        "x5 = list(df_final_train['svd_u_s_5'])\n",
        "x6 = list(df_final_train['svd_u_s_6'])\n",
        "\n",
        "x7 = list(df_final_train['svd_u_d_1'])\n",
        "x8 = list(df_final_train['svd_u_d_2'])\n",
        "x9 = list(df_final_train['svd_u_d_3'])\n",
        "x10 = list(df_final_train['svd_u_d_4'])\n",
        "x11 = list(df_final_train['svd_u_d_5'])\n",
        "x12 = list(df_final_train['svd_u_d_6'])\n",
        "\n",
        "y1 = list(df_final_train['svd_v_s_1'])\n",
        "y2 = list(df_final_train['svd_v_s_2'])\n",
        "y3 = list(df_final_train['svd_v_s_3'])\n",
        "y4 = list(df_final_train['svd_v_s_4'])\n",
        "y5 = list(df_final_train['svd_v_s_5'])\n",
        "y6 = list(df_final_train['svd_v_s_6'])\n",
        "\n",
        "y7 = list(df_final_train['svd_v_d_1'])\n",
        "y8 = list(df_final_train['svd_v_d_2'])\n",
        "y9 = list(df_final_train['svd_v_d_3'])\n",
        "y10 = list(df_final_train['svd_v_d_4'])\n",
        "y11 = list(df_final_train['svd_v_d_5'])\n",
        "y12 = list(df_final_train['svd_v_d_6'])\n",
        "\n",
        "print(np.shape(x1))\n",
        "print(np.shape(x2))\n",
        "print(np.shape(x3))\n",
        "print(np.shape(x4))\n",
        "print(np.shape(x5))\n",
        "print(np.shape(x6))\n",
        "print(np.shape(x7))\n",
        "print(np.shape(x8))\n",
        "print(np.shape(x9))\n",
        "print(np.shape(x10))\n",
        "print(np.shape(x11))\n",
        "print(np.shape(x12))\n",
        "\n",
        "print(np.shape(y1))\n",
        "print(np.shape(y2))\n",
        "print(np.shape(y3))\n",
        "print(np.shape(y4))\n",
        "print(np.shape(y5))\n",
        "print(np.shape(y6))\n",
        "print(np.shape(y7))\n",
        "print(np.shape(y8))\n",
        "print(np.shape(y9))\n",
        "print(np.shape(y10))\n",
        "print(np.shape(y11))\n",
        "print(np.shape(y12))\n",
        "\n",
        "train_u_source = []\n",
        "train_u_destination = []\n",
        "train_v_source = []\n",
        "train_v_destination = []\n",
        "train_u_s_dot = []\n",
        "train_u_d_dot = []\n",
        "\n",
        "for loop1 in range(0,len(x1)):\n",
        "    train_u_source.append(x1[loop1])                             \n",
        "    train_u_source.append(x2[loop1])\n",
        "    train_u_source.append(x3[loop1])\n",
        "    train_u_source.append(x4[loop1])\n",
        "    train_u_source.append(x5[loop1])\n",
        "    train_u_source.append(x6[loop1])\n",
        "\n",
        "    train_u_destination.append(x7[loop1]) \n",
        "    train_u_destination.append(x8[loop1])\n",
        "    train_u_destination.append(x9[loop1])\n",
        "    train_u_destination.append(x10[loop1])\n",
        "    train_u_destination.append(x11[loop1])\n",
        "    train_u_destination.append(x12[loop1])\n",
        "\n",
        "    dot_product = np.dot(train_u_source[loop1],train_u_destination[loop1])\n",
        "    train_u_s_dot.append(dot_product)\n",
        "\n",
        "    \n",
        "for loop2 in range(0,len(y1)):   \n",
        "    train_v_source.append(y1[loop2]) \n",
        "    train_v_source.append(y2[loop2])\n",
        "    train_v_source.append(y3[loop2])\n",
        "    train_v_source.append(y4[loop2])\n",
        "    train_v_source.append(y5[loop2])\n",
        "    train_v_source.append(y6[loop2])\n",
        "\n",
        "    train_v_destination.append(y7[loop2]) \n",
        "    train_v_destination.append(y8[loop2])\n",
        "    train_v_destination.append(y9[loop2])\n",
        "    train_v_destination.append(y10[loop2])\n",
        "    train_v_destination.append(y11[loop2])\n",
        "    train_v_destination.append(y12[loop2])\n",
        "\n",
        "    dot_product = np.dot(train_v_source[loop2],train_v_destination[loop2])\n",
        "    train_u_d_dot.append(dot_product)\n",
        "\n",
        "print(\"*******************************************\")\n",
        "print(np.shape(train_u_s_dot))\n",
        "print(np.shape(train_u_d_dot))"
      ],
      "execution_count": 62,
      "outputs": [
        {
          "output_type": "stream",
          "name": "stdout",
          "text": [
            "(100002,)\n",
            "(100002,)\n",
            "(100002,)\n",
            "(100002,)\n",
            "(100002,)\n",
            "(100002,)\n",
            "(100002,)\n",
            "(100002,)\n",
            "(100002,)\n",
            "(100002,)\n",
            "(100002,)\n",
            "(100002,)\n",
            "(100002,)\n",
            "(100002,)\n",
            "(100002,)\n",
            "(100002,)\n",
            "(100002,)\n",
            "(100002,)\n",
            "(100002,)\n",
            "(100002,)\n",
            "(100002,)\n",
            "(100002,)\n",
            "(100002,)\n",
            "(100002,)\n",
            "*******************************************\n",
            "(100002,)\n",
            "(100002,)\n"
          ]
        }
      ]
    },
    {
      "cell_type": "code",
      "metadata": {
        "colab": {
          "base_uri": "https://localhost:8080/"
        },
        "id": "KrPVgrSHpEnE",
        "outputId": "44a79361-c9a7-4752-9059-a25a5f505661"
      },
      "source": [
        "# for Test data\n",
        "\n",
        "x1 = list(df_final_test['svd_u_s_1'])\n",
        "x2 = list(df_final_test['svd_u_s_2'])\n",
        "x3 = list(df_final_test['svd_u_s_3'])\n",
        "x4 = list(df_final_test['svd_u_s_4'])\n",
        "x5 = list(df_final_test['svd_u_s_5'])\n",
        "x6 = list(df_final_test['svd_u_s_6'])\n",
        "\n",
        "x7 = list(df_final_test['svd_u_d_1'])\n",
        "x8 = list(df_final_test['svd_u_d_2'])\n",
        "x9 = list(df_final_test['svd_u_d_3'])\n",
        "x10 = list(df_final_test['svd_u_d_4'])\n",
        "x11 = list(df_final_test['svd_u_d_5'])\n",
        "x12 = list(df_final_test['svd_u_d_6'])\n",
        "\n",
        "y1 = list(df_final_test['svd_v_s_1'])\n",
        "y2 = list(df_final_test['svd_v_s_2'])\n",
        "y3 = list(df_final_test['svd_v_s_3'])\n",
        "y4 = list(df_final_test['svd_v_s_4'])\n",
        "y5 = list(df_final_test['svd_v_s_5'])\n",
        "y6 = list(df_final_test['svd_v_s_6'])\n",
        "\n",
        "y7 = list(df_final_test['svd_v_d_1'])\n",
        "y8 = list(df_final_test['svd_v_d_2'])\n",
        "y9 = list(df_final_test['svd_v_d_3'])\n",
        "y10 = list(df_final_test['svd_v_d_4'])\n",
        "y11 = list(df_final_test['svd_v_d_5'])\n",
        "y12 = list(df_final_test['svd_v_d_6'])\n",
        "\n",
        "print(np.shape(x1))\n",
        "print(np.shape(x2))\n",
        "print(np.shape(x3))\n",
        "print(np.shape(x4))\n",
        "print(np.shape(x5))\n",
        "print(np.shape(x6))\n",
        "print(np.shape(x7))\n",
        "print(np.shape(x8))\n",
        "print(np.shape(x9))\n",
        "print(np.shape(x10))\n",
        "print(np.shape(x11))\n",
        "print(np.shape(x12))\n",
        "\n",
        "print(np.shape(y1))\n",
        "print(np.shape(y2))\n",
        "print(np.shape(y3))\n",
        "print(np.shape(y4))\n",
        "print(np.shape(y5))\n",
        "print(np.shape(y6))\n",
        "print(np.shape(y7))\n",
        "print(np.shape(y8))\n",
        "print(np.shape(y9))\n",
        "print(np.shape(y10))\n",
        "print(np.shape(y11))\n",
        "print(np.shape(y12))\n",
        "\n",
        "\n",
        "test_u_source = []\n",
        "test_u_destination = []\n",
        "test_v_source = []\n",
        "test_v_destination = []\n",
        "test_v_s_dot = []\n",
        "test_v_d_dot = []\n",
        "\n",
        "for loop3 in range(0,len(x1)):\n",
        "    test_u_source.append(x1[loop3])                              \n",
        "    test_u_source.append(x2[loop3])\n",
        "    test_u_source.append(x3[loop3])\n",
        "    test_u_source.append(x4[loop3])\n",
        "    test_u_source.append(x5[loop3])\n",
        "    test_u_source.append(x6[loop3])\n",
        "\n",
        "    test_u_destination.append(x7[loop3])\n",
        "    test_u_destination.append(x8[loop3])\n",
        "    test_u_destination.append(x9[loop3])\n",
        "    test_u_destination.append(x10[loop3])\n",
        "    test_u_destination.append(x11[loop3])\n",
        "    test_u_destination.append(x12[loop3])\n",
        "    \n",
        "    dot_product = np.dot(test_u_source[loop3],test_u_destination[loop3])\n",
        "    test_v_s_dot.append(dot_product)\n",
        "\n",
        "for loop4 in range(0,len(y1)):\n",
        "    test_v_source.append(y1[loop4])\n",
        "    test_v_source.append(y2[loop4])\n",
        "    test_v_source.append(y3[loop4])\n",
        "    test_v_source.append(y4[loop4])\n",
        "    test_v_source.append(y5[loop4])\n",
        "    test_v_source.append(y6[loop4])\n",
        "\n",
        "    test_v_destination.append(y7[loop4])\n",
        "    test_v_destination.append(y8[loop4])\n",
        "    test_v_destination.append(y9[loop4])\n",
        "    test_v_destination.append(y10[loop4])\n",
        "    test_v_destination.append(y11[loop4])\n",
        "    test_v_destination.append(y12[loop4])\n",
        "    \n",
        "    dot_product = np.dot(test_v_source[loop4],test_v_destination[loop4])\n",
        "    test_v_d_dot.append(dot_product)\n",
        "\n",
        "print(\"*******************************************\")\n",
        "print(np.shape(test_v_s_dot))\n",
        "print(np.shape(test_v_d_dot))"
      ],
      "execution_count": 63,
      "outputs": [
        {
          "output_type": "stream",
          "name": "stdout",
          "text": [
            "(50002,)\n",
            "(50002,)\n",
            "(50002,)\n",
            "(50002,)\n",
            "(50002,)\n",
            "(50002,)\n",
            "(50002,)\n",
            "(50002,)\n",
            "(50002,)\n",
            "(50002,)\n",
            "(50002,)\n",
            "(50002,)\n",
            "(50002,)\n",
            "(50002,)\n",
            "(50002,)\n",
            "(50002,)\n",
            "(50002,)\n",
            "(50002,)\n",
            "(50002,)\n",
            "(50002,)\n",
            "(50002,)\n",
            "(50002,)\n",
            "(50002,)\n",
            "(50002,)\n",
            "*******************************************\n",
            "(50002,)\n",
            "(50002,)\n"
          ]
        }
      ]
    },
    {
      "cell_type": "code",
      "metadata": {
        "colab": {
          "base_uri": "https://localhost:8080/"
        },
        "id": "5_EznHgupJnI",
        "outputId": "8a5eb99e-7db6-4104-cdd1-1066e3e734ef"
      },
      "source": [
        "startTime = datetime.datetime.now()\n",
        "print(\"Current Time = \",startTime)\n",
        "\n",
        "if not os.path.isfile('/content/drive/MyDrive/Facebook/data/fea_sample/storage_sample_stage6.h5'):\n",
        "    #===================================================================================================\n",
        "    df_final_train['s_dot'] = np.array(train_u_s_dot)\n",
        "    df_final_train['d_dot'] = np.array(train_u_d_dot)\n",
        "    \n",
        "    df_final_test['s_dot'] = np.array(test_v_s_dot)\n",
        "    df_final_test['d_dot'] = np.array(test_v_d_dot)\n",
        "\n",
        "    hdf = HDFStore('/content/drive/MyDrive/Facebook/data/fea_sample/storage_sample_stage6.h5')\n",
        "    hdf.put('train_df',df_final_train, format='table', data_columns=True)\n",
        "    hdf.put('test_df',df_final_test, format='table', data_columns=True)\n",
        "    hdf.close()\n",
        "else:\n",
        "    df_final_train = read_hdf('/content/drive/MyDrive/Facebook/data/fea_sample/storage_sample_stage6.h5', 'train_df',mode='r')\n",
        "    df_final_test = read_hdf('/content/drive/MyDrive/Facebook/data/fea_sample/storage_sample_stage6.h5', 'test_df',mode='r')\n",
        "    \n",
        "print(\"Time taken for creation of dataframe is {}\".format(datetime.datetime.now() - startTime))"
      ],
      "execution_count": 64,
      "outputs": [
        {
          "output_type": "stream",
          "name": "stdout",
          "text": [
            "Current Time =  2021-09-19 10:41:16.927772\n",
            "Time taken for creation of dataframe is 0:00:08.322808\n"
          ]
        }
      ]
    },
    {
      "cell_type": "code",
      "metadata": {
        "id": "IaxEaS_XpZju"
      },
      "source": [
        "#reading\n",
        "from pandas import read_hdf\n",
        "df_final_train = read_hdf('/content/drive/MyDrive/Facebook/data/fea_sample/storage_sample_stage6.h5', 'train_df',mode='r')\n",
        "df_final_test = read_hdf('/content/drive/MyDrive/Facebook/data/fea_sample/storage_sample_stage6.h5', 'test_df',mode='r')"
      ],
      "execution_count": 5,
      "outputs": []
    },
    {
      "cell_type": "code",
      "metadata": {
        "colab": {
          "base_uri": "https://localhost:8080/",
          "height": 545
        },
        "id": "EcXkt6B5pfUv",
        "outputId": "71054408-7317-40cd-ce81-eb482cb5d46c"
      },
      "source": [
        "df_final_test.loc[:,'adar_index':][:10]"
      ],
      "execution_count": 6,
      "outputs": [
        {
          "output_type": "execute_result",
          "data": {
            "text/html": [
              "<div>\n",
              "<style scoped>\n",
              "    .dataframe tbody tr th:only-of-type {\n",
              "        vertical-align: middle;\n",
              "    }\n",
              "\n",
              "    .dataframe tbody tr th {\n",
              "        vertical-align: top;\n",
              "    }\n",
              "\n",
              "    .dataframe thead th {\n",
              "        text-align: right;\n",
              "    }\n",
              "</style>\n",
              "<table border=\"1\" class=\"dataframe\">\n",
              "  <thead>\n",
              "    <tr style=\"text-align: right;\">\n",
              "      <th></th>\n",
              "      <th>adar_index</th>\n",
              "      <th>follows_back</th>\n",
              "      <th>same_comp</th>\n",
              "      <th>shortest_path</th>\n",
              "      <th>weight_in</th>\n",
              "      <th>weight_out</th>\n",
              "      <th>weight_f1</th>\n",
              "      <th>weight_f2</th>\n",
              "      <th>weight_f3</th>\n",
              "      <th>weight_f4</th>\n",
              "      <th>page_rank_s</th>\n",
              "      <th>page_rank_d</th>\n",
              "      <th>katz_s</th>\n",
              "      <th>katz_d</th>\n",
              "      <th>hubs_s</th>\n",
              "      <th>hubs_d</th>\n",
              "      <th>authorities_s</th>\n",
              "      <th>authorities_d</th>\n",
              "      <th>svd_u_s_1</th>\n",
              "      <th>svd_u_s_2</th>\n",
              "      <th>svd_u_s_3</th>\n",
              "      <th>svd_u_s_4</th>\n",
              "      <th>svd_u_s_5</th>\n",
              "      <th>svd_u_s_6</th>\n",
              "      <th>svd_u_d_1</th>\n",
              "      <th>svd_u_d_2</th>\n",
              "      <th>svd_u_d_3</th>\n",
              "      <th>svd_u_d_4</th>\n",
              "      <th>svd_u_d_5</th>\n",
              "      <th>svd_u_d_6</th>\n",
              "      <th>svd_v_s_1</th>\n",
              "      <th>svd_v_s_2</th>\n",
              "      <th>svd_v_s_3</th>\n",
              "      <th>svd_v_s_4</th>\n",
              "      <th>svd_v_s_5</th>\n",
              "      <th>svd_v_s_6</th>\n",
              "      <th>svd_v_d_1</th>\n",
              "      <th>svd_v_d_2</th>\n",
              "      <th>svd_v_d_3</th>\n",
              "      <th>svd_v_d_4</th>\n",
              "      <th>svd_v_d_5</th>\n",
              "      <th>svd_v_d_6</th>\n",
              "      <th>followee_preferential_attachment</th>\n",
              "      <th>follower_preferential_attachment</th>\n",
              "      <th>s_dot</th>\n",
              "      <th>d_dot</th>\n",
              "    </tr>\n",
              "  </thead>\n",
              "  <tbody>\n",
              "    <tr>\n",
              "      <th>0</th>\n",
              "      <td>0.000000</td>\n",
              "      <td>1</td>\n",
              "      <td>1</td>\n",
              "      <td>2</td>\n",
              "      <td>0.258199</td>\n",
              "      <td>0.377964</td>\n",
              "      <td>0.636163</td>\n",
              "      <td>0.097590</td>\n",
              "      <td>0.894362</td>\n",
              "      <td>1.014128</td>\n",
              "      <td>6.557971e-07</td>\n",
              "      <td>1.559547e-06</td>\n",
              "      <td>0.000754</td>\n",
              "      <td>0.000786</td>\n",
              "      <td>3.243237e-16</td>\n",
              "      <td>1.745627e-16</td>\n",
              "      <td>2.969838e-15</td>\n",
              "      <td>9.269213e-14</td>\n",
              "      <td>-9.987979e-12</td>\n",
              "      <td>2.283696e-13</td>\n",
              "      <td>1.439960e-10</td>\n",
              "      <td>6.136173e-13</td>\n",
              "      <td>4.188172e-13</td>\n",
              "      <td>5.983632e-15</td>\n",
              "      <td>-1.026186e-11</td>\n",
              "      <td>5.316645e-13</td>\n",
              "      <td>5.843192e-10</td>\n",
              "      <td>1.166048e-13</td>\n",
              "      <td>2.253356e-11</td>\n",
              "      <td>3.220618e-15</td>\n",
              "      <td>-2.148852e-13</td>\n",
              "      <td>1.883259e-13</td>\n",
              "      <td>5.904813e-11</td>\n",
              "      <td>2.701538e-12</td>\n",
              "      <td>4.341620e-13</td>\n",
              "      <td>5.535504e-14</td>\n",
              "      <td>-9.994077e-10</td>\n",
              "      <td>5.791914e-10</td>\n",
              "      <td>3.512351e-07</td>\n",
              "      <td>2.486660e-09</td>\n",
              "      <td>2.771146e-09</td>\n",
              "      <td>1.727695e-12</td>\n",
              "      <td>54</td>\n",
              "      <td>84</td>\n",
              "      <td>1.024953e-22</td>\n",
              "      <td>2.147580e-22</td>\n",
              "    </tr>\n",
              "    <tr>\n",
              "      <th>1</th>\n",
              "      <td>0.000000</td>\n",
              "      <td>1</td>\n",
              "      <td>1</td>\n",
              "      <td>7</td>\n",
              "      <td>0.235702</td>\n",
              "      <td>0.707107</td>\n",
              "      <td>0.942809</td>\n",
              "      <td>0.166667</td>\n",
              "      <td>1.178511</td>\n",
              "      <td>1.649916</td>\n",
              "      <td>2.172064e-07</td>\n",
              "      <td>1.148360e-06</td>\n",
              "      <td>0.000739</td>\n",
              "      <td>0.000801</td>\n",
              "      <td>1.702625e-19</td>\n",
              "      <td>2.706300e-15</td>\n",
              "      <td>2.522357e-16</td>\n",
              "      <td>5.277458e-15</td>\n",
              "      <td>-2.079271e-15</td>\n",
              "      <td>7.009789e-16</td>\n",
              "      <td>6.970671e-10</td>\n",
              "      <td>9.562491e-15</td>\n",
              "      <td>1.728774e-15</td>\n",
              "      <td>3.062102e-18</td>\n",
              "      <td>-1.960465e-11</td>\n",
              "      <td>2.861620e-11</td>\n",
              "      <td>1.939769e-08</td>\n",
              "      <td>1.907404e-12</td>\n",
              "      <td>3.797447e-11</td>\n",
              "      <td>4.992975e-14</td>\n",
              "      <td>-4.054500e-13</td>\n",
              "      <td>2.895772e-13</td>\n",
              "      <td>2.545371e-10</td>\n",
              "      <td>2.248602e-14</td>\n",
              "      <td>3.601010e-13</td>\n",
              "      <td>4.701442e-15</td>\n",
              "      <td>-9.360663e-12</td>\n",
              "      <td>3.206811e-10</td>\n",
              "      <td>4.668669e-08</td>\n",
              "      <td>6.665782e-12</td>\n",
              "      <td>1.495980e-10</td>\n",
              "      <td>9.836693e-14</td>\n",
              "      <td>19</td>\n",
              "      <td>34</td>\n",
              "      <td>1.214160e-25</td>\n",
              "      <td>1.090767e-22</td>\n",
              "    </tr>\n",
              "    <tr>\n",
              "      <th>2</th>\n",
              "      <td>0.000000</td>\n",
              "      <td>0</td>\n",
              "      <td>1</td>\n",
              "      <td>5</td>\n",
              "      <td>0.301511</td>\n",
              "      <td>0.242536</td>\n",
              "      <td>0.544047</td>\n",
              "      <td>0.073127</td>\n",
              "      <td>0.845558</td>\n",
              "      <td>0.786583</td>\n",
              "      <td>1.853369e-06</td>\n",
              "      <td>1.587858e-06</td>\n",
              "      <td>0.000789</td>\n",
              "      <td>0.000770</td>\n",
              "      <td>9.426796e-14</td>\n",
              "      <td>4.116616e-16</td>\n",
              "      <td>2.253244e-15</td>\n",
              "      <td>2.079387e-15</td>\n",
              "      <td>-1.782380e-11</td>\n",
              "      <td>2.389626e-11</td>\n",
              "      <td>1.443051e-06</td>\n",
              "      <td>2.358032e-12</td>\n",
              "      <td>2.689639e-12</td>\n",
              "      <td>1.739179e-12</td>\n",
              "      <td>-1.863945e-13</td>\n",
              "      <td>1.806795e-13</td>\n",
              "      <td>2.544592e-07</td>\n",
              "      <td>1.693298e-13</td>\n",
              "      <td>2.712751e-13</td>\n",
              "      <td>7.594780e-15</td>\n",
              "      <td>-4.148333e-13</td>\n",
              "      <td>4.618813e-12</td>\n",
              "      <td>1.122147e-05</td>\n",
              "      <td>1.778932e-12</td>\n",
              "      <td>2.740539e-13</td>\n",
              "      <td>4.199839e-14</td>\n",
              "      <td>-4.253081e-13</td>\n",
              "      <td>4.789464e-13</td>\n",
              "      <td>3.479854e-07</td>\n",
              "      <td>1.630554e-13</td>\n",
              "      <td>3.954763e-13</td>\n",
              "      <td>3.875785e-14</td>\n",
              "      <td>144</td>\n",
              "      <td>150</td>\n",
              "      <td>8.413963e-20</td>\n",
              "      <td>2.073977e-17</td>\n",
              "    </tr>\n",
              "    <tr>\n",
              "      <th>3</th>\n",
              "      <td>0.000000</td>\n",
              "      <td>0</td>\n",
              "      <td>1</td>\n",
              "      <td>3</td>\n",
              "      <td>0.162221</td>\n",
              "      <td>0.301511</td>\n",
              "      <td>0.463733</td>\n",
              "      <td>0.048912</td>\n",
              "      <td>0.625954</td>\n",
              "      <td>0.765244</td>\n",
              "      <td>7.000791e-07</td>\n",
              "      <td>1.657820e-06</td>\n",
              "      <td>0.000778</td>\n",
              "      <td>0.000884</td>\n",
              "      <td>9.876114e-14</td>\n",
              "      <td>1.039593e-13</td>\n",
              "      <td>1.511694e-14</td>\n",
              "      <td>3.478438e-14</td>\n",
              "      <td>-4.491249e-11</td>\n",
              "      <td>9.917542e-13</td>\n",
              "      <td>7.891237e-06</td>\n",
              "      <td>9.458631e-12</td>\n",
              "      <td>2.715849e-11</td>\n",
              "      <td>1.822075e-12</td>\n",
              "      <td>-1.070734e-10</td>\n",
              "      <td>2.888085e-12</td>\n",
              "      <td>2.070700e-05</td>\n",
              "      <td>7.229382e-12</td>\n",
              "      <td>3.563661e-11</td>\n",
              "      <td>1.917977e-12</td>\n",
              "      <td>-8.942576e-12</td>\n",
              "      <td>5.535692e-12</td>\n",
              "      <td>5.223671e-06</td>\n",
              "      <td>7.917208e-13</td>\n",
              "      <td>4.020726e-12</td>\n",
              "      <td>2.817658e-13</td>\n",
              "      <td>-2.162598e-11</td>\n",
              "      <td>6.939286e-12</td>\n",
              "      <td>1.879855e-05</td>\n",
              "      <td>4.384839e-12</td>\n",
              "      <td>1.239415e-11</td>\n",
              "      <td>6.483488e-13</td>\n",
              "      <td>340</td>\n",
              "      <td>407</td>\n",
              "      <td>7.155072e-26</td>\n",
              "      <td>6.717807e-21</td>\n",
              "    </tr>\n",
              "    <tr>\n",
              "      <th>4</th>\n",
              "      <td>6.136433</td>\n",
              "      <td>0</td>\n",
              "      <td>1</td>\n",
              "      <td>2</td>\n",
              "      <td>0.188982</td>\n",
              "      <td>0.250000</td>\n",
              "      <td>0.438982</td>\n",
              "      <td>0.047246</td>\n",
              "      <td>0.627964</td>\n",
              "      <td>0.688982</td>\n",
              "      <td>7.103008e-07</td>\n",
              "      <td>1.181606e-06</td>\n",
              "      <td>0.000779</td>\n",
              "      <td>0.000840</td>\n",
              "      <td>1.557332e-15</td>\n",
              "      <td>1.096037e-14</td>\n",
              "      <td>5.180869e-15</td>\n",
              "      <td>1.296135e-14</td>\n",
              "      <td>-9.778566e-13</td>\n",
              "      <td>5.724665e-13</td>\n",
              "      <td>4.951878e-06</td>\n",
              "      <td>1.396839e-12</td>\n",
              "      <td>2.153250e-11</td>\n",
              "      <td>2.873133e-14</td>\n",
              "      <td>-2.275782e-11</td>\n",
              "      <td>1.007625e-12</td>\n",
              "      <td>2.517620e-06</td>\n",
              "      <td>1.394103e-10</td>\n",
              "      <td>2.961999e-11</td>\n",
              "      <td>2.022109e-13</td>\n",
              "      <td>-3.804983e-12</td>\n",
              "      <td>1.593137e-13</td>\n",
              "      <td>1.035013e-06</td>\n",
              "      <td>1.361586e-13</td>\n",
              "      <td>1.154625e-12</td>\n",
              "      <td>9.656659e-14</td>\n",
              "      <td>-8.742939e-12</td>\n",
              "      <td>7.467395e-12</td>\n",
              "      <td>1.256876e-05</td>\n",
              "      <td>3.637116e-12</td>\n",
              "      <td>3.948478e-12</td>\n",
              "      <td>2.415875e-13</td>\n",
              "      <td>405</td>\n",
              "      <td>324</td>\n",
              "      <td>9.437444e-24</td>\n",
              "      <td>1.203126e-21</td>\n",
              "    </tr>\n",
              "    <tr>\n",
              "      <th>5</th>\n",
              "      <td>0.000000</td>\n",
              "      <td>0</td>\n",
              "      <td>0</td>\n",
              "      <td>-1</td>\n",
              "      <td>0.588969</td>\n",
              "      <td>0.301511</td>\n",
              "      <td>0.890481</td>\n",
              "      <td>0.177581</td>\n",
              "      <td>1.479450</td>\n",
              "      <td>1.191992</td>\n",
              "      <td>3.803655e-07</td>\n",
              "      <td>5.615700e-07</td>\n",
              "      <td>0.000739</td>\n",
              "      <td>0.000748</td>\n",
              "      <td>2.494904e-16</td>\n",
              "      <td>0.000000e+00</td>\n",
              "      <td>3.442852e-22</td>\n",
              "      <td>0.000000e+00</td>\n",
              "      <td>-8.977730e-15</td>\n",
              "      <td>4.542106e-15</td>\n",
              "      <td>9.100090e-14</td>\n",
              "      <td>2.419531e-13</td>\n",
              "      <td>4.586961e-14</td>\n",
              "      <td>4.602974e-15</td>\n",
              "      <td>0.000000e+00</td>\n",
              "      <td>0.000000e+00</td>\n",
              "      <td>0.000000e+00</td>\n",
              "      <td>0.000000e+00</td>\n",
              "      <td>0.000000e+00</td>\n",
              "      <td>0.000000e+00</td>\n",
              "      <td>-1.833403e-20</td>\n",
              "      <td>9.285738e-21</td>\n",
              "      <td>1.692577e-19</td>\n",
              "      <td>4.541384e-19</td>\n",
              "      <td>4.512054e-20</td>\n",
              "      <td>5.144783e-21</td>\n",
              "      <td>0.000000e+00</td>\n",
              "      <td>0.000000e+00</td>\n",
              "      <td>0.000000e+00</td>\n",
              "      <td>0.000000e+00</td>\n",
              "      <td>0.000000e+00</td>\n",
              "      <td>0.000000e+00</td>\n",
              "      <td>0</td>\n",
              "      <td>0</td>\n",
              "      <td>1.927099e-29</td>\n",
              "      <td>9.563661e-26</td>\n",
              "    </tr>\n",
              "    <tr>\n",
              "      <th>6</th>\n",
              "      <td>0.000000</td>\n",
              "      <td>1</td>\n",
              "      <td>1</td>\n",
              "      <td>-1</td>\n",
              "      <td>1.000000</td>\n",
              "      <td>0.353553</td>\n",
              "      <td>1.353553</td>\n",
              "      <td>0.353553</td>\n",
              "      <td>2.353553</td>\n",
              "      <td>1.707107</td>\n",
              "      <td>1.251767e-06</td>\n",
              "      <td>1.655650e-07</td>\n",
              "      <td>0.000762</td>\n",
              "      <td>0.000731</td>\n",
              "      <td>2.188066e-14</td>\n",
              "      <td>5.745713e-16</td>\n",
              "      <td>8.005011e-14</td>\n",
              "      <td>0.000000e+00</td>\n",
              "      <td>-2.143381e-11</td>\n",
              "      <td>1.069559e-09</td>\n",
              "      <td>3.714264e-11</td>\n",
              "      <td>2.544021e-11</td>\n",
              "      <td>2.935397e-11</td>\n",
              "      <td>4.036825e-13</td>\n",
              "      <td>-5.328101e-14</td>\n",
              "      <td>4.141293e-11</td>\n",
              "      <td>9.755929e-12</td>\n",
              "      <td>3.072218e-13</td>\n",
              "      <td>2.571311e-13</td>\n",
              "      <td>1.060024e-14</td>\n",
              "      <td>-5.259869e-12</td>\n",
              "      <td>4.156213e-09</td>\n",
              "      <td>1.005038e-09</td>\n",
              "      <td>3.214437e-11</td>\n",
              "      <td>3.218195e-11</td>\n",
              "      <td>1.492060e-12</td>\n",
              "      <td>0.000000e+00</td>\n",
              "      <td>0.000000e+00</td>\n",
              "      <td>0.000000e+00</td>\n",
              "      <td>0.000000e+00</td>\n",
              "      <td>0.000000e+00</td>\n",
              "      <td>0.000000e+00</td>\n",
              "      <td>7</td>\n",
              "      <td>0</td>\n",
              "      <td>4.076338e-26</td>\n",
              "      <td>3.795281e-24</td>\n",
              "    </tr>\n",
              "    <tr>\n",
              "      <th>7</th>\n",
              "      <td>3.095903</td>\n",
              "      <td>1</td>\n",
              "      <td>1</td>\n",
              "      <td>2</td>\n",
              "      <td>0.250000</td>\n",
              "      <td>0.288675</td>\n",
              "      <td>0.538675</td>\n",
              "      <td>0.072169</td>\n",
              "      <td>0.788675</td>\n",
              "      <td>0.827350</td>\n",
              "      <td>1.319717e-06</td>\n",
              "      <td>1.790599e-06</td>\n",
              "      <td>0.000777</td>\n",
              "      <td>0.000789</td>\n",
              "      <td>1.672452e-17</td>\n",
              "      <td>9.345255e-14</td>\n",
              "      <td>6.722380e-16</td>\n",
              "      <td>1.844117e-15</td>\n",
              "      <td>-2.047394e-14</td>\n",
              "      <td>3.044494e-14</td>\n",
              "      <td>8.187945e-13</td>\n",
              "      <td>4.405199e-15</td>\n",
              "      <td>1.083203e-14</td>\n",
              "      <td>3.087778e-16</td>\n",
              "      <td>-1.012195e-11</td>\n",
              "      <td>2.126978e-11</td>\n",
              "      <td>2.838897e-11</td>\n",
              "      <td>2.212357e-13</td>\n",
              "      <td>7.222865e-12</td>\n",
              "      <td>1.724136e-12</td>\n",
              "      <td>-3.073750e-13</td>\n",
              "      <td>3.261901e-13</td>\n",
              "      <td>1.624182e-11</td>\n",
              "      <td>6.881363e-15</td>\n",
              "      <td>1.193122e-13</td>\n",
              "      <td>1.252991e-14</td>\n",
              "      <td>-9.799884e-10</td>\n",
              "      <td>8.288353e-13</td>\n",
              "      <td>4.597542e-11</td>\n",
              "      <td>5.675211e-13</td>\n",
              "      <td>4.877886e-13</td>\n",
              "      <td>3.437265e-14</td>\n",
              "      <td>275</td>\n",
              "      <td>180</td>\n",
              "      <td>2.005935e-26</td>\n",
              "      <td>9.286194e-23</td>\n",
              "    </tr>\n",
              "    <tr>\n",
              "      <th>8</th>\n",
              "      <td>0.000000</td>\n",
              "      <td>0</td>\n",
              "      <td>0</td>\n",
              "      <td>-1</td>\n",
              "      <td>0.588969</td>\n",
              "      <td>0.301511</td>\n",
              "      <td>0.890481</td>\n",
              "      <td>0.177581</td>\n",
              "      <td>1.479450</td>\n",
              "      <td>1.191992</td>\n",
              "      <td>3.329817e-07</td>\n",
              "      <td>5.615700e-07</td>\n",
              "      <td>0.000747</td>\n",
              "      <td>0.000748</td>\n",
              "      <td>6.356182e-17</td>\n",
              "      <td>0.000000e+00</td>\n",
              "      <td>6.831622e-17</td>\n",
              "      <td>0.000000e+00</td>\n",
              "      <td>-9.936168e-14</td>\n",
              "      <td>1.079876e-12</td>\n",
              "      <td>5.993043e-12</td>\n",
              "      <td>1.324376e-13</td>\n",
              "      <td>2.225664e-08</td>\n",
              "      <td>1.167633e-15</td>\n",
              "      <td>0.000000e+00</td>\n",
              "      <td>0.000000e+00</td>\n",
              "      <td>0.000000e+00</td>\n",
              "      <td>0.000000e+00</td>\n",
              "      <td>0.000000e+00</td>\n",
              "      <td>0.000000e+00</td>\n",
              "      <td>-3.979062e-13</td>\n",
              "      <td>4.048195e-13</td>\n",
              "      <td>1.475414e-11</td>\n",
              "      <td>1.649614e-14</td>\n",
              "      <td>4.449603e-10</td>\n",
              "      <td>1.273243e-15</td>\n",
              "      <td>0.000000e+00</td>\n",
              "      <td>0.000000e+00</td>\n",
              "      <td>0.000000e+00</td>\n",
              "      <td>0.000000e+00</td>\n",
              "      <td>0.000000e+00</td>\n",
              "      <td>0.000000e+00</td>\n",
              "      <td>0</td>\n",
              "      <td>0</td>\n",
              "      <td>1.352149e-17</td>\n",
              "      <td>1.188350e-17</td>\n",
              "    </tr>\n",
              "    <tr>\n",
              "      <th>9</th>\n",
              "      <td>0.000000</td>\n",
              "      <td>1</td>\n",
              "      <td>1</td>\n",
              "      <td>-1</td>\n",
              "      <td>0.377964</td>\n",
              "      <td>1.000000</td>\n",
              "      <td>1.377964</td>\n",
              "      <td>0.377964</td>\n",
              "      <td>1.755929</td>\n",
              "      <td>2.377964</td>\n",
              "      <td>2.848986e-07</td>\n",
              "      <td>1.207745e-06</td>\n",
              "      <td>0.000735</td>\n",
              "      <td>0.000754</td>\n",
              "      <td>0.000000e+00</td>\n",
              "      <td>2.025499e-19</td>\n",
              "      <td>1.424379e-21</td>\n",
              "      <td>3.734454e-17</td>\n",
              "      <td>-1.239807e-20</td>\n",
              "      <td>3.995559e-21</td>\n",
              "      <td>-2.638351e-20</td>\n",
              "      <td>8.489545e-21</td>\n",
              "      <td>-4.980640e-20</td>\n",
              "      <td>-4.642214e-20</td>\n",
              "      <td>-1.283844e-17</td>\n",
              "      <td>4.572415e-17</td>\n",
              "      <td>1.101346e-15</td>\n",
              "      <td>6.381983e-16</td>\n",
              "      <td>7.002492e-16</td>\n",
              "      <td>3.846340e-18</td>\n",
              "      <td>-1.300495e-19</td>\n",
              "      <td>4.556001e-19</td>\n",
              "      <td>1.069079e-17</td>\n",
              "      <td>6.099618e-18</td>\n",
              "      <td>5.594937e-18</td>\n",
              "      <td>2.732659e-20</td>\n",
              "      <td>-1.036071e-13</td>\n",
              "      <td>6.846015e-15</td>\n",
              "      <td>2.417007e-13</td>\n",
              "      <td>6.131611e-14</td>\n",
              "      <td>1.297121e-13</td>\n",
              "      <td>6.960691e-16</td>\n",
              "      <td>0</td>\n",
              "      <td>6</td>\n",
              "      <td>1.823953e-26</td>\n",
              "      <td>1.498869e-25</td>\n",
              "    </tr>\n",
              "  </tbody>\n",
              "</table>\n",
              "</div>"
            ],
            "text/plain": [
              "   adar_index  follows_back  ...         s_dot         d_dot\n",
              "0    0.000000             1  ...  1.024953e-22  2.147580e-22\n",
              "1    0.000000             1  ...  1.214160e-25  1.090767e-22\n",
              "2    0.000000             0  ...  8.413963e-20  2.073977e-17\n",
              "3    0.000000             0  ...  7.155072e-26  6.717807e-21\n",
              "4    6.136433             0  ...  9.437444e-24  1.203126e-21\n",
              "5    0.000000             0  ...  1.927099e-29  9.563661e-26\n",
              "6    0.000000             1  ...  4.076338e-26  3.795281e-24\n",
              "7    3.095903             1  ...  2.005935e-26  9.286194e-23\n",
              "8    0.000000             0  ...  1.352149e-17  1.188350e-17\n",
              "9    0.000000             1  ...  1.823953e-26  1.498869e-25\n",
              "\n",
              "[10 rows x 46 columns]"
            ]
          },
          "metadata": {},
          "execution_count": 6
        }
      ]
    },
    {
      "cell_type": "code",
      "metadata": {
        "colab": {
          "base_uri": "https://localhost:8080/"
        },
        "id": "ujmHfwkLpwDp",
        "outputId": "5df8f243-d658-4f15-a50b-380204559a6e"
      },
      "source": [
        "df_final_train.columns"
      ],
      "execution_count": 7,
      "outputs": [
        {
          "output_type": "execute_result",
          "data": {
            "text/plain": [
              "Index(['source_node', 'destination_node', 'indicator_link',\n",
              "       'jaccard_followers', 'jaccard_followees', 'cosine_followers',\n",
              "       'cosine_followees', 'num_followers_s', 'num_followees_s',\n",
              "       'num_followees_d', 'inter_followers', 'inter_followees', 'adar_index',\n",
              "       'follows_back', 'same_comp', 'shortest_path', 'weight_in', 'weight_out',\n",
              "       'weight_f1', 'weight_f2', 'weight_f3', 'weight_f4', 'page_rank_s',\n",
              "       'page_rank_d', 'katz_s', 'katz_d', 'hubs_s', 'hubs_d', 'authorities_s',\n",
              "       'authorities_d', 'svd_u_s_1', 'svd_u_s_2', 'svd_u_s_3', 'svd_u_s_4',\n",
              "       'svd_u_s_5', 'svd_u_s_6', 'svd_u_d_1', 'svd_u_d_2', 'svd_u_d_3',\n",
              "       'svd_u_d_4', 'svd_u_d_5', 'svd_u_d_6', 'svd_v_s_1', 'svd_v_s_2',\n",
              "       'svd_v_s_3', 'svd_v_s_4', 'svd_v_s_5', 'svd_v_s_6', 'svd_v_d_1',\n",
              "       'svd_v_d_2', 'svd_v_d_3', 'svd_v_d_4', 'svd_v_d_5', 'svd_v_d_6',\n",
              "       'followee_preferential_attachment', 'follower_preferential_attachment',\n",
              "       's_dot', 'd_dot'],\n",
              "      dtype='object')"
            ]
          },
          "metadata": {},
          "execution_count": 7
        }
      ]
    },
    {
      "cell_type": "code",
      "metadata": {
        "id": "HMC9FTwmqIVq"
      },
      "source": [
        "y_train = df_final_train.indicator_link\n",
        "y_test = df_final_test.indicator_link"
      ],
      "execution_count": 8,
      "outputs": []
    },
    {
      "cell_type": "code",
      "metadata": {
        "id": "p25oVi4IqJY3"
      },
      "source": [
        "df_final_train.drop(['source_node', 'destination_node','indicator_link'],axis=1,inplace=True)\n",
        "df_final_test.drop(['source_node', 'destination_node','indicator_link'],axis=1,inplace=True)\n"
      ],
      "execution_count": 9,
      "outputs": []
    },
    {
      "cell_type": "code",
      "metadata": {
        "colab": {
          "base_uri": "https://localhost:8080/"
        },
        "id": "mqx5ZxQErj8Z",
        "outputId": "856932dc-c4ee-493e-b02b-3b5f3bcb533e"
      },
      "source": [
        "df_final_test.columns, df_final_test.shape"
      ],
      "execution_count": 11,
      "outputs": [
        {
          "output_type": "execute_result",
          "data": {
            "text/plain": [
              "(Index(['jaccard_followers', 'jaccard_followees', 'cosine_followers',\n",
              "        'cosine_followees', 'num_followers_s', 'num_followees_s',\n",
              "        'num_followees_d', 'inter_followers', 'inter_followees', 'adar_index',\n",
              "        'follows_back', 'same_comp', 'shortest_path', 'weight_in', 'weight_out',\n",
              "        'weight_f1', 'weight_f2', 'weight_f3', 'weight_f4', 'page_rank_s',\n",
              "        'page_rank_d', 'katz_s', 'katz_d', 'hubs_s', 'hubs_d', 'authorities_s',\n",
              "        'authorities_d', 'svd_u_s_1', 'svd_u_s_2', 'svd_u_s_3', 'svd_u_s_4',\n",
              "        'svd_u_s_5', 'svd_u_s_6', 'svd_u_d_1', 'svd_u_d_2', 'svd_u_d_3',\n",
              "        'svd_u_d_4', 'svd_u_d_5', 'svd_u_d_6', 'svd_v_s_1', 'svd_v_s_2',\n",
              "        'svd_v_s_3', 'svd_v_s_4', 'svd_v_s_5', 'svd_v_s_6', 'svd_v_d_1',\n",
              "        'svd_v_d_2', 'svd_v_d_3', 'svd_v_d_4', 'svd_v_d_5', 'svd_v_d_6',\n",
              "        'followee_preferential_attachment', 'follower_preferential_attachment',\n",
              "        's_dot', 'd_dot'],\n",
              "       dtype='object'), (50002, 55))"
            ]
          },
          "metadata": {},
          "execution_count": 11
        }
      ]
    },
    {
      "cell_type": "code",
      "metadata": {
        "colab": {
          "base_uri": "https://localhost:8080/"
        },
        "id": "fTvcP24orpKR",
        "outputId": "c87afc91-c16c-4e6e-a4b5-542662747f37"
      },
      "source": [
        "df_final_train.columns, df_final_train.shape"
      ],
      "execution_count": 12,
      "outputs": [
        {
          "output_type": "execute_result",
          "data": {
            "text/plain": [
              "(Index(['jaccard_followers', 'jaccard_followees', 'cosine_followers',\n",
              "        'cosine_followees', 'num_followers_s', 'num_followees_s',\n",
              "        'num_followees_d', 'inter_followers', 'inter_followees', 'adar_index',\n",
              "        'follows_back', 'same_comp', 'shortest_path', 'weight_in', 'weight_out',\n",
              "        'weight_f1', 'weight_f2', 'weight_f3', 'weight_f4', 'page_rank_s',\n",
              "        'page_rank_d', 'katz_s', 'katz_d', 'hubs_s', 'hubs_d', 'authorities_s',\n",
              "        'authorities_d', 'svd_u_s_1', 'svd_u_s_2', 'svd_u_s_3', 'svd_u_s_4',\n",
              "        'svd_u_s_5', 'svd_u_s_6', 'svd_u_d_1', 'svd_u_d_2', 'svd_u_d_3',\n",
              "        'svd_u_d_4', 'svd_u_d_5', 'svd_u_d_6', 'svd_v_s_1', 'svd_v_s_2',\n",
              "        'svd_v_s_3', 'svd_v_s_4', 'svd_v_s_5', 'svd_v_s_6', 'svd_v_d_1',\n",
              "        'svd_v_d_2', 'svd_v_d_3', 'svd_v_d_4', 'svd_v_d_5', 'svd_v_d_6',\n",
              "        'followee_preferential_attachment', 'follower_preferential_attachment',\n",
              "        's_dot', 'd_dot'],\n",
              "       dtype='object'), (100002, 55))"
            ]
          },
          "metadata": {},
          "execution_count": 12
        }
      ]
    },
    {
      "cell_type": "code",
      "metadata": {
        "colab": {
          "base_uri": "https://localhost:8080/",
          "height": 413
        },
        "id": "BlzMRoDKrr-6",
        "outputId": "d4481ce5-477b-47eb-9734-da2bdf05c128"
      },
      "source": [
        "from sklearn.ensemble import RandomForestClassifier\n",
        "from sklearn.metrics import f1_score\n",
        "startTime = datetime.datetime.now()\n",
        "print(\"Current Time = \",startTime)\n",
        "\n",
        "estimators = [10,50,100,250,450]\n",
        "train_scores = []\n",
        "test_scores = []\n",
        "for i in estimators:\n",
        "    clf = RandomForestClassifier(bootstrap=True, class_weight=None, criterion='gini',\n",
        "            max_depth=5, max_features='auto', max_leaf_nodes=None,\n",
        "            min_impurity_decrease=0.0, min_impurity_split=None,\n",
        "            min_samples_leaf=52, min_samples_split=120,\n",
        "            min_weight_fraction_leaf=0.0, n_estimators=i,random_state=25,verbose=0,warm_start=False)\n",
        "    clf.fit(df_final_train,y_train) \n",
        "    train_sc = f1_score(y_train,clf.predict(df_final_train))\n",
        "    test_sc = f1_score(y_test,clf.predict(df_final_test))\n",
        "    test_scores.append(test_sc)\n",
        "    train_scores.append(train_sc)\n",
        "    print('Estimators = ',i,'Train Score',train_sc,'test Score',test_sc)\n",
        "plt.plot(estimators,train_scores,label='Train Score')\n",
        "plt.plot(estimators,test_scores,label='Test Score')\n",
        "plt.xlabel('Estimators')\n",
        "plt.ylabel('Score')\n",
        "plt.title('Estimators vs score at depth of 5')\n",
        "\n",
        "print(\"Time taken for creation of dataframe is {}\".format(datetime.datetime.now() - startTime))\n"
      ],
      "execution_count": 24,
      "outputs": [
        {
          "output_type": "stream",
          "name": "stdout",
          "text": [
            "Current Time =  2021-09-20 07:41:10.553767\n",
            "Estimators =  10 Train Score 0.9168054647804179 test Score 0.8991258141926637\n",
            "Estimators =  50 Train Score 0.9220895584588777 test Score 0.8937688248990665\n",
            "Estimators =  100 Train Score 0.9218287697728152 test Score 0.9153860707603692\n",
            "Estimators =  250 Train Score 0.9211508895233912 test Score 0.9164059383071205\n",
            "Estimators =  450 Train Score 0.9216563839799227 test Score 0.9170952910797137\n",
            "Time taken for creation of dataframe is 0:02:29.644470\n"
          ]
        },
        {
          "output_type": "display_data",
          "data": {
            "image/png": "[encoded data removed]",
            "text/plain": [
              "<Figure size 432x288 with 1 Axes>"
            ]
          },
          "metadata": {
            "needs_background": "light"
          }
        }
      ]
    },
    {
      "cell_type": "code",
      "metadata": {
        "colab": {
          "base_uri": "https://localhost:8080/",
          "height": 480
        },
        "id": "RBKpccflspHp",
        "outputId": "c00a1b37-a9b1-4742-b9bc-2f8d5bd644ff"
      },
      "source": [
        "startTime = datetime.datetime.now()\n",
        "print(\"Current Time = \",startTime)\n",
        "\n",
        "depths = [3,9,11,15,20,35,50,70,130]\n",
        "train_scores = []\n",
        "test_scores = []\n",
        "for i in depths:\n",
        "    clf = RandomForestClassifier(bootstrap=True, class_weight=None, criterion='gini',\n",
        "            max_depth=i, max_features='auto', max_leaf_nodes=None,\n",
        "            min_impurity_decrease=0.0, min_impurity_split=None,\n",
        "            min_samples_leaf=52, min_samples_split=120,\n",
        "            min_weight_fraction_leaf=0.0, n_estimators=115, random_state=25,verbose=0,warm_start=False)\n",
        "    clf.fit(df_final_train,y_train)\n",
        "    train_sc = f1_score(y_train,clf.predict(df_final_train))\n",
        "    test_sc = f1_score(y_test,clf.predict(df_final_test))\n",
        "    test_scores.append(test_sc)\n",
        "    train_scores.append(train_sc)\n",
        "    print('depth = ',i,'Train Score',train_sc,'test Score',test_sc)\n",
        "plt.plot(depths,train_scores,label='Train Score')\n",
        "plt.plot(depths,test_scores,label='Test Score')\n",
        "plt.xlabel('Depth')\n",
        "plt.ylabel('Score')\n",
        "plt.title('Depth vs score at depth of 5 at estimators = 115')\n",
        "plt.show()\n",
        "\n",
        "print(\"Time taken for creation of dataframe is {}\".format(datetime.datetime.now() - startTime))"
      ],
      "execution_count": 25,
      "outputs": [
        {
          "output_type": "stream",
          "name": "stdout",
          "text": [
            "Current Time =  2021-09-20 07:43:42.154849\n",
            "depth =  3 Train Score 0.9094969294708766 test Score 0.8923076923076922\n",
            "depth =  9 Train Score 0.9586727982787979 test Score 0.9234631450149783\n",
            "depth =  11 Train Score 0.9615533269594579 test Score 0.92516748830742\n",
            "depth =  15 Train Score 0.9629599545122248 test Score 0.9252643552260185\n",
            "depth =  20 Train Score 0.963790564217155 test Score 0.9259657330720111\n",
            "depth =  35 Train Score 0.963760461525961 test Score 0.9260593800703796\n",
            "depth =  50 Train Score 0.963760461525961 test Score 0.9260593800703796\n",
            "depth =  70 Train Score 0.963760461525961 test Score 0.9260593800703796\n",
            "depth =  130 Train Score 0.963760461525961 test Score 0.9260593800703796\n"
          ]
        },
        {
          "output_type": "display_data",
          "data": {
            "image/png": "[encoded data removed]",
            "text/plain": [
              "<Figure size 432x288 with 1 Axes>"
            ]
          },
          "metadata": {
            "needs_background": "light"
          }
        },
        {
          "output_type": "stream",
          "name": "stdout",
          "text": [
            "Time taken for creation of dataframe is 0:04:21.631803\n"
          ]
        }
      ]
    },
    {
      "cell_type": "code",
      "metadata": {
        "colab": {
          "base_uri": "https://localhost:8080/"
        },
        "id": "5UJFB40ns0mr",
        "outputId": "937e248d-e216-4e5c-8d22-e2c8bd88f14d"
      },
      "source": [
        "from sklearn.metrics import f1_score\n",
        "from sklearn.ensemble import RandomForestClassifier\n",
        "from sklearn.metrics import f1_score\n",
        "from sklearn.model_selection import RandomizedSearchCV\n",
        "from scipy.stats import randint as sp_randint\n",
        "from scipy.stats import uniform\n",
        "\n",
        "startTime = datetime.datetime.now()\n",
        "print(\"Current Time = \",startTime)\n",
        "\n",
        "param_dist = {\"n_estimators\":sp_randint(105,125),\n",
        "              \"max_depth\": sp_randint(10,15),\n",
        "              \"min_samples_split\": sp_randint(110,190),\n",
        "              \"min_samples_leaf\": sp_randint(25,65)}\n",
        "\n",
        "clf = RandomForestClassifier(random_state=25)\n",
        "\n",
        "rf_random = RandomizedSearchCV(clf, param_distributions=param_dist,\n",
        "                                   n_iter=5,cv=10,scoring='f1',random_state=25)\n",
        "\n",
        "rf_random.fit(df_final_train,y_train)\n"
      ],
      "execution_count": 26,
      "outputs": [
        {
          "output_type": "stream",
          "name": "stdout",
          "text": [
            "Current Time =  2021-09-20 07:48:03.804317\n"
          ]
        },
        {
          "output_type": "execute_result",
          "data": {
            "text/plain": [
              "RandomizedSearchCV(cv=10, error_score=nan,\n",
              "                   estimator=RandomForestClassifier(bootstrap=True,\n",
              "                                                    ccp_alpha=0.0,\n",
              "                                                    class_weight=None,\n",
              "                                                    criterion='gini',\n",
              "                                                    max_depth=None,\n",
              "                                                    max_features='auto',\n",
              "                                                    max_leaf_nodes=None,\n",
              "                                                    max_samples=None,\n",
              "                                                    min_impurity_decrease=0.0,\n",
              "                                                    min_impurity_split=None,\n",
              "                                                    min_samples_leaf=1,\n",
              "                                                    min_samples_split=2,\n",
              "                                                    min_weight_fraction_leaf=0.0,\n",
              "                                                    n_estimators=100,\n",
              "                                                    n_job...\n",
              "                                        'min_samples_leaf': <scipy.stats._distn_infrastructure.rv_frozen object at 0x7f4eff3dc650>,\n",
              "                                        'min_samples_split': <scipy.stats._distn_infrastructure.rv_frozen object at 0x7f4eff30ee10>,\n",
              "                                        'n_estimators': <scipy.stats._distn_infrastructure.rv_frozen object at 0x7f4eff30e5d0>},\n",
              "                   pre_dispatch='2*n_jobs', random_state=25, refit=True,\n",
              "                   return_train_score=False, scoring='f1', verbose=0)"
            ]
          },
          "metadata": {},
          "execution_count": 26
        }
      ]
    },
    {
      "cell_type": "code",
      "metadata": {
        "colab": {
          "base_uri": "https://localhost:8080/"
        },
        "id": "9cb3L3VMypyz",
        "outputId": "7349404b-4525-4374-9be2-ada0b7794650"
      },
      "source": [
        "#print('mean test scores',rf_random.cv_results_['mean_test_score'])\n",
        "#print('mean train scores',rf_random.cv_results_['mean_train_score'])\n",
        "print(\"*******************************************************\")\n",
        "print(rf_random.best_estimator_)\n",
        "\n",
        "clf = RandomForestClassifier(bootstrap=True, class_weight=None, criterion='gini',\n",
        "            max_depth=14, max_features='auto', max_leaf_nodes=None,\n",
        "            min_impurity_decrease=0.0, min_impurity_split=None,\n",
        "            min_samples_leaf=28, min_samples_split=111,\n",
        "            min_weight_fraction_leaf=0.0, n_estimators=121, n_jobs=-1,\n",
        "            oob_score=False, random_state=25, verbose=0, warm_start=False)\n",
        "\n",
        "clf.fit(df_final_train,y_train)\n",
        "y_train_pred = clf.predict(df_final_train)\n",
        "y_test_pred = clf.predict(df_final_test)\n",
        "\n",
        "from sklearn.metrics import f1_score\n",
        "print('\\nTrain f1 score',f1_score(y_train,y_train_pred))\n",
        "print('Test f1 score',f1_score(y_test,y_test_pred))\n",
        "\n",
        "print(\"Time taken for creation of dataframe is {}\".format(datetime.datetime.now() - startTime))"
      ],
      "execution_count": 27,
      "outputs": [
        {
          "output_type": "stream",
          "name": "stdout",
          "text": [
            "*******************************************************\n",
            "RandomForestClassifier(bootstrap=True, ccp_alpha=0.0, class_weight=None,\n",
            "                       criterion='gini', max_depth=14, max_features='auto',\n",
            "                       max_leaf_nodes=None, max_samples=None,\n",
            "                       min_impurity_decrease=0.0, min_impurity_split=None,\n",
            "                       min_samples_leaf=28, min_samples_split=111,\n",
            "                       min_weight_fraction_leaf=0.0, n_estimators=121,\n",
            "                       n_jobs=None, oob_score=False, random_state=25, verbose=0,\n",
            "                       warm_start=False)\n",
            "\n",
            "Train f1 score 0.9643266955735856\n",
            "Test f1 score 0.9263264402706634\n",
            "Time taken for creation of dataframe is 0:22:50.695773\n"
          ]
        }
      ]
    },
    {
      "cell_type": "code",
      "metadata": {
        "id": "oHHfidlRs83X"
      },
      "source": [
        "from sklearn.metrics import confusion_matrix\n",
        "def plot_confusion_matrix(test_y, predict_y):\n",
        "    C = confusion_matrix(test_y, predict_y)\n",
        "    \n",
        "    A =(((C.T)/(C.sum(axis=1))).T)\n",
        "    \n",
        "    B =(C/C.sum(axis=0))\n",
        "    plt.figure(figsize=(20,4))\n",
        "    \n",
        "    labels = [0,1]\n",
        "    # representing A in heatmap format\n",
        "    cmap=sns.light_palette(\"blue\")\n",
        "    plt.subplot(1, 3, 1)\n",
        "    sns.heatmap(C, annot=True, cmap=cmap, fmt=\".3f\", xticklabels=labels, yticklabels=labels)\n",
        "    plt.xlabel('Predicted Class')\n",
        "    plt.ylabel('Original Class')\n",
        "    plt.title(\"Confusion matrix\")\n",
        "    \n",
        "    plt.subplot(1, 3, 2)\n",
        "    sns.heatmap(B, annot=True, cmap=cmap, fmt=\".3f\", xticklabels=labels, yticklabels=labels)\n",
        "    plt.xlabel('Predicted Class')\n",
        "    plt.ylabel('Original Class')\n",
        "    plt.title(\"Precision matrix\")\n",
        "    \n",
        "    plt.subplot(1, 3, 3)\n",
        "    # representing B in heatmap format\n",
        "    sns.heatmap(A, annot=True, cmap=cmap, fmt=\".3f\", xticklabels=labels, yticklabels=labels)\n",
        "    plt.xlabel('Predicted Class')\n",
        "    plt.ylabel('Original Class')\n",
        "    plt.title(\"Recall matrix\")\n",
        "    \n",
        "    plt.show()"
      ],
      "execution_count": 16,
      "outputs": []
    },
    {
      "cell_type": "code",
      "metadata": {
        "colab": {
          "base_uri": "https://localhost:8080/",
          "height": 606
        },
        "id": "G0JQ2ZoUtAb7",
        "outputId": "ab829f16-dbf8-4623-ec06-fd91b1e47d96"
      },
      "source": [
        "print('Train confusion_matrix')\n",
        "plot_confusion_matrix(y_train,y_train_pred)\n",
        "print('Test confusion_matrix')\n",
        "plot_confusion_matrix(y_test,y_test_pred)"
      ],
      "execution_count": 28,
      "outputs": [
        {
          "output_type": "stream",
          "name": "stdout",
          "text": [
            "Train confusion_matrix\n"
          ]
        },
        {
          "output_type": "display_data",
          "data": {
            "image/png": "[encoded data removed]",
            "text/plain": [
              "<Figure size 1440x288 with 6 Axes>"
            ]
          },
          "metadata": {
            "needs_background": "light"
          }
        },
        {
          "output_type": "stream",
          "name": "stdout",
          "text": [
            "Test confusion_matrix\n"
          ]
        },
        {
          "output_type": "display_data",
          "data": {
            "image/png": "[encoded data removed]",
            "text/plain": [
              "<Figure size 1440x288 with 6 Axes>"
            ]
          },
          "metadata": {
            "needs_background": "light"
          }
        }
      ]
    },
    {
      "cell_type": "code",
      "metadata": {
        "colab": {
          "base_uri": "https://localhost:8080/",
          "height": 295
        },
        "id": "_SGIUrqZtExk",
        "outputId": "3c7c790b-c033-47df-d098-6771b1c3234b"
      },
      "source": [
        "from sklearn.metrics import roc_curve, auc\n",
        "fpr,tpr,ths = roc_curve(y_test,y_test_pred)\n",
        "auc_sc = auc(fpr, tpr)\n",
        "plt.plot(fpr, tpr, color='navy',label='ROC curve (area = %0.2f)' % auc_sc)\n",
        "plt.xlabel('False Positive Rate')\n",
        "plt.ylabel('True Positive Rate')\n",
        "plt.title('Receiver operating characteristic with test data')\n",
        "plt.legend()\n",
        "plt.show()\n"
      ],
      "execution_count": 29,
      "outputs": [
        {
          "output_type": "display_data",
          "data": {
            "image/png": "[encoded data removed]",
            "text/plain": [
              "<Figure size 432x288 with 1 Axes>"
            ]
          },
          "metadata": {
            "needs_background": "light"
          }
        }
      ]
    },
    {
      "cell_type": "code",
      "metadata": {
        "colab": {
          "base_uri": "https://localhost:8080/",
          "height": 730
        },
        "id": "rShU-haBtLMw",
        "outputId": "5ec5ff1b-635b-43d7-9b50-78cfba3b62bb"
      },
      "source": [
        "features = df_final_train.columns\n",
        "importances = clf.feature_importances_\n",
        "indices = (np.argsort(importances))[-25:]\n",
        "plt.figure(figsize=(10,12))\n",
        "plt.title('Feature Importances')\n",
        "plt.barh(range(len(indices)), importances[indices], color='r', align='center')\n",
        "plt.yticks(range(len(indices)), [features[i] for i in indices])\n",
        "plt.xlabel('Relative Importance')\n",
        "plt.show()"
      ],
      "execution_count": 30,
      "outputs": [
        {
          "output_type": "display_data",
          "data": {
            "image/png": "[encoded data removed]",
            "text/plain": [
              "<Figure size 720x864 with 1 Axes>"
            ]
          },
          "metadata": {
            "needs_background": "light"
          }
        }
      ]
    },
    {
      "cell_type": "markdown",
      "metadata": {
        "id": "HR3QdTRSwqzc"
      },
      "source": [
        "Hyper-parameter tunning using XGBoost"
      ]
    },
    {
      "cell_type": "code",
      "metadata": {
        "colab": {
          "base_uri": "https://localhost:8080/"
        },
        "id": "deDHZcVScVGQ",
        "outputId": "f92d00f5-f1e7-4598-8e60-b0b515fffc66"
      },
      "source": [
        "import xgboost as xgb\n",
        "clf = xgb.XGBClassifier()\n",
        "param_dist = {\"n_estimators\":sp_randint(105,125),\n",
        "              \"max_depth\": sp_randint(10,15)\n",
        "              }\n",
        "model = RandomizedSearchCV(clf, param_distributions=param_dist,\n",
        "                                   n_iter=5,cv=3,scoring='f1',random_state=25,return_train_score=True)\n",
        "\n",
        "\n",
        "model.fit(df_final_train,y_train)\n",
        "print('mean test scores',model.cv_results_['mean_test_score'])\n",
        "print('mean train scores',model.cv_results_['mean_train_score'])"
      ],
      "execution_count": 34,
      "outputs": [
        {
          "output_type": "stream",
          "name": "stdout",
          "text": [
            "mean test scores [0.97965255 0.97967356 0.97923936 0.97979006 0.97972997]\n",
            "mean train scores [0.99998501 1.         0.99452855 0.99711555 0.99742171]\n"
          ]
        }
      ]
    },
    {
      "cell_type": "code",
      "metadata": {
        "colab": {
          "base_uri": "https://localhost:8080/"
        },
        "id": "PBYgyF9Lcfa2",
        "outputId": "5c1ab697-9179-467a-8b22-22679401f5ed"
      },
      "source": [
        "print(model.best_estimator_)"
      ],
      "execution_count": 35,
      "outputs": [
        {
          "output_type": "stream",
          "name": "stdout",
          "text": [
            "XGBClassifier(base_score=0.5, booster='gbtree', colsample_bylevel=1,\n",
            "              colsample_bynode=1, colsample_bytree=1, gamma=0,\n",
            "              learning_rate=0.1, max_delta_step=0, max_depth=11,\n",
            "              min_child_weight=1, missing=None, n_estimators=110, n_jobs=1,\n",
            "              nthread=None, objective='binary:logistic', random_state=0,\n",
            "              reg_alpha=0, reg_lambda=1, scale_pos_weight=1, seed=None,\n",
            "              silent=None, subsample=1, verbosity=1)\n"
          ]
        }
      ]
    },
    {
      "cell_type": "code",
      "metadata": {
        "id": "VRnd_clFcii2"
      },
      "source": [
        "clf=xgb.XGBClassifier(base_score=0.5, booster='gbtree', colsample_bylevel=1,\n",
        "       colsample_bytree=1, gamma=0, learning_rate=0.1, max_delta_step=0,\n",
        "       max_depth=11, min_child_weight=1, missing=None, n_estimators=110,\n",
        "       n_jobs=1, nthread=None, objective='binary:logistic', random_state=0,\n",
        "       reg_alpha=0, reg_lambda=1, scale_pos_weight=1, seed=None,\n",
        "       silent=True, subsample=1)"
      ],
      "execution_count": 36,
      "outputs": []
    },
    {
      "cell_type": "code",
      "metadata": {
        "id": "JohQHhkIcmab"
      },
      "source": [
        "clf.fit(df_final_train,y_train)\n",
        "y_train_pred = clf.predict(df_final_train)\n",
        "y_test_pred = clf.predict(df_final_test)"
      ],
      "execution_count": 37,
      "outputs": []
    },
    {
      "cell_type": "code",
      "metadata": {
        "colab": {
          "base_uri": "https://localhost:8080/"
        },
        "id": "YJE6ot-WcplK",
        "outputId": "cfa79b37-7596-47e8-f89f-5c52ab36ab8b"
      },
      "source": [
        "from sklearn.metrics import f1_score\n",
        "print('Train f1 score',f1_score(y_train,y_train_pred))\n",
        "print('Test f1 score',f1_score(y_test,y_test_pred))"
      ],
      "execution_count": 38,
      "outputs": [
        {
          "output_type": "stream",
          "name": "stdout",
          "text": [
            "Train f1 score 0.9950475197497693\n",
            "Test f1 score 0.9268075167215203\n"
          ]
        }
      ]
    },
    {
      "cell_type": "code",
      "metadata": {
        "colab": {
          "base_uri": "https://localhost:8080/",
          "height": 606
        },
        "id": "lDguptK9cuqE",
        "outputId": "dc1e93e5-a4d8-46bc-f860-2686371a8837"
      },
      "source": [
        "print('Train confusion_matrix')\n",
        "plot_confusion_matrix(y_train,y_train_pred)\n",
        "print('Test confusion_matrix')\n",
        "plot_confusion_matrix(y_test,y_test_pred)"
      ],
      "execution_count": 39,
      "outputs": [
        {
          "output_type": "stream",
          "name": "stdout",
          "text": [
            "Train confusion_matrix\n"
          ]
        },
        {
          "output_type": "display_data",
          "data": {
            "image/png": "[encoded data removed]",
            "text/plain": [
              "<Figure size 1440x288 with 6 Axes>"
            ]
          },
          "metadata": {
            "needs_background": "light"
          }
        },
        {
          "output_type": "stream",
          "name": "stdout",
          "text": [
            "Test confusion_matrix\n"
          ]
        },
        {
          "output_type": "display_data",
          "data": {
            "image/png": "[encoded data removed]",
            "text/plain": [
              "<Figure size 1440x288 with 6 Axes>"
            ]
          },
          "metadata": {
            "needs_background": "light"
          }
        }
      ]
    },
    {
      "cell_type": "code",
      "metadata": {
        "colab": {
          "base_uri": "https://localhost:8080/",
          "height": 295
        },
        "id": "tCu_u0Umcvg9",
        "outputId": "9521ba26-5f71-421a-8770-8cc106f17ea7"
      },
      "source": [
        "from sklearn.metrics import roc_curve, auc\n",
        "fpr,tpr,ths = roc_curve(y_test,y_test_pred)\n",
        "auc_sc = auc(fpr, tpr)\n",
        "plt.plot(fpr, tpr, color='navy',label='ROC curve (area = %0.2f)' % auc_sc)\n",
        "plt.xlabel('False Positive Rate')\n",
        "plt.ylabel('True Positive Rate')\n",
        "plt.title('Receiver operating characteristic with test data')\n",
        "plt.legend()\n",
        "plt.show()"
      ],
      "execution_count": 40,
      "outputs": [
        {
          "output_type": "display_data",
          "data": {
            "image/png": "[encoded data removed]",
            "text/plain": [
              "<Figure size 432x288 with 1 Axes>"
            ]
          },
          "metadata": {
            "needs_background": "light"
          }
        }
      ]
    },
    {
      "cell_type": "code",
      "metadata": {
        "colab": {
          "base_uri": "https://localhost:8080/",
          "height": 730
        },
        "id": "I2kAs5Xlcyt7",
        "outputId": "f546f9c4-d6d4-40e9-d101-024a6b111e51"
      },
      "source": [
        "features = df_final_train.columns\n",
        "importances = clf.feature_importances_\n",
        "indices = (np.argsort(importances))[-25:]\n",
        "plt.figure(figsize=(10,12))\n",
        "plt.title('Feature Importances')\n",
        "plt.barh(range(len(indices)), importances[indices], color='r', align='center')\n",
        "plt.yticks(range(len(indices)), [features[i] for i in indices])\n",
        "plt.xlabel('Relative Importance')\n",
        "plt.show()"
      ],
      "execution_count": 41,
      "outputs": [
        {
          "output_type": "display_data",
          "data": {
            "image/png": "[encoded data removed]",
            "text/plain": [
              "<Figure size 720x864 with 1 Axes>"
            ]
          },
          "metadata": {
            "needs_background": "light"
          }
        }
      ]
    },
    {
      "cell_type": "code",
      "metadata": {
        "colab": {
          "base_uri": "https://localhost:8080/"
        },
        "id": "GSrPeJ8nw6x2",
        "outputId": "08a24f9b-4ae7-41de-b73e-ebda35428d1d"
      },
      "source": [
        "from prettytable import PrettyTable\n",
        "x = PrettyTable()\n",
        "x.field_names = [\"Model \",\"Train f1_score\",\"Test f1_score\"]\n",
        "x.add_row([\"RandomForest \",0.9643266955735856,0.9263264402706634])\n",
        "x.add_row([\"XGBClassifier \",0.9950475197497693,0.9268075167215203])\n",
        "print(x)"
      ],
      "execution_count": 42,
      "outputs": [
        {
          "output_type": "stream",
          "name": "stdout",
          "text": [
            "+----------------+--------------------+--------------------+\n",
            "|     Model      |   Train f1_score   |   Test f1_score    |\n",
            "+----------------+--------------------+--------------------+\n",
            "| RandomForest   | 0.9643266955735856 | 0.9263264402706634 |\n",
            "| XGBClassifier  | 0.9950475197497693 | 0.9268075167215203 |\n",
            "+----------------+--------------------+--------------------+\n"
          ]
        }
      ]
    }
  ]
}