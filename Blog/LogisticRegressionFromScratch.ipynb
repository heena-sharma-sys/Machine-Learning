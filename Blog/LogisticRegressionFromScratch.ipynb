{
  "nbformat": 4,
  "nbformat_minor": 0,
  "metadata": {
    "colab": {
      "name": "LogisticRegressionFromScratch.ipynb",
      "provenance": [],
      "collapsed_sections": [],
      "authorship_tag": "ABX9TyPmxzmiU6IRIxk9mXjc+3HP",
      "include_colab_link": true
    },
    "kernelspec": {
      "name": "python3",
      "display_name": "Python 3"
    },
    "language_info": {
      "name": "python"
    }
  },
  "cells": [
    {
      "cell_type": "markdown",
      "metadata": {
        "id": "view-in-github",
        "colab_type": "text"
      },
      "source": [
        "<a href=\"https://colab.research.google.com/github/heena-sharma-sys/Machine-Learning/blob/main/LogisticRegressionFromScratch.ipynb\" target=\"_parent\"><img src=\"https://colab.research.google.com/assets/colab-badge.svg\" alt=\"Open In Colab\"/></a>"
      ]
    },
    {
      "cell_type": "markdown",
      "source": [
        "Implement SGD Classifier with Logloss and L2 regularization Using SGD without using sklearn"
      ],
      "metadata": {
        "id": "sp9fLm4a-6aV"
      }
    },
    {
      "cell_type": "markdown",
      "source": [
        "1. use sklearn.datasets.make_classification to generate n_class classification problem\n"
      ],
      "metadata": {
        "id": "1q7LQLDx_L_M"
      }
    },
    {
      "cell_type": "code",
      "execution_count": 22,
      "metadata": {
        "id": "isLXTQnD94iu"
      },
      "outputs": [],
      "source": [
        "from sklearn.datasets import make_classification\n",
        "\n",
        "# Here we are creating a 2-class classification data, with 50000 samples and 15 features \n",
        "X, y = make_classification(n_samples = 50000, n_features = 15, \n",
        "                    n_informative = 10, n_redundant = 5, \n",
        "                    n_classes = 2, weights = [0.7], \n",
        "                    class_sep = 0.7, random_state=15)"
      ]
    },
    {
      "cell_type": "markdown",
      "source": [
        "2. Split the data into Train and Test using sklearn.model_selection.**train_test_split**"
      ],
      "metadata": {
        "id": "BaMc1ifoAwjf"
      }
    },
    {
      "cell_type": "code",
      "source": [
        "from sklearn.model_selection import train_test_split\n",
        "\n",
        "X_train, X_test, y_train, y_test = train_test_split(X, y, test_size=0.25, random_state = 15)"
      ],
      "metadata": {
        "id": "F53IS3TVAwO_"
      },
      "execution_count": 23,
      "outputs": []
    },
    {
      "cell_type": "code",
      "source": [
        "X_train.shape, X_test.shape, y_train.shape, y_test.shape"
      ],
      "metadata": {
        "colab": {
          "base_uri": "https://localhost:8080/"
        },
        "id": "CQUIJ44cCyJ0",
        "outputId": "0c5b006f-9eb2-4b71-8480-7d894091325b"
      },
      "execution_count": 24,
      "outputs": [
        {
          "output_type": "execute_result",
          "data": {
            "text/plain": [
              "((37500, 15), (12500, 15), (37500,), (12500,))"
            ]
          },
          "metadata": {},
          "execution_count": 24
        }
      ]
    },
    {
      "cell_type": "markdown",
      "source": [
        "3. Standardize the data using sklearn.preprocessing.StandardScaler\n",
        "\n",
        "StandardScaler: Standardize features by removing the mean and scaling to unit variance.\n",
        "\n",
        "The standard score of a sample x is calculated as:\n",
        "\n",
        "z = (x - u) / s\n",
        "\n",
        "where u is the mean of the training samples and s is the standard deviation of the training samples"
      ],
      "metadata": {
        "id": "G_m7h2pTBhst"
      }
    },
    {
      "cell_type": "code",
      "source": [
        "from sklearn.preprocessing import StandardScaler\n",
        "\n",
        "scaler = StandardScaler()\n",
        "x_train_standard = scaler.fit_transform(X_train)\n",
        "x_test_standard = scaler.transform(X_test)"
      ],
      "metadata": {
        "id": "YkQccCsyBhEf"
      },
      "execution_count": 25,
      "outputs": []
    },
    {
      "cell_type": "code",
      "source": [
        "print (x_train_standard.shape)\n",
        "print (x_test_standard.shape)"
      ],
      "metadata": {
        "colab": {
          "base_uri": "https://localhost:8080/"
        },
        "id": "ZBK3gCNaCL24",
        "outputId": "26d670cb-c6ad-40e1-c185-f5b5e2194419"
      },
      "execution_count": 26,
      "outputs": [
        {
          "output_type": "stream",
          "name": "stdout",
          "text": [
            "(37500, 15)\n",
            "(12500, 15)\n"
          ]
        }
      ]
    },
    {
      "cell_type": "markdown",
      "source": [
        "4. Apply SGD classifier sklearn.linear_model.SGDClassifier\n",
        "\n",
        "Linear classifiers (SVM, logistic regression, etc.) with SGD training.\n",
        "\n",
        "This estimator implements regularized linear models with stochastic gradient descent (SGD) learning: the gradient of the loss is estimated each sample at a time and the model is updated along the way with a decreasing strength schedule (aka learning rate).\n"
      ],
      "metadata": {
        "id": "67nzngLmIK6p"
      }
    },
    {
      "cell_type": "code",
      "source": [
        "from sklearn.linear_model import SGDClassifier\n",
        "\n",
        "clf = SGDClassifier(eta0 = 0.0001, loss='log', alpha=0.0001, \n",
        "              random_state=15, penalty='l2', tol=1e-3, \n",
        "              verbose=2, learning_rate='constant')\n",
        "clf"
      ],
      "metadata": {
        "colab": {
          "base_uri": "https://localhost:8080/"
        },
        "id": "aEOX0U3SH1a0",
        "outputId": "f55fe96e-2302-430a-cbf6-8790d5c56243"
      },
      "execution_count": 27,
      "outputs": [
        {
          "output_type": "execute_result",
          "data": {
            "text/plain": [
              "SGDClassifier(eta0=0.0001, learning_rate='constant', loss='log',\n",
              "              random_state=15, verbose=2)"
            ]
          },
          "metadata": {},
          "execution_count": 27
        }
      ]
    },
    {
      "cell_type": "code",
      "source": [
        "clf.fit(x_train_standard, y_train)"
      ],
      "metadata": {
        "colab": {
          "base_uri": "https://localhost:8080/"
        },
        "id": "7e3PETyJK4uI",
        "outputId": "6003213f-3a13-449b-b27f-5fb6a491d455"
      },
      "execution_count": 28,
      "outputs": [
        {
          "output_type": "stream",
          "name": "stdout",
          "text": [
            "-- Epoch 1\n",
            "Norm: 0.70, NNZs: 15, Bias: -0.501317, T: 37500, Avg. loss: 0.552526\n",
            "Total training time: 0.01 seconds.\n",
            "-- Epoch 2\n",
            "Norm: 1.04, NNZs: 15, Bias: -0.752393, T: 75000, Avg. loss: 0.448021\n",
            "Total training time: 0.02 seconds.\n",
            "-- Epoch 3\n",
            "Norm: 1.26, NNZs: 15, Bias: -0.902742, T: 112500, Avg. loss: 0.415724\n",
            "Total training time: 0.03 seconds.\n",
            "-- Epoch 4\n",
            "Norm: 1.43, NNZs: 15, Bias: -1.003816, T: 150000, Avg. loss: 0.400895\n",
            "Total training time: 0.04 seconds.\n",
            "-- Epoch 5\n",
            "Norm: 1.55, NNZs: 15, Bias: -1.076296, T: 187500, Avg. loss: 0.392879\n",
            "Total training time: 0.05 seconds.\n",
            "-- Epoch 6\n",
            "Norm: 1.65, NNZs: 15, Bias: -1.131077, T: 225000, Avg. loss: 0.388094\n",
            "Total training time: 0.06 seconds.\n",
            "-- Epoch 7\n",
            "Norm: 1.73, NNZs: 15, Bias: -1.171791, T: 262500, Avg. loss: 0.385077\n",
            "Total training time: 0.06 seconds.\n",
            "-- Epoch 8\n",
            "Norm: 1.80, NNZs: 15, Bias: -1.203840, T: 300000, Avg. loss: 0.383074\n",
            "Total training time: 0.07 seconds.\n",
            "-- Epoch 9\n",
            "Norm: 1.86, NNZs: 15, Bias: -1.229563, T: 337500, Avg. loss: 0.381703\n",
            "Total training time: 0.08 seconds.\n",
            "-- Epoch 10\n",
            "Norm: 1.90, NNZs: 15, Bias: -1.251245, T: 375000, Avg. loss: 0.380763\n",
            "Total training time: 0.09 seconds.\n",
            "-- Epoch 11\n",
            "Norm: 1.94, NNZs: 15, Bias: -1.269044, T: 412500, Avg. loss: 0.380084\n",
            "Total training time: 0.10 seconds.\n",
            "-- Epoch 12\n",
            "Norm: 1.98, NNZs: 15, Bias: -1.282485, T: 450000, Avg. loss: 0.379607\n",
            "Total training time: 0.11 seconds.\n",
            "-- Epoch 13\n",
            "Norm: 2.01, NNZs: 15, Bias: -1.294386, T: 487500, Avg. loss: 0.379251\n",
            "Total training time: 0.11 seconds.\n",
            "-- Epoch 14\n",
            "Norm: 2.03, NNZs: 15, Bias: -1.305805, T: 525000, Avg. loss: 0.378992\n",
            "Total training time: 0.12 seconds.\n",
            "Convergence after 14 epochs took 0.12 seconds\n"
          ]
        },
        {
          "output_type": "execute_result",
          "data": {
            "text/plain": [
              "SGDClassifier(eta0=0.0001, learning_rate='constant', loss='log',\n",
              "              random_state=15, verbose=2)"
            ]
          },
          "metadata": {},
          "execution_count": 28
        }
      ]
    },
    {
      "cell_type": "code",
      "source": [
        "clf.coef_, clf.intercept_"
      ],
      "metadata": {
        "colab": {
          "base_uri": "https://localhost:8080/"
        },
        "id": "Y4UuDzHTLNvG",
        "outputId": "342a984d-62ae-45ba-9cfd-6b1c6339f5d4"
      },
      "execution_count": 29,
      "outputs": [
        {
          "output_type": "execute_result",
          "data": {
            "text/plain": [
              "(array([[-0.89007184,  0.63162363, -0.07594145,  0.63107107, -0.38434375,\n",
              "          0.93235243, -0.89573521, -0.07340522,  0.40591417,  0.4199991 ,\n",
              "          0.24722143,  0.05046199, -0.08877987,  0.54081652,  0.06643888]]),\n",
              " array([-1.30580538]))"
            ]
          },
          "metadata": {},
          "execution_count": 29
        }
      ]
    },
    {
      "cell_type": "markdown",
      "source": [
        "Implement Logistic Regression with L2 regularization Using SGD: without using sklearn"
      ],
      "metadata": {
        "id": "F2PIbtqsLXN6"
      }
    },
    {
      "cell_type": "markdown",
      "source": [
        "1. Initialize the weight_vector and intercept term to zeros (def initialize_weights())"
      ],
      "metadata": {
        "id": "Q1N2a9MaL4-_"
      }
    },
    {
      "cell_type": "code",
      "source": [
        "import numpy as np \n",
        "\n",
        "def initialize_weights(dim):\n",
        "  # numpy.zeros_like function return an array of zeros with the same shape and type as a given array\n",
        "  w = np.zeros_like(dim)\n",
        "  b = 0\n",
        "  return w, b"
      ],
      "metadata": {
        "id": "zzi30NI-LXqo"
      },
      "execution_count": 30,
      "outputs": []
    },
    {
      "cell_type": "markdown",
      "source": [
        "2. Compute Sigmoid \n",
        "\n",
        "Sigmoid(z) = 1/(1 + exp^-z)"
      ],
      "metadata": {
        "id": "77rt0cgaNKEH"
      }
    },
    {
      "cell_type": "code",
      "source": [
        "def sigmoid(z):\n",
        "  return (1/ (1+np.exp(-z)))"
      ],
      "metadata": {
        "id": "CNJnxYnuNXXR"
      },
      "execution_count": 31,
      "outputs": []
    },
    {
      "cell_type": "markdown",
      "source": [
        "3. Compute Log Loss: \n",
        "\n",
        "![Screenshot 2021-12-28 at 4.22.00 PM.png](data:image/png;base64,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)"
      ],
      "metadata": {
        "id": "P6chB5s6Xp5e"
      }
    },
    {
      "cell_type": "code",
      "source": [
        "def logloss(y_true, y_pred):\n",
        "  y_true = np.array(y_true)\n",
        "  y_pred = np.array(y_pred)\n",
        "  log_loss = -1 * np.mean( y_true*np.log10(y_pred) + (1-y_true)*np.log10(1-y_pred)) \n",
        "  return log_loss\n"
      ],
      "metadata": {
        "id": "2mpeN5uZXpMN"
      },
      "execution_count": 32,
      "outputs": []
    },
    {
      "cell_type": "code",
      "source": [
        "true1=[1,1,0,1,0]\n",
        "pred=[0.9,0.8,0.1,0.8,0.2]\n",
        "logloss(true1, pred)"
      ],
      "metadata": {
        "colab": {
          "base_uri": "https://localhost:8080/"
        },
        "id": "GHDKO0HMZn2r",
        "outputId": "49bb07a2-61ea-4dab-968c-9472fdd7cf5e"
      },
      "execution_count": 33,
      "outputs": [
        {
          "output_type": "execute_result",
          "data": {
            "text/plain": [
              "0.07644900402910389"
            ]
          },
          "metadata": {},
          "execution_count": 33
        }
      ]
    },
    {
      "cell_type": "markdown",
      "source": [
        "4. Compute gradient w.r.to 'w'\n"
      ],
      "metadata": {
        "id": "ltsI38P7gENO"
      }
    },
    {
      "cell_type": "code",
      "source": [
        "def gradient_dw(x, y, w, b, alpha, N):\n",
        "  '''In this function, we will compute the gardient w.r.to w ''' \n",
        "  dw = x * (y-sigmoid(np.dot(w.T,x)+b)) - ((alpha*w*w)/N)\n",
        "  return dw"
      ],
      "metadata": {
        "id": "PTD0f1Pg0xzW"
      },
      "execution_count": 34,
      "outputs": []
    },
    {
      "cell_type": "markdown",
      "source": [
        "5. Compute gradient w.r.to 'b'"
      ],
      "metadata": {
        "id": "I3LQp6Wd1CgU"
      }
    },
    {
      "cell_type": "code",
      "source": [
        "def gradient_db(x, y, w, b):\n",
        "  '''In this function, we will compute gradient w.r.to b ''' \n",
        "  db = y-sigmoid(np.dot(w.T,x)+b)\n",
        "  return db"
      ],
      "metadata": {
        "id": "BzkAY5m91Fgs"
      },
      "execution_count": 35,
      "outputs": []
    },
    {
      "cell_type": "markdown",
      "source": [
        ""
      ],
      "metadata": {
        "id": "WST6QLj8JRCF"
      }
    },
    {
      "cell_type": "code",
      "source": [
        "def train(X_train, y_train, X_test, y_test, epochs, alpha, eta0):\n",
        "  w, b = initialize_weights(X_train[0])\n",
        "  N = len(X_train)\n",
        "  log_loss_train = []\n",
        "  log_loss_test = []\n",
        "\n",
        "  for i in range(0, epochs):\n",
        "\n",
        "    for j in range(N):\n",
        "      grad_dw = gradient_dw(X_train[j], y_train[j], w, b, alpha, N)\n",
        "      grad_db = gradient_db(X_train[j], y_train[j], w, b)\n",
        "      w = np.array(w) + (eta0 * np.array(grad_dw))\n",
        "      b = b + (eta0 * grad_db)\n",
        "\n",
        "    # predict the output of x_train[for all data points in X_train] using w and b\n",
        "    predict_train = []\n",
        "    for m in range(len(y_train)):\n",
        "        z = np.dot(w, X_train[m])+b\n",
        "        predict_train.append(sigmoid(z)) \n",
        "    \n",
        "    # store all the train loss values in a list\n",
        "    train_loss = logloss(y_train, predict_train)\n",
        "\n",
        "    # predict the output of x_test[for all data points in X_test] using w,b\n",
        "    predict_test = []\n",
        "    for m in range(len(y_test)):\n",
        "        z = np.dot(w, X_test[m])+b\n",
        "        predict_test.append(sigmoid(z))\n",
        "    \n",
        "    # store all the test loss values in a list\n",
        "    test_loss = logloss(y_test, predict_test)\n",
        "\n",
        "    # you can also compare previous loss and current loss, if loss is not updating then stop the process and return w,b\n",
        "    if log_loss_train and train_loss > log_loss_train[-1]: # and log_loss_te st and test_loss > log_loss_test[-1]:\n",
        "      return w, b, log_loss_train, log_loss_test \n",
        "    \n",
        "    log_loss_train.append(train_loss)\n",
        "    log_loss_test.append(test_loss)\n",
        "\n",
        "  return w, b, log_loss_train, log_loss_test"
      ],
      "metadata": {
        "id": "Aeo0KG9CIycO"
      },
      "execution_count": 36,
      "outputs": []
    },
    {
      "cell_type": "code",
      "source": [
        "alpha  = 0.0001\n",
        "eta0   = 0.0001\n",
        "epochs = 50\n",
        "w, b, log_loss_train, log_loss_test = train(x_train_standard, y_train, x_test_standard, y_test, epochs, alpha, eta0)"
      ],
      "metadata": {
        "id": "yu6LXx9IxqNT"
      },
      "execution_count": 37,
      "outputs": []
    },
    {
      "cell_type": "code",
      "source": [
        "print (\"weight vector: \", w)\n",
        "print (\"Intercept: \", b)\n",
        "print (\"log loss train\", log_loss_train)\n",
        "print (\"log loss test\", log_loss_test)"
      ],
      "metadata": {
        "colab": {
          "base_uri": "https://localhost:8080/"
        },
        "id": "qt_DSoZ4xztd",
        "outputId": "7e0b8b12-084e-4519-b8ae-bea003845ccd"
      },
      "execution_count": 38,
      "outputs": [
        {
          "output_type": "stream",
          "name": "stdout",
          "text": [
            "weight vector:  [-0.97125471  0.6951594  -0.1064887   0.68159065 -0.4447256   1.00799626\n",
            " -0.94341151 -0.07316669  0.44633501  0.47814799  0.27402291  0.06013621\n",
            " -0.09610527  0.57042941  0.06404642]\n",
            "Intercept:  -1.36913995538139\n",
            "log loss train [0.2072978176856388, 0.1855621011425784, 0.1765965205148804, 0.1720128945861392, 0.16938000846776094, 0.16775336536080337, 0.166697762591738, 0.16598837463552418, 0.16549918192680005, 0.165155139127557, 0.16490944265652965, 0.16473183085833035, 0.16460216938827593, 0.16450674965688877, 0.16443606112668227, 0.16438340292881937, 0.16434399282823317, 0.16431438103363438, 0.16429205635315808, 0.1642751767820529, 0.16426238234696067, 0.16425266335708577, 0.16424526659202884, 0.16423962783801802, 0.1642353229539555, 0.16423203211204207, 0.16422951349569845, 0.1642275838437443, 0.16422610398746698, 0.1642249680526978, 0.16422409536760615, 0.16422342437809112, 0.16422290805939363, 0.1642225104471715, 0.16422220400903284, 0.16422196764897404, 0.16422178518969743, 0.1642216442166043, 0.1642215351960855, 0.16422145080222025, 0.1642213854020779, 0.16422133466189165, 0.16422129524546514, 0.1642212645830365, 0.16422124069401994, 0.1642212220509814, 0.16422120747519706, 0.16422119605641997, 0.1642211870912128, 0.16422118003552844]\n",
            "log loss test [0.2072221976559331, 0.1856525940756077, 0.1768256768689566, 0.17235324810715552, 0.16981009802052802, 0.168256634596966, 0.1672612885338201, 0.16660192951189023, 0.1661545708855621, 0.1658457263866897, 0.1656298051220947, 0.16547750011175133, 0.16536943656832084, 0.1652925160505059, 0.16523772250586094, 0.16519875911100732, 0.1651711762882296, 0.16515180004261, 0.16513834929587173, 0.16512917515200481, 0.16512308053758054, 0.1651191938210716, 0.1651168792766783, 0.16511567305437477, 0.16511523702504827, 0.1651153252870721, 0.1651157597247481, 0.1651164120901509, 0.16511719081877935, 0.16511803130076555, 0.16511888868727337, 0.16511973256471407, 0.1651205430098791, 0.1651213076688533, 0.1651220195965462, 0.16512267566216463, 0.16512327537613464, 0.16512382003094234, 0.1651243120756927, 0.16512475466447774, 0.16512515133374786, 0.16512550577516213, 0.1651258216788294, 0.1651261026281761, 0.165126352032423, 0.16512657308621484, 0.1651267687486268, 0.1651269417357802, 0.16512709452281227, 0.16512722935207644]\n"
          ]
        }
      ]
    },
    {
      "cell_type": "markdown",
      "source": [
        "Compare your implementation and SGDClassifier's the weights and intercept, make sure they are as close as possible i.e difference should be in terms of 10^-3"
      ],
      "metadata": {
        "id": "7T5filrDyFmA"
      }
    },
    {
      "cell_type": "code",
      "source": [
        "clf.intercept_, clf.coef_"
      ],
      "metadata": {
        "colab": {
          "base_uri": "https://localhost:8080/"
        },
        "id": "5H21K4i5ImE1",
        "outputId": "95e2325d-03e1-4e9e-c8f1-b8dbb6fb67e4"
      },
      "execution_count": 39,
      "outputs": [
        {
          "output_type": "execute_result",
          "data": {
            "text/plain": [
              "(array([-1.30580538]),\n",
              " array([[-0.89007184,  0.63162363, -0.07594145,  0.63107107, -0.38434375,\n",
              "          0.93235243, -0.89573521, -0.07340522,  0.40591417,  0.4199991 ,\n",
              "          0.24722143,  0.05046199, -0.08877987,  0.54081652,  0.06643888]]))"
            ]
          },
          "metadata": {},
          "execution_count": 39
        }
      ]
    }
  ]
}