{
  "nbformat": 4,
  "nbformat_minor": 0,
  "metadata": {
    "colab": {
      "name": "Copy of SQL sample queries.ipynb",
      "provenance": [],
      "collapsed_sections": [
        "O4Cj0Wdz23tA"
      ]
    },
    "kernelspec": {
      "display_name": "Python 3",
      "language": "python",
      "name": "python3"
    },
    "language_info": {
      "codemirror_mode": {
        "name": "ipython",
        "version": 3
      },
      "file_extension": ".py",
      "mimetype": "text/x-python",
      "name": "python",
      "nbconvert_exporter": "python",
      "pygments_lexer": "ipython3",
      "version": "3.6.2"
    }
  },
  "cells": [
    {
      "cell_type": "markdown",
      "metadata": {
        "id": "hmzI5oZ6E_Hp"
      },
      "source": [
        "# SQL Assignment"
      ]
    },
    {
      "cell_type": "code",
      "metadata": {
        "id": "wso5pGwnE_Ht"
      },
      "source": [
        "import pandas as pd\n",
        "import sqlite3\n",
        "\n",
        "from IPython.display import display, HTML"
      ],
      "execution_count": 1,
      "outputs": []
    },
    {
      "cell_type": "code",
      "metadata": {
        "colab": {
          "base_uri": "https://localhost:8080/"
        },
        "id": "7mcgxs4N3iHY",
        "outputId": "e7391885-91a6-46d0-b493-7471c43b38c0"
      },
      "source": [
        "from google.colab import drive\n",
        "drive.mount('/content/drive')"
      ],
      "execution_count": 2,
      "outputs": [
        {
          "output_type": "stream",
          "text": [
            "Mounted at /content/drive\n"
          ],
          "name": "stdout"
        }
      ]
    },
    {
      "cell_type": "code",
      "metadata": {
        "id": "uMYMAPLm23sp"
      },
      "source": [
        "# Note that this is not the same db we have used in course videos, please download from this link\n",
        "# https://drive.google.com/file/d/1O-1-L1DdNxEK6O6nG2jS31MbrMh-OnXM/view?usp=sharing"
      ],
      "execution_count": 3,
      "outputs": []
    },
    {
      "cell_type": "code",
      "metadata": {
        "id": "xrUl9ShkE_H0"
      },
      "source": [
        "conn = sqlite3.connect(\"/content/drive/MyDrive/Db-IMDB-Assignment.db\")"
      ],
      "execution_count": 2,
      "outputs": []
    },
    {
      "cell_type": "markdown",
      "metadata": {
        "id": "Z_ADQl2BE_H6"
      },
      "source": [
        "#### Overview of all tables"
      ]
    },
    {
      "cell_type": "code",
      "metadata": {
        "id": "7ZfheusYE_H7",
        "scrolled": true
      },
      "source": [
        "tables = pd.read_sql_query(\"SELECT NAME AS 'Table_Name' FROM sqlite_master WHERE type='table'\",conn)\n",
        "tables = tables[\"Table_Name\"].values.tolist()"
      ],
      "execution_count": 4,
      "outputs": []
    },
    {
      "cell_type": "code",
      "metadata": {
        "id": "f3zLh5FGE_H_",
        "scrolled": true,
        "colab": {
          "base_uri": "https://localhost:8080/",
          "height": 1000
        },
        "outputId": "838ce7a9-5f5c-490a-8c8c-729d9a3809ce"
      },
      "source": [
        "for table in tables:\n",
        "    query = \"PRAGMA TABLE_INFO({})\".format(table)\n",
        "    schema = pd.read_sql_query(query,conn)\n",
        "    print(\"Schema of\",table)\n",
        "    display(schema)\n",
        "    print(\"-\"*100)\n",
        "    print(\"\\n\")"
      ],
      "execution_count": 5,
      "outputs": [
        {
          "output_type": "stream",
          "text": [
            "Schema of Movie\n"
          ],
          "name": "stdout"
        },
        {
          "output_type": "display_data",
          "data": {
            "text/html": [
              "<div>\n",
              "<style scoped>\n",
              "    .dataframe tbody tr th:only-of-type {\n",
              "        vertical-align: middle;\n",
              "    }\n",
              "\n",
              "    .dataframe tbody tr th {\n",
              "        vertical-align: top;\n",
              "    }\n",
              "\n",
              "    .dataframe thead th {\n",
              "        text-align: right;\n",
              "    }\n",
              "</style>\n",
              "<table border=\"1\" class=\"dataframe\">\n",
              "  <thead>\n",
              "    <tr style=\"text-align: right;\">\n",
              "      <th></th>\n",
              "      <th>cid</th>\n",
              "      <th>name</th>\n",
              "      <th>type</th>\n",
              "      <th>notnull</th>\n",
              "      <th>dflt_value</th>\n",
              "      <th>pk</th>\n",
              "    </tr>\n",
              "  </thead>\n",
              "  <tbody>\n",
              "    <tr>\n",
              "      <th>0</th>\n",
              "      <td>0</td>\n",
              "      <td>index</td>\n",
              "      <td>INTEGER</td>\n",
              "      <td>0</td>\n",
              "      <td>None</td>\n",
              "      <td>0</td>\n",
              "    </tr>\n",
              "    <tr>\n",
              "      <th>1</th>\n",
              "      <td>1</td>\n",
              "      <td>MID</td>\n",
              "      <td>TEXT</td>\n",
              "      <td>0</td>\n",
              "      <td>None</td>\n",
              "      <td>0</td>\n",
              "    </tr>\n",
              "    <tr>\n",
              "      <th>2</th>\n",
              "      <td>2</td>\n",
              "      <td>title</td>\n",
              "      <td>TEXT</td>\n",
              "      <td>0</td>\n",
              "      <td>None</td>\n",
              "      <td>0</td>\n",
              "    </tr>\n",
              "    <tr>\n",
              "      <th>3</th>\n",
              "      <td>3</td>\n",
              "      <td>year</td>\n",
              "      <td>TEXT</td>\n",
              "      <td>0</td>\n",
              "      <td>None</td>\n",
              "      <td>0</td>\n",
              "    </tr>\n",
              "    <tr>\n",
              "      <th>4</th>\n",
              "      <td>4</td>\n",
              "      <td>rating</td>\n",
              "      <td>REAL</td>\n",
              "      <td>0</td>\n",
              "      <td>None</td>\n",
              "      <td>0</td>\n",
              "    </tr>\n",
              "    <tr>\n",
              "      <th>5</th>\n",
              "      <td>5</td>\n",
              "      <td>num_votes</td>\n",
              "      <td>INTEGER</td>\n",
              "      <td>0</td>\n",
              "      <td>None</td>\n",
              "      <td>0</td>\n",
              "    </tr>\n",
              "  </tbody>\n",
              "</table>\n",
              "</div>"
            ],
            "text/plain": [
              "   cid       name     type  notnull dflt_value  pk\n",
              "0    0      index  INTEGER        0       None   0\n",
              "1    1        MID     TEXT        0       None   0\n",
              "2    2      title     TEXT        0       None   0\n",
              "3    3       year     TEXT        0       None   0\n",
              "4    4     rating     REAL        0       None   0\n",
              "5    5  num_votes  INTEGER        0       None   0"
            ]
          },
          "metadata": {
            "tags": []
          }
        },
        {
          "output_type": "stream",
          "text": [
            "----------------------------------------------------------------------------------------------------\n",
            "\n",
            "\n",
            "Schema of Genre\n"
          ],
          "name": "stdout"
        },
        {
          "output_type": "display_data",
          "data": {
            "text/html": [
              "<div>\n",
              "<style scoped>\n",
              "    .dataframe tbody tr th:only-of-type {\n",
              "        vertical-align: middle;\n",
              "    }\n",
              "\n",
              "    .dataframe tbody tr th {\n",
              "        vertical-align: top;\n",
              "    }\n",
              "\n",
              "    .dataframe thead th {\n",
              "        text-align: right;\n",
              "    }\n",
              "</style>\n",
              "<table border=\"1\" class=\"dataframe\">\n",
              "  <thead>\n",
              "    <tr style=\"text-align: right;\">\n",
              "      <th></th>\n",
              "      <th>cid</th>\n",
              "      <th>name</th>\n",
              "      <th>type</th>\n",
              "      <th>notnull</th>\n",
              "      <th>dflt_value</th>\n",
              "      <th>pk</th>\n",
              "    </tr>\n",
              "  </thead>\n",
              "  <tbody>\n",
              "    <tr>\n",
              "      <th>0</th>\n",
              "      <td>0</td>\n",
              "      <td>index</td>\n",
              "      <td>INTEGER</td>\n",
              "      <td>0</td>\n",
              "      <td>None</td>\n",
              "      <td>0</td>\n",
              "    </tr>\n",
              "    <tr>\n",
              "      <th>1</th>\n",
              "      <td>1</td>\n",
              "      <td>Name</td>\n",
              "      <td>TEXT</td>\n",
              "      <td>0</td>\n",
              "      <td>None</td>\n",
              "      <td>0</td>\n",
              "    </tr>\n",
              "    <tr>\n",
              "      <th>2</th>\n",
              "      <td>2</td>\n",
              "      <td>GID</td>\n",
              "      <td>INTEGER</td>\n",
              "      <td>0</td>\n",
              "      <td>None</td>\n",
              "      <td>0</td>\n",
              "    </tr>\n",
              "  </tbody>\n",
              "</table>\n",
              "</div>"
            ],
            "text/plain": [
              "   cid   name     type  notnull dflt_value  pk\n",
              "0    0  index  INTEGER        0       None   0\n",
              "1    1   Name     TEXT        0       None   0\n",
              "2    2    GID  INTEGER        0       None   0"
            ]
          },
          "metadata": {
            "tags": []
          }
        },
        {
          "output_type": "stream",
          "text": [
            "----------------------------------------------------------------------------------------------------\n",
            "\n",
            "\n",
            "Schema of Language\n"
          ],
          "name": "stdout"
        },
        {
          "output_type": "display_data",
          "data": {
            "text/html": [
              "<div>\n",
              "<style scoped>\n",
              "    .dataframe tbody tr th:only-of-type {\n",
              "        vertical-align: middle;\n",
              "    }\n",
              "\n",
              "    .dataframe tbody tr th {\n",
              "        vertical-align: top;\n",
              "    }\n",
              "\n",
              "    .dataframe thead th {\n",
              "        text-align: right;\n",
              "    }\n",
              "</style>\n",
              "<table border=\"1\" class=\"dataframe\">\n",
              "  <thead>\n",
              "    <tr style=\"text-align: right;\">\n",
              "      <th></th>\n",
              "      <th>cid</th>\n",
              "      <th>name</th>\n",
              "      <th>type</th>\n",
              "      <th>notnull</th>\n",
              "      <th>dflt_value</th>\n",
              "      <th>pk</th>\n",
              "    </tr>\n",
              "  </thead>\n",
              "  <tbody>\n",
              "    <tr>\n",
              "      <th>0</th>\n",
              "      <td>0</td>\n",
              "      <td>index</td>\n",
              "      <td>INTEGER</td>\n",
              "      <td>0</td>\n",
              "      <td>None</td>\n",
              "      <td>0</td>\n",
              "    </tr>\n",
              "    <tr>\n",
              "      <th>1</th>\n",
              "      <td>1</td>\n",
              "      <td>Name</td>\n",
              "      <td>TEXT</td>\n",
              "      <td>0</td>\n",
              "      <td>None</td>\n",
              "      <td>0</td>\n",
              "    </tr>\n",
              "    <tr>\n",
              "      <th>2</th>\n",
              "      <td>2</td>\n",
              "      <td>LAID</td>\n",
              "      <td>INTEGER</td>\n",
              "      <td>0</td>\n",
              "      <td>None</td>\n",
              "      <td>0</td>\n",
              "    </tr>\n",
              "  </tbody>\n",
              "</table>\n",
              "</div>"
            ],
            "text/plain": [
              "   cid   name     type  notnull dflt_value  pk\n",
              "0    0  index  INTEGER        0       None   0\n",
              "1    1   Name     TEXT        0       None   0\n",
              "2    2   LAID  INTEGER        0       None   0"
            ]
          },
          "metadata": {
            "tags": []
          }
        },
        {
          "output_type": "stream",
          "text": [
            "----------------------------------------------------------------------------------------------------\n",
            "\n",
            "\n",
            "Schema of Country\n"
          ],
          "name": "stdout"
        },
        {
          "output_type": "display_data",
          "data": {
            "text/html": [
              "<div>\n",
              "<style scoped>\n",
              "    .dataframe tbody tr th:only-of-type {\n",
              "        vertical-align: middle;\n",
              "    }\n",
              "\n",
              "    .dataframe tbody tr th {\n",
              "        vertical-align: top;\n",
              "    }\n",
              "\n",
              "    .dataframe thead th {\n",
              "        text-align: right;\n",
              "    }\n",
              "</style>\n",
              "<table border=\"1\" class=\"dataframe\">\n",
              "  <thead>\n",
              "    <tr style=\"text-align: right;\">\n",
              "      <th></th>\n",
              "      <th>cid</th>\n",
              "      <th>name</th>\n",
              "      <th>type</th>\n",
              "      <th>notnull</th>\n",
              "      <th>dflt_value</th>\n",
              "      <th>pk</th>\n",
              "    </tr>\n",
              "  </thead>\n",
              "  <tbody>\n",
              "    <tr>\n",
              "      <th>0</th>\n",
              "      <td>0</td>\n",
              "      <td>index</td>\n",
              "      <td>INTEGER</td>\n",
              "      <td>0</td>\n",
              "      <td>None</td>\n",
              "      <td>0</td>\n",
              "    </tr>\n",
              "    <tr>\n",
              "      <th>1</th>\n",
              "      <td>1</td>\n",
              "      <td>Name</td>\n",
              "      <td>TEXT</td>\n",
              "      <td>0</td>\n",
              "      <td>None</td>\n",
              "      <td>0</td>\n",
              "    </tr>\n",
              "    <tr>\n",
              "      <th>2</th>\n",
              "      <td>2</td>\n",
              "      <td>CID</td>\n",
              "      <td>INTEGER</td>\n",
              "      <td>0</td>\n",
              "      <td>None</td>\n",
              "      <td>0</td>\n",
              "    </tr>\n",
              "  </tbody>\n",
              "</table>\n",
              "</div>"
            ],
            "text/plain": [
              "   cid   name     type  notnull dflt_value  pk\n",
              "0    0  index  INTEGER        0       None   0\n",
              "1    1   Name     TEXT        0       None   0\n",
              "2    2    CID  INTEGER        0       None   0"
            ]
          },
          "metadata": {
            "tags": []
          }
        },
        {
          "output_type": "stream",
          "text": [
            "----------------------------------------------------------------------------------------------------\n",
            "\n",
            "\n",
            "Schema of Location\n"
          ],
          "name": "stdout"
        },
        {
          "output_type": "display_data",
          "data": {
            "text/html": [
              "<div>\n",
              "<style scoped>\n",
              "    .dataframe tbody tr th:only-of-type {\n",
              "        vertical-align: middle;\n",
              "    }\n",
              "\n",
              "    .dataframe tbody tr th {\n",
              "        vertical-align: top;\n",
              "    }\n",
              "\n",
              "    .dataframe thead th {\n",
              "        text-align: right;\n",
              "    }\n",
              "</style>\n",
              "<table border=\"1\" class=\"dataframe\">\n",
              "  <thead>\n",
              "    <tr style=\"text-align: right;\">\n",
              "      <th></th>\n",
              "      <th>cid</th>\n",
              "      <th>name</th>\n",
              "      <th>type</th>\n",
              "      <th>notnull</th>\n",
              "      <th>dflt_value</th>\n",
              "      <th>pk</th>\n",
              "    </tr>\n",
              "  </thead>\n",
              "  <tbody>\n",
              "    <tr>\n",
              "      <th>0</th>\n",
              "      <td>0</td>\n",
              "      <td>index</td>\n",
              "      <td>INTEGER</td>\n",
              "      <td>0</td>\n",
              "      <td>None</td>\n",
              "      <td>0</td>\n",
              "    </tr>\n",
              "    <tr>\n",
              "      <th>1</th>\n",
              "      <td>1</td>\n",
              "      <td>Name</td>\n",
              "      <td>TEXT</td>\n",
              "      <td>0</td>\n",
              "      <td>None</td>\n",
              "      <td>0</td>\n",
              "    </tr>\n",
              "    <tr>\n",
              "      <th>2</th>\n",
              "      <td>2</td>\n",
              "      <td>LID</td>\n",
              "      <td>INTEGER</td>\n",
              "      <td>0</td>\n",
              "      <td>None</td>\n",
              "      <td>0</td>\n",
              "    </tr>\n",
              "  </tbody>\n",
              "</table>\n",
              "</div>"
            ],
            "text/plain": [
              "   cid   name     type  notnull dflt_value  pk\n",
              "0    0  index  INTEGER        0       None   0\n",
              "1    1   Name     TEXT        0       None   0\n",
              "2    2    LID  INTEGER        0       None   0"
            ]
          },
          "metadata": {
            "tags": []
          }
        },
        {
          "output_type": "stream",
          "text": [
            "----------------------------------------------------------------------------------------------------\n",
            "\n",
            "\n",
            "Schema of M_Location\n"
          ],
          "name": "stdout"
        },
        {
          "output_type": "display_data",
          "data": {
            "text/html": [
              "<div>\n",
              "<style scoped>\n",
              "    .dataframe tbody tr th:only-of-type {\n",
              "        vertical-align: middle;\n",
              "    }\n",
              "\n",
              "    .dataframe tbody tr th {\n",
              "        vertical-align: top;\n",
              "    }\n",
              "\n",
              "    .dataframe thead th {\n",
              "        text-align: right;\n",
              "    }\n",
              "</style>\n",
              "<table border=\"1\" class=\"dataframe\">\n",
              "  <thead>\n",
              "    <tr style=\"text-align: right;\">\n",
              "      <th></th>\n",
              "      <th>cid</th>\n",
              "      <th>name</th>\n",
              "      <th>type</th>\n",
              "      <th>notnull</th>\n",
              "      <th>dflt_value</th>\n",
              "      <th>pk</th>\n",
              "    </tr>\n",
              "  </thead>\n",
              "  <tbody>\n",
              "    <tr>\n",
              "      <th>0</th>\n",
              "      <td>0</td>\n",
              "      <td>index</td>\n",
              "      <td>INTEGER</td>\n",
              "      <td>0</td>\n",
              "      <td>None</td>\n",
              "      <td>0</td>\n",
              "    </tr>\n",
              "    <tr>\n",
              "      <th>1</th>\n",
              "      <td>1</td>\n",
              "      <td>MID</td>\n",
              "      <td>TEXT</td>\n",
              "      <td>0</td>\n",
              "      <td>None</td>\n",
              "      <td>0</td>\n",
              "    </tr>\n",
              "    <tr>\n",
              "      <th>2</th>\n",
              "      <td>2</td>\n",
              "      <td>LID</td>\n",
              "      <td>REAL</td>\n",
              "      <td>0</td>\n",
              "      <td>None</td>\n",
              "      <td>0</td>\n",
              "    </tr>\n",
              "    <tr>\n",
              "      <th>3</th>\n",
              "      <td>3</td>\n",
              "      <td>ID</td>\n",
              "      <td>INTEGER</td>\n",
              "      <td>0</td>\n",
              "      <td>None</td>\n",
              "      <td>0</td>\n",
              "    </tr>\n",
              "  </tbody>\n",
              "</table>\n",
              "</div>"
            ],
            "text/plain": [
              "   cid   name     type  notnull dflt_value  pk\n",
              "0    0  index  INTEGER        0       None   0\n",
              "1    1    MID     TEXT        0       None   0\n",
              "2    2    LID     REAL        0       None   0\n",
              "3    3     ID  INTEGER        0       None   0"
            ]
          },
          "metadata": {
            "tags": []
          }
        },
        {
          "output_type": "stream",
          "text": [
            "----------------------------------------------------------------------------------------------------\n",
            "\n",
            "\n",
            "Schema of M_Country\n"
          ],
          "name": "stdout"
        },
        {
          "output_type": "display_data",
          "data": {
            "text/html": [
              "<div>\n",
              "<style scoped>\n",
              "    .dataframe tbody tr th:only-of-type {\n",
              "        vertical-align: middle;\n",
              "    }\n",
              "\n",
              "    .dataframe tbody tr th {\n",
              "        vertical-align: top;\n",
              "    }\n",
              "\n",
              "    .dataframe thead th {\n",
              "        text-align: right;\n",
              "    }\n",
              "</style>\n",
              "<table border=\"1\" class=\"dataframe\">\n",
              "  <thead>\n",
              "    <tr style=\"text-align: right;\">\n",
              "      <th></th>\n",
              "      <th>cid</th>\n",
              "      <th>name</th>\n",
              "      <th>type</th>\n",
              "      <th>notnull</th>\n",
              "      <th>dflt_value</th>\n",
              "      <th>pk</th>\n",
              "    </tr>\n",
              "  </thead>\n",
              "  <tbody>\n",
              "    <tr>\n",
              "      <th>0</th>\n",
              "      <td>0</td>\n",
              "      <td>index</td>\n",
              "      <td>INTEGER</td>\n",
              "      <td>0</td>\n",
              "      <td>None</td>\n",
              "      <td>0</td>\n",
              "    </tr>\n",
              "    <tr>\n",
              "      <th>1</th>\n",
              "      <td>1</td>\n",
              "      <td>MID</td>\n",
              "      <td>TEXT</td>\n",
              "      <td>0</td>\n",
              "      <td>None</td>\n",
              "      <td>0</td>\n",
              "    </tr>\n",
              "    <tr>\n",
              "      <th>2</th>\n",
              "      <td>2</td>\n",
              "      <td>CID</td>\n",
              "      <td>REAL</td>\n",
              "      <td>0</td>\n",
              "      <td>None</td>\n",
              "      <td>0</td>\n",
              "    </tr>\n",
              "    <tr>\n",
              "      <th>3</th>\n",
              "      <td>3</td>\n",
              "      <td>ID</td>\n",
              "      <td>INTEGER</td>\n",
              "      <td>0</td>\n",
              "      <td>None</td>\n",
              "      <td>0</td>\n",
              "    </tr>\n",
              "  </tbody>\n",
              "</table>\n",
              "</div>"
            ],
            "text/plain": [
              "   cid   name     type  notnull dflt_value  pk\n",
              "0    0  index  INTEGER        0       None   0\n",
              "1    1    MID     TEXT        0       None   0\n",
              "2    2    CID     REAL        0       None   0\n",
              "3    3     ID  INTEGER        0       None   0"
            ]
          },
          "metadata": {
            "tags": []
          }
        },
        {
          "output_type": "stream",
          "text": [
            "----------------------------------------------------------------------------------------------------\n",
            "\n",
            "\n",
            "Schema of M_Language\n"
          ],
          "name": "stdout"
        },
        {
          "output_type": "display_data",
          "data": {
            "text/html": [
              "<div>\n",
              "<style scoped>\n",
              "    .dataframe tbody tr th:only-of-type {\n",
              "        vertical-align: middle;\n",
              "    }\n",
              "\n",
              "    .dataframe tbody tr th {\n",
              "        vertical-align: top;\n",
              "    }\n",
              "\n",
              "    .dataframe thead th {\n",
              "        text-align: right;\n",
              "    }\n",
              "</style>\n",
              "<table border=\"1\" class=\"dataframe\">\n",
              "  <thead>\n",
              "    <tr style=\"text-align: right;\">\n",
              "      <th></th>\n",
              "      <th>cid</th>\n",
              "      <th>name</th>\n",
              "      <th>type</th>\n",
              "      <th>notnull</th>\n",
              "      <th>dflt_value</th>\n",
              "      <th>pk</th>\n",
              "    </tr>\n",
              "  </thead>\n",
              "  <tbody>\n",
              "    <tr>\n",
              "      <th>0</th>\n",
              "      <td>0</td>\n",
              "      <td>index</td>\n",
              "      <td>INTEGER</td>\n",
              "      <td>0</td>\n",
              "      <td>None</td>\n",
              "      <td>0</td>\n",
              "    </tr>\n",
              "    <tr>\n",
              "      <th>1</th>\n",
              "      <td>1</td>\n",
              "      <td>MID</td>\n",
              "      <td>TEXT</td>\n",
              "      <td>0</td>\n",
              "      <td>None</td>\n",
              "      <td>0</td>\n",
              "    </tr>\n",
              "    <tr>\n",
              "      <th>2</th>\n",
              "      <td>2</td>\n",
              "      <td>LAID</td>\n",
              "      <td>INTEGER</td>\n",
              "      <td>0</td>\n",
              "      <td>None</td>\n",
              "      <td>0</td>\n",
              "    </tr>\n",
              "    <tr>\n",
              "      <th>3</th>\n",
              "      <td>3</td>\n",
              "      <td>ID</td>\n",
              "      <td>INTEGER</td>\n",
              "      <td>0</td>\n",
              "      <td>None</td>\n",
              "      <td>0</td>\n",
              "    </tr>\n",
              "  </tbody>\n",
              "</table>\n",
              "</div>"
            ],
            "text/plain": [
              "   cid   name     type  notnull dflt_value  pk\n",
              "0    0  index  INTEGER        0       None   0\n",
              "1    1    MID     TEXT        0       None   0\n",
              "2    2   LAID  INTEGER        0       None   0\n",
              "3    3     ID  INTEGER        0       None   0"
            ]
          },
          "metadata": {
            "tags": []
          }
        },
        {
          "output_type": "stream",
          "text": [
            "----------------------------------------------------------------------------------------------------\n",
            "\n",
            "\n",
            "Schema of M_Genre\n"
          ],
          "name": "stdout"
        },
        {
          "output_type": "display_data",
          "data": {
            "text/html": [
              "<div>\n",
              "<style scoped>\n",
              "    .dataframe tbody tr th:only-of-type {\n",
              "        vertical-align: middle;\n",
              "    }\n",
              "\n",
              "    .dataframe tbody tr th {\n",
              "        vertical-align: top;\n",
              "    }\n",
              "\n",
              "    .dataframe thead th {\n",
              "        text-align: right;\n",
              "    }\n",
              "</style>\n",
              "<table border=\"1\" class=\"dataframe\">\n",
              "  <thead>\n",
              "    <tr style=\"text-align: right;\">\n",
              "      <th></th>\n",
              "      <th>cid</th>\n",
              "      <th>name</th>\n",
              "      <th>type</th>\n",
              "      <th>notnull</th>\n",
              "      <th>dflt_value</th>\n",
              "      <th>pk</th>\n",
              "    </tr>\n",
              "  </thead>\n",
              "  <tbody>\n",
              "    <tr>\n",
              "      <th>0</th>\n",
              "      <td>0</td>\n",
              "      <td>index</td>\n",
              "      <td>INTEGER</td>\n",
              "      <td>0</td>\n",
              "      <td>None</td>\n",
              "      <td>0</td>\n",
              "    </tr>\n",
              "    <tr>\n",
              "      <th>1</th>\n",
              "      <td>1</td>\n",
              "      <td>MID</td>\n",
              "      <td>TEXT</td>\n",
              "      <td>0</td>\n",
              "      <td>None</td>\n",
              "      <td>0</td>\n",
              "    </tr>\n",
              "    <tr>\n",
              "      <th>2</th>\n",
              "      <td>2</td>\n",
              "      <td>GID</td>\n",
              "      <td>INTEGER</td>\n",
              "      <td>0</td>\n",
              "      <td>None</td>\n",
              "      <td>0</td>\n",
              "    </tr>\n",
              "    <tr>\n",
              "      <th>3</th>\n",
              "      <td>3</td>\n",
              "      <td>ID</td>\n",
              "      <td>INTEGER</td>\n",
              "      <td>0</td>\n",
              "      <td>None</td>\n",
              "      <td>0</td>\n",
              "    </tr>\n",
              "  </tbody>\n",
              "</table>\n",
              "</div>"
            ],
            "text/plain": [
              "   cid   name     type  notnull dflt_value  pk\n",
              "0    0  index  INTEGER        0       None   0\n",
              "1    1    MID     TEXT        0       None   0\n",
              "2    2    GID  INTEGER        0       None   0\n",
              "3    3     ID  INTEGER        0       None   0"
            ]
          },
          "metadata": {
            "tags": []
          }
        },
        {
          "output_type": "stream",
          "text": [
            "----------------------------------------------------------------------------------------------------\n",
            "\n",
            "\n",
            "Schema of Person\n"
          ],
          "name": "stdout"
        },
        {
          "output_type": "display_data",
          "data": {
            "text/html": [
              "<div>\n",
              "<style scoped>\n",
              "    .dataframe tbody tr th:only-of-type {\n",
              "        vertical-align: middle;\n",
              "    }\n",
              "\n",
              "    .dataframe tbody tr th {\n",
              "        vertical-align: top;\n",
              "    }\n",
              "\n",
              "    .dataframe thead th {\n",
              "        text-align: right;\n",
              "    }\n",
              "</style>\n",
              "<table border=\"1\" class=\"dataframe\">\n",
              "  <thead>\n",
              "    <tr style=\"text-align: right;\">\n",
              "      <th></th>\n",
              "      <th>cid</th>\n",
              "      <th>name</th>\n",
              "      <th>type</th>\n",
              "      <th>notnull</th>\n",
              "      <th>dflt_value</th>\n",
              "      <th>pk</th>\n",
              "    </tr>\n",
              "  </thead>\n",
              "  <tbody>\n",
              "    <tr>\n",
              "      <th>0</th>\n",
              "      <td>0</td>\n",
              "      <td>index</td>\n",
              "      <td>INTEGER</td>\n",
              "      <td>0</td>\n",
              "      <td>None</td>\n",
              "      <td>0</td>\n",
              "    </tr>\n",
              "    <tr>\n",
              "      <th>1</th>\n",
              "      <td>1</td>\n",
              "      <td>PID</td>\n",
              "      <td>TEXT</td>\n",
              "      <td>0</td>\n",
              "      <td>None</td>\n",
              "      <td>0</td>\n",
              "    </tr>\n",
              "    <tr>\n",
              "      <th>2</th>\n",
              "      <td>2</td>\n",
              "      <td>Name</td>\n",
              "      <td>TEXT</td>\n",
              "      <td>0</td>\n",
              "      <td>None</td>\n",
              "      <td>0</td>\n",
              "    </tr>\n",
              "    <tr>\n",
              "      <th>3</th>\n",
              "      <td>3</td>\n",
              "      <td>Gender</td>\n",
              "      <td>TEXT</td>\n",
              "      <td>0</td>\n",
              "      <td>None</td>\n",
              "      <td>0</td>\n",
              "    </tr>\n",
              "  </tbody>\n",
              "</table>\n",
              "</div>"
            ],
            "text/plain": [
              "   cid    name     type  notnull dflt_value  pk\n",
              "0    0   index  INTEGER        0       None   0\n",
              "1    1     PID     TEXT        0       None   0\n",
              "2    2    Name     TEXT        0       None   0\n",
              "3    3  Gender     TEXT        0       None   0"
            ]
          },
          "metadata": {
            "tags": []
          }
        },
        {
          "output_type": "stream",
          "text": [
            "----------------------------------------------------------------------------------------------------\n",
            "\n",
            "\n",
            "Schema of M_Producer\n"
          ],
          "name": "stdout"
        },
        {
          "output_type": "display_data",
          "data": {
            "text/html": [
              "<div>\n",
              "<style scoped>\n",
              "    .dataframe tbody tr th:only-of-type {\n",
              "        vertical-align: middle;\n",
              "    }\n",
              "\n",
              "    .dataframe tbody tr th {\n",
              "        vertical-align: top;\n",
              "    }\n",
              "\n",
              "    .dataframe thead th {\n",
              "        text-align: right;\n",
              "    }\n",
              "</style>\n",
              "<table border=\"1\" class=\"dataframe\">\n",
              "  <thead>\n",
              "    <tr style=\"text-align: right;\">\n",
              "      <th></th>\n",
              "      <th>cid</th>\n",
              "      <th>name</th>\n",
              "      <th>type</th>\n",
              "      <th>notnull</th>\n",
              "      <th>dflt_value</th>\n",
              "      <th>pk</th>\n",
              "    </tr>\n",
              "  </thead>\n",
              "  <tbody>\n",
              "    <tr>\n",
              "      <th>0</th>\n",
              "      <td>0</td>\n",
              "      <td>index</td>\n",
              "      <td>INTEGER</td>\n",
              "      <td>0</td>\n",
              "      <td>None</td>\n",
              "      <td>0</td>\n",
              "    </tr>\n",
              "    <tr>\n",
              "      <th>1</th>\n",
              "      <td>1</td>\n",
              "      <td>MID</td>\n",
              "      <td>TEXT</td>\n",
              "      <td>0</td>\n",
              "      <td>None</td>\n",
              "      <td>0</td>\n",
              "    </tr>\n",
              "    <tr>\n",
              "      <th>2</th>\n",
              "      <td>2</td>\n",
              "      <td>PID</td>\n",
              "      <td>TEXT</td>\n",
              "      <td>0</td>\n",
              "      <td>None</td>\n",
              "      <td>0</td>\n",
              "    </tr>\n",
              "    <tr>\n",
              "      <th>3</th>\n",
              "      <td>3</td>\n",
              "      <td>ID</td>\n",
              "      <td>INTEGER</td>\n",
              "      <td>0</td>\n",
              "      <td>None</td>\n",
              "      <td>0</td>\n",
              "    </tr>\n",
              "  </tbody>\n",
              "</table>\n",
              "</div>"
            ],
            "text/plain": [
              "   cid   name     type  notnull dflt_value  pk\n",
              "0    0  index  INTEGER        0       None   0\n",
              "1    1    MID     TEXT        0       None   0\n",
              "2    2    PID     TEXT        0       None   0\n",
              "3    3     ID  INTEGER        0       None   0"
            ]
          },
          "metadata": {
            "tags": []
          }
        },
        {
          "output_type": "stream",
          "text": [
            "----------------------------------------------------------------------------------------------------\n",
            "\n",
            "\n",
            "Schema of M_Director\n"
          ],
          "name": "stdout"
        },
        {
          "output_type": "display_data",
          "data": {
            "text/html": [
              "<div>\n",
              "<style scoped>\n",
              "    .dataframe tbody tr th:only-of-type {\n",
              "        vertical-align: middle;\n",
              "    }\n",
              "\n",
              "    .dataframe tbody tr th {\n",
              "        vertical-align: top;\n",
              "    }\n",
              "\n",
              "    .dataframe thead th {\n",
              "        text-align: right;\n",
              "    }\n",
              "</style>\n",
              "<table border=\"1\" class=\"dataframe\">\n",
              "  <thead>\n",
              "    <tr style=\"text-align: right;\">\n",
              "      <th></th>\n",
              "      <th>cid</th>\n",
              "      <th>name</th>\n",
              "      <th>type</th>\n",
              "      <th>notnull</th>\n",
              "      <th>dflt_value</th>\n",
              "      <th>pk</th>\n",
              "    </tr>\n",
              "  </thead>\n",
              "  <tbody>\n",
              "    <tr>\n",
              "      <th>0</th>\n",
              "      <td>0</td>\n",
              "      <td>index</td>\n",
              "      <td>INTEGER</td>\n",
              "      <td>0</td>\n",
              "      <td>None</td>\n",
              "      <td>0</td>\n",
              "    </tr>\n",
              "    <tr>\n",
              "      <th>1</th>\n",
              "      <td>1</td>\n",
              "      <td>MID</td>\n",
              "      <td>TEXT</td>\n",
              "      <td>0</td>\n",
              "      <td>None</td>\n",
              "      <td>0</td>\n",
              "    </tr>\n",
              "    <tr>\n",
              "      <th>2</th>\n",
              "      <td>2</td>\n",
              "      <td>PID</td>\n",
              "      <td>TEXT</td>\n",
              "      <td>0</td>\n",
              "      <td>None</td>\n",
              "      <td>0</td>\n",
              "    </tr>\n",
              "    <tr>\n",
              "      <th>3</th>\n",
              "      <td>3</td>\n",
              "      <td>ID</td>\n",
              "      <td>INTEGER</td>\n",
              "      <td>0</td>\n",
              "      <td>None</td>\n",
              "      <td>0</td>\n",
              "    </tr>\n",
              "  </tbody>\n",
              "</table>\n",
              "</div>"
            ],
            "text/plain": [
              "   cid   name     type  notnull dflt_value  pk\n",
              "0    0  index  INTEGER        0       None   0\n",
              "1    1    MID     TEXT        0       None   0\n",
              "2    2    PID     TEXT        0       None   0\n",
              "3    3     ID  INTEGER        0       None   0"
            ]
          },
          "metadata": {
            "tags": []
          }
        },
        {
          "output_type": "stream",
          "text": [
            "----------------------------------------------------------------------------------------------------\n",
            "\n",
            "\n",
            "Schema of M_Cast\n"
          ],
          "name": "stdout"
        },
        {
          "output_type": "display_data",
          "data": {
            "text/html": [
              "<div>\n",
              "<style scoped>\n",
              "    .dataframe tbody tr th:only-of-type {\n",
              "        vertical-align: middle;\n",
              "    }\n",
              "\n",
              "    .dataframe tbody tr th {\n",
              "        vertical-align: top;\n",
              "    }\n",
              "\n",
              "    .dataframe thead th {\n",
              "        text-align: right;\n",
              "    }\n",
              "</style>\n",
              "<table border=\"1\" class=\"dataframe\">\n",
              "  <thead>\n",
              "    <tr style=\"text-align: right;\">\n",
              "      <th></th>\n",
              "      <th>cid</th>\n",
              "      <th>name</th>\n",
              "      <th>type</th>\n",
              "      <th>notnull</th>\n",
              "      <th>dflt_value</th>\n",
              "      <th>pk</th>\n",
              "    </tr>\n",
              "  </thead>\n",
              "  <tbody>\n",
              "    <tr>\n",
              "      <th>0</th>\n",
              "      <td>0</td>\n",
              "      <td>index</td>\n",
              "      <td>INTEGER</td>\n",
              "      <td>0</td>\n",
              "      <td>None</td>\n",
              "      <td>0</td>\n",
              "    </tr>\n",
              "    <tr>\n",
              "      <th>1</th>\n",
              "      <td>1</td>\n",
              "      <td>MID</td>\n",
              "      <td>TEXT</td>\n",
              "      <td>0</td>\n",
              "      <td>None</td>\n",
              "      <td>0</td>\n",
              "    </tr>\n",
              "    <tr>\n",
              "      <th>2</th>\n",
              "      <td>2</td>\n",
              "      <td>PID</td>\n",
              "      <td>TEXT</td>\n",
              "      <td>0</td>\n",
              "      <td>None</td>\n",
              "      <td>0</td>\n",
              "    </tr>\n",
              "    <tr>\n",
              "      <th>3</th>\n",
              "      <td>3</td>\n",
              "      <td>ID</td>\n",
              "      <td>INTEGER</td>\n",
              "      <td>0</td>\n",
              "      <td>None</td>\n",
              "      <td>0</td>\n",
              "    </tr>\n",
              "  </tbody>\n",
              "</table>\n",
              "</div>"
            ],
            "text/plain": [
              "   cid   name     type  notnull dflt_value  pk\n",
              "0    0  index  INTEGER        0       None   0\n",
              "1    1    MID     TEXT        0       None   0\n",
              "2    2    PID     TEXT        0       None   0\n",
              "3    3     ID  INTEGER        0       None   0"
            ]
          },
          "metadata": {
            "tags": []
          }
        },
        {
          "output_type": "stream",
          "text": [
            "----------------------------------------------------------------------------------------------------\n",
            "\n",
            "\n",
            "Schema of new_records\n"
          ],
          "name": "stdout"
        },
        {
          "output_type": "display_data",
          "data": {
            "text/html": [
              "<div>\n",
              "<style scoped>\n",
              "    .dataframe tbody tr th:only-of-type {\n",
              "        vertical-align: middle;\n",
              "    }\n",
              "\n",
              "    .dataframe tbody tr th {\n",
              "        vertical-align: top;\n",
              "    }\n",
              "\n",
              "    .dataframe thead th {\n",
              "        text-align: right;\n",
              "    }\n",
              "</style>\n",
              "<table border=\"1\" class=\"dataframe\">\n",
              "  <thead>\n",
              "    <tr style=\"text-align: right;\">\n",
              "      <th></th>\n",
              "      <th>cid</th>\n",
              "      <th>name</th>\n",
              "      <th>type</th>\n",
              "      <th>notnull</th>\n",
              "      <th>dflt_value</th>\n",
              "      <th>pk</th>\n",
              "    </tr>\n",
              "  </thead>\n",
              "  <tbody>\n",
              "    <tr>\n",
              "      <th>0</th>\n",
              "      <td>0</td>\n",
              "      <td>index</td>\n",
              "      <td>INT</td>\n",
              "      <td>0</td>\n",
              "      <td>None</td>\n",
              "      <td>0</td>\n",
              "    </tr>\n",
              "    <tr>\n",
              "      <th>1</th>\n",
              "      <td>1</td>\n",
              "      <td>MID</td>\n",
              "      <td>TEXT</td>\n",
              "      <td>0</td>\n",
              "      <td>None</td>\n",
              "      <td>0</td>\n",
              "    </tr>\n",
              "    <tr>\n",
              "      <th>2</th>\n",
              "      <td>2</td>\n",
              "      <td>PID</td>\n",
              "      <td>TEXT</td>\n",
              "      <td>0</td>\n",
              "      <td>None</td>\n",
              "      <td>0</td>\n",
              "    </tr>\n",
              "    <tr>\n",
              "      <th>3</th>\n",
              "      <td>3</td>\n",
              "      <td>ID</td>\n",
              "      <td>INT</td>\n",
              "      <td>0</td>\n",
              "      <td>None</td>\n",
              "      <td>0</td>\n",
              "    </tr>\n",
              "    <tr>\n",
              "      <th>4</th>\n",
              "      <td>4</td>\n",
              "      <td>index:1</td>\n",
              "      <td>INT</td>\n",
              "      <td>0</td>\n",
              "      <td>None</td>\n",
              "      <td>0</td>\n",
              "    </tr>\n",
              "    <tr>\n",
              "      <th>5</th>\n",
              "      <td>5</td>\n",
              "      <td>MID:1</td>\n",
              "      <td>TEXT</td>\n",
              "      <td>0</td>\n",
              "      <td>None</td>\n",
              "      <td>0</td>\n",
              "    </tr>\n",
              "    <tr>\n",
              "      <th>6</th>\n",
              "      <td>6</td>\n",
              "      <td>title</td>\n",
              "      <td>TEXT</td>\n",
              "      <td>0</td>\n",
              "      <td>None</td>\n",
              "      <td>0</td>\n",
              "    </tr>\n",
              "    <tr>\n",
              "      <th>7</th>\n",
              "      <td>7</td>\n",
              "      <td>year</td>\n",
              "      <td>TEXT</td>\n",
              "      <td>0</td>\n",
              "      <td>None</td>\n",
              "      <td>0</td>\n",
              "    </tr>\n",
              "    <tr>\n",
              "      <th>8</th>\n",
              "      <td>8</td>\n",
              "      <td>rating</td>\n",
              "      <td>REAL</td>\n",
              "      <td>0</td>\n",
              "      <td>None</td>\n",
              "      <td>0</td>\n",
              "    </tr>\n",
              "    <tr>\n",
              "      <th>9</th>\n",
              "      <td>9</td>\n",
              "      <td>num_votes</td>\n",
              "      <td>INT</td>\n",
              "      <td>0</td>\n",
              "      <td>None</td>\n",
              "      <td>0</td>\n",
              "    </tr>\n",
              "    <tr>\n",
              "      <th>10</th>\n",
              "      <td>10</td>\n",
              "      <td>index:2</td>\n",
              "      <td>INT</td>\n",
              "      <td>0</td>\n",
              "      <td>None</td>\n",
              "      <td>0</td>\n",
              "    </tr>\n",
              "    <tr>\n",
              "      <th>11</th>\n",
              "      <td>11</td>\n",
              "      <td>PID:1</td>\n",
              "      <td>TEXT</td>\n",
              "      <td>0</td>\n",
              "      <td>None</td>\n",
              "      <td>0</td>\n",
              "    </tr>\n",
              "    <tr>\n",
              "      <th>12</th>\n",
              "      <td>12</td>\n",
              "      <td>Name</td>\n",
              "      <td>TEXT</td>\n",
              "      <td>0</td>\n",
              "      <td>None</td>\n",
              "      <td>0</td>\n",
              "    </tr>\n",
              "    <tr>\n",
              "      <th>13</th>\n",
              "      <td>13</td>\n",
              "      <td>Gender</td>\n",
              "      <td>TEXT</td>\n",
              "      <td>0</td>\n",
              "      <td>None</td>\n",
              "      <td>0</td>\n",
              "    </tr>\n",
              "  </tbody>\n",
              "</table>\n",
              "</div>"
            ],
            "text/plain": [
              "    cid       name  type  notnull dflt_value  pk\n",
              "0     0      index   INT        0       None   0\n",
              "1     1        MID  TEXT        0       None   0\n",
              "2     2        PID  TEXT        0       None   0\n",
              "3     3         ID   INT        0       None   0\n",
              "4     4    index:1   INT        0       None   0\n",
              "5     5      MID:1  TEXT        0       None   0\n",
              "6     6      title  TEXT        0       None   0\n",
              "7     7       year  TEXT        0       None   0\n",
              "8     8     rating  REAL        0       None   0\n",
              "9     9  num_votes   INT        0       None   0\n",
              "10   10    index:2   INT        0       None   0\n",
              "11   11      PID:1  TEXT        0       None   0\n",
              "12   12       Name  TEXT        0       None   0\n",
              "13   13     Gender  TEXT        0       None   0"
            ]
          },
          "metadata": {
            "tags": []
          }
        },
        {
          "output_type": "stream",
          "text": [
            "----------------------------------------------------------------------------------------------------\n",
            "\n",
            "\n"
          ],
          "name": "stdout"
        }
      ]
    },
    {
      "cell_type": "markdown",
      "metadata": {
        "id": "O4Cj0Wdz23tA"
      },
      "source": [
        "## Useful tips:\n",
        "\n",
        "1. the year column in 'Movie' table, will have few chracters other than numbers which you need to be preprocessed, you need to get a substring of last 4 characters, its better if you convert it as int type, ex: CAST(SUBSTR(TRIM(m.year),-4) AS INTEGER)\n",
        "\n",
        "2. For almost all the TEXT columns we have show, please try to remove trailing spaces, you need to use TRIM() function\n",
        "\n",
        "3. When you are doing count(coulmn) it won't consider the \"NULL\" values, you might need to explore other alternatives like Count(*)"
      ]
    },
    {
      "cell_type": "markdown",
      "metadata": {
        "id": "jL9AmM3oE_IZ"
      },
      "source": [
        "## Q1 --- List all the directors who directed a 'Comedy' movie in a leap year. (You need to check that the genre is 'Comedy’ and year is a leap year) Your query should return director name, the movie name, and the year."
      ]
    },
    {
      "cell_type": "markdown",
      "metadata": {
        "id": "1jglmxDuE_Ib"
      },
      "source": [
        "<h4>To determine whether a year is a leap year, follow these steps:</h4>\n",
        "\n",
        "<ul>\n",
        "    <li><b>STEP-1:</b> If the year is evenly divisible by 4, go to step 2. Otherwise, go to step 5.</li>\n",
        "    <li><b>STEP-2:</b> If the year is evenly divisible by 100, go to step 3. Otherwise, go to step 4.</li>\n",
        "    <li><b>STEP-3:</b> If the year is evenly divisible by 400, go to step 4. Otherwise, go to step 5.</li>\n",
        "    <li><b>STEP-4:</b> The year is a leap year (it has 366 days).</li>\n",
        "    <li><b>STEP-5:</b> The year is not a leap year (it has 365 days).</li>\n",
        "</ul>\n",
        "\n",
        "Year 1900 is divisible by 4 and 100 but it is not divisible by 400, so it is not a leap year."
      ]
    },
    {
      "cell_type": "code",
      "metadata": {
        "id": "yBo_pMrH23tD",
        "colab": {
          "base_uri": "https://localhost:8080/"
        },
        "outputId": "0c20fc26-2c7a-4a84-ad80-58db4c166b6a"
      },
      "source": [
        "%time\n",
        "def grader_1(q1):\n",
        "    q1_results  = pd.read_sql_query(q1,conn)\n",
        "    print(q1_results)\n",
        "    assert (q1_results.shape == (232,3))\n",
        "\n",
        "query1 = \"\"\" SELECT Movie.title, CAST(SUBSTR(Movie.year,-4) as integer) year1, Person.Name \n",
        "            FROM Movie, M_Genre, Genre, M_Director, Person\n",
        "            WHERE Movie.MID = M_Genre.MID \n",
        "            AND M_Genre.GID = Genre.GID \n",
        "            AND Genre.Name LIKE \"%Comedy%\" \n",
        "            AND ((year1 % 4 = 0 AND year1 % 100 <> 0) OR (year1 % 400 = 0))\n",
        "            AND Movie.MID = M_Director.MID \n",
        "            AND M_Director.PID = Person.PID\"\"\"\n",
        "grader_1(query1)"
      ],
      "execution_count": 48,
      "outputs": [
        {
          "output_type": "stream",
          "text": [
            "CPU times: user 2 µs, sys: 0 ns, total: 2 µs\n",
            "Wall time: 5.25 µs\n",
            "                                 title  year1                    Name\n",
            "0                           Mastizaade   2016            Milap Zaveri\n",
            "1    Harold & Kumar Go to White Castle   2004            Danny Leiner\n",
            "2                   Gangs of Wasseypur   2012          Anurag Kashyap\n",
            "3          Around the World in 80 Days   2004            Frank Coraci\n",
            "4               The Accidental Husband   2008           Griffin Dunne\n",
            "..                                 ...    ...                     ...\n",
            "227                        Let's Enjoy   2004   Siddharth Anand Kumar\n",
            "228                            Sathyam   2008         Amma Rajasekhar\n",
            "229                      Tandoori Love   2008           Oliver Paulus\n",
            "230                        Le Halua Le   2012             Raja Chanda\n",
            "231                  Raja Aur Rangeeli   1996        K.S. Prakash Rao\n",
            "\n",
            "[232 rows x 3 columns]\n"
          ],
          "name": "stdout"
        }
      ]
    },
    {
      "cell_type": "markdown",
      "metadata": {
        "id": "LHFSrIJlE_Ih"
      },
      "source": [
        "## Q2 --- List the names of all the actors who played in the movie 'Anand' (1971)"
      ]
    },
    {
      "cell_type": "code",
      "metadata": {
        "id": "5BSQOVlk23tS",
        "colab": {
          "base_uri": "https://localhost:8080/"
        },
        "outputId": "5eaa4ae4-4f84-46e1-e0b6-bc9b104b99df"
      },
      "source": [
        "%time\n",
        "def grader_2(q2):\n",
        "    q2_results  = pd.read_sql_query(q2,conn)\n",
        "    print(q2_results.head(10))\n",
        "    assert (q2_results.shape == (17,1))\n",
        "\n",
        "\n",
        "query2 = \"\"\" SELECT Name from Person Where TRIM(PID,\" \") \n",
        "            IN(\n",
        "                SELECT distinct TRIM(PID, ' ') from M_Cast \n",
        "                WHERE MID \n",
        "                IN( \n",
        "                  SELECT MID FROM Movie\n",
        "                  WHERE title LIKE \"Anand\"\n",
        "                )  \n",
        "            )\"\"\"\n",
        "grader_2(query2)"
      ],
      "execution_count": 49,
      "outputs": [
        {
          "output_type": "stream",
          "text": [
            "CPU times: user 1e+03 ns, sys: 1 µs, total: 2 µs\n",
            "Wall time: 4.77 µs\n",
            "                Name\n",
            "0   Amitabh Bachchan\n",
            "1      Rajesh Khanna\n",
            "2      Sumita Sanyal\n",
            "3         Ramesh Deo\n",
            "4          Seema Deo\n",
            "5     Asit Kumar Sen\n",
            "6         Dev Kishan\n",
            "7       Atam Prakash\n",
            "8      Lalita Kumari\n",
            "9             Savita\n"
          ],
          "name": "stdout"
        }
      ]
    },
    {
      "cell_type": "markdown",
      "metadata": {
        "id": "bJ-mAUMmE_Il"
      },
      "source": [
        "## Q3 --- List all the actors who acted in a film before 1970 and in a film after 1990. (That is: < 1970 and > 1990.)"
      ]
    },
    {
      "cell_type": "code",
      "metadata": {
        "id": "HARXLaJ623tY",
        "colab": {
          "base_uri": "https://localhost:8080/"
        },
        "outputId": "5fa36985-eb27-443b-a231-417305d74d6d"
      },
      "source": [
        "%time\n",
        "\n",
        "def grader_3a(query_less_1970, query_more_1990):\n",
        "    q3_a = pd.read_sql_query(query_less_1970,conn)\n",
        "    print(q3_a.shape)\n",
        "    q3_b = pd.read_sql_query(query_more_1990,conn)\n",
        "    print(q3_b.shape)\n",
        "    return (q3_a.shape == (4942,1)) and (q3_b.shape == (62570,1))\n",
        "\n",
        "query_less_1970 =\"\"\" \n",
        "SELECT p.PID FROM Person p \n",
        "INNER JOIN \n",
        "(   SELECT TRIM(mc.PID) PD, mc.MID FROM M_cast mc \n",
        "    WHERE mc.MID \n",
        "    IN(SELECT mv.MID FROM Movie mv WHERE CAST(SUBSTR(mv.year,-4) AS Integer)<1970)\n",
        ") r1 ON r1.PD = p.PID \"\"\"\n",
        "\n",
        "query_more_1990 =\"\"\" \n",
        "SELECT p.PID FROM Person p \n",
        "INNER JOIN\n",
        "( SELECT TRIM(mc.PID) PD, mc.MID FROM M_cast mc \n",
        "  WHERE mc.MID \n",
        "IN (SELECT mv.MID FROM Movie mv WHERE CAST(SUBSTR(mv.year,-4) AS Integer)>1990)\n",
        ") r1 ON r1.PD=p.PID \"\"\"\n",
        "\n",
        "print(grader_3a(query_less_1970, query_more_1990))\n",
        "\n",
        "# using the above two queries, you can find the answer to the given question "
      ],
      "execution_count": 9,
      "outputs": [
        {
          "output_type": "stream",
          "text": [
            "CPU times: user 2 µs, sys: 0 ns, total: 2 µs\n",
            "Wall time: 7.63 µs\n",
            "(4942, 1)\n",
            "(62570, 1)\n",
            "True\n"
          ],
          "name": "stdout"
        }
      ]
    },
    {
      "cell_type": "code",
      "metadata": {
        "id": "sbzv0UZZ23td",
        "colab": {
          "base_uri": "https://localhost:8080/"
        },
        "outputId": "37574190-e898-4e5a-83ac-51f1d9902ff7"
      },
      "source": [
        "import pandas as pd\n",
        "%time\n",
        "def grader_3(q3):\n",
        "    q3_results  = pd.read_sql_query(q3,conn)\n",
        "    print(q3_results.head(10))\n",
        "    assert (q3_results.shape == (300,1))\n",
        "\n",
        "\n",
        "query3 = \"\"\"\n",
        "    WITH\n",
        "    ACTORS_BEFORE_1970 AS\n",
        "    (\n",
        "        SELECT DISTINCT TRIM(MC.PID) PID\n",
        "        FROM Movie M    JOIN    M_Cast MC\n",
        "        ON   M.MID = MC.MID\n",
        "        WHERE\n",
        "            CAST(SUBSTR(M.year,-4) AS UNSIGNED) < 1970\n",
        "    ),\n",
        "\n",
        "    ACTORS_AFTER_1990 AS\n",
        "    (\n",
        "        SELECT DISTINCT TRIM(MC.PID) PID\n",
        "        FROM Movie M    JOIN    M_Cast MC\n",
        "        ON   M.MID = MC.MID\n",
        "        WHERE\n",
        "            CAST(SUBSTR(M.year,-4) AS UNSIGNED) > 1990\n",
        "    )\n",
        "\n",
        "    SELECT DISTINCT TRIM(P.Name) Actor_Name\n",
        "    FROM ACTORS_BEFORE_1970 A_1970  JOIN    ACTORS_AFTER_1990 A_1990\n",
        "    ON      A_1970.PID = A_1990.PID JOIN    Person P\n",
        "    ON      A_1970.PID = TRIM(P.PID)\n",
        "\"\"\"\n",
        "\n",
        "grader_3(query3)"
      ],
      "execution_count": 12,
      "outputs": [
        {
          "output_type": "stream",
          "text": [
            "CPU times: user 2 µs, sys: 0 ns, total: 2 µs\n",
            "Wall time: 6.2 µs\n",
            "         Actor_Name\n",
            "0      Rishi Kapoor\n",
            "1  Amitabh Bachchan\n",
            "2            Asrani\n",
            "3      Zohra Sehgal\n",
            "4   Parikshat Sahni\n",
            "5     Rakesh Sharma\n",
            "6       Sanjay Dutt\n",
            "7         Ric Young\n",
            "8             Yusuf\n",
            "9    Suhasini Mulay\n"
          ],
          "name": "stdout"
        }
      ]
    },
    {
      "cell_type": "markdown",
      "metadata": {
        "id": "wd3tqFxaE_Ir"
      },
      "source": [
        "## Q4 --- List all directors who directed 10 movies or more, in descending order of the number of movies they directed. Return the directors' names and the number of movies each of them directed."
      ]
    },
    {
      "cell_type": "code",
      "metadata": {
        "id": "aGgqAYk723th",
        "colab": {
          "base_uri": "https://localhost:8080/"
        },
        "outputId": "91560e3c-901b-47d5-b339-1d2521e66041"
      },
      "source": [
        "%time\n",
        "\n",
        "def grader_4a(query_4a):\n",
        "    query_4a = pd.read_sql_query(query_4a,conn)\n",
        "    print(query_4a.head(10)) \n",
        "    return (query_4a.shape == (1462,2))\n",
        "\n",
        "query_4a =\"\"\" SELECT PID, COUNT(MID) Movie_Count\n",
        "              FROM M_Director GROUP BY PID \"\"\"\n",
        "print(grader_4a(query_4a))\n",
        "\n",
        "# using the above query, you can write the answer to the given question"
      ],
      "execution_count": 8,
      "outputs": [
        {
          "output_type": "stream",
          "text": [
            "CPU times: user 3 µs, sys: 1 µs, total: 4 µs\n",
            "Wall time: 6.68 µs\n",
            "         PID  Movie_Count\n",
            "0  nm0000180            1\n",
            "1  nm0000187            1\n",
            "2  nm0000229            1\n",
            "3  nm0000269            1\n",
            "4  nm0000386            1\n",
            "5  nm0000487            2\n",
            "6  nm0000965            1\n",
            "7  nm0001060            1\n",
            "8  nm0001162            1\n",
            "9  nm0001241            1\n",
            "True\n"
          ],
          "name": "stdout"
        }
      ]
    },
    {
      "cell_type": "code",
      "metadata": {
        "id": "xROoSzcF23tn",
        "colab": {
          "base_uri": "https://localhost:8080/"
        },
        "outputId": "920be68f-94a2-418c-bd0b-00a5ccfd5a7c"
      },
      "source": [
        "%time\n",
        "def grader_4(q4):\n",
        "    q4_results  = pd.read_sql_query(q4,conn)\n",
        "    print(q4_results.head(10))\n",
        "    assert (q4_results.shape == (58,2))\n",
        "\n",
        "query4 = \"\"\" SELECT DISTINCT TRIM(P.NAME) Director_Name, NM.Movie_Count\n",
        "             FROM(\n",
        "              SELECT PID, COUNT(MID) Movie_Count\n",
        "              FROM M_Director GROUP BY PID\n",
        "              HAVING Movie_Count >= 10\n",
        "            ) NM JOIN    PERSON P\n",
        "                  ON TRIM(NM.PID) = TRIM(P.PID)\n",
        "                  ORDER BY NM.Movie_Count DESC \"\"\"\n",
        "grader_4(query4)"
      ],
      "execution_count": 9,
      "outputs": [
        {
          "output_type": "stream",
          "text": [
            "CPU times: user 1e+03 ns, sys: 1e+03 ns, total: 2 µs\n",
            "Wall time: 4.53 µs\n",
            "          Director_Name  Movie_Count\n",
            "0          David Dhawan           39\n",
            "1          Mahesh Bhatt           35\n",
            "2          Priyadarshan           30\n",
            "3       Ram Gopal Varma           30\n",
            "4          Vikram Bhatt           29\n",
            "5  Hrishikesh Mukherjee           27\n",
            "6           Yash Chopra           21\n",
            "7       Basu Chatterjee           19\n",
            "8        Shakti Samanta           19\n",
            "9          Subhash Ghai           18\n"
          ],
          "name": "stdout"
        }
      ]
    },
    {
      "cell_type": "markdown",
      "metadata": {
        "id": "OnulNpiOE_Iw"
      },
      "source": [
        "## Q5.a --- For each year, count the number of movies in that year that had only female actors."
      ]
    },
    {
      "cell_type": "code",
      "metadata": {
        "id": "ES-gGiNG23tr",
        "colab": {
          "base_uri": "https://localhost:8080/"
        },
        "outputId": "40455041-3483-4752-f7ca-7e701eb67ea9"
      },
      "source": [
        "%time\n",
        "\n",
        "# note that you don't need TRIM for person table\n",
        "\n",
        "def grader_5aa(query_5aa):\n",
        "    query_5aa = pd.read_sql_query(query_5aa,conn)\n",
        "    print(query_5aa.head(10)) \n",
        "    return (query_5aa.shape == (8846,3))\n",
        "\n",
        "query_5aa =\"\"\" \n",
        "              SELECT  M_Cast.MID, Person.Gender, count() as Count FROM M_Cast, Person\n",
        "              WHERE Person.PID = TRIM(M_Cast.PID) \n",
        "              GROUP BY M_Cast.MID, Person.Gender\n",
        "          \"\"\"\n",
        "\n",
        "print(grader_5aa(query_5aa))\n",
        "\n",
        "def grader_5ab(query_5ab):\n",
        "    query_5ab = pd.read_sql_query(query_5ab,conn)\n",
        "    print(query_5ab.head(10)) \n",
        "    return (query_5ab.shape == (3469, 3))\n",
        "\n",
        "query_5ab =\"\"\" \n",
        "              SELECT  M_Cast.MID, Person.Gender, count() as Count FROM M_Cast, Person\n",
        "              WHERE Person.PID = TRIM(M_Cast.PID) \n",
        "              AND Person.Gender='Male' \n",
        "              GROUP BY M_Cast.MID, Person.Gender\n",
        "     \"\"\"\n",
        "\n",
        "print(grader_5ab(query_5ab))\n",
        "\n",
        "\n",
        "# using the above queries, you can write the answer to the given question"
      ],
      "execution_count": 28,
      "outputs": [
        {
          "output_type": "stream",
          "text": [
            "CPU times: user 4 µs, sys: 0 ns, total: 4 µs\n",
            "Wall time: 7.63 µs\n",
            "         MID  Gender  Count\n",
            "0  tt0021594    None      1\n",
            "1  tt0021594  Female      3\n",
            "2  tt0021594    Male      5\n",
            "3  tt0026274    None      2\n",
            "4  tt0026274  Female     11\n",
            "5  tt0026274    Male      9\n",
            "6  tt0027256    None      2\n",
            "7  tt0027256  Female      5\n",
            "8  tt0027256    Male      8\n",
            "9  tt0028217  Female      3\n",
            "True\n",
            "         MID Gender  Count\n",
            "0  tt0021594   Male      5\n",
            "1  tt0026274   Male      9\n",
            "2  tt0027256   Male      8\n",
            "3  tt0028217   Male      7\n",
            "4  tt0031580   Male     27\n",
            "5  tt0033616   Male     46\n",
            "6  tt0036077   Male     11\n",
            "7  tt0038491   Male      7\n",
            "8  tt0039654   Male      6\n",
            "9  tt0040067   Male     10\n",
            "True\n"
          ],
          "name": "stdout"
        }
      ]
    },
    {
      "cell_type": "code",
      "metadata": {
        "id": "zQOIawPME_Ix",
        "colab": {
          "base_uri": "https://localhost:8080/"
        },
        "outputId": "32ba5d31-d525-4a7a-9140-f7afad49aa55"
      },
      "source": [
        "%time\n",
        "def grader_5a(q5a):\n",
        "    q5a_results  = pd.read_sql_query(q5a,conn)\n",
        "    print(q5a_results.head(10))\n",
        "    assert (q5a_results.shape == (4,2))\n",
        "\n",
        "query5a = \"\"\"\n",
        "              SELECT year, count(MID) as Female_Cast_Only_Movies FROM Movie \n",
        "              WHERE MID NOT IN (       \n",
        "              SELECT  DISTINCT M_Cast.MID FROM M_Cast, Person\n",
        "              WHERE Person.PID = TRIM(M_Cast.PID) \n",
        "              AND Person.Gender IN ('Male', 'None' )\n",
        "              )\n",
        "              GROUP BY year\n",
        " \"\"\"\n",
        "grader_5a(query5a)"
      ],
      "execution_count": 11,
      "outputs": [
        {
          "output_type": "stream",
          "text": [
            "CPU times: user 3 µs, sys: 0 ns, total: 3 µs\n",
            "Wall time: 6.68 µs\n",
            "     year  Female_Cast_Only_Movies\n",
            "0    1939                        1\n",
            "1    1999                        1\n",
            "2    2000                        1\n",
            "3  I 2018                        1\n"
          ],
          "name": "stdout"
        }
      ]
    },
    {
      "cell_type": "markdown",
      "metadata": {
        "id": "cTiKejUfE_I1"
      },
      "source": [
        "## Q5.b --- Now include a small change: report for each year the percentage of movies in that year with only female actors, and the total number of movies made that year. For example, one answer will be: 1990 31.81 13522 meaning that in 1990 there were 13,522 movies, and 31.81% had only female actors. You do not need to round your answer."
      ]
    },
    {
      "cell_type": "code",
      "metadata": {
        "id": "Xv6iXvcZE_I2",
        "colab": {
          "base_uri": "https://localhost:8080/"
        },
        "outputId": "125c0751-2380-437e-9ea8-0fbe33a5a5ce"
      },
      "source": [
        "%time\n",
        "def grader_5b(q5b):\n",
        "    q5b_results  = pd.read_sql_query(q5b,conn)\n",
        "    print(q5b_results.head(10))\n",
        "    assert (q5b_results.shape == (4,3))\n",
        "\n",
        "query5b = \"\"\" WITH \n",
        "              Movie_Person_MCast \n",
        "              AS (\n",
        "              SELECT SUBSTR(Movie.year, -4) as year, Movie.MID, Person.Gender FROM M_Cast, Movie, Person \n",
        "              WHERE Movie.MID = M_Cast.MID\n",
        "              AND Person.PID = TRIM(M_Cast.PID)  \n",
        "              ), \n",
        "           \n",
        "              AllGenderCount \n",
        "              AS(\n",
        "              SELECT year, MID, Gender, CASE WHEN Gender='Female' THEN '1' WHEN Gender='Male' THEN '0' ELSE '0' END AS Result_Gender \n",
        "              FROM Movie_Person_MCast\n",
        "              ),\n",
        "\n",
        "              Intermediate_Counts as\n",
        "              (\n",
        "              Select year, \n",
        "              Sum(Result_Gender) as Female_Count,\n",
        "              Count(*) as Total_Count\n",
        "              From AllGenderCount\n",
        "              GROUP BY year, MID\n",
        "              ),\n",
        "\n",
        "              relevant_movies_counts as (\n",
        "                select year, count(*) as total_movies, sum(case when Female_Count=Total_Count Then '1' else '0' end) as female_movies\n",
        "                from Intermediate_Counts group by year\n",
        "              ) \n",
        "              \n",
        "              select year, female_movies*100.0/total_movies as Percentage_Female_Only_Movie, total_movies \n",
        "              from relevant_movies_counts \n",
        "              where Percentage_Female_Only_Movie > 0\"\"\"\n",
        "grader_5b(query5b)"
      ],
      "execution_count": 10,
      "outputs": [
        {
          "output_type": "stream",
          "text": [
            "CPU times: user 2 µs, sys: 0 ns, total: 2 µs\n",
            "Wall time: 5.25 µs\n",
            "   year  Percentage_Female_Only_Movie  total_movies\n",
            "0  1939                     50.000000             2\n",
            "1  1999                      1.515152            66\n",
            "2  2000                      1.562500            64\n",
            "3  2018                      0.961538           104\n"
          ],
          "name": "stdout"
        }
      ]
    },
    {
      "cell_type": "markdown",
      "metadata": {
        "id": "d5mvJcHDE_I6"
      },
      "source": [
        "## Q6 --- Find the film(s) with the largest cast. Return the movie title and the size of the cast. By \"cast size\" we mean the number of distinct actors that played in that movie: if an actor played multiple roles, or if it simply occurs multiple times in casts, we still count her/him only once."
      ]
    },
    {
      "cell_type": "code",
      "metadata": {
        "id": "vpr9gGg6E_I7",
        "colab": {
          "base_uri": "https://localhost:8080/"
        },
        "outputId": "c5be891a-f022-4db0-a212-56dd542c1f0f"
      },
      "source": [
        "%time\n",
        "def grader_6(q6):\n",
        "    q6_results  = pd.read_sql_query(q6,conn)\n",
        "    print(q6_results.head(10))\n",
        "    assert (q6_results.shape == (3473, 2))\n",
        "\n",
        "query6 = \"\"\"  WITH \n",
        "              Movie_Person_MCast \n",
        "              AS (\n",
        "              SELECT Movie.MID, Movie.title, Person.PID FROM M_Cast, Movie, Person \n",
        "              WHERE Movie.MID = M_Cast.MID\n",
        "              AND Person.PID = TRIM(M_Cast.PID)          \n",
        "              )\n",
        "          \n",
        "          SELECT title, count(distinct PID) as count  FROM Movie_Person_MCast Group by MID  ORDER BY count DESC  \"\"\"\n",
        "grader_6(query6)"
      ],
      "execution_count": 42,
      "outputs": [
        {
          "output_type": "stream",
          "text": [
            "CPU times: user 3 µs, sys: 0 ns, total: 3 µs\n",
            "Wall time: 5.72 µs\n",
            "                        title  count\n",
            "0               Ocean's Eight    238\n",
            "1                    Apaharan    233\n",
            "2                        Gold    215\n",
            "3             My Name Is Khan    213\n",
            "4  Captain America: Civil War    191\n",
            "5                    Geostorm    170\n",
            "6                     Striker    165\n",
            "7                        2012    154\n",
            "8                      Pixels    144\n",
            "9       Yamla Pagla Deewana 2    140\n"
          ],
          "name": "stdout"
        }
      ]
    },
    {
      "cell_type": "markdown",
      "metadata": {
        "id": "E6mOLxNgTby6"
      },
      "source": [
        "### Q7 --- A decade is a sequence of 10 consecutive years. \n",
        "### For example, say in your database you have movie information starting from 1931. \n",
        "### the first decade is 1931, 1932, ..., 1940,\n",
        "### the second decade is 1932, 1933, ..., 1941 and so on. \n",
        "### Find the decade D with the largest number of films and the total number of films in D"
      ]
    },
    {
      "cell_type": "code",
      "metadata": {
        "id": "ZfOWt8IW23uE",
        "colab": {
          "base_uri": "https://localhost:8080/"
        },
        "outputId": "7cc24f80-7a09-48fb-cebe-76e7a2f0ef2f"
      },
      "source": [
        "%time\n",
        "def grader_7a(q7a):\n",
        "    q7a_results  = pd.read_sql_query(q7a,conn)\n",
        "    print(q7a_results.head(10))\n",
        "    assert (q7a_results.shape == (78, 2))\n",
        "\n",
        "\n",
        "query7a = \"\"\" SELECT SUBSTR(Movie.year, -4) as year1, count(MID) FROM Movie  GROUP BY year1\"\"\"\n",
        "grader_7a(query7a)\n",
        "\n",
        "# using the above query, you can write the answer to the given question"
      ],
      "execution_count": 65,
      "outputs": [
        {
          "output_type": "stream",
          "text": [
            "CPU times: user 3 µs, sys: 0 ns, total: 3 µs\n",
            "Wall time: 5.48 µs\n",
            "  year1  count(MID)\n",
            "0  1931           1\n",
            "1  1936           3\n",
            "2  1939           2\n",
            "3  1941           1\n",
            "4  1943           1\n",
            "5  1946           2\n",
            "6  1947           2\n",
            "7  1948           3\n",
            "8  1949           3\n",
            "9  1950           2\n"
          ],
          "name": "stdout"
        }
      ]
    },
    {
      "cell_type": "code",
      "metadata": {
        "id": "sBMzLrIY23uJ",
        "colab": {
          "base_uri": "https://localhost:8080/"
        },
        "outputId": "af826f4d-072b-494e-8027-fa32cb1e199b"
      },
      "source": [
        "%time\n",
        "def grader_7b(q7b):\n",
        "    q7b_results  = pd.read_sql_query(q7b,conn)\n",
        "    print(q7b_results.head(10))\n",
        "    assert (q7b_results.shape == (713, 4))\n",
        "\n",
        "query7b = \"\"\"   \n",
        "          WITH year_wise_count AS(\n",
        "          SELECT cast(SUBSTR(Movie.year, -4) as integer) as year1, count(MID) as MID_count FROM Movie  GROUP BY year1)\n",
        "\n",
        "          SELECT y1.year1 as decade_start, y2.year1 as decade_years,y1.MID_Count as _MID_count, y2.MID_count as MID_Count FROM year_wise_count y1, year_wise_count y2\n",
        "          WHERE y2.year1 <= y1.year1+9  AND  y2.year1 >= y1.year1\n",
        "          \"\"\"\n",
        "grader_7b(query7b)\n",
        "# if you see the below results the first movie year is less than 2nd movie year and \n",
        "# 2nd movie year is less or equal to the first movie year+9\n",
        "\n",
        "# using the above query, you can write the answer to the given question"
      ],
      "execution_count": 111,
      "outputs": [
        {
          "output_type": "stream",
          "text": [
            "CPU times: user 3 µs, sys: 0 ns, total: 3 µs\n",
            "Wall time: 8.11 µs\n",
            "   decade_start  decade_years  _MID_count  MID_Count\n",
            "0          1931          1931           1          1\n",
            "1          1931          1936           1          3\n",
            "2          1931          1939           1          2\n",
            "3          1936          1936           3          3\n",
            "4          1936          1939           3          2\n",
            "5          1936          1941           3          1\n",
            "6          1936          1943           3          1\n",
            "7          1939          1939           2          2\n",
            "8          1939          1941           2          1\n",
            "9          1939          1943           2          1\n"
          ],
          "name": "stdout"
        }
      ]
    },
    {
      "cell_type": "code",
      "metadata": {
        "id": "NKqbguuqE_JA",
        "colab": {
          "base_uri": "https://localhost:8080/"
        },
        "outputId": "a538306c-cb28-4659-84e1-9a1fc120cdf6"
      },
      "source": [
        "%time\n",
        "def grader_7(q7):\n",
        "    q7_results  = pd.read_sql_query(q7,conn)\n",
        "    print(q7_results.head(10))\n",
        "    assert (q7_results.shape == (1, 2))\n",
        "\n",
        "query7 = \"\"\" WITH year_wise_count AS(\n",
        "          SELECT cast(SUBSTR(Movie.year, -4) as integer) as year1, count(MID) as MID_count FROM Movie  GROUP BY year1), \n",
        "\n",
        "          decade_table as(\n",
        "          SELECT y1.year1 as decade_start, y1.year1+9 as decade_end, y2.year1 as decade_years,y1.MID_Count as _MID_count, y2.MID_count as MID_Count FROM year_wise_count y1, year_wise_count y2\n",
        "          WHERE y2.year1 <= y1.year1+9  AND  y2.year1 >= y1.year1\n",
        "          )\n",
        "\n",
        "          SELECT CAST(decade_start as text)||'-'||CAST(decade_end as text) as decade, sum(MID_Count) as MID_Count from decade_table group by decade_start \n",
        "          ORDER BY MID_Count DESC limit 1\"\"\"\n",
        "grader_7(query7)\n",
        "# if you check the output we are printinng all the year in that decade, its fine you can print 2008 or 2008-2017"
      ],
      "execution_count": 120,
      "outputs": [
        {
          "output_type": "stream",
          "text": [
            "CPU times: user 4 µs, sys: 0 ns, total: 4 µs\n",
            "Wall time: 8.11 µs\n",
            "      decade  MID_Count\n",
            "0  2008-2017       1203\n"
          ],
          "name": "stdout"
        }
      ]
    },
    {
      "cell_type": "markdown",
      "metadata": {
        "id": "Jbm3Oy3hT8d9"
      },
      "source": [
        "## Q8 --- Find all the actors that made more movies with Yash Chopra than any other director."
      ]
    },
    {
      "cell_type": "code",
      "metadata": {
        "colab": {
          "base_uri": "https://localhost:8080/"
        },
        "id": "tpvr5lXOP-Xv",
        "outputId": "bd0d0af4-d5cd-4d45-adf0-4a68ab4498da"
      },
      "source": [
        "%time\n",
        "def grader_8a(q8a):\n",
        "    q8a_results  = pd.read_sql_query(q8a,conn)\n",
        "    print(q8a_results.head(10))\n",
        "    assert (q8a_results.shape == (73408, 3))\n",
        "\n",
        "# Write a query that will results in number of movies actor-director worked together \n",
        "query8a = \"\"\" SELECT M_Cast.PID as actor, M_Director.PID as director, count(Movie.MID) as movies\n",
        "              FROM M_Cast, Movie, M_Director  \n",
        "              WHERE Movie.MID = M_Cast.MID \n",
        "              AND Movie.MID = M_Director.MID \n",
        "              GROUP BY actor, director\n",
        "           \"\"\"\n",
        "\n",
        "q8a_results  = pd.read_sql_query(query8a,conn)\n",
        "grader_8a(query8a)\n",
        "\n",
        "# using the above query, you can write the answer to the given question"
      ],
      "execution_count": 11,
      "outputs": [
        {
          "output_type": "stream",
          "text": [
            "CPU times: user 3 µs, sys: 1 µs, total: 4 µs\n",
            "Wall time: 8.11 µs\n",
            "        actor   director  movies\n",
            "0   nm0000002  nm0496746       1\n",
            "1   nm0000027  nm0000180       1\n",
            "2   nm0000039  nm0896533       1\n",
            "3   nm0000042  nm0896533       1\n",
            "4   nm0000047  nm0004292       1\n",
            "5   nm0000073  nm0485943       1\n",
            "6   nm0000076  nm0000229       1\n",
            "7   nm0000092  nm0178997       1\n",
            "8   nm0000093  nm0000269       1\n",
            "9   nm0000096  nm0113819       1\n"
          ],
          "name": "stdout"
        }
      ]
    },
    {
      "cell_type": "code",
      "metadata": {
        "colab": {
          "base_uri": "https://localhost:8080/"
        },
        "id": "AwQ453mATjHY",
        "outputId": "bb5128cb-1189-43ca-ae5e-94d1d702d96a"
      },
      "source": [
        "%time\n",
        "\n",
        "def grader_8(q8):\n",
        "    q8_results  = pd.read_sql_query(q8,conn)\n",
        "    print(q8_results.head(10))\n",
        "    print(q8_results.shape)\n",
        "    assert (q8_results.shape == (245, 2))\n",
        "\n",
        "query8 = \"\"\" \n",
        "          WITH yash_chopra_pid as (\n",
        "            SELECT distinct M_Director.PID from M_Director, Person  \n",
        "            WHERE Person.Name LIKE '%yash chopra%'\n",
        "            AND Person.PID= M_Director.PID\n",
        "          ),\n",
        "\n",
        "          actor_directo_movies as(\n",
        "            SELECT M_Cast.PID as actor, M_Director.PID as director, count(distinct M_Cast.MID) as movies\n",
        "            FROM M_Cast, M_Director  \n",
        "            WHERE M_Director.MID = M_Cast.MID \n",
        "            AND M_Director.PID NOT IN (SELECT PID FROM yash_chopra_pid)\n",
        "            GROUP BY actor, director\n",
        "          ), \n",
        "\n",
        "          actor_max as (\n",
        "            SELECT actor, max(movies) as max_count\n",
        "            from actor_directo_movies \n",
        "            group by actor \n",
        "          ), \n",
        "\n",
        "          actor_directo_movies_yash as(\n",
        "            SELECT M_Cast.PID as actor, M_Director.PID as director, count(distinct M_Cast.MID) as movies\n",
        "            FROM M_Cast, M_Director  \n",
        "            WHERE M_Director.MID = M_Cast.MID \n",
        "            AND M_Director.PID IN (SELECT PID FROM yash_chopra_pid)\n",
        "            GROUP BY actor, director  \n",
        "          ), \n",
        "\n",
        "          relevant_actors as (\n",
        "            SELECT actor_directo_movies_yash.actor, actor_directo_movies_yash.movies as yash_count \n",
        "            from actor_directo_movies_yash LEFT OUTER JOIN actor_max\n",
        "            ON actor_directo_movies_yash.actor = actor_max.actor\n",
        "            WHERE actor_max.max_count IS NULL OR actor_directo_movies_yash.movies >= actor_max.max_count           \n",
        "          )\n",
        "\n",
        "          SELECT Person.Name, relevant_actors.yash_count FROM relevant_actors, Person\n",
        "          WHERE TRIM(relevant_actors.actor) = Person.PID  \n",
        "          ORDER BY relevant_actors.yash_count DESC\n",
        "\n",
        "          \n",
        "          \"\"\"\n",
        "grader_8(query8)"
      ],
      "execution_count": 44,
      "outputs": [
        {
          "output_type": "stream",
          "text": [
            "CPU times: user 2 µs, sys: 0 ns, total: 2 µs\n",
            "Wall time: 6.91 µs\n",
            "                Name  yash_count\n",
            "0        Jagdish Raj          11\n",
            "1   Manmohan Krishna          10\n",
            "2           Iftekhar           9\n",
            "3      Shashi Kapoor           7\n",
            "4      Rakhee Gulzar           5\n",
            "5     Waheeda Rehman           5\n",
            "6           Ravikant           4\n",
            "7     Achala Sachdev           4\n",
            "8        Neetu Singh           4\n",
            "9      Leela Chitnis           3\n",
            "(245, 2)\n"
          ],
          "name": "stdout"
        }
      ]
    },
    {
      "cell_type": "markdown",
      "metadata": {
        "id": "2j8Fc9jUUJ9C"
      },
      "source": [
        "## Q9 --- The Shahrukh number of an actor is the length of the shortest path between the actor and Shahrukh Khan in the \"co-acting\" graph. That is, Shahrukh Khan has Shahrukh number 0; all actors who acted in the same film as Shahrukh have Shahrukh number 1; all actors who acted in the same film as some actor with Shahrukh number 1 have Shahrukh number 2, etc. Return all actors whose Shahrukh number is 2."
      ]
    },
    {
      "cell_type": "code",
      "metadata": {
        "id": "3FnJ_19z23ub",
        "colab": {
          "base_uri": "https://localhost:8080/"
        },
        "outputId": "1e20a954-6736-407c-9537-e8696078e2e9"
      },
      "source": [
        "%time\n",
        "def grader_9a(q9a):\n",
        "    q9a_results  = pd.read_sql_query(q9a,conn)\n",
        "    print(q9a_results.head(10))\n",
        "    print(q9a_results.shape)\n",
        "    assert (q9a_results.shape == (2382, 1))\n",
        "\n",
        "query9a = \"\"\" WITH \n",
        "            SHAHRUKH_0 AS                           --[PID] where Person.Name contains Shahrukh\n",
        "            (\n",
        "                SELECT P.PID PID\n",
        "                FROM Person P\n",
        "                WHERE P.Name like '%Shah Rukh Khan%'\n",
        "            ),\n",
        "\n",
        "            SHAHRUKH_1_MOVIES AS                   -- [MID, PID] where Shahrukh PIDs worked \n",
        "            (\n",
        "            SELECT DISTINCT MC.MID MID, S0.PID\n",
        "            FROM M_Cast MC, SHAHRUKH_0 S0\n",
        "            WHERE TRIM(MC.PID) = S0.PID\n",
        "            ),\n",
        "\n",
        "            SHAHRUKH_1_ACTORS AS                   --[PID] of actors worked in same Movies MID as Shahrukh, except Shahrukh \n",
        "            (\n",
        "            SELECT DISTINCT TRIM(MC.PID) PID\n",
        "            FROM M_Cast MC, SHAHRUKH_1_MOVIES S1M\n",
        "            WHERE TRIM(MC.MID) = S1M.MID \n",
        "            AND TRIM(MC.PID) <> S1M.PID\n",
        "            )\n",
        "\n",
        "            SELECT * FROM SHAHRUKH_1_ACTORS  \"\"\"\n",
        "grader_9a(query9a)\n",
        "# using the above query, you can write the answer to the given question\n",
        "\n",
        "# selecting actors who acted with srk (S1)\n",
        "# selecting all movies where S1 actors acted, this forms S2 movies list\n",
        "# selecting all actors who acted in S2 movies, this gives us S2 actors along with S1 actors\n",
        "# removing S1 actors from the combined list of S1 & S2 actors, so that we get only S2 actors"
      ],
      "execution_count": 16,
      "outputs": [
        {
          "output_type": "stream",
          "text": [
            "CPU times: user 2 µs, sys: 0 ns, total: 2 µs\n",
            "Wall time: 5.25 µs\n",
            "         PID\n",
            "0  nm0004418\n",
            "1  nm1995953\n",
            "2  nm2778261\n",
            "3  nm0631373\n",
            "4  nm0241935\n",
            "5  nm0792116\n",
            "6  nm1300111\n",
            "7  nm0196375\n",
            "8  nm1464837\n",
            "9  nm2868019\n",
            "(2382, 1)\n"
          ],
          "name": "stdout"
        }
      ]
    },
    {
      "cell_type": "code",
      "metadata": {
        "id": "5o6imc82E_JS",
        "colab": {
          "base_uri": "https://localhost:8080/"
        },
        "outputId": "ec15505c-d38e-4f48-f958-6db631eb12ba"
      },
      "source": [
        "%time\n",
        "def grader_9(q9):\n",
        "    q9_results  = pd.read_sql_query(q9,conn)\n",
        "    print(q9_results.head(10))\n",
        "    print(q9_results.shape)\n",
        "    assert (q9_results.shape == (25698, 1))\n",
        "\n",
        "query9 = \"\"\" WITH \n",
        "            SHAHRUKH_0 AS                           --[PID] where Person.Name contains Shahrukh\n",
        "            (\n",
        "                SELECT P.PID PID\n",
        "                FROM Person P\n",
        "                WHERE P.Name LIKE '%Shah Rukh Khan%'\n",
        "            ),\n",
        "\n",
        "            SHAHRUKH_1_MOVIES AS                   -- [MID, PID] where Shahrukh PIDs worked \n",
        "            (\n",
        "            SELECT DISTINCT TRIM(MC.MID) MID, S0.PID\n",
        "            FROM M_Cast MC, SHAHRUKH_0 S0\n",
        "            WHERE TRIM(MC.PID) = S0.PID\n",
        "            ),\n",
        "\n",
        "            SHAHRUKH_1_ACTORS AS                   --[PID] of actors worked in same Movies MID as Shahrukh, except Shahrukh \n",
        "            (\n",
        "            SELECT DISTINCT TRIM(MC.PID) PID\n",
        "            FROM M_Cast MC, SHAHRUKH_1_MOVIES S1M\n",
        "            WHERE TRIM(MC.MID) = S1M.MID \n",
        "            AND TRIM(MC.PID) <> S1M.PID\n",
        "            ),\n",
        "\n",
        "            SHAHRUKH_2_MOVIES AS                    --[MID, PID] who worked with actors worked with Shahrukh \n",
        "            (\n",
        "            SELECT DISTINCT TRIM(MC.MID) MID\n",
        "            FROM M_Cast MC, SHAHRUKH_1_ACTORS S1A\n",
        "            WHERE TRIM(MC.PID) = S1A.PID       \n",
        "            ), \n",
        "            SHAHRUKH_2_ACTORS AS \n",
        "            (\n",
        "              SELECT DISTINCT TRIM(MC.PID) PID\n",
        "              FROM M_Cast MC, SHAHRUKH_2_MOVIES S2M\n",
        "              WHERE TRIM(MC.MID) = S2M.MID\n",
        "            )\n",
        "\n",
        "\n",
        "            SELECT P.Name ACTOR_NAME\n",
        "            FROM Person P, SHAHRUKH_2_ACTORS S2A\n",
        "            WHERE S2A.PID = P.PID\n",
        "            AND P.PID NOT IN (SELECT PID FROM SHAHRUKH_1_ACTORS)\n",
        "            AND P.PID NOT IN (SELECT PID FROM SHAHRUKH_0)\n",
        "            \"\"\"\n",
        "grader_9(query9)"
      ],
      "execution_count": 33,
      "outputs": [
        {
          "output_type": "stream",
          "text": [
            "CPU times: user 2 µs, sys: 1e+03 ns, total: 3 µs\n",
            "Wall time: 5.48 µs\n",
            "               ACTOR_NAME\n",
            "0            Freida Pinto\n",
            "1             Rohan Chand\n",
            "2            Damian Young\n",
            "3         Waris Ahluwalia\n",
            "4   Caroline Christl Long\n",
            "5           Rajeev Pahuja\n",
            "6       Michelle Santiago\n",
            "7         Alicia Vikander\n",
            "8            Dominic West\n",
            "9          Walton Goggins\n",
            "(25698, 1)\n"
          ],
          "name": "stdout"
        }
      ]
    },
    {
      "cell_type": "markdown",
      "metadata": {
        "id": "U7xY4i0eq-y3"
      },
      "source": [
        "10. Find Actors that were never unemployed for more than 3 years.\n",
        "\n",
        "*   Assumtions  :\n",
        "\n",
        "   A) I'm considering only people who have worked for more than one year.\n",
        "   \n",
        "   B) Considering the time period between min and max years of the actor.\n",
        "      i.e if the actor has been working from 1990 to 2000 and the actor \n",
        "      acted only in 1990, 1991 1996, 1998 and 2000. Then he is considered as\n",
        "      unemployed for more than 3 yrs ( > 3 yrs => atleast 4 years). \n",
        "\n",
        "\n",
        "\n",
        "*   Logic for solving :\n",
        "       Calculate the total num of movies that the actor acted from his min year i.e 1990 to 1991, \n",
        "       let say it's 3 and then calculate the total num of movies he acted from his min year 1990 to 1991+4 (1995)\n",
        "       and it comes back as 3 since he hasn't made any movies between 1991 and 1995 , this means that he has been\n",
        "       unemployed for more than 3 years (4 years) 1992,1993,1994,1995 , therefore we don't consider him."
      ]
    },
    {
      "cell_type": "code",
      "metadata": {
        "colab": {
          "base_uri": "https://localhost:8080/"
        },
        "id": "ghi-Ml3Vmt0z",
        "outputId": "26b3ef0c-f078-469e-9cd6-6e15b7fcbb81"
      },
      "source": [
        "%time\n",
        "query_10 = \"\"\"  \n",
        "          WITH NUM_OF_MOV_FOR_AN_ACTR_BY_YR AS\n",
        "          (       \n",
        "          SELECT TRIM(MC.PID) PID, CAST(SUBSTR(year,-4) AS UNSIGNED) YEAR, COUNT(DISTINCT TRIM(M.MID)) NUM_OF_MOV\n",
        "          FROM M_Cast MC, Movie M\n",
        "          WHERE MC.MID = M.MID\n",
        "          GROUP BY TRIM(MC.PID), CAST(SUBSTR(year,-4) AS UNSIGNED)\n",
        "          ORDER BY NUM_OF_MOV DESC\n",
        "          ),\n",
        "\n",
        "          ACTRS_FOR_MORE_THAN_ONE_YR AS\n",
        "          (\n",
        "          SELECT PID, COUNT(YEAR) AS NUM_OF_YEARS, MIN(YEAR) AS MIN_YEAR, MAX(YEAR) AS MAX_YEAR\n",
        "          FROM NUM_OF_MOV_FOR_AN_ACTR_BY_YR\n",
        "          GROUP BY PID\n",
        "          HAVING COUNT(YEAR) > 1\n",
        "          ),\n",
        "          \n",
        "          NUM_OF_FOR_ACTR_W_MRE_THN_1_YR AS\n",
        "          (\n",
        "          SELECT NM.PID, NM.YEAR, NM.YEAR+4 AS YEAR_PLUS_4, NM.NUM_OF_MOV, AY.MIN_YEAR, AY.MAX_YEAR\n",
        "          FROM NUM_OF_MOV_FOR_AN_ACTR_BY_YR NM, ACTRS_FOR_MORE_THAN_ONE_YR AY\n",
        "          WHERE NM.PID = AY.PID\n",
        "          ),\n",
        "               \n",
        "          NUM_OF_MOV_TILL_DATE_BY_ACTOR AS\n",
        "          (\n",
        "          SELECT NA.PID, NY.YEAR, SUM(NA.NUM_OF_MOV) AS NUM_OF_MOV_TILL_THAT_YEAR\n",
        "          FROM NUM_OF_FOR_ACTR_W_MRE_THN_1_YR NA, NUM_OF_FOR_ACTR_W_MRE_THN_1_YR NY\n",
        "          WHERE NA.PID = NY.PID AND NA.YEAR BETWEEN NY.MIN_YEAR AND  NY.YEAR\n",
        "          GROUP BY NA.PID, NY.YEAR\n",
        "          ),\n",
        "          \n",
        "          NUM_OF_MV_BY_ACTR_BY_YR_PLS_4 AS\n",
        "          (\n",
        "          SELECT NA.PID,NY.YEAR, SUM(NA.NUM_OF_MOV) AS NUM_OF_MOV_TILL_AS_OF_YR_PLS_4\n",
        "          FROM NUM_OF_FOR_ACTR_W_MRE_THN_1_YR NA, NUM_OF_FOR_ACTR_W_MRE_THN_1_YR NY\n",
        "          WHERE NA.PID = NY.PID \n",
        "          AND NA.YEAR BETWEEN NY.MIN_YEAR \n",
        "          AND  NY.YEAR_PLUS_4 \n",
        "          AND NY.YEAR_PLUS_4 <= NY.MAX_YEAR\n",
        "          GROUP BY NA.PID, NY.YEAR\n",
        "          )\n",
        "                \n",
        "          SELECT DISTINCT TRIM(P.Name) AS ACTORS_NEVER_UNEMPLOYED_FOR_MORE_THAN_3_YRS\n",
        "          FROM Person P \n",
        "          WHERE TRIM(P.PID) NOT IN \n",
        "          (\n",
        "          SELECT DISTINCT NMT.PID\n",
        "          FROM NUM_OF_MOV_TILL_DATE_BY_ACTOR NMT, NUM_OF_MV_BY_ACTR_BY_YR_PLS_4 NMP\n",
        "          WHERE NMT.PID = NMP.PID \n",
        "          AND NMT.YEAR = NMP.YEAR \n",
        "          AND NMT.NUM_OF_MOV_TILL_THAT_YEAR = NMP.NUM_OF_MOV_TILL_AS_OF_YR_PLS_4\n",
        "          )\n",
        "\n",
        "          \"\"\"\n",
        "\n",
        "query_10 = pd.read_sql_query(query_10,conn)\n",
        "print(query_10)"
      ],
      "execution_count": 28,
      "outputs": [
        {
          "output_type": "stream",
          "text": [
            "CPU times: user 2 µs, sys: 0 ns, total: 2 µs\n",
            "Wall time: 5.25 µs\n",
            "      ACTORS_NEVER_UNEMPLOYED_FOR_MORE_THAN_3_YRS\n",
            "0                                  Christian Bale\n",
            "1                                  Cate Blanchett\n",
            "2                            Benedict Cumberbatch\n",
            "3                                   Naomie Harris\n",
            "4                                     Andy Serkis\n",
            "...                                           ...\n",
            "32580                              Deepak Ramteke\n",
            "32581                                Kamika Verma\n",
            "32582                          Dhorairaj Bhagavan\n",
            "32583                                Nasir Shaikh\n",
            "32584                                Adrian Fulle\n",
            "\n",
            "[32585 rows x 1 columns]\n"
          ],
          "name": "stdout"
        }
      ]
    }
  ]
}