{
  "nbformat": 4,
  "nbformat_minor": 0,
  "metadata": {
    "colab": {
      "name": "Copy of 5_Performance_metrics_Instructions.ipynb",
      "provenance": [],
      "collapsed_sections": []
    },
    "language_info": {
      "codemirror_mode": {
        "name": "ipython",
        "version": 3
      },
      "file_extension": ".py",
      "mimetype": "text/x-python",
      "name": "python",
      "nbconvert_exporter": "python",
      "pygments_lexer": "ipython3",
      "version": "3.6.8"
    },
    "kernelspec": {
      "display_name": "Python 3",
      "language": "python",
      "name": "python3"
    }
  },
  "cells": [
    {
      "cell_type": "markdown",
      "metadata": {
        "id": "s0Ej_bXyQvnV"
      },
      "source": [
        "# Compute performance metrics for the given Y and Y_score without sklearn"
      ]
    },
    {
      "cell_type": "code",
      "metadata": {
        "id": "4CHb6NE7Qvnc"
      },
      "source": [
        "import numpy as np\n",
        "import pandas as pd"
      ],
      "execution_count": 70,
      "outputs": []
    },
    {
      "cell_type": "markdown",
      "metadata": {
        "id": "KbsWXuDaQvnq"
      },
      "source": [
        "<pre>\n",
        "<font color='red'><b>A.</b></font> Compute performance metrics for the given data <strong>5_a.csv</strong>\n",
        "   <b>Note 1:</b> in this data you can see number of positive points >> number of negatives points\n",
        "   <b>Note 2:</b> use pandas or numpy to read the data from <b>5_a.csv</b>\n",
        "   <b>Note 3:</b> you need to derive the class labels from given score</pre> $y^{pred}= \\text{[0 if y_score < 0.5 else 1]}$\n",
        "\n",
        "<pre>\n",
        "<ol>\n",
        "<li> Compute Confusion Matrix </li>\n",
        "<li> Compute F1 Score </li>\n",
        "<li> Compute AUC Score, you need to compute different thresholds and for each threshold compute tpr,fpr and then use               numpy.trapz(tpr_array, fpr_array) <a href='https://stackoverflow.com/q/53603376/4084039'>https://stackoverflow.com/q/53603376/4084039</a>, <a href='https://stackoverflow.com/a/39678975/4084039'>https://stackoverflow.com/a/39678975/4084039</a> Note: it should be numpy.trapz(tpr_array, fpr_array) not numpy.trapz(fpr_array, tpr_array)</li>\n",
        "<li> Compute Accuracy Score </li>\n",
        "</ol>\n",
        "</pre>"
      ]
    },
    {
      "cell_type": "code",
      "metadata": {
        "id": "WaFLW7oBQvnt",
        "colab": {
          "base_uri": "https://localhost:8080/"
        },
        "outputId": "f7dfe94b-4650-4b81-f11f-0296581e91d2"
      },
      "source": [
        "#Mountng the g-drive\n",
        "from google.colab import drive\n",
        "drive.mount('/content/drive')"
      ],
      "execution_count": 71,
      "outputs": [
        {
          "output_type": "stream",
          "text": [
            "Drive already mounted at /content/drive; to attempt to forcibly remount, call drive.mount(\"/content/drive\", force_remount=True).\n"
          ],
          "name": "stdout"
        }
      ]
    },
    {
      "cell_type": "code",
      "metadata": {
        "colab": {
          "base_uri": "https://localhost:8080/",
          "height": 357
        },
        "id": "WToAZXpMjaxq",
        "outputId": "535d7fd9-a791-4251-843d-337a1e35e86e"
      },
      "source": [
        "# Read the data from ccsv into pandas dataframe\n",
        "data_a = pd.read_csv('/content/drive/MyDrive/5_Performance_metrics/5_a.csv')\n",
        "data_a.head(10)"
      ],
      "execution_count": 74,
      "outputs": [
        {
          "output_type": "execute_result",
          "data": {
            "text/html": [
              "<div>\n",
              "<style scoped>\n",
              "    .dataframe tbody tr th:only-of-type {\n",
              "        vertical-align: middle;\n",
              "    }\n",
              "\n",
              "    .dataframe tbody tr th {\n",
              "        vertical-align: top;\n",
              "    }\n",
              "\n",
              "    .dataframe thead th {\n",
              "        text-align: right;\n",
              "    }\n",
              "</style>\n",
              "<table border=\"1\" class=\"dataframe\">\n",
              "  <thead>\n",
              "    <tr style=\"text-align: right;\">\n",
              "      <th></th>\n",
              "      <th>y</th>\n",
              "      <th>proba</th>\n",
              "    </tr>\n",
              "  </thead>\n",
              "  <tbody>\n",
              "    <tr>\n",
              "      <th>0</th>\n",
              "      <td>1.0</td>\n",
              "      <td>0.637387</td>\n",
              "    </tr>\n",
              "    <tr>\n",
              "      <th>1</th>\n",
              "      <td>1.0</td>\n",
              "      <td>0.635165</td>\n",
              "    </tr>\n",
              "    <tr>\n",
              "      <th>2</th>\n",
              "      <td>1.0</td>\n",
              "      <td>0.766586</td>\n",
              "    </tr>\n",
              "    <tr>\n",
              "      <th>3</th>\n",
              "      <td>1.0</td>\n",
              "      <td>0.724564</td>\n",
              "    </tr>\n",
              "    <tr>\n",
              "      <th>4</th>\n",
              "      <td>1.0</td>\n",
              "      <td>0.889199</td>\n",
              "    </tr>\n",
              "    <tr>\n",
              "      <th>5</th>\n",
              "      <td>1.0</td>\n",
              "      <td>0.601600</td>\n",
              "    </tr>\n",
              "    <tr>\n",
              "      <th>6</th>\n",
              "      <td>1.0</td>\n",
              "      <td>0.666323</td>\n",
              "    </tr>\n",
              "    <tr>\n",
              "      <th>7</th>\n",
              "      <td>1.0</td>\n",
              "      <td>0.567012</td>\n",
              "    </tr>\n",
              "    <tr>\n",
              "      <th>8</th>\n",
              "      <td>1.0</td>\n",
              "      <td>0.650230</td>\n",
              "    </tr>\n",
              "    <tr>\n",
              "      <th>9</th>\n",
              "      <td>1.0</td>\n",
              "      <td>0.829346</td>\n",
              "    </tr>\n",
              "  </tbody>\n",
              "</table>\n",
              "</div>"
            ],
            "text/plain": [
              "     y     proba\n",
              "0  1.0  0.637387\n",
              "1  1.0  0.635165\n",
              "2  1.0  0.766586\n",
              "3  1.0  0.724564\n",
              "4  1.0  0.889199\n",
              "5  1.0  0.601600\n",
              "6  1.0  0.666323\n",
              "7  1.0  0.567012\n",
              "8  1.0  0.650230\n",
              "9  1.0  0.829346"
            ]
          },
          "metadata": {
            "tags": []
          },
          "execution_count": 74
        }
      ]
    },
    {
      "cell_type": "code",
      "metadata": {
        "colab": {
          "base_uri": "https://localhost:8080/"
        },
        "id": "8B02DDd83_5r",
        "outputId": "bf5aeec7-c107-4ec7-cc3c-db9b3ec6250a"
      },
      "source": [
        "# creating y_prediction column which contains 1(if proba >= 0.5) else 0\n",
        "y_pred = np.where(data_a['proba'] >= 0.5, 1, 0)\n",
        "y_pred"
      ],
      "execution_count": 76,
      "outputs": [
        {
          "output_type": "execute_result",
          "data": {
            "text/plain": [
              "array([1, 1, 1, ..., 1, 1, 1])"
            ]
          },
          "metadata": {
            "tags": []
          },
          "execution_count": 76
        }
      ]
    },
    {
      "cell_type": "code",
      "metadata": {
        "colab": {
          "base_uri": "https://localhost:8080/"
        },
        "id": "3ciHR6VcyyHP",
        "outputId": "118097ac-7d93-4120-a7d9-447f9db6d3dc"
      },
      "source": [
        "#Compute confusion Matrix \n",
        "def confusion(y, y_pred):\n",
        "    fp = np.sum((y_pred == 1) & (y == 0))\n",
        "    tp = np.sum((y_pred == 1) & (y == 1))\n",
        "    fn = np.sum((y_pred == 0) & (y == 1))\n",
        "    tn = np.sum((y_pred == 0) & (y == 0))\n",
        "    confusion_matrix = [[tn, fn], [fp, tp]]\n",
        "    return confusion_matrix, tn, fp, fn, tp\n",
        "\n",
        "cm, tn, fp, fn, tp = confusion(data_a['y'], y_pred)\n",
        "print (cm)"
      ],
      "execution_count": 77,
      "outputs": [
        {
          "output_type": "stream",
          "text": [
            "[[0, 0], [100, 10000]]\n"
          ],
          "name": "stdout"
        }
      ]
    },
    {
      "cell_type": "code",
      "metadata": {
        "colab": {
          "base_uri": "https://localhost:8080/"
        },
        "id": "u0ruhtD52VGW",
        "outputId": "849ef21d-841b-493c-d2d0-3e15d61d0b4e"
      },
      "source": [
        "# calculate F1 score by calculating precision and recall \n",
        "precision = tp / (tp + fp)\n",
        "recall = tp / (fn + tp)\n",
        "f1 = 2 * ((precision * recall)/(precision + recall))\n",
        "f1"
      ],
      "execution_count": 78,
      "outputs": [
        {
          "output_type": "execute_result",
          "data": {
            "text/plain": [
              "0.9950248756218906"
            ]
          },
          "metadata": {
            "tags": []
          },
          "execution_count": 78
        }
      ]
    },
    {
      "cell_type": "code",
      "metadata": {
        "colab": {
          "base_uri": "https://localhost:8080/"
        },
        "id": "0G1ipIc4XcyS",
        "outputId": "e3cc9124-ee79-4bc7-a3c7-c3c2f1a28ba5"
      },
      "source": [
        "# Accuracy \n",
        "accuracy_score = (tn + tp) / (tn + tp + fn + fp)\n",
        "accuracy_score"
      ],
      "execution_count": 79,
      "outputs": [
        {
          "output_type": "execute_result",
          "data": {
            "text/plain": [
              "0.9900990099009901"
            ]
          },
          "metadata": {
            "tags": []
          },
          "execution_count": 79
        }
      ]
    },
    {
      "cell_type": "code",
      "metadata": {
        "id": "zwgOwKtvYi2Y"
      },
      "source": [
        "# fpr and tpr calculation \n",
        "def fpr_tpr_calculate(y, proba, thresholds):\n",
        "\n",
        "  fpr = []\n",
        "  tpr = []\n",
        "\n",
        "  for threshold in thresholds:\n",
        "\n",
        "      y_pred = np.where(proba >= threshold, 1, 0)    \n",
        "      fp = np.sum((y_pred == 1) & (y == 0))\n",
        "      tp = np.sum((y_pred == 1) & (y == 1))\n",
        "      fn = np.sum((y_pred == 0) & (y == 1))\n",
        "      tn = np.sum((y_pred == 0) & (y == 0))\n",
        "\n",
        "      fpr.append(fp / (fp + tn))\n",
        "      tpr.append(tp / (tp + fn))\n",
        "      \n",
        "  return [fpr, tpr]\n",
        "\n",
        "thresholds = data_a['proba']\n",
        "thresholds = thresholds.sort_values(ascending=False)\n",
        "result = fpr_tpr_calculate(data_a['y'], data_a['proba'], thresholds)"
      ],
      "execution_count": 80,
      "outputs": []
    },
    {
      "cell_type": "code",
      "metadata": {
        "colab": {
          "base_uri": "https://localhost:8080/"
        },
        "id": "_2m9nqqt8Q_G",
        "outputId": "fc3696d8-b77c-498c-f4d4-5c184d5ac14f"
      },
      "source": [
        "np.trapz(result[1], result[0])"
      ],
      "execution_count": 81,
      "outputs": [
        {
          "output_type": "execute_result",
          "data": {
            "text/plain": [
              "0.48829900000000004"
            ]
          },
          "metadata": {
            "tags": []
          },
          "execution_count": 81
        }
      ]
    },
    {
      "cell_type": "markdown",
      "metadata": {
        "id": "V5KZem1BQvn2"
      },
      "source": [
        "<pre>\n",
        "<font color='red'><b>B.</b></font> Compute performance metrics for the given data <strong>5_b.csv</strong>\n",
        "   <b>Note 1:</b> in this data you can see number of positive points << number of negatives points\n",
        "   <b>Note 2:</b> use pandas or numpy to read the data from <b>5_b.csv</b>\n",
        "   <b>Note 3:</b> you need to derive the class labels from given score</pre> $y^{pred}= \\text{[0 if y_score < 0.5 else 1]}$\n",
        "\n",
        "<pre>\n",
        "<ol>\n",
        "<li> Compute Confusion Matrix </li>\n",
        "<li> Compute F1 Score </li>\n",
        "<li> Compute AUC Score, you need to compute different thresholds and for each threshold compute tpr,fpr and then use               numpy.trapz(tpr_array, fpr_array) <a href='https://stackoverflow.com/q/53603376/4084039'>https://stackoverflow.com/q/53603376/4084039</a>, <a href='https://stackoverflow.com/a/39678975/4084039'>https://stackoverflow.com/a/39678975/4084039</a></li>\n",
        "<li> Compute Accuracy Score </li>\n",
        "</ol>\n",
        "</pre>"
      ]
    },
    {
      "cell_type": "code",
      "metadata": {
        "id": "U2sKlq0YQvn5",
        "colab": {
          "base_uri": "https://localhost:8080/",
          "height": 357
        },
        "outputId": "175d7674-6017-48ec-8fe9-fa37bc9805b4"
      },
      "source": [
        "data_b = pd.read_csv('/content/drive/MyDrive/5_Performance_metrics/5_b.csv')\n",
        "data_b.tail(10)"
      ],
      "execution_count": 82,
      "outputs": [
        {
          "output_type": "execute_result",
          "data": {
            "text/html": [
              "<div>\n",
              "<style scoped>\n",
              "    .dataframe tbody tr th:only-of-type {\n",
              "        vertical-align: middle;\n",
              "    }\n",
              "\n",
              "    .dataframe tbody tr th {\n",
              "        vertical-align: top;\n",
              "    }\n",
              "\n",
              "    .dataframe thead th {\n",
              "        text-align: right;\n",
              "    }\n",
              "</style>\n",
              "<table border=\"1\" class=\"dataframe\">\n",
              "  <thead>\n",
              "    <tr style=\"text-align: right;\">\n",
              "      <th></th>\n",
              "      <th>y</th>\n",
              "      <th>proba</th>\n",
              "    </tr>\n",
              "  </thead>\n",
              "  <tbody>\n",
              "    <tr>\n",
              "      <th>10090</th>\n",
              "      <td>0.0</td>\n",
              "      <td>0.249445</td>\n",
              "    </tr>\n",
              "    <tr>\n",
              "      <th>10091</th>\n",
              "      <td>0.0</td>\n",
              "      <td>0.489342</td>\n",
              "    </tr>\n",
              "    <tr>\n",
              "      <th>10092</th>\n",
              "      <td>0.0</td>\n",
              "      <td>0.346930</td>\n",
              "    </tr>\n",
              "    <tr>\n",
              "      <th>10093</th>\n",
              "      <td>0.0</td>\n",
              "      <td>0.224109</td>\n",
              "    </tr>\n",
              "    <tr>\n",
              "      <th>10094</th>\n",
              "      <td>0.0</td>\n",
              "      <td>0.425500</td>\n",
              "    </tr>\n",
              "    <tr>\n",
              "      <th>10095</th>\n",
              "      <td>0.0</td>\n",
              "      <td>0.474401</td>\n",
              "    </tr>\n",
              "    <tr>\n",
              "      <th>10096</th>\n",
              "      <td>0.0</td>\n",
              "      <td>0.128403</td>\n",
              "    </tr>\n",
              "    <tr>\n",
              "      <th>10097</th>\n",
              "      <td>0.0</td>\n",
              "      <td>0.499331</td>\n",
              "    </tr>\n",
              "    <tr>\n",
              "      <th>10098</th>\n",
              "      <td>0.0</td>\n",
              "      <td>0.157616</td>\n",
              "    </tr>\n",
              "    <tr>\n",
              "      <th>10099</th>\n",
              "      <td>0.0</td>\n",
              "      <td>0.296618</td>\n",
              "    </tr>\n",
              "  </tbody>\n",
              "</table>\n",
              "</div>"
            ],
            "text/plain": [
              "         y     proba\n",
              "10090  0.0  0.249445\n",
              "10091  0.0  0.489342\n",
              "10092  0.0  0.346930\n",
              "10093  0.0  0.224109\n",
              "10094  0.0  0.425500\n",
              "10095  0.0  0.474401\n",
              "10096  0.0  0.128403\n",
              "10097  0.0  0.499331\n",
              "10098  0.0  0.157616\n",
              "10099  0.0  0.296618"
            ]
          },
          "metadata": {
            "tags": []
          },
          "execution_count": 82
        }
      ]
    },
    {
      "cell_type": "code",
      "metadata": {
        "colab": {
          "base_uri": "https://localhost:8080/"
        },
        "id": "2n0jwN2GDqLU",
        "outputId": "2a87874c-48a2-4bbc-8ab5-deca6d313906"
      },
      "source": [
        "y_pred_b = np.where(data_b['proba'] >= 0.5, 1, 0)\n",
        "y_pred_b"
      ],
      "execution_count": 83,
      "outputs": [
        {
          "output_type": "execute_result",
          "data": {
            "text/plain": [
              "array([0, 0, 0, ..., 0, 0, 0])"
            ]
          },
          "metadata": {
            "tags": []
          },
          "execution_count": 83
        }
      ]
    },
    {
      "cell_type": "code",
      "metadata": {
        "colab": {
          "base_uri": "https://localhost:8080/"
        },
        "id": "fxkcaTvQEPjV",
        "outputId": "54e2e281-1d66-4ea8-a492-365e951631d6"
      },
      "source": [
        "#Compute confusion Matrix \n",
        "def confusion(y, y_pred):\n",
        "    fp = np.sum((y_pred == 1) & (y == 0))\n",
        "    tp = np.sum((y_pred == 1) & (y == 1))\n",
        "    fn = np.sum((y_pred == 0) & (y == 1))\n",
        "    tn = np.sum((y_pred == 0) & (y == 0))\n",
        "    confusion_matrix = [[tn, fn], [fp, tp]]\n",
        "    return confusion_matrix, tn, fp, fn, tp\n",
        "\n",
        "cm, tn, fp, fn, tp = confusion(data_b['y'], y_pred_b)\n",
        "print (cm)"
      ],
      "execution_count": 84,
      "outputs": [
        {
          "output_type": "stream",
          "text": [
            "[[9761, 45], [239, 55]]\n"
          ],
          "name": "stdout"
        }
      ]
    },
    {
      "cell_type": "code",
      "metadata": {
        "colab": {
          "base_uri": "https://localhost:8080/"
        },
        "id": "9EMDbxInEmEW",
        "outputId": "0dbdc0bc-eb7a-4c66-f23b-9da0d2dbf343"
      },
      "source": [
        "# calculate F1 score by calculating precision and recall \n",
        "precision = tp / (tp + fp)\n",
        "recall = tp / (fn + tp)\n",
        "f1 = 2 * ((precision * recall)/(precision + recall))\n",
        "f1"
      ],
      "execution_count": 85,
      "outputs": [
        {
          "output_type": "execute_result",
          "data": {
            "text/plain": [
              "0.2791878172588833"
            ]
          },
          "metadata": {
            "tags": []
          },
          "execution_count": 85
        }
      ]
    },
    {
      "cell_type": "code",
      "metadata": {
        "colab": {
          "base_uri": "https://localhost:8080/"
        },
        "id": "BGaj3uXnEtI5",
        "outputId": "4e21f10a-2c72-4c68-e14d-425442d387a9"
      },
      "source": [
        "# Accuracy \n",
        "accuracy_score = (tn + tp) / (tn + tp + fn + fp)\n",
        "accuracy_score\n"
      ],
      "execution_count": 86,
      "outputs": [
        {
          "output_type": "execute_result",
          "data": {
            "text/plain": [
              "0.9718811881188119"
            ]
          },
          "metadata": {
            "tags": []
          },
          "execution_count": 86
        }
      ]
    },
    {
      "cell_type": "code",
      "metadata": {
        "id": "RzayQHz8EvQI"
      },
      "source": [
        "# fpr tpr calculation \n",
        "def fpr_tpr_calculate(y, proba, thresholds):\n",
        "\n",
        "  fpr = []\n",
        "  tpr = []\n",
        "\n",
        "  for threshold in thresholds:\n",
        "\n",
        "      y_pred = np.where(proba >= threshold, 1, 0)\n",
        "      \n",
        "      fp = np.sum((y_pred == 1) & (y == 0))\n",
        "      tp = np.sum((y_pred == 1) & (y == 1))\n",
        "      fn = np.sum((y_pred == 0) & (y == 1))\n",
        "      tn = np.sum((y_pred == 0) & (y == 0))\n",
        "\n",
        "      fpr.append(fp / (fp + tn))\n",
        "      tpr.append(tp / (tp + fn))\n",
        "      \n",
        "  return [fpr, tpr]\n",
        "\n",
        "thresholds = data_b['proba']\n",
        "thresholds = thresholds.sort_values(ascending=False)\n",
        "result = fpr_tpr_calculate(data_b['y'], data_b['proba'], thresholds)"
      ],
      "execution_count": 87,
      "outputs": []
    },
    {
      "cell_type": "code",
      "metadata": {
        "colab": {
          "base_uri": "https://localhost:8080/"
        },
        "id": "LHdWlSnzEzFp",
        "outputId": "e1b1cb49-2d2e-487e-cadd-e96b8e8c77ce"
      },
      "source": [
        "np.trapz(result[1], result[0])"
      ],
      "execution_count": 88,
      "outputs": [
        {
          "output_type": "execute_result",
          "data": {
            "text/plain": [
              "0.9377570000000001"
            ]
          },
          "metadata": {
            "tags": []
          },
          "execution_count": 88
        }
      ]
    },
    {
      "cell_type": "markdown",
      "metadata": {
        "id": "GiPGonTzQvoB"
      },
      "source": [
        "<font color='red'><b>C.</b></font> Compute the best threshold (similarly to ROC curve computation) of probability which gives lowest values of metric <b>A</b> for the given data <strong>5_c.csv</strong>\n",
        "<br>\n",
        "\n",
        "you will be predicting label of a data points like this: $y^{pred}= \\text{[0 if y_score < threshold  else 1]}$\n",
        "\n",
        "$ A = 500 \\times \\text{number of false negative} + 100 \\times \\text{numebr of false positive}$\n",
        "\n",
        "<pre>\n",
        "   <b>Note 1:</b> in this data you can see number of negative points > number of positive points\n",
        "   <b>Note 2:</b> use pandas or numpy to read the data from <b>5_c.csv</b>\n",
        "</pre>"
      ]
    },
    {
      "cell_type": "code",
      "metadata": {
        "id": "x5HIJzq1QvoE",
        "colab": {
          "base_uri": "https://localhost:8080/",
          "height": 357
        },
        "outputId": "755df0bd-9d27-424c-c5d6-c939e3fa980f"
      },
      "source": [
        "data_c = pd.read_csv('/content/drive/MyDrive/5_Performance_metrics/5_c.csv')\n",
        "data_c.tail(10)"
      ],
      "execution_count": 89,
      "outputs": [
        {
          "output_type": "execute_result",
          "data": {
            "text/html": [
              "<div>\n",
              "<style scoped>\n",
              "    .dataframe tbody tr th:only-of-type {\n",
              "        vertical-align: middle;\n",
              "    }\n",
              "\n",
              "    .dataframe tbody tr th {\n",
              "        vertical-align: top;\n",
              "    }\n",
              "\n",
              "    .dataframe thead th {\n",
              "        text-align: right;\n",
              "    }\n",
              "</style>\n",
              "<table border=\"1\" class=\"dataframe\">\n",
              "  <thead>\n",
              "    <tr style=\"text-align: right;\">\n",
              "      <th></th>\n",
              "      <th>y</th>\n",
              "      <th>prob</th>\n",
              "    </tr>\n",
              "  </thead>\n",
              "  <tbody>\n",
              "    <tr>\n",
              "      <th>2842</th>\n",
              "      <td>1</td>\n",
              "      <td>0.234774</td>\n",
              "    </tr>\n",
              "    <tr>\n",
              "      <th>2843</th>\n",
              "      <td>1</td>\n",
              "      <td>0.645604</td>\n",
              "    </tr>\n",
              "    <tr>\n",
              "      <th>2844</th>\n",
              "      <td>1</td>\n",
              "      <td>0.804834</td>\n",
              "    </tr>\n",
              "    <tr>\n",
              "      <th>2845</th>\n",
              "      <td>1</td>\n",
              "      <td>0.632728</td>\n",
              "    </tr>\n",
              "    <tr>\n",
              "      <th>2846</th>\n",
              "      <td>1</td>\n",
              "      <td>0.575723</td>\n",
              "    </tr>\n",
              "    <tr>\n",
              "      <th>2847</th>\n",
              "      <td>1</td>\n",
              "      <td>0.491663</td>\n",
              "    </tr>\n",
              "    <tr>\n",
              "      <th>2848</th>\n",
              "      <td>1</td>\n",
              "      <td>0.292109</td>\n",
              "    </tr>\n",
              "    <tr>\n",
              "      <th>2849</th>\n",
              "      <td>1</td>\n",
              "      <td>0.659161</td>\n",
              "    </tr>\n",
              "    <tr>\n",
              "      <th>2850</th>\n",
              "      <td>1</td>\n",
              "      <td>0.456265</td>\n",
              "    </tr>\n",
              "    <tr>\n",
              "      <th>2851</th>\n",
              "      <td>1</td>\n",
              "      <td>0.659161</td>\n",
              "    </tr>\n",
              "  </tbody>\n",
              "</table>\n",
              "</div>"
            ],
            "text/plain": [
              "      y      prob\n",
              "2842  1  0.234774\n",
              "2843  1  0.645604\n",
              "2844  1  0.804834\n",
              "2845  1  0.632728\n",
              "2846  1  0.575723\n",
              "2847  1  0.491663\n",
              "2848  1  0.292109\n",
              "2849  1  0.659161\n",
              "2850  1  0.456265\n",
              "2851  1  0.659161"
            ]
          },
          "metadata": {
            "tags": []
          },
          "execution_count": 89
        }
      ]
    },
    {
      "cell_type": "code",
      "metadata": {
        "colab": {
          "base_uri": "https://localhost:8080/"
        },
        "id": "uI-MRq87jwap",
        "outputId": "fef367f4-8816-4bb6-f01b-515a93ac9bd4"
      },
      "source": [
        "# Min Threshold calculation \n",
        "def fn_fp_calculate(y, prob, thresholds):\n",
        "\n",
        "  min_A = -1\n",
        "  min_threshold = 0\n",
        "  for threshold in thresholds:\n",
        "      y_pred = np.where(prob >= threshold, 1, 0)\n",
        "      fp = np.sum((y_pred == 1) & (y == 0))\n",
        "      fn = np.sum((y_pred == 0) & (y == 1))\n",
        "      𝐴 = (500 * fn) + (100 * fp)\n",
        "\n",
        "      if min_A == -1: \n",
        "        min_A = A\n",
        "      elif min_A > A:\n",
        "        min_A = A\n",
        "        min_threshold = threshold\n",
        "    \n",
        "  return [min_A, min_threshold]\n",
        "\n",
        "thresholds = data_c['prob']\n",
        "thresholds = thresholds.sort_values(ascending=False)\n",
        "min_A, thresh = fn_fp_calculate(data_c['y'], data_c['prob'], thresholds)\n",
        "print (\"Minimun A:\", min_A, \"at threshold:\", thresh)"
      ],
      "execution_count": 90,
      "outputs": [
        {
          "output_type": "stream",
          "text": [
            "Minimun A: 141000 at threshold: 0.2300390278970873\n"
          ],
          "name": "stdout"
        }
      ]
    },
    {
      "cell_type": "markdown",
      "metadata": {
        "id": "sD4CcgjXQvoL"
      },
      "source": [
        "<pre>\n",
        "<font color='red'><b>D.</b></font> Compute performance metrics(for regression) for the given data <strong>5_d.csv</strong>\n",
        "    <b>Note 2:</b> use pandas or numpy to read the data from <b>5_d.csv</b>\n",
        "    <b>Note 1:</b> <b>5_d.csv</b> will having two columns Y and predicted_Y both are real valued features\n",
        "<ol>\n",
        "<li> Compute Mean Square Error </li>\n",
        "<li> Compute MAPE: https://www.youtube.com/watch?v=ly6ztgIkUxk</li>\n",
        "<li> Compute R^2 error: https://en.wikipedia.org/wiki/Coefficient_of_determination#Definitions </li>\n",
        "</ol>\n",
        "</pre>"
      ]
    },
    {
      "cell_type": "code",
      "metadata": {
        "colab": {
          "base_uri": "https://localhost:8080/",
          "height": 357
        },
        "id": "Z6_EEJqKvFKu",
        "outputId": "5083743e-ed0d-42ad-a093-b5f6272f6fb0"
      },
      "source": [
        "data_d = pd.read_csv('/content/drive/MyDrive/5_Performance_metrics/5_d.csv')\n",
        "data_d.tail(10)"
      ],
      "execution_count": 91,
      "outputs": [
        {
          "output_type": "execute_result",
          "data": {
            "text/html": [
              "<div>\n",
              "<style scoped>\n",
              "    .dataframe tbody tr th:only-of-type {\n",
              "        vertical-align: middle;\n",
              "    }\n",
              "\n",
              "    .dataframe tbody tr th {\n",
              "        vertical-align: top;\n",
              "    }\n",
              "\n",
              "    .dataframe thead th {\n",
              "        text-align: right;\n",
              "    }\n",
              "</style>\n",
              "<table border=\"1\" class=\"dataframe\">\n",
              "  <thead>\n",
              "    <tr style=\"text-align: right;\">\n",
              "      <th></th>\n",
              "      <th>y</th>\n",
              "      <th>pred</th>\n",
              "    </tr>\n",
              "  </thead>\n",
              "  <tbody>\n",
              "    <tr>\n",
              "      <th>157190</th>\n",
              "      <td>91.0</td>\n",
              "      <td>111.0</td>\n",
              "    </tr>\n",
              "    <tr>\n",
              "      <th>157191</th>\n",
              "      <td>80.0</td>\n",
              "      <td>96.0</td>\n",
              "    </tr>\n",
              "    <tr>\n",
              "      <th>157192</th>\n",
              "      <td>76.0</td>\n",
              "      <td>85.0</td>\n",
              "    </tr>\n",
              "    <tr>\n",
              "      <th>157193</th>\n",
              "      <td>95.0</td>\n",
              "      <td>78.0</td>\n",
              "    </tr>\n",
              "    <tr>\n",
              "      <th>157194</th>\n",
              "      <td>82.0</td>\n",
              "      <td>89.0</td>\n",
              "    </tr>\n",
              "    <tr>\n",
              "      <th>157195</th>\n",
              "      <td>87.0</td>\n",
              "      <td>83.0</td>\n",
              "    </tr>\n",
              "    <tr>\n",
              "      <th>157196</th>\n",
              "      <td>97.0</td>\n",
              "      <td>86.0</td>\n",
              "    </tr>\n",
              "    <tr>\n",
              "      <th>157197</th>\n",
              "      <td>106.0</td>\n",
              "      <td>93.0</td>\n",
              "    </tr>\n",
              "    <tr>\n",
              "      <th>157198</th>\n",
              "      <td>105.0</td>\n",
              "      <td>101.0</td>\n",
              "    </tr>\n",
              "    <tr>\n",
              "      <th>157199</th>\n",
              "      <td>81.0</td>\n",
              "      <td>104.0</td>\n",
              "    </tr>\n",
              "  </tbody>\n",
              "</table>\n",
              "</div>"
            ],
            "text/plain": [
              "            y   pred\n",
              "157190   91.0  111.0\n",
              "157191   80.0   96.0\n",
              "157192   76.0   85.0\n",
              "157193   95.0   78.0\n",
              "157194   82.0   89.0\n",
              "157195   87.0   83.0\n",
              "157196   97.0   86.0\n",
              "157197  106.0   93.0\n",
              "157198  105.0  101.0\n",
              "157199   81.0  104.0"
            ]
          },
          "metadata": {
            "tags": []
          },
          "execution_count": 91
        }
      ]
    },
    {
      "cell_type": "code",
      "metadata": {
        "colab": {
          "base_uri": "https://localhost:8080/"
        },
        "id": "KB77e7MCwrRR",
        "outputId": "c8c3d6ac-50a7-45b0-9b07-f41d85bcc90a"
      },
      "source": [
        "#Mean Square Error\n",
        "np.square(np.subtract(data_d['y'], data_d['pred'])).mean()"
      ],
      "execution_count": 92,
      "outputs": [
        {
          "output_type": "execute_result",
          "data": {
            "text/plain": [
              "177.16569974554707"
            ]
          },
          "metadata": {
            "tags": []
          },
          "execution_count": 92
        }
      ]
    },
    {
      "cell_type": "code",
      "metadata": {
        "colab": {
          "base_uri": "https://localhost:8080/"
        },
        "id": "A5jlyfdTxq28",
        "outputId": "b7ca3f68-fa49-49b3-ceec-c8adda20bc71"
      },
      "source": [
        "# MAPE\n",
        "np.sum(np.abs(data_d['y'] - data_d['pred'])) / np.sum(data_d['y'])"
      ],
      "execution_count": 93,
      "outputs": [
        {
          "output_type": "execute_result",
          "data": {
            "text/plain": [
              "0.1291202994009687"
            ]
          },
          "metadata": {
            "tags": []
          },
          "execution_count": 93
        }
      ]
    },
    {
      "cell_type": "code",
      "metadata": {
        "colab": {
          "base_uri": "https://localhost:8080/"
        },
        "id": "eyXKlKjk2dZh",
        "outputId": "d1b66a07-d689-4236-aa52-c34b2756852c"
      },
      "source": [
        "# R^2 error\n",
        "corr_matrix = np.corrcoef(data_d['y'], data_d['pred'])\n",
        "corr = corr_matrix[0,1]\n",
        "r_sq = corr**2\n",
        "r_sq"
      ],
      "execution_count": 94,
      "outputs": [
        {
          "output_type": "execute_result",
          "data": {
            "text/plain": [
              "0.9563600409880488"
            ]
          },
          "metadata": {
            "tags": []
          },
          "execution_count": 94
        }
      ]
    }
  ]
}