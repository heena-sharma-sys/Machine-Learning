{
 "cells": [
  {
   "cell_type": "code",
   "execution_count": 1,
   "id": "26f9a876",
   "metadata": {},
   "outputs": [
    {
     "name": "stdout",
     "output_type": "stream",
     "text": [
      "Requirement already satisfied: pyspark in /Users/heenasharma/opt/anaconda3/lib/python3.8/site-packages (3.1.2)\r\n",
      "Requirement already satisfied: py4j==0.10.9 in /Users/heenasharma/opt/anaconda3/lib/python3.8/site-packages (from pyspark) (0.10.9)\r\n"
     ]
    }
   ],
   "source": [
    "#installing pyspark\n",
    "!pip install pyspark"
   ]
  },
  {
   "cell_type": "code",
   "execution_count": 2,
   "id": "31c5cb6a",
   "metadata": {},
   "outputs": [],
   "source": [
    "import pyspark\n",
    "from pyspark.sql import SparkSession"
   ]
  },
  {
   "cell_type": "code",
   "execution_count": 3,
   "id": "10d1574e",
   "metadata": {},
   "outputs": [],
   "source": [
    "spark = SparkSession.builder.appName('practise').getOrCreate() # create a spark session"
   ]
  },
  {
   "cell_type": "code",
   "execution_count": 4,
   "id": "84dffb58",
   "metadata": {},
   "outputs": [
    {
     "data": {
      "text/html": [
       "\n",
       "            <div>\n",
       "                <p><b>SparkSession - in-memory</b></p>\n",
       "                \n",
       "        <div>\n",
       "            <p><b>SparkContext</b></p>\n",
       "\n",
       "            <p><a href=\"http://10.232.20.17:4041\">Spark UI</a></p>\n",
       "\n",
       "            <dl>\n",
       "              <dt>Version</dt>\n",
       "                <dd><code>v3.1.2</code></dd>\n",
       "              <dt>Master</dt>\n",
       "                <dd><code>local[*]</code></dd>\n",
       "              <dt>AppName</dt>\n",
       "                <dd><code>practise</code></dd>\n",
       "            </dl>\n",
       "        </div>\n",
       "        \n",
       "            </div>\n",
       "        "
      ],
      "text/plain": [
       "<pyspark.sql.session.SparkSession at 0x7fb7fa7d0280>"
      ]
     },
     "execution_count": 4,
     "metadata": {},
     "output_type": "execute_result"
    }
   ],
   "source": [
    "spark"
   ]
  },
  {
   "cell_type": "code",
   "execution_count": 5,
   "id": "4096fd89",
   "metadata": {},
   "outputs": [],
   "source": [
    "#read csv file in pyspark dataframe\n",
    "#df = spark.read.option('header', True).csv('test3.csv', inferSchema=True) \n",
    "df = spark.read.csv('test3.csv', header=True, inferSchema=True)"
   ]
  },
  {
   "cell_type": "code",
   "execution_count": 6,
   "id": "e310b42e",
   "metadata": {},
   "outputs": [
    {
     "data": {
      "text/plain": [
       "pyspark.sql.dataframe.DataFrame"
      ]
     },
     "execution_count": 6,
     "metadata": {},
     "output_type": "execute_result"
    }
   ],
   "source": [
    "type(df)"
   ]
  },
  {
   "cell_type": "code",
   "execution_count": 7,
   "id": "c285a364",
   "metadata": {},
   "outputs": [
    {
     "data": {
      "text/plain": [
       "[Row(Name='a', Age=4),\n",
       " Row(Name='b', Age=3),\n",
       " Row(Name='c', Age=2),\n",
       " Row(Name='d', Age=1)]"
      ]
     },
     "execution_count": 7,
     "metadata": {},
     "output_type": "execute_result"
    }
   ],
   "source": [
    "df.head(4)"
   ]
  },
  {
   "cell_type": "code",
   "execution_count": 8,
   "id": "724a9fbf",
   "metadata": {},
   "outputs": [
    {
     "name": "stdout",
     "output_type": "stream",
     "text": [
      "root\n",
      " |-- Name: string (nullable = true)\n",
      " |-- Age: integer (nullable = true)\n",
      "\n"
     ]
    }
   ],
   "source": [
    "#check schema to see datatypes of columns\n",
    "df.printSchema()"
   ]
  },
  {
   "cell_type": "code",
   "execution_count": 9,
   "id": "b07b1049",
   "metadata": {},
   "outputs": [
    {
     "name": "stdout",
     "output_type": "stream",
     "text": [
      "+----+---+\n",
      "|Name|Age|\n",
      "+----+---+\n",
      "|   a|  4|\n",
      "|   b|  3|\n",
      "|   c|  2|\n",
      "|   d|  1|\n",
      "+----+---+\n",
      "\n"
     ]
    }
   ],
   "source": [
    "df.show()"
   ]
  },
  {
   "cell_type": "code",
   "execution_count": 10,
   "id": "e51cf802",
   "metadata": {},
   "outputs": [
    {
     "data": {
      "text/plain": [
       "['Name', 'Age']"
      ]
     },
     "execution_count": 10,
     "metadata": {},
     "output_type": "execute_result"
    }
   ],
   "source": [
    "# to get all column names \n",
    "df.columns"
   ]
  },
  {
   "cell_type": "code",
   "execution_count": 11,
   "id": "e2f7d2c4",
   "metadata": {},
   "outputs": [
    {
     "data": {
      "text/plain": [
       "pyspark.sql.dataframe.DataFrame"
      ]
     },
     "execution_count": 11,
     "metadata": {},
     "output_type": "execute_result"
    }
   ],
   "source": [
    "type(df.select('Name'))"
   ]
  },
  {
   "cell_type": "code",
   "execution_count": 12,
   "id": "018de827",
   "metadata": {},
   "outputs": [
    {
     "name": "stdout",
     "output_type": "stream",
     "text": [
      "+----+---+\n",
      "|Name|Age|\n",
      "+----+---+\n",
      "|   a|  4|\n",
      "|   b|  3|\n",
      "|   c|  2|\n",
      "|   d|  1|\n",
      "+----+---+\n",
      "\n"
     ]
    }
   ],
   "source": [
    "df.select(['Name', 'Age']).show()"
   ]
  },
  {
   "cell_type": "code",
   "execution_count": 13,
   "id": "30799fb8",
   "metadata": {},
   "outputs": [
    {
     "name": "stdout",
     "output_type": "stream",
     "text": [
      "+-------+----+------------------+\n",
      "|summary|Name|               Age|\n",
      "+-------+----+------------------+\n",
      "|  count|   4|                 4|\n",
      "|   mean|null|               2.5|\n",
      "| stddev|null|1.2909944487358056|\n",
      "|    min|   a|                 1|\n",
      "|    max|   d|                 4|\n",
      "+-------+----+------------------+\n",
      "\n"
     ]
    }
   ],
   "source": [
    "df.describe().show()"
   ]
  },
  {
   "cell_type": "code",
   "execution_count": 14,
   "id": "0aceb220",
   "metadata": {},
   "outputs": [],
   "source": [
    "#Adding columns to dataframe\n",
    "df = df.withColumn('Age After 2 years', df['Age']+2)"
   ]
  },
  {
   "cell_type": "code",
   "execution_count": 15,
   "id": "62490973",
   "metadata": {},
   "outputs": [
    {
     "name": "stdout",
     "output_type": "stream",
     "text": [
      "+----+---+-----------------+\n",
      "|Name|Age|Age After 2 years|\n",
      "+----+---+-----------------+\n",
      "|   a|  4|                6|\n",
      "|   b|  3|                5|\n",
      "|   c|  2|                4|\n",
      "|   d|  1|                3|\n",
      "+----+---+-----------------+\n",
      "\n"
     ]
    }
   ],
   "source": [
    "df.show()"
   ]
  },
  {
   "cell_type": "code",
   "execution_count": 16,
   "id": "024371a5",
   "metadata": {},
   "outputs": [
    {
     "data": {
      "text/plain": [
       "DataFrame[Name: string, Age: int]"
      ]
     },
     "execution_count": 16,
     "metadata": {},
     "output_type": "execute_result"
    }
   ],
   "source": [
    "# Drop column \n",
    "df.drop('Age After 2 years')"
   ]
  },
  {
   "cell_type": "code",
   "execution_count": 17,
   "id": "4d8e8d01",
   "metadata": {},
   "outputs": [
    {
     "data": {
      "text/plain": [
       "DataFrame[Name: string, Age: int, Age After 2 years: int]"
      ]
     },
     "execution_count": 17,
     "metadata": {},
     "output_type": "execute_result"
    }
   ],
   "source": [
    "df"
   ]
  },
  {
   "cell_type": "code",
   "execution_count": 18,
   "id": "ee80a8d5",
   "metadata": {},
   "outputs": [
    {
     "name": "stdout",
     "output_type": "stream",
     "text": [
      "+--------+---+-----------------+\n",
      "|New Name|Age|Age After 2 years|\n",
      "+--------+---+-----------------+\n",
      "|       a|  4|                6|\n",
      "|       b|  3|                5|\n",
      "|       c|  2|                4|\n",
      "|       d|  1|                3|\n",
      "+--------+---+-----------------+\n",
      "\n"
     ]
    }
   ],
   "source": [
    "#Rename Column \n",
    "df.withColumnRenamed('Name', 'New Name').show()"
   ]
  },
  {
   "cell_type": "code",
   "execution_count": 19,
   "id": "5ca5a346",
   "metadata": {},
   "outputs": [],
   "source": [
    "spark.stop()"
   ]
  },
  {
   "cell_type": "code",
   "execution_count": 20,
   "id": "30741b2e",
   "metadata": {},
   "outputs": [],
   "source": [
    "from pyspark.sql import SparkSession\n",
    "spark = SparkSession.builder.appName('practice').getOrCreate()"
   ]
  },
  {
   "cell_type": "code",
   "execution_count": 21,
   "id": "fff4b36a",
   "metadata": {},
   "outputs": [],
   "source": [
    "df = spark.read.csv('test1.csv', header=True, inferSchema=True)"
   ]
  },
  {
   "cell_type": "code",
   "execution_count": 22,
   "id": "c3ca2710",
   "metadata": {},
   "outputs": [
    {
     "name": "stdout",
     "output_type": "stream",
     "text": [
      "+----+----+----------+------+\n",
      "|Name| Age|Experience|Salary|\n",
      "+----+----+----------+------+\n",
      "|   a|  31|        10| 30000|\n",
      "|   b|  32|         8| 60000|\n",
      "|   c|  21|         3| 90000|\n",
      "|   d|  23|         5| 20000|\n",
      "|   e|  21|         7|100000|\n",
      "|   f|  23|         3| 70000|\n",
      "|   g|null|      null|300000|\n",
      "|null|  34|        10| 48000|\n",
      "|null|  36|      null|  null|\n",
      "+----+----+----------+------+\n",
      "\n"
     ]
    }
   ],
   "source": [
    "df.show()"
   ]
  },
  {
   "cell_type": "code",
   "execution_count": 23,
   "id": "534eef91",
   "metadata": {},
   "outputs": [
    {
     "name": "stdout",
     "output_type": "stream",
     "text": [
      "+----+---+----------+------+\n",
      "|Name|Age|Experience|Salary|\n",
      "+----+---+----------+------+\n",
      "|   a| 31|        10| 30000|\n",
      "|   b| 32|         8| 60000|\n",
      "|   c| 21|         3| 90000|\n",
      "|   d| 23|         5| 20000|\n",
      "|   e| 21|         7|100000|\n",
      "|   f| 23|         3| 70000|\n",
      "+----+---+----------+------+\n",
      "\n"
     ]
    }
   ],
   "source": [
    "#drop raw with null values \n",
    "df.na.drop().show()"
   ]
  },
  {
   "cell_type": "code",
   "execution_count": 24,
   "id": "dc87d172",
   "metadata": {},
   "outputs": [
    {
     "name": "stdout",
     "output_type": "stream",
     "text": [
      "+----+---+----------+------+\n",
      "|Name|Age|Experience|Salary|\n",
      "+----+---+----------+------+\n",
      "|   a| 31|        10| 30000|\n",
      "|   b| 32|         8| 60000|\n",
      "|   c| 21|         3| 90000|\n",
      "|   d| 23|         5| 20000|\n",
      "|   e| 21|         7|100000|\n",
      "|   f| 23|         3| 70000|\n",
      "|null| 34|        10| 48000|\n",
      "+----+---+----------+------+\n",
      "\n"
     ]
    }
   ],
   "source": [
    "#drop raw based on 'all' or 'any' null value \n",
    "df.na.drop(how='any', thresh=3).show()"
   ]
  },
  {
   "cell_type": "code",
   "execution_count": 25,
   "id": "3870048b",
   "metadata": {},
   "outputs": [
    {
     "name": "stdout",
     "output_type": "stream",
     "text": [
      "+----+---+----------+------+\n",
      "|Name|Age|Experience|Salary|\n",
      "+----+---+----------+------+\n",
      "|   a| 31|        10| 30000|\n",
      "|   b| 32|         8| 60000|\n",
      "|   c| 21|         3| 90000|\n",
      "|   d| 23|         5| 20000|\n",
      "|   e| 21|         7|100000|\n",
      "|   f| 23|         3| 70000|\n",
      "|null| 34|        10| 48000|\n",
      "+----+---+----------+------+\n",
      "\n"
     ]
    }
   ],
   "source": [
    "df.na.drop(how='any', subset=['Experience']).show()"
   ]
  },
  {
   "cell_type": "code",
   "execution_count": 26,
   "id": "20e1d9d7",
   "metadata": {},
   "outputs": [
    {
     "name": "stdout",
     "output_type": "stream",
     "text": [
      "+----+----+----------+------+\n",
      "|Name| Age|Experience|Salary|\n",
      "+----+----+----------+------+\n",
      "|   a|  31|        10| 30000|\n",
      "|   b|  32|         8| 60000|\n",
      "|   c|  21|         3| 90000|\n",
      "|   d|  23|         5| 20000|\n",
      "|   e|  21|         7|100000|\n",
      "|   f|  23|         3| 70000|\n",
      "|   g|null|      null|300000|\n",
      "|null|  34|        10| 48000|\n",
      "|null|  36|      null|  null|\n",
      "+----+----+----------+------+\n",
      "\n"
     ]
    }
   ],
   "source": [
    "#fill null values with specific value\n",
    "df.na.fill(value='Missing value', subset=['Experience']).show()"
   ]
  },
  {
   "cell_type": "code",
   "execution_count": 27,
   "id": "f7181e4e",
   "metadata": {},
   "outputs": [],
   "source": [
    "from pyspark.ml.feature import Imputer \n",
    "imputer = Imputer(\n",
    "            inputCols  = ['Age', 'Experience', 'Salary'],\n",
    "            outputCols = [\"{}_imputed\".format(c) for c in ['Age', 'Experience', 'Salary']]\n",
    "            ).setStrategy('mean')"
   ]
  },
  {
   "cell_type": "code",
   "execution_count": 28,
   "id": "f5d6529b",
   "metadata": {},
   "outputs": [
    {
     "name": "stdout",
     "output_type": "stream",
     "text": [
      "+----+----+----------+------+-----------+------------------+--------------+\n",
      "|Name| Age|Experience|Salary|Age_imputed|Experience_imputed|Salary_imputed|\n",
      "+----+----+----------+------+-----------+------------------+--------------+\n",
      "|   a|  31|        10| 30000|         31|                10|         30000|\n",
      "|   b|  32|         8| 60000|         32|                 8|         60000|\n",
      "|   c|  21|         3| 90000|         21|                 3|         90000|\n",
      "|   d|  23|         5| 20000|         23|                 5|         20000|\n",
      "|   e|  21|         7|100000|         21|                 7|        100000|\n",
      "|   f|  23|         3| 70000|         23|                 3|         70000|\n",
      "|   g|null|      null|300000|         27|                 6|        300000|\n",
      "|null|  34|        10| 48000|         34|                10|         48000|\n",
      "|null|  36|      null|  null|         36|                 6|         89750|\n",
      "+----+----+----------+------+-----------+------------------+--------------+\n",
      "\n"
     ]
    }
   ],
   "source": [
    "imputer.fit(df).transform(df).show()"
   ]
  },
  {
   "cell_type": "code",
   "execution_count": 29,
   "id": "49733162",
   "metadata": {},
   "outputs": [
    {
     "name": "stdout",
     "output_type": "stream",
     "text": [
      "+----+----+----------+------+\n",
      "|Name| Age|Experience|Salary|\n",
      "+----+----+----------+------+\n",
      "|   a|  31|        10| 30000|\n",
      "|   b|  32|         8| 60000|\n",
      "|   c|  21|         3| 90000|\n",
      "|   d|  23|         5| 20000|\n",
      "|   e|  21|         7|100000|\n",
      "|   f|  23|         3| 70000|\n",
      "|   g|null|      null|300000|\n",
      "|null|  34|        10| 48000|\n",
      "|null|  36|      null|  null|\n",
      "+----+----+----------+------+\n",
      "\n"
     ]
    }
   ],
   "source": [
    "df.show()"
   ]
  },
  {
   "cell_type": "code",
   "execution_count": 35,
   "id": "f4311fcb",
   "metadata": {},
   "outputs": [],
   "source": [
    "df1 = df.na.drop('any')"
   ]
  },
  {
   "cell_type": "code",
   "execution_count": 36,
   "id": "9a0130cd",
   "metadata": {},
   "outputs": [
    {
     "name": "stdout",
     "output_type": "stream",
     "text": [
      "+----+---+----------+------+\n",
      "|Name|Age|Experience|Salary|\n",
      "+----+---+----------+------+\n",
      "|   a| 31|        10| 30000|\n",
      "|   b| 32|         8| 60000|\n",
      "|   c| 21|         3| 90000|\n",
      "|   d| 23|         5| 20000|\n",
      "|   e| 21|         7|100000|\n",
      "|   f| 23|         3| 70000|\n",
      "+----+---+----------+------+\n",
      "\n"
     ]
    }
   ],
   "source": [
    "df1.show()"
   ]
  },
  {
   "cell_type": "code",
   "execution_count": 38,
   "id": "255e6734",
   "metadata": {},
   "outputs": [
    {
     "name": "stdout",
     "output_type": "stream",
     "text": [
      "+----+---+----------+------+\n",
      "|Name|Age|Experience|Salary|\n",
      "+----+---+----------+------+\n",
      "|   d| 23|         5| 20000|\n",
      "+----+---+----------+------+\n",
      "\n"
     ]
    }
   ],
   "source": [
    "#Filter operation\n",
    "df1.filter('Salary < 30000').show()"
   ]
  },
  {
   "cell_type": "code",
   "execution_count": 41,
   "id": "2e63a855",
   "metadata": {},
   "outputs": [
    {
     "name": "stdout",
     "output_type": "stream",
     "text": [
      "+----+---+\n",
      "|Name|Age|\n",
      "+----+---+\n",
      "|   a| 31|\n",
      "|   d| 23|\n",
      "+----+---+\n",
      "\n"
     ]
    }
   ],
   "source": [
    "df1.filter('Salary <= 30000').select(['Name', 'Age']).show()"
   ]
  },
  {
   "cell_type": "code",
   "execution_count": 54,
   "id": "6247fe93",
   "metadata": {},
   "outputs": [
    {
     "name": "stdout",
     "output_type": "stream",
     "text": [
      "+----+---+----------+------+\n",
      "|Name|Age|Experience|Salary|\n",
      "+----+---+----------+------+\n",
      "|   a| 31|        10| 30000|\n",
      "+----+---+----------+------+\n",
      "\n"
     ]
    }
   ],
   "source": [
    "#Filter operation with multiple conditions\n",
    "df1.filter((df1['Salary'] <=30000) & (df1['Age'] > 30)).show()"
   ]
  },
  {
   "cell_type": "code",
   "execution_count": 56,
   "id": "e5ad5369",
   "metadata": {},
   "outputs": [
    {
     "ename": "SyntaxError",
     "evalue": "invalid syntax (<ipython-input-56-c983d30f4189>, line 2)",
     "output_type": "error",
     "traceback": [
      "\u001b[0;36m  File \u001b[0;32m\"<ipython-input-56-c983d30f4189>\"\u001b[0;36m, line \u001b[0;32m2\u001b[0m\n\u001b[0;31m    df1.filter(`('Salary <= 30000')).show()\u001b[0m\n\u001b[0m               ^\u001b[0m\n\u001b[0;31mSyntaxError\u001b[0m\u001b[0;31m:\u001b[0m invalid syntax\n"
     ]
    }
   ],
   "source": [
    "#Not operation ~\n",
    "df1.filter(`('Salary <= 30000')).show()"
   ]
  },
  {
   "cell_type": "code",
   "execution_count": 57,
   "id": "207e916e",
   "metadata": {},
   "outputs": [],
   "source": [
    "spark.stop()"
   ]
  },
  {
   "cell_type": "code",
   "execution_count": 60,
   "id": "c5941619",
   "metadata": {},
   "outputs": [],
   "source": [
    "from pyspark.sql import SparkSession"
   ]
  },
  {
   "cell_type": "code",
   "execution_count": 61,
   "id": "7c01d8fb",
   "metadata": {},
   "outputs": [],
   "source": [
    "sp = SparkSession.builder.appName('Agg').getOrCreate()"
   ]
  },
  {
   "cell_type": "code",
   "execution_count": 62,
   "id": "90b97185",
   "metadata": {},
   "outputs": [
    {
     "data": {
      "text/html": [
       "\n",
       "            <div>\n",
       "                <p><b>SparkSession - in-memory</b></p>\n",
       "                \n",
       "        <div>\n",
       "            <p><b>SparkContext</b></p>\n",
       "\n",
       "            <p><a href=\"http://10.232.20.17:4041\">Spark UI</a></p>\n",
       "\n",
       "            <dl>\n",
       "              <dt>Version</dt>\n",
       "                <dd><code>v3.1.2</code></dd>\n",
       "              <dt>Master</dt>\n",
       "                <dd><code>local[*]</code></dd>\n",
       "              <dt>AppName</dt>\n",
       "                <dd><code>Agg</code></dd>\n",
       "            </dl>\n",
       "        </div>\n",
       "        \n",
       "            </div>\n",
       "        "
      ],
      "text/plain": [
       "<pyspark.sql.session.SparkSession at 0x7fb7faffdb20>"
      ]
     },
     "execution_count": 62,
     "metadata": {},
     "output_type": "execute_result"
    }
   ],
   "source": [
    "sp"
   ]
  },
  {
   "cell_type": "code",
   "execution_count": 75,
   "id": "633ece1a",
   "metadata": {},
   "outputs": [
    {
     "name": "stdout",
     "output_type": "stream",
     "text": [
      "+-----+----------+------+\n",
      "| Name|Department|Salary|\n",
      "+-----+----------+------+\n",
      "|Heena|        DS| 10000|\n",
      "|Heena|       IOT|  5000|\n",
      "|advik|        BD|  4000|\n",
      "|Heena|        BD|  4000|\n",
      "|advik|        DS|  3000|\n",
      "| ashu|        DS|200000|\n",
      "| ashu|       IOT|100000|\n",
      "| ashu|        BD|  5000|\n",
      "|    S|        DS| 10000|\n",
      "|    S|        BD|  2000|\n",
      "+-----+----------+------+\n",
      "\n"
     ]
    }
   ],
   "source": [
    "df = sp.read.csv('test4.csv', header=True, inferSchema=True)\n",
    "df.show()"
   ]
  },
  {
   "cell_type": "code",
   "execution_count": 76,
   "id": "b0468ec6",
   "metadata": {},
   "outputs": [
    {
     "name": "stdout",
     "output_type": "stream",
     "text": [
      "+-----+-----------+\n",
      "| Name|sum(Salary)|\n",
      "+-----+-----------+\n",
      "| ashu|     305000|\n",
      "|advik|       7000|\n",
      "|Heena|      19000|\n",
      "|    S|      12000|\n",
      "+-----+-----------+\n",
      "\n"
     ]
    }
   ],
   "source": [
    "#Groupby operation \n",
    "df.groupBy('Name').sum().show()"
   ]
  },
  {
   "cell_type": "code",
   "execution_count": 77,
   "id": "bec93ddf",
   "metadata": {},
   "outputs": [
    {
     "name": "stdout",
     "output_type": "stream",
     "text": [
      "+----------+-----+\n",
      "|Department|count|\n",
      "+----------+-----+\n",
      "|       IOT|    2|\n",
      "|        BD|    4|\n",
      "|        DS|    4|\n",
      "+----------+-----+\n",
      "\n"
     ]
    }
   ],
   "source": [
    "df.groupBy('Department').count().show()"
   ]
  },
  {
   "cell_type": "code",
   "execution_count": null,
   "id": "435d82c4",
   "metadata": {},
   "outputs": [],
   "source": [
    "from pyspark.ml.features import VectorAssembler\n",
    "featureassembler = VectorAssembler(inputCols=['Age', 'Experience'], outputCols=['Salary'])"
   ]
  },
  {
   "cell_type": "code",
   "execution_count": null,
   "id": "63966975",
   "metadata": {},
   "outputs": [],
   "source": []
  }
 ],
 "metadata": {
  "kernelspec": {
   "display_name": "Python 3",
   "language": "python",
   "name": "python3"
  },
  "language_info": {
   "codemirror_mode": {
    "name": "ipython",
    "version": 3
   },
   "file_extension": ".py",
   "mimetype": "text/x-python",
   "name": "python",
   "nbconvert_exporter": "python",
   "pygments_lexer": "ipython3",
   "version": "3.8.8"
  }
 },
 "nbformat": 4,
 "nbformat_minor": 5
}
