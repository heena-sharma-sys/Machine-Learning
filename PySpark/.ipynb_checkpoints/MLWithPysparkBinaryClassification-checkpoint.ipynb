{
 "cells": [
  {
   "cell_type": "code",
   "execution_count": 1,
   "id": "9adb3f4c",
   "metadata": {},
   "outputs": [],
   "source": [
    "from pyspark import SparkContext"
   ]
  },
  {
   "cell_type": "code",
   "execution_count": 2,
   "id": "3fb47daf",
   "metadata": {},
   "outputs": [],
   "source": [
    "sc = SparkContext(master='local[12]')"
   ]
  },
  {
   "cell_type": "code",
   "execution_count": 3,
   "id": "2095efa6",
   "metadata": {},
   "outputs": [
    {
     "data": {
      "text/html": [
       "\n",
       "        <div>\n",
       "            <p><b>SparkContext</b></p>\n",
       "\n",
       "            <p><a href=\"http://10.232.20.17:4042\">Spark UI</a></p>\n",
       "\n",
       "            <dl>\n",
       "              <dt>Version</dt>\n",
       "                <dd><code>v3.1.2</code></dd>\n",
       "              <dt>Master</dt>\n",
       "                <dd><code>local[12]</code></dd>\n",
       "              <dt>AppName</dt>\n",
       "                <dd><code>pyspark-shell</code></dd>\n",
       "            </dl>\n",
       "        </div>\n",
       "        "
      ],
      "text/plain": [
       "<SparkContext master=local[12] appName=pyspark-shell>"
      ]
     },
     "execution_count": 3,
     "metadata": {},
     "output_type": "execute_result"
    }
   ],
   "source": [
    "#spark UI\n",
    "sc"
   ]
  },
  {
   "cell_type": "code",
   "execution_count": 5,
   "id": "0ad5db81",
   "metadata": {},
   "outputs": [],
   "source": [
    "from pyspark.sql import SparkSession\n",
    "spark = SparkSession.builder.appName('MLwithSpark').getOrCreate()"
   ]
  },
  {
   "cell_type": "code",
   "execution_count": 6,
   "id": "d7600089",
   "metadata": {},
   "outputs": [
    {
     "data": {
      "text/html": [
       "\n",
       "            <div>\n",
       "                <p><b>SparkSession - in-memory</b></p>\n",
       "                \n",
       "        <div>\n",
       "            <p><b>SparkContext</b></p>\n",
       "\n",
       "            <p><a href=\"http://10.232.20.17:4042\">Spark UI</a></p>\n",
       "\n",
       "            <dl>\n",
       "              <dt>Version</dt>\n",
       "                <dd><code>v3.1.2</code></dd>\n",
       "              <dt>Master</dt>\n",
       "                <dd><code>local[12]</code></dd>\n",
       "              <dt>AppName</dt>\n",
       "                <dd><code>pyspark-shell</code></dd>\n",
       "            </dl>\n",
       "        </div>\n",
       "        \n",
       "            </div>\n",
       "        "
      ],
      "text/plain": [
       "<pyspark.sql.session.SparkSession at 0x7fa5342479a0>"
      ]
     },
     "execution_count": 6,
     "metadata": {},
     "output_type": "execute_result"
    }
   ],
   "source": [
    "spark"
   ]
  },
  {
   "cell_type": "markdown",
   "id": "583309dc",
   "metadata": {},
   "source": [
    "#### Below is the forkflow of ML project: \n",
    "    1. Data Preparation \n",
    "    2. Data Engineering \n",
    "    3. Build Model \n",
    "    4. Model Evaluation \n",
    "    "
   ]
  },
  {
   "cell_type": "markdown",
   "id": "484b9061",
   "metadata": {},
   "source": [
    "Download and read csv file with source: \n",
    "https://archive.ics.uci.edu/ml/machine-learning-databases/00571/hcvdat0.csv \n",
    "\n",
    "This is classification data. "
   ]
  },
  {
   "cell_type": "markdown",
   "id": "1590cdf9",
   "metadata": {},
   "source": [
    "#### Attribute Information:\n",
    "    \n",
    "    All attributes except Category and Sex are numerical. The laboratory data are the attributes 5-14. \n",
    "    1) X (Patient ID/No.)\n",
    "    2) Category (diagnosis) (values: '0=Blood Donor', '0s=suspect Blood Donor', '1=Hepatitis', '2=Fibrosis', '3=Cirrhosis')\n",
    "    3) Age (in years)\n",
    "    4) Sex (f,m)\n",
    "    5) ALB\n",
    "    6) ALP\n",
    "    7) ALT\n",
    "    8) AST\n",
    "    9) BIL\n",
    "    10) CHE\n",
    "    11) CHOL\n",
    "    12) CREA\n",
    "    13) GGT\n",
    "    14) PROT\n",
    "\n",
    "    The target attribute for classification is Category (blood donors vs. Hepatitis C (including its progress ('just' Hepatitis C, Fibrosis, Cirrhosis)."
   ]
  },
  {
   "cell_type": "code",
   "execution_count": 9,
   "id": "3924b302",
   "metadata": {},
   "outputs": [],
   "source": [
    "# read csv in spark dataframe \n",
    "df = spark.read.csv('hcvdat0.csv', header=True, inferSchema=True)"
   ]
  },
  {
   "cell_type": "code",
   "execution_count": 10,
   "id": "7a7bbd51",
   "metadata": {},
   "outputs": [
    {
     "name": "stdout",
     "output_type": "stream",
     "text": [
      "+---+-------------+---+---+----+----+----+----+----+-----+----+-----+----+----+\n",
      "|_c0|     Category|Age|Sex| ALB| ALP| ALT| AST| BIL|  CHE|CHOL| CREA| GGT|PROT|\n",
      "+---+-------------+---+---+----+----+----+----+----+-----+----+-----+----+----+\n",
      "|  1|0=Blood Donor| 32|  m|38.5|52.5| 7.7|22.1| 7.5| 6.93|3.23|106.0|12.1|  69|\n",
      "|  2|0=Blood Donor| 32|  m|38.5|70.3|  18|24.7| 3.9|11.17| 4.8| 74.0|15.6|76.5|\n",
      "|  3|0=Blood Donor| 32|  m|46.9|74.7|36.2|52.6| 6.1| 8.84| 5.2| 86.0|33.2|79.3|\n",
      "|  4|0=Blood Donor| 32|  m|43.2|  52|30.6|22.6|18.9| 7.33|4.74| 80.0|33.8|75.7|\n",
      "|  5|0=Blood Donor| 32|  m|39.2|74.1|32.6|24.8| 9.6| 9.15|4.32| 76.0|29.9|68.7|\n",
      "|  6|0=Blood Donor| 32|  m|41.6|43.3|18.5|19.7|12.3| 9.92|6.05|111.0|91.0|  74|\n",
      "|  7|0=Blood Donor| 32|  m|46.3|41.3|17.5|17.8| 8.5| 7.01|4.79| 70.0|16.9|74.5|\n",
      "|  8|0=Blood Donor| 32|  m|42.2|41.9|35.8|31.1|16.1| 5.82| 4.6|109.0|21.5|67.1|\n",
      "|  9|0=Blood Donor| 32|  m|50.9|65.5|23.2|21.2| 6.9| 8.69| 4.1| 83.0|13.7|71.3|\n",
      "| 10|0=Blood Donor| 32|  m|42.4|86.3|20.3|20.0|35.2| 5.46|4.45| 81.0|15.9|69.9|\n",
      "| 11|0=Blood Donor| 32|  m|44.3|52.3|21.7|22.4|17.2| 4.15|3.57| 78.0|24.1|75.4|\n",
      "| 12|0=Blood Donor| 33|  m|46.4|68.2|10.3|20.0| 5.7| 7.36| 4.3| 79.0|18.7|68.6|\n",
      "| 13|0=Blood Donor| 33|  m|36.3|78.6|23.6|22.0| 7.0| 8.56|5.38| 78.0|19.4|68.7|\n",
      "| 14|0=Blood Donor| 33|  m|  39|51.7|15.9|24.0| 6.8| 6.46|3.38| 65.0| 7.0|70.4|\n",
      "| 15|0=Blood Donor| 33|  m|38.7|39.8|22.5|23.0| 4.1| 4.63|4.97| 63.0|15.2|71.9|\n",
      "| 16|0=Blood Donor| 33|  m|41.8|  65|33.1|38.0| 6.6| 8.83|4.43| 71.0|24.0|72.7|\n",
      "| 17|0=Blood Donor| 33|  m|40.9|  73|17.2|22.9|10.0| 6.98|5.22| 90.0|14.7|72.4|\n",
      "| 18|0=Blood Donor| 33|  m|45.2|88.3|32.4|31.2|10.1| 9.78|5.51|102.0|48.5|76.5|\n",
      "| 19|0=Blood Donor| 33|  m|36.6|57.1|38.9|40.3|24.9| 9.62| 5.5|112.0|27.6|69.3|\n",
      "| 20|0=Blood Donor| 33|  m|  42|63.1|32.6|34.9|11.2| 7.01|4.05|105.0|19.1|68.1|\n",
      "+---+-------------+---+---+----+----+----+----+----+-----+----+-----+----+----+\n",
      "only showing top 20 rows\n",
      "\n"
     ]
    }
   ],
   "source": [
    "df.show()"
   ]
  },
  {
   "cell_type": "code",
   "execution_count": 14,
   "id": "5b169bc0",
   "metadata": {},
   "outputs": [
    {
     "name": "stdout",
     "output_type": "stream",
     "text": [
      "['_c0', 'Category', 'Age', 'Sex', 'ALB', 'ALP', 'ALT', 'AST', 'BIL', 'CHE', 'CHOL', 'CREA', 'GGT', 'PROT']\n"
     ]
    }
   ],
   "source": [
    "#print columns\n",
    "print(df.columns)"
   ]
  },
  {
   "cell_type": "code",
   "execution_count": 16,
   "id": "36738d7a",
   "metadata": {},
   "outputs": [],
   "source": [
    "#The first column is not useful and we can drop it\n",
    "d = df.drop('_c0')"
   ]
  },
  {
   "cell_type": "code",
   "execution_count": 17,
   "id": "ad4acda4",
   "metadata": {},
   "outputs": [
    {
     "name": "stdout",
     "output_type": "stream",
     "text": [
      "+-------------+---+---+----+----+----+----+----+-----+----+-----+----+----+\n",
      "|     Category|Age|Sex| ALB| ALP| ALT| AST| BIL|  CHE|CHOL| CREA| GGT|PROT|\n",
      "+-------------+---+---+----+----+----+----+----+-----+----+-----+----+----+\n",
      "|0=Blood Donor| 32|  m|38.5|52.5| 7.7|22.1| 7.5| 6.93|3.23|106.0|12.1|  69|\n",
      "|0=Blood Donor| 32|  m|38.5|70.3|  18|24.7| 3.9|11.17| 4.8| 74.0|15.6|76.5|\n",
      "|0=Blood Donor| 32|  m|46.9|74.7|36.2|52.6| 6.1| 8.84| 5.2| 86.0|33.2|79.3|\n",
      "|0=Blood Donor| 32|  m|43.2|  52|30.6|22.6|18.9| 7.33|4.74| 80.0|33.8|75.7|\n",
      "|0=Blood Donor| 32|  m|39.2|74.1|32.6|24.8| 9.6| 9.15|4.32| 76.0|29.9|68.7|\n",
      "|0=Blood Donor| 32|  m|41.6|43.3|18.5|19.7|12.3| 9.92|6.05|111.0|91.0|  74|\n",
      "|0=Blood Donor| 32|  m|46.3|41.3|17.5|17.8| 8.5| 7.01|4.79| 70.0|16.9|74.5|\n",
      "|0=Blood Donor| 32|  m|42.2|41.9|35.8|31.1|16.1| 5.82| 4.6|109.0|21.5|67.1|\n",
      "|0=Blood Donor| 32|  m|50.9|65.5|23.2|21.2| 6.9| 8.69| 4.1| 83.0|13.7|71.3|\n",
      "|0=Blood Donor| 32|  m|42.4|86.3|20.3|20.0|35.2| 5.46|4.45| 81.0|15.9|69.9|\n",
      "|0=Blood Donor| 32|  m|44.3|52.3|21.7|22.4|17.2| 4.15|3.57| 78.0|24.1|75.4|\n",
      "|0=Blood Donor| 33|  m|46.4|68.2|10.3|20.0| 5.7| 7.36| 4.3| 79.0|18.7|68.6|\n",
      "|0=Blood Donor| 33|  m|36.3|78.6|23.6|22.0| 7.0| 8.56|5.38| 78.0|19.4|68.7|\n",
      "|0=Blood Donor| 33|  m|  39|51.7|15.9|24.0| 6.8| 6.46|3.38| 65.0| 7.0|70.4|\n",
      "|0=Blood Donor| 33|  m|38.7|39.8|22.5|23.0| 4.1| 4.63|4.97| 63.0|15.2|71.9|\n",
      "|0=Blood Donor| 33|  m|41.8|  65|33.1|38.0| 6.6| 8.83|4.43| 71.0|24.0|72.7|\n",
      "|0=Blood Donor| 33|  m|40.9|  73|17.2|22.9|10.0| 6.98|5.22| 90.0|14.7|72.4|\n",
      "|0=Blood Donor| 33|  m|45.2|88.3|32.4|31.2|10.1| 9.78|5.51|102.0|48.5|76.5|\n",
      "|0=Blood Donor| 33|  m|36.6|57.1|38.9|40.3|24.9| 9.62| 5.5|112.0|27.6|69.3|\n",
      "|0=Blood Donor| 33|  m|  42|63.1|32.6|34.9|11.2| 7.01|4.05|105.0|19.1|68.1|\n",
      "+-------------+---+---+----+----+----+----+----+-----+----+-----+----+----+\n",
      "only showing top 20 rows\n",
      "\n"
     ]
    }
   ],
   "source": [
    "d.show()"
   ]
  },
  {
   "cell_type": "code",
   "execution_count": 20,
   "id": "64625e7d",
   "metadata": {},
   "outputs": [
    {
     "data": {
      "text/plain": [
       "[('Category', 'string'),\n",
       " ('Age', 'int'),\n",
       " ('Sex', 'string'),\n",
       " ('ALB', 'string'),\n",
       " ('ALP', 'string'),\n",
       " ('ALT', 'string'),\n",
       " ('AST', 'double'),\n",
       " ('BIL', 'double'),\n",
       " ('CHE', 'double'),\n",
       " ('CHOL', 'string'),\n",
       " ('CREA', 'double'),\n",
       " ('GGT', 'double'),\n",
       " ('PROT', 'string')]"
      ]
     },
     "execution_count": 20,
     "metadata": {},
     "output_type": "execute_result"
    }
   ],
   "source": [
    "#check datatype of each column \n",
    "d.dtypes"
   ]
  },
  {
   "cell_type": "code",
   "execution_count": 21,
   "id": "bebc4bd3",
   "metadata": {},
   "outputs": [
    {
     "name": "stdout",
     "output_type": "stream",
     "text": [
      "root\n",
      " |-- Category: string (nullable = true)\n",
      " |-- Age: integer (nullable = true)\n",
      " |-- Sex: string (nullable = true)\n",
      " |-- ALB: string (nullable = true)\n",
      " |-- ALP: string (nullable = true)\n",
      " |-- ALT: string (nullable = true)\n",
      " |-- AST: double (nullable = true)\n",
      " |-- BIL: double (nullable = true)\n",
      " |-- CHE: double (nullable = true)\n",
      " |-- CHOL: string (nullable = true)\n",
      " |-- CREA: double (nullable = true)\n",
      " |-- GGT: double (nullable = true)\n",
      " |-- PROT: string (nullable = true)\n",
      "\n"
     ]
    }
   ],
   "source": [
    "#d = d['Age', 'Sex', 'ALB', 'ALP', 'ALT', 'AST', 'BIL', 'CHE', 'CREA', 'GGT', 'Category']\n",
    "d.printSchema()"
   ]
  },
  {
   "cell_type": "code",
   "execution_count": 27,
   "id": "59c69a1f",
   "metadata": {},
   "outputs": [
    {
     "name": "stdout",
     "output_type": "stream",
     "text": [
      "+--------------------+-----+\n",
      "|            Category|count|\n",
      "+--------------------+-----+\n",
      "|       0=Blood Donor|  533|\n",
      "|         3=Cirrhosis|   30|\n",
      "|          2=Fibrosis|   21|\n",
      "|0s=suspect Blood ...|    7|\n",
      "|         1=Hepatitis|   24|\n",
      "+--------------------+-----+\n",
      "\n"
     ]
    }
   ],
   "source": [
    "#see the Category column values for each category \n",
    "d.groupBy('Category').count().show()"
   ]
  },
  {
   "cell_type": "markdown",
   "id": "648e7e26",
   "metadata": {},
   "source": [
    "We can see that above data is imbalanced "
   ]
  },
  {
   "cell_type": "markdown",
   "id": "2d2d01c8",
   "metadata": {},
   "source": [
    "### Feature Engineering: \n",
    "    Numerical values\n",
    "    Vectorization \n",
    "    Scaling"
   ]
  },
  {
   "cell_type": "code",
   "execution_count": 29,
   "id": "2fb7453c",
   "metadata": {},
   "outputs": [],
   "source": [
    "import pyspark.ml"
   ]
  },
  {
   "cell_type": "code",
   "execution_count": 30,
   "id": "0c8d4c9d",
   "metadata": {},
   "outputs": [
    {
     "data": {
      "text/plain": [
       "['Estimator',\n",
       " 'Model',\n",
       " 'Pipeline',\n",
       " 'PipelineModel',\n",
       " 'PredictionModel',\n",
       " 'Predictor',\n",
       " 'Transformer',\n",
       " 'UnaryTransformer',\n",
       " '__all__',\n",
       " '__builtins__',\n",
       " '__cached__',\n",
       " '__doc__',\n",
       " '__file__',\n",
       " '__loader__',\n",
       " '__name__',\n",
       " '__package__',\n",
       " '__path__',\n",
       " '__spec__',\n",
       " 'base',\n",
       " 'classification',\n",
       " 'clustering',\n",
       " 'common',\n",
       " 'evaluation',\n",
       " 'feature',\n",
       " 'fpm',\n",
       " 'image',\n",
       " 'linalg',\n",
       " 'param',\n",
       " 'pipeline',\n",
       " 'recommendation',\n",
       " 'regression',\n",
       " 'stat',\n",
       " 'tree',\n",
       " 'tuning',\n",
       " 'util',\n",
       " 'wrapper']"
      ]
     },
     "execution_count": 30,
     "metadata": {},
     "output_type": "execute_result"
    }
   ],
   "source": [
    "dir(pyspark.ml)"
   ]
  },
  {
   "cell_type": "code",
   "execution_count": 31,
   "id": "d56d7de7",
   "metadata": {},
   "outputs": [],
   "source": [
    "from pyspark.ml.feature import VectorAssembler, StringIndexer\n"
   ]
  },
  {
   "cell_type": "code",
   "execution_count": 32,
   "id": "f57a0f2e",
   "metadata": {},
   "outputs": [],
   "source": [
    "# we will do label encoding for columns: Sex, Category\n",
    "genderEncoder = StringIndexer(inputCol='Sex', outputCol='Gender').fit(d)"
   ]
  },
  {
   "cell_type": "code",
   "execution_count": 33,
   "id": "59462ad1",
   "metadata": {},
   "outputs": [],
   "source": [
    "d = genderEncoder.transform(d)"
   ]
  },
  {
   "cell_type": "code",
   "execution_count": 34,
   "id": "ffc4d2f1",
   "metadata": {},
   "outputs": [
    {
     "name": "stdout",
     "output_type": "stream",
     "text": [
      "+-------------+---+---+----+----+----+----+----+-----+----+-----+----+----+------+\n",
      "|     Category|Age|Sex| ALB| ALP| ALT| AST| BIL|  CHE|CHOL| CREA| GGT|PROT|Gender|\n",
      "+-------------+---+---+----+----+----+----+----+-----+----+-----+----+----+------+\n",
      "|0=Blood Donor| 32|  m|38.5|52.5| 7.7|22.1| 7.5| 6.93|3.23|106.0|12.1|  69|   0.0|\n",
      "|0=Blood Donor| 32|  m|38.5|70.3|  18|24.7| 3.9|11.17| 4.8| 74.0|15.6|76.5|   0.0|\n",
      "|0=Blood Donor| 32|  m|46.9|74.7|36.2|52.6| 6.1| 8.84| 5.2| 86.0|33.2|79.3|   0.0|\n",
      "|0=Blood Donor| 32|  m|43.2|  52|30.6|22.6|18.9| 7.33|4.74| 80.0|33.8|75.7|   0.0|\n",
      "|0=Blood Donor| 32|  m|39.2|74.1|32.6|24.8| 9.6| 9.15|4.32| 76.0|29.9|68.7|   0.0|\n",
      "|0=Blood Donor| 32|  m|41.6|43.3|18.5|19.7|12.3| 9.92|6.05|111.0|91.0|  74|   0.0|\n",
      "|0=Blood Donor| 32|  m|46.3|41.3|17.5|17.8| 8.5| 7.01|4.79| 70.0|16.9|74.5|   0.0|\n",
      "|0=Blood Donor| 32|  m|42.2|41.9|35.8|31.1|16.1| 5.82| 4.6|109.0|21.5|67.1|   0.0|\n",
      "|0=Blood Donor| 32|  m|50.9|65.5|23.2|21.2| 6.9| 8.69| 4.1| 83.0|13.7|71.3|   0.0|\n",
      "|0=Blood Donor| 32|  m|42.4|86.3|20.3|20.0|35.2| 5.46|4.45| 81.0|15.9|69.9|   0.0|\n",
      "|0=Blood Donor| 32|  m|44.3|52.3|21.7|22.4|17.2| 4.15|3.57| 78.0|24.1|75.4|   0.0|\n",
      "|0=Blood Donor| 33|  m|46.4|68.2|10.3|20.0| 5.7| 7.36| 4.3| 79.0|18.7|68.6|   0.0|\n",
      "|0=Blood Donor| 33|  m|36.3|78.6|23.6|22.0| 7.0| 8.56|5.38| 78.0|19.4|68.7|   0.0|\n",
      "|0=Blood Donor| 33|  m|  39|51.7|15.9|24.0| 6.8| 6.46|3.38| 65.0| 7.0|70.4|   0.0|\n",
      "|0=Blood Donor| 33|  m|38.7|39.8|22.5|23.0| 4.1| 4.63|4.97| 63.0|15.2|71.9|   0.0|\n",
      "|0=Blood Donor| 33|  m|41.8|  65|33.1|38.0| 6.6| 8.83|4.43| 71.0|24.0|72.7|   0.0|\n",
      "|0=Blood Donor| 33|  m|40.9|  73|17.2|22.9|10.0| 6.98|5.22| 90.0|14.7|72.4|   0.0|\n",
      "|0=Blood Donor| 33|  m|45.2|88.3|32.4|31.2|10.1| 9.78|5.51|102.0|48.5|76.5|   0.0|\n",
      "|0=Blood Donor| 33|  m|36.6|57.1|38.9|40.3|24.9| 9.62| 5.5|112.0|27.6|69.3|   0.0|\n",
      "|0=Blood Donor| 33|  m|  42|63.1|32.6|34.9|11.2| 7.01|4.05|105.0|19.1|68.1|   0.0|\n",
      "+-------------+---+---+----+----+----+----+----+-----+----+-----+----+----+------+\n",
      "only showing top 20 rows\n",
      "\n"
     ]
    }
   ],
   "source": [
    "d.show()"
   ]
  },
  {
   "cell_type": "code",
   "execution_count": 35,
   "id": "90864759",
   "metadata": {},
   "outputs": [
    {
     "name": "stdout",
     "output_type": "stream",
     "text": [
      "+-------------+---+---+----+----+----+----+----+-----+----+-----+----+----+------+------+\n",
      "|     Category|Age|Sex| ALB| ALP| ALT| AST| BIL|  CHE|CHOL| CREA| GGT|PROT|Gender|Target|\n",
      "+-------------+---+---+----+----+----+----+----+-----+----+-----+----+----+------+------+\n",
      "|0=Blood Donor| 32|  m|38.5|52.5| 7.7|22.1| 7.5| 6.93|3.23|106.0|12.1|  69|   0.0|   0.0|\n",
      "|0=Blood Donor| 32|  m|38.5|70.3|  18|24.7| 3.9|11.17| 4.8| 74.0|15.6|76.5|   0.0|   0.0|\n",
      "|0=Blood Donor| 32|  m|46.9|74.7|36.2|52.6| 6.1| 8.84| 5.2| 86.0|33.2|79.3|   0.0|   0.0|\n",
      "|0=Blood Donor| 32|  m|43.2|  52|30.6|22.6|18.9| 7.33|4.74| 80.0|33.8|75.7|   0.0|   0.0|\n",
      "|0=Blood Donor| 32|  m|39.2|74.1|32.6|24.8| 9.6| 9.15|4.32| 76.0|29.9|68.7|   0.0|   0.0|\n",
      "|0=Blood Donor| 32|  m|41.6|43.3|18.5|19.7|12.3| 9.92|6.05|111.0|91.0|  74|   0.0|   0.0|\n",
      "|0=Blood Donor| 32|  m|46.3|41.3|17.5|17.8| 8.5| 7.01|4.79| 70.0|16.9|74.5|   0.0|   0.0|\n",
      "|0=Blood Donor| 32|  m|42.2|41.9|35.8|31.1|16.1| 5.82| 4.6|109.0|21.5|67.1|   0.0|   0.0|\n",
      "|0=Blood Donor| 32|  m|50.9|65.5|23.2|21.2| 6.9| 8.69| 4.1| 83.0|13.7|71.3|   0.0|   0.0|\n",
      "|0=Blood Donor| 32|  m|42.4|86.3|20.3|20.0|35.2| 5.46|4.45| 81.0|15.9|69.9|   0.0|   0.0|\n",
      "|0=Blood Donor| 32|  m|44.3|52.3|21.7|22.4|17.2| 4.15|3.57| 78.0|24.1|75.4|   0.0|   0.0|\n",
      "|0=Blood Donor| 33|  m|46.4|68.2|10.3|20.0| 5.7| 7.36| 4.3| 79.0|18.7|68.6|   0.0|   0.0|\n",
      "|0=Blood Donor| 33|  m|36.3|78.6|23.6|22.0| 7.0| 8.56|5.38| 78.0|19.4|68.7|   0.0|   0.0|\n",
      "|0=Blood Donor| 33|  m|  39|51.7|15.9|24.0| 6.8| 6.46|3.38| 65.0| 7.0|70.4|   0.0|   0.0|\n",
      "|0=Blood Donor| 33|  m|38.7|39.8|22.5|23.0| 4.1| 4.63|4.97| 63.0|15.2|71.9|   0.0|   0.0|\n",
      "|0=Blood Donor| 33|  m|41.8|  65|33.1|38.0| 6.6| 8.83|4.43| 71.0|24.0|72.7|   0.0|   0.0|\n",
      "|0=Blood Donor| 33|  m|40.9|  73|17.2|22.9|10.0| 6.98|5.22| 90.0|14.7|72.4|   0.0|   0.0|\n",
      "|0=Blood Donor| 33|  m|45.2|88.3|32.4|31.2|10.1| 9.78|5.51|102.0|48.5|76.5|   0.0|   0.0|\n",
      "|0=Blood Donor| 33|  m|36.6|57.1|38.9|40.3|24.9| 9.62| 5.5|112.0|27.6|69.3|   0.0|   0.0|\n",
      "|0=Blood Donor| 33|  m|  42|63.1|32.6|34.9|11.2| 7.01|4.05|105.0|19.1|68.1|   0.0|   0.0|\n",
      "+-------------+---+---+----+----+----+----+----+-----+----+-----+----+----+------+------+\n",
      "only showing top 20 rows\n",
      "\n"
     ]
    }
   ],
   "source": [
    "categoryEncoder = StringIndexer(inputCol='Category', outputCol='Target').fit(d)\n",
    "d = categoryEncoder.transform(d)\n",
    "d.show()"
   ]
  },
  {
   "cell_type": "code",
   "execution_count": 43,
   "id": "781887d1",
   "metadata": {
    "collapsed": true
   },
   "outputs": [
    {
     "name": "stdout",
     "output_type": "stream",
     "text": [
      "+-------------+---+---+----+----+----+----+----+-----+----+-----+----+----+------+------+-------------+\n",
      "|     Category|Age|Sex| ALB| ALP| ALT| AST| BIL|  CHE|CHOL| CREA| GGT|PROT|Gender|Target|          Cat|\n",
      "+-------------+---+---+----+----+----+----+----+-----+----+-----+----+----+------+------+-------------+\n",
      "|0=Blood Donor| 32|  m|38.5|52.5| 7.7|22.1| 7.5| 6.93|3.23|106.0|12.1|  69|   0.0|   0.0|0=Blood Donor|\n",
      "|0=Blood Donor| 32|  m|38.5|70.3|  18|24.7| 3.9|11.17| 4.8| 74.0|15.6|76.5|   0.0|   0.0|0=Blood Donor|\n",
      "|0=Blood Donor| 32|  m|46.9|74.7|36.2|52.6| 6.1| 8.84| 5.2| 86.0|33.2|79.3|   0.0|   0.0|0=Blood Donor|\n",
      "|0=Blood Donor| 32|  m|43.2|  52|30.6|22.6|18.9| 7.33|4.74| 80.0|33.8|75.7|   0.0|   0.0|0=Blood Donor|\n",
      "|0=Blood Donor| 32|  m|39.2|74.1|32.6|24.8| 9.6| 9.15|4.32| 76.0|29.9|68.7|   0.0|   0.0|0=Blood Donor|\n",
      "|0=Blood Donor| 32|  m|41.6|43.3|18.5|19.7|12.3| 9.92|6.05|111.0|91.0|  74|   0.0|   0.0|0=Blood Donor|\n",
      "|0=Blood Donor| 32|  m|46.3|41.3|17.5|17.8| 8.5| 7.01|4.79| 70.0|16.9|74.5|   0.0|   0.0|0=Blood Donor|\n",
      "|0=Blood Donor| 32|  m|42.2|41.9|35.8|31.1|16.1| 5.82| 4.6|109.0|21.5|67.1|   0.0|   0.0|0=Blood Donor|\n",
      "|0=Blood Donor| 32|  m|50.9|65.5|23.2|21.2| 6.9| 8.69| 4.1| 83.0|13.7|71.3|   0.0|   0.0|0=Blood Donor|\n",
      "|0=Blood Donor| 32|  m|42.4|86.3|20.3|20.0|35.2| 5.46|4.45| 81.0|15.9|69.9|   0.0|   0.0|0=Blood Donor|\n",
      "|0=Blood Donor| 32|  m|44.3|52.3|21.7|22.4|17.2| 4.15|3.57| 78.0|24.1|75.4|   0.0|   0.0|0=Blood Donor|\n",
      "|0=Blood Donor| 33|  m|46.4|68.2|10.3|20.0| 5.7| 7.36| 4.3| 79.0|18.7|68.6|   0.0|   0.0|0=Blood Donor|\n",
      "|0=Blood Donor| 33|  m|36.3|78.6|23.6|22.0| 7.0| 8.56|5.38| 78.0|19.4|68.7|   0.0|   0.0|0=Blood Donor|\n",
      "|0=Blood Donor| 33|  m|  39|51.7|15.9|24.0| 6.8| 6.46|3.38| 65.0| 7.0|70.4|   0.0|   0.0|0=Blood Donor|\n",
      "|0=Blood Donor| 33|  m|38.7|39.8|22.5|23.0| 4.1| 4.63|4.97| 63.0|15.2|71.9|   0.0|   0.0|0=Blood Donor|\n",
      "|0=Blood Donor| 33|  m|41.8|  65|33.1|38.0| 6.6| 8.83|4.43| 71.0|24.0|72.7|   0.0|   0.0|0=Blood Donor|\n",
      "|0=Blood Donor| 33|  m|40.9|  73|17.2|22.9|10.0| 6.98|5.22| 90.0|14.7|72.4|   0.0|   0.0|0=Blood Donor|\n",
      "|0=Blood Donor| 33|  m|45.2|88.3|32.4|31.2|10.1| 9.78|5.51|102.0|48.5|76.5|   0.0|   0.0|0=Blood Donor|\n",
      "|0=Blood Donor| 33|  m|36.6|57.1|38.9|40.3|24.9| 9.62| 5.5|112.0|27.6|69.3|   0.0|   0.0|0=Blood Donor|\n",
      "|0=Blood Donor| 33|  m|  42|63.1|32.6|34.9|11.2| 7.01|4.05|105.0|19.1|68.1|   0.0|   0.0|0=Blood Donor|\n",
      "+-------------+---+---+----+----+----+----+----+-----+----+-----+----+----+------+------+-------------+\n",
      "only showing top 20 rows\n",
      "\n"
     ]
    }
   ],
   "source": [
    "#to get back the origional column from the label encoded column \n",
    "from pyspark.ml.feature import IndexToString\n",
    "idexToString = IndexToString(inputCol = 'Target', outputCol = 'Cat')\n",
    "indexToString.transform(d).show()"
   ]
  },
  {
   "cell_type": "code",
   "execution_count": 45,
   "id": "b15dfdc8",
   "metadata": {},
   "outputs": [
    {
     "name": "stdout",
     "output_type": "stream",
     "text": [
      "+-------------+---+---+----+----+----+----+---+-----+----+-----+----+----+------+------+\n",
      "|     Category|Age|Sex| ALB| ALP| ALT| AST|BIL|  CHE|CHOL| CREA| GGT|PROT|Gender|Target|\n",
      "+-------------+---+---+----+----+----+----+---+-----+----+-----+----+----+------+------+\n",
      "|0=Blood Donor| 32|  m|38.5|52.5| 7.7|22.1|7.5| 6.93|3.23|106.0|12.1|  69|   0.0|   0.0|\n",
      "|0=Blood Donor| 32|  m|38.5|70.3|  18|24.7|3.9|11.17| 4.8| 74.0|15.6|76.5|   0.0|   0.0|\n",
      "|0=Blood Donor| 32|  m|46.9|74.7|36.2|52.6|6.1| 8.84| 5.2| 86.0|33.2|79.3|   0.0|   0.0|\n",
      "+-------------+---+---+----+----+----+----+---+-----+----+-----+----+----+------+------+\n",
      "only showing top 3 rows\n",
      "\n"
     ]
    }
   ],
   "source": [
    "#Feature selection \n",
    "d.show(3)"
   ]
  },
  {
   "cell_type": "code",
   "execution_count": 47,
   "id": "9033fa54",
   "metadata": {},
   "outputs": [
    {
     "name": "stdout",
     "output_type": "stream",
     "text": [
      "['Category', 'Age', 'Sex', 'ALB', 'ALP', 'ALT', 'AST', 'BIL', 'CHE', 'CHOL', 'CREA', 'GGT', 'PROT', 'Gender', 'Target']\n"
     ]
    }
   ],
   "source": [
    "print(d.columns)"
   ]
  },
  {
   "cell_type": "code",
   "execution_count": 49,
   "id": "06137656",
   "metadata": {},
   "outputs": [],
   "source": [
    "d1 = d['Age', 'Gender', 'ALB', 'ALP', 'ALT', 'AST', 'BIL', 'CHE', 'CHOL', 'CREA', 'GGT', 'PROT', 'Target']"
   ]
  },
  {
   "cell_type": "code",
   "execution_count": 51,
   "id": "bb75a8df",
   "metadata": {},
   "outputs": [
    {
     "name": "stdout",
     "output_type": "stream",
     "text": [
      "+---+------+----+----+----+----+---+-----+----+-----+----+----+------+\n",
      "|Age|Gender| ALB| ALP| ALT| AST|BIL|  CHE|CHOL| CREA| GGT|PROT|Target|\n",
      "+---+------+----+----+----+----+---+-----+----+-----+----+----+------+\n",
      "| 32|   0.0|38.5|52.5| 7.7|22.1|7.5| 6.93|3.23|106.0|12.1|  69|   0.0|\n",
      "| 32|   0.0|38.5|70.3|  18|24.7|3.9|11.17| 4.8| 74.0|15.6|76.5|   0.0|\n",
      "| 32|   0.0|46.9|74.7|36.2|52.6|6.1| 8.84| 5.2| 86.0|33.2|79.3|   0.0|\n",
      "+---+------+----+----+----+----+---+-----+----+-----+----+----+------+\n",
      "only showing top 3 rows\n",
      "\n"
     ]
    }
   ],
   "source": [
    "d1.show(3)"
   ]
  },
  {
   "cell_type": "code",
   "execution_count": 52,
   "id": "fa0b761a",
   "metadata": {},
   "outputs": [
    {
     "name": "stdout",
     "output_type": "stream",
     "text": [
      "root\n",
      " |-- Age: integer (nullable = true)\n",
      " |-- Gender: double (nullable = false)\n",
      " |-- ALB: string (nullable = true)\n",
      " |-- ALP: string (nullable = true)\n",
      " |-- ALT: string (nullable = true)\n",
      " |-- AST: double (nullable = true)\n",
      " |-- BIL: double (nullable = true)\n",
      " |-- CHE: double (nullable = true)\n",
      " |-- CHOL: string (nullable = true)\n",
      " |-- CREA: double (nullable = true)\n",
      " |-- GGT: double (nullable = true)\n",
      " |-- PROT: string (nullable = true)\n",
      " |-- Target: double (nullable = false)\n",
      "\n"
     ]
    }
   ],
   "source": [
    "d1.printSchema()"
   ]
  },
  {
   "cell_type": "code",
   "execution_count": 107,
   "id": "5a1714b9",
   "metadata": {},
   "outputs": [
    {
     "name": "stdout",
     "output_type": "stream",
     "text": [
      "+---+------+---+---+---+---+---+---+----+----+---+----+------+\n",
      "|Age|Gender|ALB|ALP|ALT|AST|BIL|CHE|CHOL|CREA|GGT|PROT|Target|\n",
      "+---+------+---+---+---+---+---+---+----+----+---+----+------+\n",
      "|  0|     0|  1| 18|  1|  0|  0|  0|  10|   0|  0|   1|     0|\n",
      "+---+------+---+---+---+---+---+---+----+----+---+----+------+\n",
      "\n"
     ]
    }
   ],
   "source": [
    "# Find Count of Null, None, NaN of All DataFrame Columns\n",
    "from pyspark.sql.functions import col,isnan, when, count\n",
    "d1.select([count(when(isnan(c) | col(c).isNull(), c)).alias(c) for c in d1.columns]).show()"
   ]
  },
  {
   "cell_type": "code",
   "execution_count": 108,
   "id": "115b74a1",
   "metadata": {},
   "outputs": [],
   "source": [
    "d1 = d1.na.drop('any')"
   ]
  },
  {
   "cell_type": "code",
   "execution_count": 109,
   "id": "417646e7",
   "metadata": {},
   "outputs": [],
   "source": [
    "d1=d1.withColumn(\"ALB\",d1.ALB.cast('double'))\n",
    "d1=d1.withColumn(\"ALP\",d1.ALP.cast('double'))\n",
    "d1=d1.withColumn(\"ALT\",d1.ALT.cast('double'))\n",
    "d1=d1.withColumn(\"CHOL\",d1.CHOL.cast('double'))\n",
    "d1=d1.withColumn(\"PROT\",d1.PROT.cast('double'))"
   ]
  },
  {
   "cell_type": "code",
   "execution_count": 110,
   "id": "942fe039",
   "metadata": {},
   "outputs": [
    {
     "name": "stdout",
     "output_type": "stream",
     "text": [
      "root\n",
      " |-- Age: integer (nullable = true)\n",
      " |-- Gender: double (nullable = false)\n",
      " |-- ALB: double (nullable = true)\n",
      " |-- ALP: double (nullable = true)\n",
      " |-- ALT: double (nullable = true)\n",
      " |-- AST: double (nullable = true)\n",
      " |-- BIL: double (nullable = true)\n",
      " |-- CHE: double (nullable = true)\n",
      " |-- CHOL: double (nullable = true)\n",
      " |-- CREA: double (nullable = true)\n",
      " |-- GGT: double (nullable = true)\n",
      " |-- PROT: double (nullable = true)\n",
      " |-- Target: double (nullable = false)\n",
      "\n"
     ]
    }
   ],
   "source": [
    "d1.printSchema()"
   ]
  },
  {
   "cell_type": "code",
   "execution_count": 111,
   "id": "dfed7b0c",
   "metadata": {},
   "outputs": [],
   "source": [
    "required_columns = ['Age', 'Gender', 'ALB', 'ALP', 'ALT', 'AST', 'BIL', 'CHE', 'CHOL', 'CREA', 'GGT', 'PROT', 'Target']"
   ]
  },
  {
   "cell_type": "code",
   "execution_count": 112,
   "id": "06add8e3",
   "metadata": {},
   "outputs": [],
   "source": [
    "from pyspark.ml.feature import VectorAssembler\n",
    "vector_assembler = VectorAssembler(inputCols=required_columns, outputCol='features')"
   ]
  },
  {
   "cell_type": "code",
   "execution_count": 113,
   "id": "4c115af4",
   "metadata": {},
   "outputs": [],
   "source": [
    "new_df = vector_assembler.transform(d1)"
   ]
  },
  {
   "cell_type": "code",
   "execution_count": 114,
   "id": "89a803d6",
   "metadata": {},
   "outputs": [
    {
     "name": "stdout",
     "output_type": "stream",
     "text": [
      "+---+------+----+----+----+----+---+-----+----+-----+----+----+------+--------------------+\n",
      "|Age|Gender| ALB| ALP| ALT| AST|BIL|  CHE|CHOL| CREA| GGT|PROT|Target|            features|\n",
      "+---+------+----+----+----+----+---+-----+----+-----+----+----+------+--------------------+\n",
      "| 32|   0.0|38.5|52.5| 7.7|22.1|7.5| 6.93|3.23|106.0|12.1|69.0|   0.0|[32.0,0.0,38.5,52...|\n",
      "| 32|   0.0|38.5|70.3|18.0|24.7|3.9|11.17| 4.8| 74.0|15.6|76.5|   0.0|[32.0,0.0,38.5,70...|\n",
      "| 32|   0.0|46.9|74.7|36.2|52.6|6.1| 8.84| 5.2| 86.0|33.2|79.3|   0.0|[32.0,0.0,46.9,74...|\n",
      "+---+------+----+----+----+----+---+-----+----+-----+----+----+------+--------------------+\n",
      "only showing top 3 rows\n",
      "\n"
     ]
    }
   ],
   "source": [
    "new_df.show(3)"
   ]
  },
  {
   "cell_type": "code",
   "execution_count": 115,
   "id": "520c72f6",
   "metadata": {},
   "outputs": [],
   "source": [
    "train, test = new_df.randomSplit([0.7, 0.3])"
   ]
  },
  {
   "cell_type": "code",
   "execution_count": 116,
   "id": "b56ab1fd",
   "metadata": {},
   "outputs": [
    {
     "data": {
      "text/plain": [
       "408"
      ]
     },
     "execution_count": 116,
     "metadata": {},
     "output_type": "execute_result"
    }
   ],
   "source": [
    "train.count()"
   ]
  },
  {
   "cell_type": "markdown",
   "id": "30548a22",
   "metadata": {},
   "source": [
    "#### Model Building: \n",
    "    pyspark.ml - for Dataframes\n",
    "    pyspark.mllib - for RDD"
   ]
  },
  {
   "cell_type": "code",
   "execution_count": 117,
   "id": "fface85d",
   "metadata": {},
   "outputs": [],
   "source": [
    "from pyspark.ml.classification import LogisticRegression, DecisionTreeClassifier"
   ]
  },
  {
   "cell_type": "code",
   "execution_count": 118,
   "id": "f3524f1b",
   "metadata": {},
   "outputs": [],
   "source": [
    "log_reg = LogisticRegression(featuresCol='features', labelCol='Target')"
   ]
  },
  {
   "cell_type": "code",
   "execution_count": 119,
   "id": "864a1e8f",
   "metadata": {},
   "outputs": [],
   "source": [
    "lr_model = log_reg.fit(train)"
   ]
  },
  {
   "cell_type": "code",
   "execution_count": 120,
   "id": "270457dd",
   "metadata": {},
   "outputs": [],
   "source": [
    "y_pred = lr_model.transform(test) "
   ]
  },
  {
   "cell_type": "code",
   "execution_count": 121,
   "id": "e4ae3f6c",
   "metadata": {
    "collapsed": true
   },
   "outputs": [
    {
     "name": "stdout",
     "output_type": "stream",
     "text": [
      "+---+------+----+----+----+----+----+-----+----+-----+----+----+------+--------------------+--------------------+--------------------+----------+\n",
      "|Age|Gender| ALB| ALP| ALT| AST| BIL|  CHE|CHOL| CREA| GGT|PROT|Target|            features|       rawPrediction|         probability|prediction|\n",
      "+---+------+----+----+----+----+----+-----+----+-----+----+----+------+--------------------+--------------------+--------------------+----------+\n",
      "| 27|   0.0|45.0|27.5|10.5|37.8|10.0| 8.77| 3.2| 55.2|35.9|74.5|   2.0|[27.0,0.0,45.0,27...|[-53.579351609198...|[1.25343606417086...|       2.0|\n",
      "| 32|   0.0|38.5|70.3|18.0|24.7| 3.9|11.17| 4.8| 74.0|15.6|76.5|   0.0|[32.0,0.0,38.5,70...|[325.203181200540...|[1.0,2.2050682922...|       0.0|\n",
      "| 32|   0.0|39.2|74.1|32.6|24.8| 9.6| 9.15|4.32| 76.0|29.9|68.7|   0.0|[32.0,0.0,39.2,74...|[275.533538524718...|[1.0,2.0570071623...|       0.0|\n",
      "| 32|   0.0|42.4|86.3|20.3|20.0|35.2| 5.46|4.45| 81.0|15.9|69.9|   0.0|[32.0,0.0,42.4,86...|[212.511508073585...|[1.0,1.6241066267...|       0.0|\n",
      "| 32|   0.0|43.2|52.0|30.6|22.6|18.9| 7.33|4.74| 80.0|33.8|75.7|   0.0|[32.0,0.0,43.2,52...|[267.179211016653...|[1.0,1.4175507125...|       0.0|\n",
      "| 32|   0.0|46.9|74.7|36.2|52.6| 6.1| 8.84| 5.2| 86.0|33.2|79.3|   0.0|[32.0,0.0,46.9,74...|[287.492310366083...|[1.0,1.3361008435...|       0.0|\n",
      "| 32|   1.0|43.5|66.2| 9.2|17.8| 5.7| 7.14|4.38| 71.0|44.6|76.1|   0.0|[32.0,1.0,43.5,66...|[315.508379575921...|[1.0,1.2786747712...|       0.0|\n",
      "| 33|   0.0|36.3|78.6|23.6|22.0| 7.0| 8.56|5.38| 78.0|19.4|68.7|   0.0|[33.0,0.0,36.3,78...|[301.339504709834...|[1.0,6.2680820276...|       0.0|\n",
      "| 33|   0.0|44.3|49.8|32.1|21.6|13.1| 7.44|5.59|103.0|30.2|74.0|   0.0|[33.0,0.0,44.3,49...|[303.090454293382...|[1.0,9.5042641469...|       0.0|\n",
      "| 33|   1.0|35.4|53.5| 9.8|17.6| 3.8|  6.0|4.48| 78.0| 8.0|71.5|   0.0|[33.0,1.0,35.4,53...|[305.762813523138...|[1.0,1.3062488096...|       0.0|\n",
      "| 33|   1.0|38.5|82.2|11.9|17.0| 7.3| 7.23|3.92| 50.0| 7.0|73.3|   0.0|[33.0,1.0,38.5,82...|[323.458649127355...|[1.0,2.0561083922...|       0.0|\n",
      "| 33|   1.0|41.0|61.1|27.0|28.0| 6.0| 8.36|4.93| 70.0|24.7|70.5|   0.0|[33.0,1.0,41.0,61...|[318.992911749301...|[1.0,7.9819661636...|       0.0|\n",
      "| 33|   1.0|43.0|29.6| 3.8|16.7| 6.0| 6.88|5.72| 58.8|11.5|78.2|   2.0|[33.0,1.0,43.0,29...|[78.2703008373108...|[0.99999999999996...|       0.0|\n",
      "| 33|   1.0|44.3|74.0|49.7|52.3| 8.5| 6.49|3.34| 73.0|44.7|73.8|   0.0|[33.0,1.0,44.3,74...|[232.291335573660...|[1.0,4.2690405453...|       0.0|\n",
      "| 33|   1.0|47.6|95.5|18.8|22.2| 2.4| 7.84|5.57| 71.0|16.9|75.0|   0.0|[33.0,1.0,47.6,95...|[396.515786646596...|[1.0,1.5952437871...|       0.0|\n",
      "| 34|   0.0|43.6|58.9|47.1|31.1|18.5| 9.14|4.99| 95.0|22.2|69.3|   0.0|[34.0,0.0,43.6,58...|[271.833523065305...|[1.0,4.4988008695...|       0.0|\n",
      "| 34|   1.0|36.3|63.2|21.4|20.4| 4.6| 7.41|5.17| 75.0|18.7|64.2|   0.0|[34.0,1.0,36.3,63...|[312.209573301030...|[1.0,2.5437058713...|       0.0|\n",
      "| 35|   0.0|42.1|68.3|37.2|56.2|11.1|  9.3|4.63| 99.0|16.8|73.6|   0.0|[35.0,0.0,42.1,68...|[233.964333982807...|[1.0,2.5245673709...|       0.0|\n",
      "| 35|   0.0|44.5|70.3|26.2|25.1| 5.1|10.12|4.69| 82.0|20.7|67.2|   0.0|[35.0,0.0,44.5,70...|[321.536983472438...|[1.0,1.8227904795...|       0.0|\n",
      "| 35|   0.0|47.4|54.5|18.6|21.6|10.3|  8.1|6.23| 66.0|28.1|74.0|   0.0|[35.0,0.0,47.4,54...|[349.269126434404...|[1.0,1.4142987921...|       0.0|\n",
      "+---+------+----+----+----+----+----+-----+----+-----+----+----+------+--------------------+--------------------+--------------------+----------+\n",
      "only showing top 20 rows\n",
      "\n"
     ]
    }
   ],
   "source": [
    "y_pred.show() "
   ]
  },
  {
   "cell_type": "code",
   "execution_count": 122,
   "id": "3e8a009e",
   "metadata": {},
   "outputs": [
    {
     "name": "stdout",
     "output_type": "stream",
     "text": [
      "['Age', 'Gender', 'ALB', 'ALP', 'ALT', 'AST', 'BIL', 'CHE', 'CHOL', 'CREA', 'GGT', 'PROT', 'Target', 'features', 'rawPrediction', 'probability', 'prediction']\n"
     ]
    }
   ],
   "source": [
    "print(y_pred.columns)"
   ]
  },
  {
   "cell_type": "code",
   "execution_count": 125,
   "id": "50294203",
   "metadata": {},
   "outputs": [
    {
     "name": "stdout",
     "output_type": "stream",
     "text": [
      "+--------------------+--------------------+----------+------+\n",
      "|       rawPrediction|         probability|prediction|Target|\n",
      "+--------------------+--------------------+----------+------+\n",
      "|[-53.579351609198...|[1.25343606417086...|       2.0|   2.0|\n",
      "|[325.203181200540...|[1.0,2.2050682922...|       0.0|   0.0|\n",
      "|[275.533538524718...|[1.0,2.0570071623...|       0.0|   0.0|\n",
      "|[212.511508073585...|[1.0,1.6241066267...|       0.0|   0.0|\n",
      "|[267.179211016653...|[1.0,1.4175507125...|       0.0|   0.0|\n",
      "|[287.492310366083...|[1.0,1.3361008435...|       0.0|   0.0|\n",
      "|[315.508379575921...|[1.0,1.2786747712...|       0.0|   0.0|\n",
      "|[301.339504709834...|[1.0,6.2680820276...|       0.0|   0.0|\n",
      "|[303.090454293382...|[1.0,9.5042641469...|       0.0|   0.0|\n",
      "|[305.762813523138...|[1.0,1.3062488096...|       0.0|   0.0|\n",
      "|[323.458649127355...|[1.0,2.0561083922...|       0.0|   0.0|\n",
      "|[318.992911749301...|[1.0,7.9819661636...|       0.0|   0.0|\n",
      "|[78.2703008373108...|[0.99999999999996...|       0.0|   2.0|\n",
      "|[232.291335573660...|[1.0,4.2690405453...|       0.0|   0.0|\n",
      "|[396.515786646596...|[1.0,1.5952437871...|       0.0|   0.0|\n",
      "|[271.833523065305...|[1.0,4.4988008695...|       0.0|   0.0|\n",
      "|[312.209573301030...|[1.0,2.5437058713...|       0.0|   0.0|\n",
      "|[233.964333982807...|[1.0,2.5245673709...|       0.0|   0.0|\n",
      "|[321.536983472438...|[1.0,1.8227904795...|       0.0|   0.0|\n",
      "|[349.269126434404...|[1.0,1.4142987921...|       0.0|   0.0|\n",
      "+--------------------+--------------------+----------+------+\n",
      "only showing top 20 rows\n",
      "\n"
     ]
    }
   ],
   "source": [
    "y_pred.select('rawPrediction', 'probability', 'prediction', 'Target').show()"
   ]
  },
  {
   "cell_type": "markdown",
   "id": "58551d85",
   "metadata": {},
   "source": [
    "#### Model Evaluation using:\n",
    "    Accuracy \n",
    "    F1 score\n",
    "    Precision\n",
    "    Recall"
   ]
  },
  {
   "cell_type": "code",
   "execution_count": 126,
   "id": "13968585",
   "metadata": {},
   "outputs": [],
   "source": [
    "from pyspark.ml.evaluation import MulticlassClassificationEvaluator "
   ]
  },
  {
   "cell_type": "code",
   "execution_count": 128,
   "id": "742cec64",
   "metadata": {},
   "outputs": [],
   "source": [
    "#Accuracy matric \n",
    "multi_evaluator = MulticlassClassificationEvaluator(labelCol='Target', metricName='accuracy')"
   ]
  },
  {
   "cell_type": "code",
   "execution_count": 129,
   "id": "a9afa57b",
   "metadata": {},
   "outputs": [
    {
     "data": {
      "text/plain": [
       "0.9668508287292817"
      ]
     },
     "execution_count": 129,
     "metadata": {},
     "output_type": "execute_result"
    }
   ],
   "source": [
    "multi_evaluator.evaluate(y_pred)"
   ]
  },
  {
   "cell_type": "code",
   "execution_count": 134,
   "id": "2ef5f1b3",
   "metadata": {},
   "outputs": [],
   "source": [
    "from pyspark.mllib.evaluation import MulticlassMetrics"
   ]
  },
  {
   "cell_type": "code",
   "execution_count": 138,
   "id": "27bd151b",
   "metadata": {
    "collapsed": true
   },
   "outputs": [
    {
     "name": "stderr",
     "output_type": "stream",
     "text": [
      "Exception ignored in: <function JavaModelWrapper.__del__ at 0x7fa5348ed280>\n",
      "Traceback (most recent call last):\n",
      "  File \"/Users/heenasharma/opt/anaconda3/lib/python3.8/site-packages/pyspark/mllib/common.py\", line 137, in __del__\n",
      "    self._sc._gateway.detach(self._java_model)\n",
      "AttributeError: 'MulticlassMetrics' object has no attribute '_sc'\n",
      "Exception ignored in: <function JavaModelWrapper.__del__ at 0x7fa5348ed280>\n",
      "Traceback (most recent call last):\n",
      "  File \"/Users/heenasharma/opt/anaconda3/lib/python3.8/site-packages/pyspark/mllib/common.py\", line 137, in __del__\n",
      "    self._sc._gateway.detach(self._java_model)\n",
      "AttributeError: 'MulticlassMetrics' object has no attribute '_sc'\n",
      "Exception ignored in: <function JavaModelWrapper.__del__ at 0x7fa5348ed280>\n",
      "Traceback (most recent call last):\n",
      "  File \"/Users/heenasharma/opt/anaconda3/lib/python3.8/site-packages/pyspark/mllib/common.py\", line 137, in __del__\n",
      "    self._sc._gateway.detach(self._java_model)\n",
      "AttributeError: 'MulticlassMetrics' object has no attribute '_sc'\n"
     ]
    }
   ],
   "source": [
    "lr_metrics = MulticlassMetrics(y_pred['Target', 'prediction'].rdd)"
   ]
  },
  {
   "cell_type": "code",
   "execution_count": 139,
   "id": "1714f3ea",
   "metadata": {
    "collapsed": true
   },
   "outputs": [
    {
     "data": {
      "text/plain": [
       "['__class__',\n",
       " '__del__',\n",
       " '__delattr__',\n",
       " '__dict__',\n",
       " '__dir__',\n",
       " '__doc__',\n",
       " '__eq__',\n",
       " '__format__',\n",
       " '__ge__',\n",
       " '__getattribute__',\n",
       " '__gt__',\n",
       " '__hash__',\n",
       " '__init__',\n",
       " '__init_subclass__',\n",
       " '__le__',\n",
       " '__lt__',\n",
       " '__module__',\n",
       " '__ne__',\n",
       " '__new__',\n",
       " '__reduce__',\n",
       " '__reduce_ex__',\n",
       " '__repr__',\n",
       " '__setattr__',\n",
       " '__sizeof__',\n",
       " '__str__',\n",
       " '__subclasshook__',\n",
       " '__weakref__',\n",
       " '_java_model',\n",
       " '_sc',\n",
       " 'accuracy',\n",
       " 'call',\n",
       " 'confusionMatrix',\n",
       " 'fMeasure',\n",
       " 'falsePositiveRate',\n",
       " 'logLoss',\n",
       " 'precision',\n",
       " 'recall',\n",
       " 'truePositiveRate',\n",
       " 'weightedFMeasure',\n",
       " 'weightedFalsePositiveRate',\n",
       " 'weightedPrecision',\n",
       " 'weightedRecall',\n",
       " 'weightedTruePositiveRate']"
      ]
     },
     "execution_count": 139,
     "metadata": {},
     "output_type": "execute_result"
    }
   ],
   "source": [
    "dir(lr_metrics)"
   ]
  },
  {
   "cell_type": "code",
   "execution_count": 140,
   "id": "248dfeaf",
   "metadata": {},
   "outputs": [
    {
     "name": "stdout",
     "output_type": "stream",
     "text": [
      "0.9668508287292817\n"
     ]
    }
   ],
   "source": [
    "print(lr_metrics.accuracy)"
   ]
  },
  {
   "cell_type": "code",
   "execution_count": 145,
   "id": "47dfd1e1",
   "metadata": {},
   "outputs": [
    {
     "name": "stdout",
     "output_type": "stream",
     "text": [
      "0.9\n",
      "1.0\n",
      "0.9473684210526316\n"
     ]
    }
   ],
   "source": [
    "print(lr_metrics.precision(1.0))\n",
    "print(lr_metrics.recall(1.0))\n",
    "print(lr_metrics.fMeasure(1.0))\n"
   ]
  },
  {
   "cell_type": "code",
   "execution_count": null,
   "id": "0fe363b0",
   "metadata": {},
   "outputs": [],
   "source": []
  }
 ],
 "metadata": {
  "kernelspec": {
   "display_name": "Python 3",
   "language": "python",
   "name": "python3"
  },
  "language_info": {
   "codemirror_mode": {
    "name": "ipython",
    "version": 3
   },
   "file_extension": ".py",
   "mimetype": "text/x-python",
   "name": "python",
   "nbconvert_exporter": "python",
   "pygments_lexer": "ipython3",
   "version": "3.8.8"
  }
 },
 "nbformat": 4,
 "nbformat_minor": 5
}
