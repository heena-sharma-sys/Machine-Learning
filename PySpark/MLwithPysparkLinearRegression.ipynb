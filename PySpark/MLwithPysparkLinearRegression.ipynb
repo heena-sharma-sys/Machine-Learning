{
 "cells": [
  {
   "cell_type": "code",
   "execution_count": 1,
   "id": "df8d441e",
   "metadata": {},
   "outputs": [],
   "source": [
    "from pyspark.sql import SparkSession\n",
    "spark = SparkSession.builder.appName('Regression').getOrCreate()"
   ]
  },
  {
   "cell_type": "code",
   "execution_count": 2,
   "id": "11795205",
   "metadata": {},
   "outputs": [
    {
     "data": {
      "text/html": [
       "\n",
       "            <div>\n",
       "                <p><b>SparkSession - in-memory</b></p>\n",
       "                \n",
       "        <div>\n",
       "            <p><b>SparkContext</b></p>\n",
       "\n",
       "            <p><a href=\"http://10.196.104.68:4043\">Spark UI</a></p>\n",
       "\n",
       "            <dl>\n",
       "              <dt>Version</dt>\n",
       "                <dd><code>v3.1.2</code></dd>\n",
       "              <dt>Master</dt>\n",
       "                <dd><code>local[*]</code></dd>\n",
       "              <dt>AppName</dt>\n",
       "                <dd><code>Regression</code></dd>\n",
       "            </dl>\n",
       "        </div>\n",
       "        \n",
       "            </div>\n",
       "        "
      ],
      "text/plain": [
       "<pyspark.sql.session.SparkSession at 0x7f9dcaa5b910>"
      ]
     },
     "execution_count": 2,
     "metadata": {},
     "output_type": "execute_result"
    }
   ],
   "source": [
    "spark"
   ]
  },
  {
   "cell_type": "code",
   "execution_count": 11,
   "id": "6fa7a9c9",
   "metadata": {},
   "outputs": [],
   "source": [
    "df = spark.read.csv('tips.csv', header=True, inferSchema=True)"
   ]
  },
  {
   "cell_type": "code",
   "execution_count": 12,
   "id": "4a8b5998",
   "metadata": {},
   "outputs": [
    {
     "name": "stdout",
     "output_type": "stream",
     "text": [
      "+----------+----+------+------+---+------+----+\n",
      "|total_bill| tip|   sex|smoker|day|  time|size|\n",
      "+----------+----+------+------+---+------+----+\n",
      "|     16.99|1.01|Female|    No|Sun|Dinner|   2|\n",
      "|     10.34|1.66|  Male|    No|Sun|Dinner|   3|\n",
      "|     21.01| 3.5|  Male|    No|Sun|Dinner|   3|\n",
      "+----------+----+------+------+---+------+----+\n",
      "only showing top 3 rows\n",
      "\n"
     ]
    }
   ],
   "source": [
    "df.show(3)"
   ]
  },
  {
   "cell_type": "code",
   "execution_count": 13,
   "id": "9b7e47be",
   "metadata": {},
   "outputs": [
    {
     "name": "stdout",
     "output_type": "stream",
     "text": [
      "root\n",
      " |-- total_bill: double (nullable = true)\n",
      " |-- tip: double (nullable = true)\n",
      " |-- sex: string (nullable = true)\n",
      " |-- smoker: string (nullable = true)\n",
      " |-- day: string (nullable = true)\n",
      " |-- time: string (nullable = true)\n",
      " |-- size: integer (nullable = true)\n",
      "\n"
     ]
    }
   ],
   "source": [
    "df.printSchema()"
   ]
  },
  {
   "cell_type": "markdown",
   "id": "334000e9",
   "metadata": {},
   "source": [
    "We need to convert string features into numerical.  "
   ]
  },
  {
   "cell_type": "code",
   "execution_count": 14,
   "id": "9bb76dd5",
   "metadata": {},
   "outputs": [
    {
     "name": "stdout",
     "output_type": "stream",
     "text": [
      "+----------+----+------+------+---+------+----+------+---------+------+-------+\n",
      "|total_bill| tip|   sex|smoker|day|  time|size|sex_en|smoker_en|day_en|time_en|\n",
      "+----------+----+------+------+---+------+----+------+---------+------+-------+\n",
      "|     16.99|1.01|Female|    No|Sun|Dinner|   2|   1.0|      0.0|   1.0|    0.0|\n",
      "|     10.34|1.66|  Male|    No|Sun|Dinner|   3|   0.0|      0.0|   1.0|    0.0|\n",
      "|     21.01| 3.5|  Male|    No|Sun|Dinner|   3|   0.0|      0.0|   1.0|    0.0|\n",
      "+----------+----+------+------+---+------+----+------+---------+------+-------+\n",
      "only showing top 3 rows\n",
      "\n"
     ]
    }
   ],
   "source": [
    "from pyspark.ml.feature import VectorAssembler, StringIndexer\n",
    "# we will do label encoding for columns: sex, smoker, day, time\n",
    "d = StringIndexer(inputCols=['sex', 'smoker', 'day', 'time'], outputCols=['sex_en', 'smoker_en', 'day_en', 'time_en']).fit(df)\n",
    "df = d.transform(df)\n",
    "df.show(3)"
   ]
  },
  {
   "cell_type": "code",
   "execution_count": 22,
   "id": "26c3a2f7",
   "metadata": {},
   "outputs": [
    {
     "name": "stdout",
     "output_type": "stream",
     "text": [
      "+---------+------------------+-----------------+---------+-----------+--------------+-----------+------------+\n",
      "|smoker_en|   sum(total_bill)|         sum(tip)|sum(size)|sum(sex_en)|sum(smoker_en)|sum(day_en)|sum(time_en)|\n",
      "+---------+------------------+-----------------+---------+-----------+--------------+-----------+------------+\n",
      "|      0.0| 2897.430000000001|451.7700000000001|      403|       54.0|           0.0|      159.0|        45.0|\n",
      "|      1.0|1930.3400000000001|           279.81|      224|       33.0|          93.0|       98.0|        23.0|\n",
      "+---------+------------------+-----------------+---------+-----------+--------------+-----------+------------+\n",
      "\n"
     ]
    }
   ],
   "source": [
    "df.groupBy('smoker_en').sum().show()"
   ]
  },
  {
   "cell_type": "code",
   "execution_count": 23,
   "id": "5a9b1340",
   "metadata": {},
   "outputs": [
    {
     "name": "stdout",
     "output_type": "stream",
     "text": [
      "+----------+---+---+------+---+----+----+------+---------+------+-------+\n",
      "|total_bill|tip|sex|smoker|day|time|size|sex_en|smoker_en|day_en|time_en|\n",
      "+----------+---+---+------+---+----+----+------+---------+------+-------+\n",
      "|         0|  0|  0|     0|  0|   0|   0|     0|        0|     0|      0|\n",
      "+----------+---+---+------+---+----+----+------+---------+------+-------+\n",
      "\n"
     ]
    }
   ],
   "source": [
    "# Find Count of Null, None, NaN of All DataFrame Columns\n",
    "from pyspark.sql.functions import col,isnan, when, count\n",
    "df.select([count(when(isnan(c) | col(c).isNull(), c)).alias(c) for c in df.columns]).show()"
   ]
  },
  {
   "cell_type": "code",
   "execution_count": 25,
   "id": "2c977114",
   "metadata": {},
   "outputs": [
    {
     "name": "stdout",
     "output_type": "stream",
     "text": [
      "['total_bill', 'tip', 'sex', 'smoker', 'day', 'time', 'size', 'sex_en', 'smoker_en', 'day_en', 'time_en']\n"
     ]
    }
   ],
   "source": [
    "print(df.columns)"
   ]
  },
  {
   "cell_type": "code",
   "execution_count": 26,
   "id": "a306b6b5",
   "metadata": {},
   "outputs": [],
   "source": [
    "required_columns = ['tip', 'size', 'sex_en', 'smoker_en', 'day_en', 'time_en']"
   ]
  },
  {
   "cell_type": "code",
   "execution_count": 29,
   "id": "d5725419",
   "metadata": {},
   "outputs": [],
   "source": [
    "from pyspark.ml.feature import VectorAssembler\n",
    "vector_assembler = VectorAssembler(inputCols=required_columns, outputCol='IndependentFeatures')"
   ]
  },
  {
   "cell_type": "code",
   "execution_count": 30,
   "id": "dbdfcfd1",
   "metadata": {},
   "outputs": [],
   "source": [
    "new_df = vector_assembler.transform(df)"
   ]
  },
  {
   "cell_type": "code",
   "execution_count": 31,
   "id": "cef38623",
   "metadata": {},
   "outputs": [
    {
     "name": "stdout",
     "output_type": "stream",
     "text": [
      "+----------+----+------+------+---+------+----+------+---------+------+-------+--------------------+\n",
      "|total_bill| tip|   sex|smoker|day|  time|size|sex_en|smoker_en|day_en|time_en| IndependentFeatures|\n",
      "+----------+----+------+------+---+------+----+------+---------+------+-------+--------------------+\n",
      "|     16.99|1.01|Female|    No|Sun|Dinner|   2|   1.0|      0.0|   1.0|    0.0|[1.01,2.0,1.0,0.0...|\n",
      "|     10.34|1.66|  Male|    No|Sun|Dinner|   3|   0.0|      0.0|   1.0|    0.0|[1.66,3.0,0.0,0.0...|\n",
      "|     21.01| 3.5|  Male|    No|Sun|Dinner|   3|   0.0|      0.0|   1.0|    0.0|[3.5,3.0,0.0,0.0,...|\n",
      "+----------+----+------+------+---+------+----+------+---------+------+-------+--------------------+\n",
      "only showing top 3 rows\n",
      "\n"
     ]
    }
   ],
   "source": [
    "new_df.show(3)"
   ]
  },
  {
   "cell_type": "code",
   "execution_count": 35,
   "id": "3dc25aad",
   "metadata": {},
   "outputs": [],
   "source": [
    "final_data = new_df.select('IndependentFeatures', 'total_bill')"
   ]
  },
  {
   "cell_type": "code",
   "execution_count": 36,
   "id": "2e6f21fa",
   "metadata": {},
   "outputs": [
    {
     "name": "stdout",
     "output_type": "stream",
     "text": [
      "+--------------------+----------+\n",
      "| IndependentFeatures|total_bill|\n",
      "+--------------------+----------+\n",
      "|[1.01,2.0,1.0,0.0...|     16.99|\n",
      "|[1.66,3.0,0.0,0.0...|     10.34|\n",
      "|[3.5,3.0,0.0,0.0,...|     21.01|\n",
      "+--------------------+----------+\n",
      "only showing top 3 rows\n",
      "\n"
     ]
    }
   ],
   "source": [
    "final_data.show(3)"
   ]
  },
  {
   "cell_type": "code",
   "execution_count": 37,
   "id": "4451134a",
   "metadata": {},
   "outputs": [],
   "source": [
    "train, test = final_data.randomSplit([0.7, 0.3])"
   ]
  },
  {
   "cell_type": "code",
   "execution_count": 38,
   "id": "e54f92a2",
   "metadata": {},
   "outputs": [
    {
     "data": {
      "text/plain": [
       "173"
      ]
     },
     "execution_count": 38,
     "metadata": {},
     "output_type": "execute_result"
    }
   ],
   "source": [
    "train.count()"
   ]
  },
  {
   "cell_type": "code",
   "execution_count": 39,
   "id": "36faee05",
   "metadata": {},
   "outputs": [
    {
     "data": {
      "text/plain": [
       "71"
      ]
     },
     "execution_count": 39,
     "metadata": {},
     "output_type": "execute_result"
    }
   ],
   "source": [
    "test.count()"
   ]
  },
  {
   "cell_type": "code",
   "execution_count": 40,
   "id": "1b91f749",
   "metadata": {},
   "outputs": [],
   "source": [
    "from pyspark.ml.regression import LinearRegression\n",
    "regressor = LinearRegression(featuresCol='IndependentFeatures', labelCol='total_bill')"
   ]
  },
  {
   "cell_type": "code",
   "execution_count": 41,
   "id": "380dcf94",
   "metadata": {},
   "outputs": [],
   "source": [
    "regressor = regressor.fit(train)"
   ]
  },
  {
   "cell_type": "code",
   "execution_count": 42,
   "id": "83a1f01f",
   "metadata": {},
   "outputs": [
    {
     "data": {
      "text/plain": [
       "DenseVector([3.3279, 3.1231, -1.1942, 1.7721, -0.7524, -0.3378])"
      ]
     },
     "execution_count": 42,
     "metadata": {},
     "output_type": "execute_result"
    }
   ],
   "source": [
    "regressor.coefficients"
   ]
  },
  {
   "cell_type": "code",
   "execution_count": 43,
   "id": "9b519f5c",
   "metadata": {},
   "outputs": [
    {
     "data": {
      "text/plain": [
       "2.4896079646728873"
      ]
     },
     "execution_count": 43,
     "metadata": {},
     "output_type": "execute_result"
    }
   ],
   "source": [
    "regressor.intercept"
   ]
  },
  {
   "cell_type": "code",
   "execution_count": 45,
   "id": "5f2d1db2",
   "metadata": {},
   "outputs": [],
   "source": [
    "# Model Evaluation\n",
    "y_pred = regressor.evaluate(test)"
   ]
  },
  {
   "cell_type": "code",
   "execution_count": 48,
   "id": "4ae4538b",
   "metadata": {},
   "outputs": [
    {
     "name": "stdout",
     "output_type": "stream",
     "text": [
      "+--------------------+----------+------------------+\n",
      "| IndependentFeatures|total_bill|        prediction|\n",
      "+--------------------+----------+------------------+\n",
      "|(6,[0,1],[1.97,2.0])|     12.02|15.291752697972319|\n",
      "| (6,[0,1],[2.0,2.0])|     12.69|15.391589595278099|\n",
      "|(6,[0,1],[2.72,2.0])|     13.28|17.787675130616822|\n",
      "| (6,[0,1],[3.0,4.0])|     20.45|24.965674649023974|\n",
      "|(6,[0,1],[3.15,3.0])|     20.08| 22.34176489710961|\n",
      "|(6,[0,1],[3.39,2.0])|     11.61| 20.01736583711258|\n",
      "|(6,[0,1],[4.08,2.0])|     17.92|22.313614475145524|\n",
      "|(6,[0,1],[6.73,4.0])|     48.27|  37.3787288807093|\n",
      "|[1.0,1.0,1.0,1.0,...|      3.07|  9.51852213414649|\n",
      "|[1.0,2.0,0.0,1.0,...|      12.6| 13.83578593529759|\n",
      "|[1.25,2.0,1.0,0.0...|      8.51| 9.858826575624178|\n",
      "|[1.32,2.0,0.0,0.0...|      9.68|12.376192136556137|\n",
      "|[1.36,3.0,1.0,0.0...|     18.64| 13.34798943752197|\n",
      "|[1.5,2.0,0.0,0.0,...|     12.46| 11.47035794747559|\n",
      "|[1.5,2.0,1.0,0.0,...|     10.65|10.690800719839013|\n",
      "|[1.57,2.0,0.0,0.0...|     15.42| 13.20816628077097|\n",
      "|[1.61,2.0,1.0,1.0...|     10.59|14.671633284473954|\n",
      "|[1.64,2.0,0.0,1.0...|     15.36|15.965639744487568|\n",
      "|[1.71,2.0,0.0,0.0...|     10.27|13.674071801531278|\n",
      "|[1.73,2.0,0.0,0.0...|      9.78|12.650386495224495|\n",
      "+--------------------+----------+------------------+\n",
      "only showing top 20 rows\n",
      "\n"
     ]
    }
   ],
   "source": [
    "y_pred.predictions.show()"
   ]
  },
  {
   "cell_type": "markdown",
   "id": "d542249d",
   "metadata": {},
   "source": [
    "#### comparision between actual and predicted values using regression performance Metrics:\n",
    "1. R2 \n",
    "2. Mean Absolute Error\n",
    "3. Mean Square Error"
   ]
  },
  {
   "cell_type": "code",
   "execution_count": 51,
   "id": "951637c9",
   "metadata": {},
   "outputs": [
    {
     "data": {
      "text/plain": [
       "(0.40301216030614784, 4.572273167951223, 43.153212131911154)"
      ]
     },
     "execution_count": 51,
     "metadata": {},
     "output_type": "execute_result"
    }
   ],
   "source": [
    "y_pred.r2, y_pred.meanAbsoluteError, y_pred.meanSquaredError"
   ]
  }
 ],
 "metadata": {
  "kernelspec": {
   "display_name": "Python 3",
   "language": "python",
   "name": "python3"
  },
  "language_info": {
   "codemirror_mode": {
    "name": "ipython",
    "version": 3
   },
   "file_extension": ".py",
   "mimetype": "text/x-python",
   "name": "python",
   "nbconvert_exporter": "python",
   "pygments_lexer": "ipython3",
   "version": "3.8.8"
  }
 },
 "nbformat": 4,
 "nbformat_minor": 5
}
